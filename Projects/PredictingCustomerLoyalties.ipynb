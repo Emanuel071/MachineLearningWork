{
 "cells": [
  {
   "attachments": {},
   "cell_type": "markdown",
   "metadata": {},
   "source": [
    "# Finishing 3rd Party Work by Predicting Customer Loyalties Using ML "
   ]
  },
  {
   "attachments": {},
   "cell_type": "markdown",
   "metadata": {},
   "source": [
    "\n",
    "## Table of contents\n",
    "\n",
    "- [00. Project Overview](#overview-main)\n",
    "    - [Context](#overview-context)\n",
    "    - [Actions](#overview-actions)\n",
    "    - [Results](#overview-results)\n",
    "    - [Considerations/Next Steps](#overview-growth)\n",
    "- [01. Data Overview](#data-overview)\n",
    "- [02. Data Import, EDA and Preprocessing](#eda-overview)\n",
    "- [03. Logistic Regression](#logreg-title)\n",
    "- [04. Decision Tree](#clftree-title)\n",
    "- [05. Random Forest](#rf-title)\n",
    "- [07. Prediction](#prediction)"
   ]
  },
  {
   "attachments": {},
   "cell_type": "markdown",
   "metadata": {},
   "source": [
    "## Project Overview <a name=\"overview-main\"></a>"
   ]
  },
  {
   "attachments": {},
   "cell_type": "markdown",
   "metadata": {},
   "source": [
    "### Context <a name=\"overview-context\"></a>\n",
    "\n",
    "Client we are working with hired a 3rd party consulting company to perform work necessary to match a customer loyalty value to the respective customer shopping at the store. \n",
    "\n",
    "The consulting group only managed to complete half of the work leaving the store with another half of customers to determine if they do or do not have a customer loyalty score. \n",
    "\n",
    "The client sent an email to see if our data analytics group could possibly help with finishing off the work with our new learned skills. They'd like us to **predict the remaining customer loyalty scores with the respective customers associated to** given the data tracked by the customers and the already associated loyalty scores.\n",
    "\n",
    "We will be using Machine Learning for this task!\n"
   ]
  },
  {
   "attachments": {},
   "cell_type": "markdown",
   "metadata": {},
   "source": [
    "### Actions <a name=\"overview-actions\"></a>\n",
    "\n",
    "1. Gather the data \n",
    "2. Identify the most valuable inputs\n",
    "3. Scrub and prepare the data\n",
    "4. Identify ML tools that would work best with this problem\n",
    "    - Logistic Regression\n",
    "    - Decision Tree\n",
    "    - Random Forest\n",
    "5. Assess ML outputs (and rework where ever possible) to best arguably determine the scores\n",
    "6. Provide client with determined customer loyalty scores\n",
    "\n",
    "This notebook goes through all those steps.\n",
    "\n",
    "\n"
   ]
  },
  {
   "attachments": {},
   "cell_type": "markdown",
   "metadata": {},
   "source": [
    "### Results <a name=\"overview-results\"></a>\n",
    "\n",
    "Team was able to successfully predict the rest of the customers loyalty scores (whether they did have one or not). \n",
    "\n",
    "The model most relied on was the random forest which gave the team the best confidence (as seen below) of predicting the loyalty scores to the customers given the already scores listed from the first half.\n",
    "\n",
    "1. Logistic Regression: 0.754 \n",
    "2. Decision Trees: 0.875\n",
    "3. Random Forest: 0.910\n"
   ]
  },
  {
   "attachments": {},
   "cell_type": "markdown",
   "metadata": {},
   "source": [
    "### Considerations/Next Steps <a name=\"overview-growth\"></a>\n",
    "\n",
    "\n",
    "\n",
    "While predictive accuracy was relatively high - other modelling approaches could be tested to see if even more accuracy could be gained. But a word of caution here, we have to know when to call a model 'good enough' and that is usually decided prior to building the model.\n",
    "\n",
    "From a data point of view, further variables could be collected, and further feature engineering could be undertaken to ensure that we have as much useful information available for predicting customer loyalty.\n",
    "\n",
    "Other considerations:\n",
    "\n",
    "1. Normally we would spend more time/work on the data we removed due to **NA**. A Justification was made to simply remove since the impact of the removed would have not changed drastically the predictions. About **.061%** of a difference.\n",
    "\n",
    "2. For the Logistic Regression we removed the outliers without too much though of understanding the reason for those outliers which usually we would need to understand more."
   ]
  },
  {
   "attachments": {},
   "cell_type": "markdown",
   "metadata": {},
   "source": [
    "## Data Overview <a name=\"data-overview\"></a>"
   ]
  },
  {
   "attachments": {},
   "cell_type": "markdown",
   "metadata": {},
   "source": [
    "We will be predicting the loyalty scores seen in *customer_loyalty_score* from company provided *grocery_database.xlsx* in client database.\n",
    "\n",
    "Variables used to predict come from client database, namely *transactions* table, *customer_details* table, and *loyalty_scores* table.\n",
    "\n",
    "After pre-processing data in Python, dataset for modelling contains following information...\n",
    "<br>\n",
    "<br>\n",
    "\n",
    "| **Variable Name** | **Variable Type** | **Description** |\n",
    "|---|---|---|\n",
    "| customer_id | Dependent | The individual customer |\n",
    "| distance_from_store | Independent | The distance in miles from the customers home address, and the store |\n",
    "| gender | Independent | The gender provided by the customer |\n",
    "| credit_score | Independent | The customers most recent credit score |\n",
    "| customer_loyalty_score | Independent | Associated score giben to the individual customer |\n",
    "| total_sales | Independent | Total spend by the customer in Grocery store - 3 months pre campaign |\n",
    "| total_items | Independent | Total products purchased by the customer in Grocery store - 3 months pre campaign |\n",
    "| transaction_count | Independent | Total unique transactions made by the customer in ABC Grocery - 3 months pre campaign |\n",
    "| product_area_count | Independent | The number of product areas within Grocery store the customers has shopped into - 3 months pre campaign |\n",
    "| average_basket_value | Independent | The average spend per transaction for the customer in Grocery store - 3 months pre campaign |\n"
   ]
  },
  {
   "attachments": {},
   "cell_type": "markdown",
   "metadata": {},
   "source": [
    "## Imports and Preprocessing <a name=\"eda-overview\"></a>"
   ]
  },
  {
   "cell_type": "code",
   "execution_count": 57,
   "metadata": {},
   "outputs": [],
   "source": [
    "# import required packages\n",
    "import pandas as pd\n",
    "import pickle\n",
    "# import required packages\n",
    "from sklearn.linear_model import LinearRegression\n",
    "from sklearn.model_selection import train_test_split,cross_val_score, KFold\n",
    "from sklearn.metrics import r2_score\n",
    "import pandas as pd\n",
    "import matplotlib.pyplot as plt\n",
    "from sklearn.utils import shuffle\n",
    "from sklearn.preprocessing import OneHotEncoder\n",
    "from sklearn.feature_selection import RFECV\n",
    "from sklearn.tree import DecisionTreeRegressor, plot_tree\n",
    "from sklearn.ensemble import RandomForestRegressor\n",
    "from sklearn.inspection import permutation_importance"
   ]
  },
  {
   "cell_type": "code",
   "execution_count": 58,
   "metadata": {},
   "outputs": [
    {
     "name": "stdout",
     "output_type": "stream",
     "text": [
      "(400, 2)\n"
     ]
    },
    {
     "data": {
      "text/html": [
       "<div>\n",
       "<style scoped>\n",
       "    .dataframe tbody tr th:only-of-type {\n",
       "        vertical-align: middle;\n",
       "    }\n",
       "\n",
       "    .dataframe tbody tr th {\n",
       "        vertical-align: top;\n",
       "    }\n",
       "\n",
       "    .dataframe thead th {\n",
       "        text-align: right;\n",
       "    }\n",
       "</style>\n",
       "<table border=\"1\" class=\"dataframe\">\n",
       "  <thead>\n",
       "    <tr style=\"text-align: right;\">\n",
       "      <th></th>\n",
       "      <th>customer_id</th>\n",
       "      <th>customer_loyalty_score</th>\n",
       "    </tr>\n",
       "  </thead>\n",
       "  <tbody>\n",
       "    <tr>\n",
       "      <th>0</th>\n",
       "      <td>104</td>\n",
       "      <td>0.587</td>\n",
       "    </tr>\n",
       "    <tr>\n",
       "      <th>1</th>\n",
       "      <td>69</td>\n",
       "      <td>0.156</td>\n",
       "    </tr>\n",
       "    <tr>\n",
       "      <th>2</th>\n",
       "      <td>525</td>\n",
       "      <td>0.959</td>\n",
       "    </tr>\n",
       "    <tr>\n",
       "      <th>3</th>\n",
       "      <td>181</td>\n",
       "      <td>0.418</td>\n",
       "    </tr>\n",
       "    <tr>\n",
       "      <th>4</th>\n",
       "      <td>796</td>\n",
       "      <td>0.570</td>\n",
       "    </tr>\n",
       "  </tbody>\n",
       "</table>\n",
       "</div>"
      ],
      "text/plain": [
       "   customer_id  customer_loyalty_score\n",
       "0          104                   0.587\n",
       "1           69                   0.156\n",
       "2          525                   0.959\n",
       "3          181                   0.418\n",
       "4          796                   0.570"
      ]
     },
     "execution_count": 58,
     "metadata": {},
     "output_type": "execute_result"
    }
   ],
   "source": [
    "# import Data\n",
    "data_path = \"C:/Users/eacalder/Documents/Education/DataScienceInfinity/Leasson_Downloads/ABTesting/grocery_database.xlsx\"\n",
    "loyalty_scores = pd.read_excel(data_path, sheet_name = 'loyalty_scores') \n",
    "customer_details = pd.read_excel(data_path, sheet_name = 'customer_details') \n",
    "transactions = pd.read_excel(data_path, sheet_name = 'transactions') \n",
    "print(loyalty_scores.shape)\n",
    "loyalty_scores.head()"
   ]
  },
  {
   "cell_type": "code",
   "execution_count": 59,
   "metadata": {},
   "outputs": [
    {
     "name": "stdout",
     "output_type": "stream",
     "text": [
      "(870, 4)\n"
     ]
    },
    {
     "data": {
      "text/html": [
       "<div>\n",
       "<style scoped>\n",
       "    .dataframe tbody tr th:only-of-type {\n",
       "        vertical-align: middle;\n",
       "    }\n",
       "\n",
       "    .dataframe tbody tr th {\n",
       "        vertical-align: top;\n",
       "    }\n",
       "\n",
       "    .dataframe thead th {\n",
       "        text-align: right;\n",
       "    }\n",
       "</style>\n",
       "<table border=\"1\" class=\"dataframe\">\n",
       "  <thead>\n",
       "    <tr style=\"text-align: right;\">\n",
       "      <th></th>\n",
       "      <th>customer_id</th>\n",
       "      <th>distance_from_store</th>\n",
       "      <th>gender</th>\n",
       "      <th>credit_score</th>\n",
       "    </tr>\n",
       "  </thead>\n",
       "  <tbody>\n",
       "    <tr>\n",
       "      <th>0</th>\n",
       "      <td>74</td>\n",
       "      <td>3.38</td>\n",
       "      <td>F</td>\n",
       "      <td>0.59</td>\n",
       "    </tr>\n",
       "    <tr>\n",
       "      <th>1</th>\n",
       "      <td>524</td>\n",
       "      <td>4.76</td>\n",
       "      <td>F</td>\n",
       "      <td>0.52</td>\n",
       "    </tr>\n",
       "    <tr>\n",
       "      <th>2</th>\n",
       "      <td>607</td>\n",
       "      <td>4.45</td>\n",
       "      <td>F</td>\n",
       "      <td>0.49</td>\n",
       "    </tr>\n",
       "    <tr>\n",
       "      <th>3</th>\n",
       "      <td>343</td>\n",
       "      <td>0.91</td>\n",
       "      <td>M</td>\n",
       "      <td>0.54</td>\n",
       "    </tr>\n",
       "    <tr>\n",
       "      <th>4</th>\n",
       "      <td>322</td>\n",
       "      <td>3.02</td>\n",
       "      <td>F</td>\n",
       "      <td>0.63</td>\n",
       "    </tr>\n",
       "  </tbody>\n",
       "</table>\n",
       "</div>"
      ],
      "text/plain": [
       "   customer_id  distance_from_store gender  credit_score\n",
       "0           74                 3.38      F          0.59\n",
       "1          524                 4.76      F          0.52\n",
       "2          607                 4.45      F          0.49\n",
       "3          343                 0.91      M          0.54\n",
       "4          322                 3.02      F          0.63"
      ]
     },
     "execution_count": 59,
     "metadata": {},
     "output_type": "execute_result"
    }
   ],
   "source": [
    "print(customer_details.shape)\n",
    "customer_details.head()"
   ]
  },
  {
   "cell_type": "code",
   "execution_count": 60,
   "metadata": {},
   "outputs": [
    {
     "name": "stdout",
     "output_type": "stream",
     "text": [
      "(38506, 6)\n"
     ]
    },
    {
     "data": {
      "text/html": [
       "<div>\n",
       "<style scoped>\n",
       "    .dataframe tbody tr th:only-of-type {\n",
       "        vertical-align: middle;\n",
       "    }\n",
       "\n",
       "    .dataframe tbody tr th {\n",
       "        vertical-align: top;\n",
       "    }\n",
       "\n",
       "    .dataframe thead th {\n",
       "        text-align: right;\n",
       "    }\n",
       "</style>\n",
       "<table border=\"1\" class=\"dataframe\">\n",
       "  <thead>\n",
       "    <tr style=\"text-align: right;\">\n",
       "      <th></th>\n",
       "      <th>customer_id</th>\n",
       "      <th>transaction_date</th>\n",
       "      <th>transaction_id</th>\n",
       "      <th>product_area_id</th>\n",
       "      <th>num_items</th>\n",
       "      <th>sales_cost</th>\n",
       "    </tr>\n",
       "  </thead>\n",
       "  <tbody>\n",
       "    <tr>\n",
       "      <th>0</th>\n",
       "      <td>1</td>\n",
       "      <td>2020-04-10</td>\n",
       "      <td>435657533999</td>\n",
       "      <td>3</td>\n",
       "      <td>7</td>\n",
       "      <td>19.16</td>\n",
       "    </tr>\n",
       "    <tr>\n",
       "      <th>1</th>\n",
       "      <td>1</td>\n",
       "      <td>2020-04-10</td>\n",
       "      <td>435657533999</td>\n",
       "      <td>2</td>\n",
       "      <td>5</td>\n",
       "      <td>7.71</td>\n",
       "    </tr>\n",
       "    <tr>\n",
       "      <th>2</th>\n",
       "      <td>1</td>\n",
       "      <td>2020-06-02</td>\n",
       "      <td>436189770685</td>\n",
       "      <td>4</td>\n",
       "      <td>4</td>\n",
       "      <td>26.97</td>\n",
       "    </tr>\n",
       "    <tr>\n",
       "      <th>3</th>\n",
       "      <td>1</td>\n",
       "      <td>2020-06-02</td>\n",
       "      <td>436189770685</td>\n",
       "      <td>1</td>\n",
       "      <td>2</td>\n",
       "      <td>38.52</td>\n",
       "    </tr>\n",
       "    <tr>\n",
       "      <th>4</th>\n",
       "      <td>1</td>\n",
       "      <td>2020-06-10</td>\n",
       "      <td>436265380298</td>\n",
       "      <td>4</td>\n",
       "      <td>4</td>\n",
       "      <td>22.13</td>\n",
       "    </tr>\n",
       "  </tbody>\n",
       "</table>\n",
       "</div>"
      ],
      "text/plain": [
       "   customer_id transaction_date  transaction_id  product_area_id  num_items  \\\n",
       "0            1       2020-04-10    435657533999                3          7   \n",
       "1            1       2020-04-10    435657533999                2          5   \n",
       "2            1       2020-06-02    436189770685                4          4   \n",
       "3            1       2020-06-02    436189770685                1          2   \n",
       "4            1       2020-06-10    436265380298                4          4   \n",
       "\n",
       "   sales_cost  \n",
       "0       19.16  \n",
       "1        7.71  \n",
       "2       26.97  \n",
       "3       38.52  \n",
       "4       22.13  "
      ]
     },
     "execution_count": 60,
     "metadata": {},
     "output_type": "execute_result"
    }
   ],
   "source": [
    "print(transactions.shape)\n",
    "transactions.head()"
   ]
  },
  {
   "cell_type": "code",
   "execution_count": 61,
   "metadata": {},
   "outputs": [
    {
     "name": "stdout",
     "output_type": "stream",
     "text": [
      "(870, 5)\n"
     ]
    },
    {
     "data": {
      "text/html": [
       "<div>\n",
       "<style scoped>\n",
       "    .dataframe tbody tr th:only-of-type {\n",
       "        vertical-align: middle;\n",
       "    }\n",
       "\n",
       "    .dataframe tbody tr th {\n",
       "        vertical-align: top;\n",
       "    }\n",
       "\n",
       "    .dataframe thead th {\n",
       "        text-align: right;\n",
       "    }\n",
       "</style>\n",
       "<table border=\"1\" class=\"dataframe\">\n",
       "  <thead>\n",
       "    <tr style=\"text-align: right;\">\n",
       "      <th></th>\n",
       "      <th>customer_id</th>\n",
       "      <th>distance_from_store</th>\n",
       "      <th>gender</th>\n",
       "      <th>credit_score</th>\n",
       "      <th>customer_loyalty_score</th>\n",
       "    </tr>\n",
       "  </thead>\n",
       "  <tbody>\n",
       "    <tr>\n",
       "      <th>0</th>\n",
       "      <td>74</td>\n",
       "      <td>3.38</td>\n",
       "      <td>F</td>\n",
       "      <td>0.59</td>\n",
       "      <td>0.263</td>\n",
       "    </tr>\n",
       "    <tr>\n",
       "      <th>1</th>\n",
       "      <td>524</td>\n",
       "      <td>4.76</td>\n",
       "      <td>F</td>\n",
       "      <td>0.52</td>\n",
       "      <td>0.298</td>\n",
       "    </tr>\n",
       "    <tr>\n",
       "      <th>2</th>\n",
       "      <td>607</td>\n",
       "      <td>4.45</td>\n",
       "      <td>F</td>\n",
       "      <td>0.49</td>\n",
       "      <td>0.337</td>\n",
       "    </tr>\n",
       "    <tr>\n",
       "      <th>3</th>\n",
       "      <td>343</td>\n",
       "      <td>0.91</td>\n",
       "      <td>M</td>\n",
       "      <td>0.54</td>\n",
       "      <td>0.873</td>\n",
       "    </tr>\n",
       "    <tr>\n",
       "      <th>4</th>\n",
       "      <td>322</td>\n",
       "      <td>3.02</td>\n",
       "      <td>F</td>\n",
       "      <td>0.63</td>\n",
       "      <td>0.350</td>\n",
       "    </tr>\n",
       "    <tr>\n",
       "      <th>5</th>\n",
       "      <td>115</td>\n",
       "      <td>1.02</td>\n",
       "      <td>M</td>\n",
       "      <td>0.64</td>\n",
       "      <td>0.751</td>\n",
       "    </tr>\n",
       "    <tr>\n",
       "      <th>6</th>\n",
       "      <td>1</td>\n",
       "      <td>4.78</td>\n",
       "      <td>F</td>\n",
       "      <td>0.66</td>\n",
       "      <td>NaN</td>\n",
       "    </tr>\n",
       "  </tbody>\n",
       "</table>\n",
       "</div>"
      ],
      "text/plain": [
       "   customer_id  distance_from_store gender  credit_score  \\\n",
       "0           74                 3.38      F          0.59   \n",
       "1          524                 4.76      F          0.52   \n",
       "2          607                 4.45      F          0.49   \n",
       "3          343                 0.91      M          0.54   \n",
       "4          322                 3.02      F          0.63   \n",
       "5          115                 1.02      M          0.64   \n",
       "6            1                 4.78      F          0.66   \n",
       "\n",
       "   customer_loyalty_score  \n",
       "0                   0.263  \n",
       "1                   0.298  \n",
       "2                   0.337  \n",
       "3                   0.873  \n",
       "4                   0.350  \n",
       "5                   0.751  \n",
       "6                     NaN  "
      ]
     },
     "execution_count": 61,
     "metadata": {},
     "output_type": "execute_result"
    }
   ],
   "source": [
    "# Create customer level data set\n",
    "data_for_regression = pd.merge(customer_details,\n",
    "                               loyalty_scores, \n",
    "                               how='left', \n",
    "                               on='customer_id')\n",
    "print(data_for_regression.shape)\n",
    "data_for_regression.head(7)"
   ]
  },
  {
   "attachments": {},
   "cell_type": "markdown",
   "metadata": {},
   "source": [
    "you can clearly see some customers that do not have a loyalty score"
   ]
  },
  {
   "cell_type": "code",
   "execution_count": 62,
   "metadata": {},
   "outputs": [
    {
     "name": "stdout",
     "output_type": "stream",
     "text": [
      "(870, 5)\n"
     ]
    },
    {
     "data": {
      "text/html": [
       "<div>\n",
       "<style scoped>\n",
       "    .dataframe tbody tr th:only-of-type {\n",
       "        vertical-align: middle;\n",
       "    }\n",
       "\n",
       "    .dataframe tbody tr th {\n",
       "        vertical-align: top;\n",
       "    }\n",
       "\n",
       "    .dataframe thead th {\n",
       "        text-align: right;\n",
       "    }\n",
       "</style>\n",
       "<table border=\"1\" class=\"dataframe\">\n",
       "  <thead>\n",
       "    <tr style=\"text-align: right;\">\n",
       "      <th></th>\n",
       "      <th>customer_id</th>\n",
       "      <th>sales_cost</th>\n",
       "      <th>num_items</th>\n",
       "      <th>transaction_id</th>\n",
       "      <th>product_area_id</th>\n",
       "    </tr>\n",
       "  </thead>\n",
       "  <tbody>\n",
       "    <tr>\n",
       "      <th>0</th>\n",
       "      <td>1</td>\n",
       "      <td>3980.49</td>\n",
       "      <td>424</td>\n",
       "      <td>51</td>\n",
       "      <td>5</td>\n",
       "    </tr>\n",
       "    <tr>\n",
       "      <th>1</th>\n",
       "      <td>2</td>\n",
       "      <td>2056.91</td>\n",
       "      <td>213</td>\n",
       "      <td>52</td>\n",
       "      <td>5</td>\n",
       "    </tr>\n",
       "    <tr>\n",
       "      <th>2</th>\n",
       "      <td>3</td>\n",
       "      <td>324.22</td>\n",
       "      <td>65</td>\n",
       "      <td>12</td>\n",
       "      <td>4</td>\n",
       "    </tr>\n",
       "    <tr>\n",
       "      <th>3</th>\n",
       "      <td>4</td>\n",
       "      <td>3499.39</td>\n",
       "      <td>278</td>\n",
       "      <td>47</td>\n",
       "      <td>5</td>\n",
       "    </tr>\n",
       "    <tr>\n",
       "      <th>4</th>\n",
       "      <td>5</td>\n",
       "      <td>6609.19</td>\n",
       "      <td>987</td>\n",
       "      <td>106</td>\n",
       "      <td>5</td>\n",
       "    </tr>\n",
       "  </tbody>\n",
       "</table>\n",
       "</div>"
      ],
      "text/plain": [
       "   customer_id  sales_cost  num_items  transaction_id  product_area_id\n",
       "0            1     3980.49        424              51                5\n",
       "1            2     2056.91        213              52                5\n",
       "2            3      324.22         65              12                4\n",
       "3            4     3499.39        278              47                5\n",
       "4            5     6609.19        987             106                5"
      ]
     },
     "execution_count": 62,
     "metadata": {},
     "output_type": "execute_result"
    }
   ],
   "source": [
    "# grouping by the customer id since we are finding per customer\n",
    "# and adding more input variables that will most likely help the model to predict\n",
    "sales_summary =  transactions.groupby('customer_id').agg({'sales_cost':'sum',\n",
    "                                                          'num_items':'sum',\n",
    "                                                          'transaction_id':'count',\n",
    "                                                          'product_area_id': 'nunique'}).reset_index()\n",
    "print(sales_summary.shape)\n",
    "sales_summary.head()"
   ]
  },
  {
   "cell_type": "code",
   "execution_count": 63,
   "metadata": {},
   "outputs": [
    {
     "name": "stdout",
     "output_type": "stream",
     "text": [
      "(870, 5)\n"
     ]
    },
    {
     "data": {
      "text/html": [
       "<div>\n",
       "<style scoped>\n",
       "    .dataframe tbody tr th:only-of-type {\n",
       "        vertical-align: middle;\n",
       "    }\n",
       "\n",
       "    .dataframe tbody tr th {\n",
       "        vertical-align: top;\n",
       "    }\n",
       "\n",
       "    .dataframe thead th {\n",
       "        text-align: right;\n",
       "    }\n",
       "</style>\n",
       "<table border=\"1\" class=\"dataframe\">\n",
       "  <thead>\n",
       "    <tr style=\"text-align: right;\">\n",
       "      <th></th>\n",
       "      <th>customer_id</th>\n",
       "      <th>total_sales</th>\n",
       "      <th>total_items</th>\n",
       "      <th>transaction_count</th>\n",
       "      <th>product_area_count</th>\n",
       "    </tr>\n",
       "  </thead>\n",
       "  <tbody>\n",
       "    <tr>\n",
       "      <th>0</th>\n",
       "      <td>1</td>\n",
       "      <td>3980.49</td>\n",
       "      <td>424</td>\n",
       "      <td>51</td>\n",
       "      <td>5</td>\n",
       "    </tr>\n",
       "    <tr>\n",
       "      <th>1</th>\n",
       "      <td>2</td>\n",
       "      <td>2056.91</td>\n",
       "      <td>213</td>\n",
       "      <td>52</td>\n",
       "      <td>5</td>\n",
       "    </tr>\n",
       "    <tr>\n",
       "      <th>2</th>\n",
       "      <td>3</td>\n",
       "      <td>324.22</td>\n",
       "      <td>65</td>\n",
       "      <td>12</td>\n",
       "      <td>4</td>\n",
       "    </tr>\n",
       "    <tr>\n",
       "      <th>3</th>\n",
       "      <td>4</td>\n",
       "      <td>3499.39</td>\n",
       "      <td>278</td>\n",
       "      <td>47</td>\n",
       "      <td>5</td>\n",
       "    </tr>\n",
       "    <tr>\n",
       "      <th>4</th>\n",
       "      <td>5</td>\n",
       "      <td>6609.19</td>\n",
       "      <td>987</td>\n",
       "      <td>106</td>\n",
       "      <td>5</td>\n",
       "    </tr>\n",
       "  </tbody>\n",
       "</table>\n",
       "</div>"
      ],
      "text/plain": [
       "   customer_id  total_sales  total_items  transaction_count  \\\n",
       "0            1      3980.49          424                 51   \n",
       "1            2      2056.91          213                 52   \n",
       "2            3       324.22           65                 12   \n",
       "3            4      3499.39          278                 47   \n",
       "4            5      6609.19          987                106   \n",
       "\n",
       "   product_area_count  \n",
       "0                   5  \n",
       "1                   5  \n",
       "2                   4  \n",
       "3                   5  \n",
       "4                   5  "
      ]
     },
     "execution_count": 63,
     "metadata": {},
     "output_type": "execute_result"
    }
   ],
   "source": [
    "sales_summary.columns = ['customer_id', \n",
    "                         'total_sales',\n",
    "                         'total_items',\n",
    "                         'transaction_count', \n",
    "                         'product_area_count']\n",
    "print(sales_summary.shape)\n",
    "sales_summary.head()"
   ]
  },
  {
   "cell_type": "code",
   "execution_count": 64,
   "metadata": {},
   "outputs": [
    {
     "name": "stdout",
     "output_type": "stream",
     "text": [
      "(870, 6)\n"
     ]
    },
    {
     "data": {
      "text/html": [
       "<div>\n",
       "<style scoped>\n",
       "    .dataframe tbody tr th:only-of-type {\n",
       "        vertical-align: middle;\n",
       "    }\n",
       "\n",
       "    .dataframe tbody tr th {\n",
       "        vertical-align: top;\n",
       "    }\n",
       "\n",
       "    .dataframe thead th {\n",
       "        text-align: right;\n",
       "    }\n",
       "</style>\n",
       "<table border=\"1\" class=\"dataframe\">\n",
       "  <thead>\n",
       "    <tr style=\"text-align: right;\">\n",
       "      <th></th>\n",
       "      <th>customer_id</th>\n",
       "      <th>total_sales</th>\n",
       "      <th>total_items</th>\n",
       "      <th>transaction_count</th>\n",
       "      <th>product_area_count</th>\n",
       "      <th>avg_basket_value</th>\n",
       "    </tr>\n",
       "  </thead>\n",
       "  <tbody>\n",
       "    <tr>\n",
       "      <th>0</th>\n",
       "      <td>1</td>\n",
       "      <td>3980.49</td>\n",
       "      <td>424</td>\n",
       "      <td>51</td>\n",
       "      <td>5</td>\n",
       "      <td>78.048824</td>\n",
       "    </tr>\n",
       "    <tr>\n",
       "      <th>1</th>\n",
       "      <td>2</td>\n",
       "      <td>2056.91</td>\n",
       "      <td>213</td>\n",
       "      <td>52</td>\n",
       "      <td>5</td>\n",
       "      <td>39.555962</td>\n",
       "    </tr>\n",
       "    <tr>\n",
       "      <th>2</th>\n",
       "      <td>3</td>\n",
       "      <td>324.22</td>\n",
       "      <td>65</td>\n",
       "      <td>12</td>\n",
       "      <td>4</td>\n",
       "      <td>27.018333</td>\n",
       "    </tr>\n",
       "    <tr>\n",
       "      <th>3</th>\n",
       "      <td>4</td>\n",
       "      <td>3499.39</td>\n",
       "      <td>278</td>\n",
       "      <td>47</td>\n",
       "      <td>5</td>\n",
       "      <td>74.455106</td>\n",
       "    </tr>\n",
       "    <tr>\n",
       "      <th>4</th>\n",
       "      <td>5</td>\n",
       "      <td>6609.19</td>\n",
       "      <td>987</td>\n",
       "      <td>106</td>\n",
       "      <td>5</td>\n",
       "      <td>62.350849</td>\n",
       "    </tr>\n",
       "  </tbody>\n",
       "</table>\n",
       "</div>"
      ],
      "text/plain": [
       "   customer_id  total_sales  total_items  transaction_count  \\\n",
       "0            1      3980.49          424                 51   \n",
       "1            2      2056.91          213                 52   \n",
       "2            3       324.22           65                 12   \n",
       "3            4      3499.39          278                 47   \n",
       "4            5      6609.19          987                106   \n",
       "\n",
       "   product_area_count  avg_basket_value  \n",
       "0                   5         78.048824  \n",
       "1                   5         39.555962  \n",
       "2                   4         27.018333  \n",
       "3                   5         74.455106  \n",
       "4                   5         62.350849  "
      ]
     },
     "execution_count": 64,
     "metadata": {},
     "output_type": "execute_result"
    }
   ],
   "source": [
    "# we believe adding the basket value will help with customer loyalty since that \n",
    "# number shows on average the spending to the grocery store\n",
    "sales_summary['avg_basket_value'] = sales_summary['total_sales']/sales_summary['transaction_count']\n",
    "print(sales_summary.shape)\n",
    "sales_summary.head()"
   ]
  },
  {
   "cell_type": "code",
   "execution_count": 65,
   "metadata": {},
   "outputs": [
    {
     "name": "stdout",
     "output_type": "stream",
     "text": [
      "(870, 10)\n"
     ]
    },
    {
     "data": {
      "text/html": [
       "<div>\n",
       "<style scoped>\n",
       "    .dataframe tbody tr th:only-of-type {\n",
       "        vertical-align: middle;\n",
       "    }\n",
       "\n",
       "    .dataframe tbody tr th {\n",
       "        vertical-align: top;\n",
       "    }\n",
       "\n",
       "    .dataframe thead th {\n",
       "        text-align: right;\n",
       "    }\n",
       "</style>\n",
       "<table border=\"1\" class=\"dataframe\">\n",
       "  <thead>\n",
       "    <tr style=\"text-align: right;\">\n",
       "      <th></th>\n",
       "      <th>customer_id</th>\n",
       "      <th>distance_from_store</th>\n",
       "      <th>gender</th>\n",
       "      <th>credit_score</th>\n",
       "      <th>customer_loyalty_score</th>\n",
       "      <th>total_sales</th>\n",
       "      <th>total_items</th>\n",
       "      <th>transaction_count</th>\n",
       "      <th>product_area_count</th>\n",
       "      <th>avg_basket_value</th>\n",
       "    </tr>\n",
       "  </thead>\n",
       "  <tbody>\n",
       "    <tr>\n",
       "      <th>0</th>\n",
       "      <td>74</td>\n",
       "      <td>3.38</td>\n",
       "      <td>F</td>\n",
       "      <td>0.59</td>\n",
       "      <td>0.263</td>\n",
       "      <td>2563.71</td>\n",
       "      <td>297</td>\n",
       "      <td>44</td>\n",
       "      <td>5</td>\n",
       "      <td>58.266136</td>\n",
       "    </tr>\n",
       "    <tr>\n",
       "      <th>1</th>\n",
       "      <td>524</td>\n",
       "      <td>4.76</td>\n",
       "      <td>F</td>\n",
       "      <td>0.52</td>\n",
       "      <td>0.298</td>\n",
       "      <td>2996.02</td>\n",
       "      <td>357</td>\n",
       "      <td>49</td>\n",
       "      <td>5</td>\n",
       "      <td>61.143265</td>\n",
       "    </tr>\n",
       "    <tr>\n",
       "      <th>2</th>\n",
       "      <td>607</td>\n",
       "      <td>4.45</td>\n",
       "      <td>F</td>\n",
       "      <td>0.49</td>\n",
       "      <td>0.337</td>\n",
       "      <td>2853.82</td>\n",
       "      <td>350</td>\n",
       "      <td>49</td>\n",
       "      <td>5</td>\n",
       "      <td>58.241224</td>\n",
       "    </tr>\n",
       "    <tr>\n",
       "      <th>3</th>\n",
       "      <td>343</td>\n",
       "      <td>0.91</td>\n",
       "      <td>M</td>\n",
       "      <td>0.54</td>\n",
       "      <td>0.873</td>\n",
       "      <td>2388.31</td>\n",
       "      <td>272</td>\n",
       "      <td>54</td>\n",
       "      <td>5</td>\n",
       "      <td>44.227963</td>\n",
       "    </tr>\n",
       "    <tr>\n",
       "      <th>4</th>\n",
       "      <td>322</td>\n",
       "      <td>3.02</td>\n",
       "      <td>F</td>\n",
       "      <td>0.63</td>\n",
       "      <td>0.350</td>\n",
       "      <td>2401.64</td>\n",
       "      <td>278</td>\n",
       "      <td>50</td>\n",
       "      <td>5</td>\n",
       "      <td>48.032800</td>\n",
       "    </tr>\n",
       "    <tr>\n",
       "      <th>5</th>\n",
       "      <td>115</td>\n",
       "      <td>1.02</td>\n",
       "      <td>M</td>\n",
       "      <td>0.64</td>\n",
       "      <td>0.751</td>\n",
       "      <td>2490.66</td>\n",
       "      <td>263</td>\n",
       "      <td>51</td>\n",
       "      <td>5</td>\n",
       "      <td>48.836471</td>\n",
       "    </tr>\n",
       "    <tr>\n",
       "      <th>6</th>\n",
       "      <td>1</td>\n",
       "      <td>4.78</td>\n",
       "      <td>F</td>\n",
       "      <td>0.66</td>\n",
       "      <td>NaN</td>\n",
       "      <td>3980.49</td>\n",
       "      <td>424</td>\n",
       "      <td>51</td>\n",
       "      <td>5</td>\n",
       "      <td>78.048824</td>\n",
       "    </tr>\n",
       "  </tbody>\n",
       "</table>\n",
       "</div>"
      ],
      "text/plain": [
       "   customer_id  distance_from_store gender  credit_score  \\\n",
       "0           74                 3.38      F          0.59   \n",
       "1          524                 4.76      F          0.52   \n",
       "2          607                 4.45      F          0.49   \n",
       "3          343                 0.91      M          0.54   \n",
       "4          322                 3.02      F          0.63   \n",
       "5          115                 1.02      M          0.64   \n",
       "6            1                 4.78      F          0.66   \n",
       "\n",
       "   customer_loyalty_score  total_sales  total_items  transaction_count  \\\n",
       "0                   0.263      2563.71          297                 44   \n",
       "1                   0.298      2996.02          357                 49   \n",
       "2                   0.337      2853.82          350                 49   \n",
       "3                   0.873      2388.31          272                 54   \n",
       "4                   0.350      2401.64          278                 50   \n",
       "5                   0.751      2490.66          263                 51   \n",
       "6                     NaN      3980.49          424                 51   \n",
       "\n",
       "   product_area_count  avg_basket_value  \n",
       "0                   5         58.266136  \n",
       "1                   5         61.143265  \n",
       "2                   5         58.241224  \n",
       "3                   5         44.227963  \n",
       "4                   5         48.032800  \n",
       "5                   5         48.836471  \n",
       "6                   5         78.048824  "
      ]
     },
     "execution_count": 65,
     "metadata": {},
     "output_type": "execute_result"
    }
   ],
   "source": [
    "\n",
    "data_for_regression_2 = pd.merge(data_for_regression,\n",
    "                               sales_summary, \n",
    "                               how='inner', \n",
    "                               on='customer_id')\n",
    "print(data_for_regression_2.shape)\n",
    "data_for_regression_2.head(7)\n",
    "# managed to gather all metrics that will help the machine \n",
    "# learning model to predict the other \n",
    "# half of the customers loyalty score"
   ]
  },
  {
   "attachments": {},
   "cell_type": "markdown",
   "metadata": {},
   "source": [
    "we seperate the tables one used to prepare our model with and with the customer loyalty scores \n",
    "AND\n",
    "one with customers without the loyalty scores "
   ]
  },
  {
   "cell_type": "code",
   "execution_count": 66,
   "metadata": {},
   "outputs": [
    {
     "name": "stdout",
     "output_type": "stream",
     "text": [
      "(400, 10)\n"
     ]
    },
    {
     "data": {
      "text/html": [
       "<div>\n",
       "<style scoped>\n",
       "    .dataframe tbody tr th:only-of-type {\n",
       "        vertical-align: middle;\n",
       "    }\n",
       "\n",
       "    .dataframe tbody tr th {\n",
       "        vertical-align: top;\n",
       "    }\n",
       "\n",
       "    .dataframe thead th {\n",
       "        text-align: right;\n",
       "    }\n",
       "</style>\n",
       "<table border=\"1\" class=\"dataframe\">\n",
       "  <thead>\n",
       "    <tr style=\"text-align: right;\">\n",
       "      <th></th>\n",
       "      <th>customer_id</th>\n",
       "      <th>distance_from_store</th>\n",
       "      <th>gender</th>\n",
       "      <th>credit_score</th>\n",
       "      <th>customer_loyalty_score</th>\n",
       "      <th>total_sales</th>\n",
       "      <th>total_items</th>\n",
       "      <th>transaction_count</th>\n",
       "      <th>product_area_count</th>\n",
       "      <th>avg_basket_value</th>\n",
       "    </tr>\n",
       "  </thead>\n",
       "  <tbody>\n",
       "    <tr>\n",
       "      <th>0</th>\n",
       "      <td>74</td>\n",
       "      <td>3.38</td>\n",
       "      <td>F</td>\n",
       "      <td>0.59</td>\n",
       "      <td>0.263</td>\n",
       "      <td>2563.71</td>\n",
       "      <td>297</td>\n",
       "      <td>44</td>\n",
       "      <td>5</td>\n",
       "      <td>58.266136</td>\n",
       "    </tr>\n",
       "    <tr>\n",
       "      <th>1</th>\n",
       "      <td>524</td>\n",
       "      <td>4.76</td>\n",
       "      <td>F</td>\n",
       "      <td>0.52</td>\n",
       "      <td>0.298</td>\n",
       "      <td>2996.02</td>\n",
       "      <td>357</td>\n",
       "      <td>49</td>\n",
       "      <td>5</td>\n",
       "      <td>61.143265</td>\n",
       "    </tr>\n",
       "    <tr>\n",
       "      <th>2</th>\n",
       "      <td>607</td>\n",
       "      <td>4.45</td>\n",
       "      <td>F</td>\n",
       "      <td>0.49</td>\n",
       "      <td>0.337</td>\n",
       "      <td>2853.82</td>\n",
       "      <td>350</td>\n",
       "      <td>49</td>\n",
       "      <td>5</td>\n",
       "      <td>58.241224</td>\n",
       "    </tr>\n",
       "    <tr>\n",
       "      <th>3</th>\n",
       "      <td>343</td>\n",
       "      <td>0.91</td>\n",
       "      <td>M</td>\n",
       "      <td>0.54</td>\n",
       "      <td>0.873</td>\n",
       "      <td>2388.31</td>\n",
       "      <td>272</td>\n",
       "      <td>54</td>\n",
       "      <td>5</td>\n",
       "      <td>44.227963</td>\n",
       "    </tr>\n",
       "    <tr>\n",
       "      <th>4</th>\n",
       "      <td>322</td>\n",
       "      <td>3.02</td>\n",
       "      <td>F</td>\n",
       "      <td>0.63</td>\n",
       "      <td>0.350</td>\n",
       "      <td>2401.64</td>\n",
       "      <td>278</td>\n",
       "      <td>50</td>\n",
       "      <td>5</td>\n",
       "      <td>48.032800</td>\n",
       "    </tr>\n",
       "  </tbody>\n",
       "</table>\n",
       "</div>"
      ],
      "text/plain": [
       "   customer_id  distance_from_store gender  credit_score  \\\n",
       "0           74                 3.38      F          0.59   \n",
       "1          524                 4.76      F          0.52   \n",
       "2          607                 4.45      F          0.49   \n",
       "3          343                 0.91      M          0.54   \n",
       "4          322                 3.02      F          0.63   \n",
       "\n",
       "   customer_loyalty_score  total_sales  total_items  transaction_count  \\\n",
       "0                   0.263      2563.71          297                 44   \n",
       "1                   0.298      2996.02          357                 49   \n",
       "2                   0.337      2853.82          350                 49   \n",
       "3                   0.873      2388.31          272                 54   \n",
       "4                   0.350      2401.64          278                 50   \n",
       "\n",
       "   product_area_count  avg_basket_value  \n",
       "0                   5         58.266136  \n",
       "1                   5         61.143265  \n",
       "2                   5         58.241224  \n",
       "3                   5         44.227963  \n",
       "4                   5         48.032800  "
      ]
     },
     "execution_count": 66,
     "metadata": {},
     "output_type": "execute_result"
    }
   ],
   "source": [
    "regression_modeling = data_for_regression_2.\\\n",
    "                        loc[data_for_regression_2['customer_loyalty_score'].\\\n",
    "                        notna()]\n",
    "regression_scoring = data_for_regression_2.\\\n",
    "                        loc[data_for_regression_2['customer_loyalty_score'].\\\n",
    "                        isna()]\n",
    "print(regression_modeling.shape)\n",
    "regression_modeling.head()"
   ]
  },
  {
   "cell_type": "code",
   "execution_count": 67,
   "metadata": {},
   "outputs": [
    {
     "name": "stdout",
     "output_type": "stream",
     "text": [
      "(470, 10)\n"
     ]
    },
    {
     "data": {
      "text/html": [
       "<div>\n",
       "<style scoped>\n",
       "    .dataframe tbody tr th:only-of-type {\n",
       "        vertical-align: middle;\n",
       "    }\n",
       "\n",
       "    .dataframe tbody tr th {\n",
       "        vertical-align: top;\n",
       "    }\n",
       "\n",
       "    .dataframe thead th {\n",
       "        text-align: right;\n",
       "    }\n",
       "</style>\n",
       "<table border=\"1\" class=\"dataframe\">\n",
       "  <thead>\n",
       "    <tr style=\"text-align: right;\">\n",
       "      <th></th>\n",
       "      <th>customer_id</th>\n",
       "      <th>distance_from_store</th>\n",
       "      <th>gender</th>\n",
       "      <th>credit_score</th>\n",
       "      <th>customer_loyalty_score</th>\n",
       "      <th>total_sales</th>\n",
       "      <th>total_items</th>\n",
       "      <th>transaction_count</th>\n",
       "      <th>product_area_count</th>\n",
       "      <th>avg_basket_value</th>\n",
       "    </tr>\n",
       "  </thead>\n",
       "  <tbody>\n",
       "    <tr>\n",
       "      <th>6</th>\n",
       "      <td>1</td>\n",
       "      <td>4.78</td>\n",
       "      <td>F</td>\n",
       "      <td>0.66</td>\n",
       "      <td>NaN</td>\n",
       "      <td>3980.49</td>\n",
       "      <td>424</td>\n",
       "      <td>51</td>\n",
       "      <td>5</td>\n",
       "      <td>78.048824</td>\n",
       "    </tr>\n",
       "    <tr>\n",
       "      <th>7</th>\n",
       "      <td>120</td>\n",
       "      <td>3.49</td>\n",
       "      <td>F</td>\n",
       "      <td>0.38</td>\n",
       "      <td>NaN</td>\n",
       "      <td>2887.20</td>\n",
       "      <td>253</td>\n",
       "      <td>45</td>\n",
       "      <td>5</td>\n",
       "      <td>64.160000</td>\n",
       "    </tr>\n",
       "    <tr>\n",
       "      <th>8</th>\n",
       "      <td>52</td>\n",
       "      <td>14.91</td>\n",
       "      <td>F</td>\n",
       "      <td>0.68</td>\n",
       "      <td>NaN</td>\n",
       "      <td>3342.75</td>\n",
       "      <td>335</td>\n",
       "      <td>47</td>\n",
       "      <td>5</td>\n",
       "      <td>71.122340</td>\n",
       "    </tr>\n",
       "    <tr>\n",
       "      <th>10</th>\n",
       "      <td>435</td>\n",
       "      <td>0.25</td>\n",
       "      <td>M</td>\n",
       "      <td>0.62</td>\n",
       "      <td>NaN</td>\n",
       "      <td>2326.71</td>\n",
       "      <td>267</td>\n",
       "      <td>48</td>\n",
       "      <td>5</td>\n",
       "      <td>48.473125</td>\n",
       "    </tr>\n",
       "    <tr>\n",
       "      <th>12</th>\n",
       "      <td>679</td>\n",
       "      <td>4.74</td>\n",
       "      <td>F</td>\n",
       "      <td>0.58</td>\n",
       "      <td>NaN</td>\n",
       "      <td>3448.59</td>\n",
       "      <td>370</td>\n",
       "      <td>49</td>\n",
       "      <td>5</td>\n",
       "      <td>70.379388</td>\n",
       "    </tr>\n",
       "  </tbody>\n",
       "</table>\n",
       "</div>"
      ],
      "text/plain": [
       "    customer_id  distance_from_store gender  credit_score  \\\n",
       "6             1                 4.78      F          0.66   \n",
       "7           120                 3.49      F          0.38   \n",
       "8            52                14.91      F          0.68   \n",
       "10          435                 0.25      M          0.62   \n",
       "12          679                 4.74      F          0.58   \n",
       "\n",
       "    customer_loyalty_score  total_sales  total_items  transaction_count  \\\n",
       "6                      NaN      3980.49          424                 51   \n",
       "7                      NaN      2887.20          253                 45   \n",
       "8                      NaN      3342.75          335                 47   \n",
       "10                     NaN      2326.71          267                 48   \n",
       "12                     NaN      3448.59          370                 49   \n",
       "\n",
       "    product_area_count  avg_basket_value  \n",
       "6                    5         78.048824  \n",
       "7                    5         64.160000  \n",
       "8                    5         71.122340  \n",
       "10                   5         48.473125  \n",
       "12                   5         70.379388  "
      ]
     },
     "execution_count": 67,
     "metadata": {},
     "output_type": "execute_result"
    }
   ],
   "source": [
    "print(regression_scoring.shape)\n",
    "regression_scoring.head()"
   ]
  },
  {
   "cell_type": "code",
   "execution_count": 68,
   "metadata": {},
   "outputs": [
    {
     "name": "stdout",
     "output_type": "stream",
     "text": [
      "(470, 9)\n"
     ]
    },
    {
     "name": "stderr",
     "output_type": "stream",
     "text": [
      "C:\\Users\\eacalder\\AppData\\Local\\Temp\\1/ipykernel_24472/3055292113.py:1: SettingWithCopyWarning: \n",
      "A value is trying to be set on a copy of a slice from a DataFrame\n",
      "\n",
      "See the caveats in the documentation: https://pandas.pydata.org/pandas-docs/stable/user_guide/indexing.html#returning-a-view-versus-a-copy\n",
      "  regression_scoring.drop(['customer_loyalty_score'],axis=1,inplace=True)\n"
     ]
    },
    {
     "data": {
      "text/html": [
       "<div>\n",
       "<style scoped>\n",
       "    .dataframe tbody tr th:only-of-type {\n",
       "        vertical-align: middle;\n",
       "    }\n",
       "\n",
       "    .dataframe tbody tr th {\n",
       "        vertical-align: top;\n",
       "    }\n",
       "\n",
       "    .dataframe thead th {\n",
       "        text-align: right;\n",
       "    }\n",
       "</style>\n",
       "<table border=\"1\" class=\"dataframe\">\n",
       "  <thead>\n",
       "    <tr style=\"text-align: right;\">\n",
       "      <th></th>\n",
       "      <th>customer_id</th>\n",
       "      <th>distance_from_store</th>\n",
       "      <th>gender</th>\n",
       "      <th>credit_score</th>\n",
       "      <th>total_sales</th>\n",
       "      <th>total_items</th>\n",
       "      <th>transaction_count</th>\n",
       "      <th>product_area_count</th>\n",
       "      <th>avg_basket_value</th>\n",
       "    </tr>\n",
       "  </thead>\n",
       "  <tbody>\n",
       "    <tr>\n",
       "      <th>6</th>\n",
       "      <td>1</td>\n",
       "      <td>4.78</td>\n",
       "      <td>F</td>\n",
       "      <td>0.66</td>\n",
       "      <td>3980.49</td>\n",
       "      <td>424</td>\n",
       "      <td>51</td>\n",
       "      <td>5</td>\n",
       "      <td>78.048824</td>\n",
       "    </tr>\n",
       "    <tr>\n",
       "      <th>7</th>\n",
       "      <td>120</td>\n",
       "      <td>3.49</td>\n",
       "      <td>F</td>\n",
       "      <td>0.38</td>\n",
       "      <td>2887.20</td>\n",
       "      <td>253</td>\n",
       "      <td>45</td>\n",
       "      <td>5</td>\n",
       "      <td>64.160000</td>\n",
       "    </tr>\n",
       "    <tr>\n",
       "      <th>8</th>\n",
       "      <td>52</td>\n",
       "      <td>14.91</td>\n",
       "      <td>F</td>\n",
       "      <td>0.68</td>\n",
       "      <td>3342.75</td>\n",
       "      <td>335</td>\n",
       "      <td>47</td>\n",
       "      <td>5</td>\n",
       "      <td>71.122340</td>\n",
       "    </tr>\n",
       "    <tr>\n",
       "      <th>10</th>\n",
       "      <td>435</td>\n",
       "      <td>0.25</td>\n",
       "      <td>M</td>\n",
       "      <td>0.62</td>\n",
       "      <td>2326.71</td>\n",
       "      <td>267</td>\n",
       "      <td>48</td>\n",
       "      <td>5</td>\n",
       "      <td>48.473125</td>\n",
       "    </tr>\n",
       "    <tr>\n",
       "      <th>12</th>\n",
       "      <td>679</td>\n",
       "      <td>4.74</td>\n",
       "      <td>F</td>\n",
       "      <td>0.58</td>\n",
       "      <td>3448.59</td>\n",
       "      <td>370</td>\n",
       "      <td>49</td>\n",
       "      <td>5</td>\n",
       "      <td>70.379388</td>\n",
       "    </tr>\n",
       "  </tbody>\n",
       "</table>\n",
       "</div>"
      ],
      "text/plain": [
       "    customer_id  distance_from_store gender  credit_score  total_sales  \\\n",
       "6             1                 4.78      F          0.66      3980.49   \n",
       "7           120                 3.49      F          0.38      2887.20   \n",
       "8            52                14.91      F          0.68      3342.75   \n",
       "10          435                 0.25      M          0.62      2326.71   \n",
       "12          679                 4.74      F          0.58      3448.59   \n",
       "\n",
       "    total_items  transaction_count  product_area_count  avg_basket_value  \n",
       "6           424                 51                   5         78.048824  \n",
       "7           253                 45                   5         64.160000  \n",
       "8           335                 47                   5         71.122340  \n",
       "10          267                 48                   5         48.473125  \n",
       "12          370                 49                   5         70.379388  "
      ]
     },
     "execution_count": 68,
     "metadata": {},
     "output_type": "execute_result"
    }
   ],
   "source": [
    "regression_scoring.drop(['customer_loyalty_score'],axis=1,inplace=True)\n",
    "print(regression_scoring.shape)\n",
    "regression_scoring.head()"
   ]
  },
  {
   "cell_type": "code",
   "execution_count": 69,
   "metadata": {},
   "outputs": [],
   "source": [
    "# save our files\n",
    "pickle.dump(regression_modeling,open('Saved_files/Groc_regression_modeling.p','wb'))\n",
    "pickle.dump(regression_scoring,open('Saved_files/Groc_regression_scoring.p','wb'))"
   ]
  },
  {
   "cell_type": "code",
   "execution_count": 70,
   "metadata": {},
   "outputs": [
    {
     "name": "stdout",
     "output_type": "stream",
     "text": [
      "(400, 9)\n"
     ]
    },
    {
     "data": {
      "text/html": [
       "<div>\n",
       "<style scoped>\n",
       "    .dataframe tbody tr th:only-of-type {\n",
       "        vertical-align: middle;\n",
       "    }\n",
       "\n",
       "    .dataframe tbody tr th {\n",
       "        vertical-align: top;\n",
       "    }\n",
       "\n",
       "    .dataframe thead th {\n",
       "        text-align: right;\n",
       "    }\n",
       "</style>\n",
       "<table border=\"1\" class=\"dataframe\">\n",
       "  <thead>\n",
       "    <tr style=\"text-align: right;\">\n",
       "      <th></th>\n",
       "      <th>distance_from_store</th>\n",
       "      <th>gender</th>\n",
       "      <th>credit_score</th>\n",
       "      <th>customer_loyalty_score</th>\n",
       "      <th>total_sales</th>\n",
       "      <th>total_items</th>\n",
       "      <th>transaction_count</th>\n",
       "      <th>product_area_count</th>\n",
       "      <th>avg_basket_value</th>\n",
       "    </tr>\n",
       "  </thead>\n",
       "  <tbody>\n",
       "    <tr>\n",
       "      <th>0</th>\n",
       "      <td>3.38</td>\n",
       "      <td>F</td>\n",
       "      <td>0.59</td>\n",
       "      <td>0.263</td>\n",
       "      <td>2563.71</td>\n",
       "      <td>297</td>\n",
       "      <td>44</td>\n",
       "      <td>5</td>\n",
       "      <td>58.266136</td>\n",
       "    </tr>\n",
       "    <tr>\n",
       "      <th>1</th>\n",
       "      <td>4.76</td>\n",
       "      <td>F</td>\n",
       "      <td>0.52</td>\n",
       "      <td>0.298</td>\n",
       "      <td>2996.02</td>\n",
       "      <td>357</td>\n",
       "      <td>49</td>\n",
       "      <td>5</td>\n",
       "      <td>61.143265</td>\n",
       "    </tr>\n",
       "    <tr>\n",
       "      <th>2</th>\n",
       "      <td>4.45</td>\n",
       "      <td>F</td>\n",
       "      <td>0.49</td>\n",
       "      <td>0.337</td>\n",
       "      <td>2853.82</td>\n",
       "      <td>350</td>\n",
       "      <td>49</td>\n",
       "      <td>5</td>\n",
       "      <td>58.241224</td>\n",
       "    </tr>\n",
       "    <tr>\n",
       "      <th>3</th>\n",
       "      <td>0.91</td>\n",
       "      <td>M</td>\n",
       "      <td>0.54</td>\n",
       "      <td>0.873</td>\n",
       "      <td>2388.31</td>\n",
       "      <td>272</td>\n",
       "      <td>54</td>\n",
       "      <td>5</td>\n",
       "      <td>44.227963</td>\n",
       "    </tr>\n",
       "    <tr>\n",
       "      <th>4</th>\n",
       "      <td>3.02</td>\n",
       "      <td>F</td>\n",
       "      <td>0.63</td>\n",
       "      <td>0.350</td>\n",
       "      <td>2401.64</td>\n",
       "      <td>278</td>\n",
       "      <td>50</td>\n",
       "      <td>5</td>\n",
       "      <td>48.032800</td>\n",
       "    </tr>\n",
       "  </tbody>\n",
       "</table>\n",
       "</div>"
      ],
      "text/plain": [
       "   distance_from_store gender  credit_score  customer_loyalty_score  \\\n",
       "0                 3.38      F          0.59                   0.263   \n",
       "1                 4.76      F          0.52                   0.298   \n",
       "2                 4.45      F          0.49                   0.337   \n",
       "3                 0.91      M          0.54                   0.873   \n",
       "4                 3.02      F          0.63                   0.350   \n",
       "\n",
       "   total_sales  total_items  transaction_count  product_area_count  \\\n",
       "0      2563.71          297                 44                   5   \n",
       "1      2996.02          357                 49                   5   \n",
       "2      2853.82          350                 49                   5   \n",
       "3      2388.31          272                 54                   5   \n",
       "4      2401.64          278                 50                   5   \n",
       "\n",
       "   avg_basket_value  \n",
       "0         58.266136  \n",
       "1         61.143265  \n",
       "2         58.241224  \n",
       "3         44.227963  \n",
       "4         48.032800  "
      ]
     },
     "execution_count": 70,
     "metadata": {},
     "output_type": "execute_result"
    }
   ],
   "source": [
    "# import, learning to import using pickle files\n",
    "data_for_model = pickle.load(open('Saved_files/Groc_regression_modeling.p','rb'))\n",
    "\n",
    "# we dont really need the id for the model\n",
    "data_for_model.drop('customer_id', axis=1, inplace=True)\n",
    "print(data_for_model.shape)\n",
    "data_for_model.head()"
   ]
  },
  {
   "cell_type": "code",
   "execution_count": 71,
   "metadata": {},
   "outputs": [
    {
     "name": "stdout",
     "output_type": "stream",
     "text": [
      "(400, 9)\n"
     ]
    },
    {
     "data": {
      "text/html": [
       "<div>\n",
       "<style scoped>\n",
       "    .dataframe tbody tr th:only-of-type {\n",
       "        vertical-align: middle;\n",
       "    }\n",
       "\n",
       "    .dataframe tbody tr th {\n",
       "        vertical-align: top;\n",
       "    }\n",
       "\n",
       "    .dataframe thead th {\n",
       "        text-align: right;\n",
       "    }\n",
       "</style>\n",
       "<table border=\"1\" class=\"dataframe\">\n",
       "  <thead>\n",
       "    <tr style=\"text-align: right;\">\n",
       "      <th></th>\n",
       "      <th>distance_from_store</th>\n",
       "      <th>gender</th>\n",
       "      <th>credit_score</th>\n",
       "      <th>customer_loyalty_score</th>\n",
       "      <th>total_sales</th>\n",
       "      <th>total_items</th>\n",
       "      <th>transaction_count</th>\n",
       "      <th>product_area_count</th>\n",
       "      <th>avg_basket_value</th>\n",
       "    </tr>\n",
       "  </thead>\n",
       "  <tbody>\n",
       "    <tr>\n",
       "      <th>455</th>\n",
       "      <td>0.28</td>\n",
       "      <td>M</td>\n",
       "      <td>0.81</td>\n",
       "      <td>0.889</td>\n",
       "      <td>990.65</td>\n",
       "      <td>243</td>\n",
       "      <td>53</td>\n",
       "      <td>4</td>\n",
       "      <td>18.691509</td>\n",
       "    </tr>\n",
       "    <tr>\n",
       "      <th>621</th>\n",
       "      <td>2.58</td>\n",
       "      <td>F</td>\n",
       "      <td>0.58</td>\n",
       "      <td>0.162</td>\n",
       "      <td>333.26</td>\n",
       "      <td>70</td>\n",
       "      <td>13</td>\n",
       "      <td>4</td>\n",
       "      <td>25.635385</td>\n",
       "    </tr>\n",
       "    <tr>\n",
       "      <th>64</th>\n",
       "      <td>0.80</td>\n",
       "      <td>M</td>\n",
       "      <td>0.80</td>\n",
       "      <td>0.956</td>\n",
       "      <td>1753.96</td>\n",
       "      <td>371</td>\n",
       "      <td>52</td>\n",
       "      <td>5</td>\n",
       "      <td>33.730000</td>\n",
       "    </tr>\n",
       "    <tr>\n",
       "      <th>456</th>\n",
       "      <td>0.16</td>\n",
       "      <td>M</td>\n",
       "      <td>0.56</td>\n",
       "      <td>0.926</td>\n",
       "      <td>929.57</td>\n",
       "      <td>225</td>\n",
       "      <td>51</td>\n",
       "      <td>4</td>\n",
       "      <td>18.226863</td>\n",
       "    </tr>\n",
       "    <tr>\n",
       "      <th>196</th>\n",
       "      <td>3.27</td>\n",
       "      <td>F</td>\n",
       "      <td>0.67</td>\n",
       "      <td>0.297</td>\n",
       "      <td>1904.55</td>\n",
       "      <td>376</td>\n",
       "      <td>36</td>\n",
       "      <td>3</td>\n",
       "      <td>52.904167</td>\n",
       "    </tr>\n",
       "  </tbody>\n",
       "</table>\n",
       "</div>"
      ],
      "text/plain": [
       "     distance_from_store gender  credit_score  customer_loyalty_score  \\\n",
       "455                 0.28      M          0.81                   0.889   \n",
       "621                 2.58      F          0.58                   0.162   \n",
       "64                  0.80      M          0.80                   0.956   \n",
       "456                 0.16      M          0.56                   0.926   \n",
       "196                 3.27      F          0.67                   0.297   \n",
       "\n",
       "     total_sales  total_items  transaction_count  product_area_count  \\\n",
       "455       990.65          243                 53                   4   \n",
       "621       333.26           70                 13                   4   \n",
       "64       1753.96          371                 52                   5   \n",
       "456       929.57          225                 51                   4   \n",
       "196      1904.55          376                 36                   3   \n",
       "\n",
       "     avg_basket_value  \n",
       "455         18.691509  \n",
       "621         25.635385  \n",
       "64          33.730000  \n",
       "456         18.226863  \n",
       "196         52.904167  "
      ]
     },
     "execution_count": 71,
     "metadata": {},
     "output_type": "execute_result"
    }
   ],
   "source": [
    "# shuffle data just in case it either came in in some order\n",
    "# or we accidentally ordered it which will cause model to error\n",
    "data_for_model = shuffle(data_for_model,random_state=42)\n",
    "print(data_for_model.shape)\n",
    "data_for_model.head()"
   ]
  },
  {
   "cell_type": "code",
   "execution_count": 72,
   "metadata": {},
   "outputs": [
    {
     "data": {
      "text/plain": [
       "distance_from_store       2\n",
       "gender                    3\n",
       "credit_score              2\n",
       "customer_loyalty_score    0\n",
       "total_sales               0\n",
       "total_items               0\n",
       "transaction_count         0\n",
       "product_area_count        0\n",
       "avg_basket_value          0\n",
       "dtype: int64"
      ]
     },
     "execution_count": 72,
     "metadata": {},
     "output_type": "execute_result"
    }
   ],
   "source": [
    "######################################################\n",
    "# deal with missing values\n",
    "######################################################\n",
    "data_for_model.isna().sum()\n",
    "# small number of columns with missing values, lets not impute and just drop \n",
    "# but noted "
   ]
  },
  {
   "cell_type": "code",
   "execution_count": 73,
   "metadata": {},
   "outputs": [
    {
     "name": "stdout",
     "output_type": "stream",
     "text": [
      "(394, 9)\n"
     ]
    },
    {
     "data": {
      "text/html": [
       "<div>\n",
       "<style scoped>\n",
       "    .dataframe tbody tr th:only-of-type {\n",
       "        vertical-align: middle;\n",
       "    }\n",
       "\n",
       "    .dataframe tbody tr th {\n",
       "        vertical-align: top;\n",
       "    }\n",
       "\n",
       "    .dataframe thead th {\n",
       "        text-align: right;\n",
       "    }\n",
       "</style>\n",
       "<table border=\"1\" class=\"dataframe\">\n",
       "  <thead>\n",
       "    <tr style=\"text-align: right;\">\n",
       "      <th></th>\n",
       "      <th>distance_from_store</th>\n",
       "      <th>gender</th>\n",
       "      <th>credit_score</th>\n",
       "      <th>customer_loyalty_score</th>\n",
       "      <th>total_sales</th>\n",
       "      <th>total_items</th>\n",
       "      <th>transaction_count</th>\n",
       "      <th>product_area_count</th>\n",
       "      <th>avg_basket_value</th>\n",
       "    </tr>\n",
       "  </thead>\n",
       "  <tbody>\n",
       "    <tr>\n",
       "      <th>455</th>\n",
       "      <td>0.28</td>\n",
       "      <td>M</td>\n",
       "      <td>0.81</td>\n",
       "      <td>0.889</td>\n",
       "      <td>990.65</td>\n",
       "      <td>243</td>\n",
       "      <td>53</td>\n",
       "      <td>4</td>\n",
       "      <td>18.691509</td>\n",
       "    </tr>\n",
       "    <tr>\n",
       "      <th>621</th>\n",
       "      <td>2.58</td>\n",
       "      <td>F</td>\n",
       "      <td>0.58</td>\n",
       "      <td>0.162</td>\n",
       "      <td>333.26</td>\n",
       "      <td>70</td>\n",
       "      <td>13</td>\n",
       "      <td>4</td>\n",
       "      <td>25.635385</td>\n",
       "    </tr>\n",
       "    <tr>\n",
       "      <th>64</th>\n",
       "      <td>0.80</td>\n",
       "      <td>M</td>\n",
       "      <td>0.80</td>\n",
       "      <td>0.956</td>\n",
       "      <td>1753.96</td>\n",
       "      <td>371</td>\n",
       "      <td>52</td>\n",
       "      <td>5</td>\n",
       "      <td>33.730000</td>\n",
       "    </tr>\n",
       "    <tr>\n",
       "      <th>456</th>\n",
       "      <td>0.16</td>\n",
       "      <td>M</td>\n",
       "      <td>0.56</td>\n",
       "      <td>0.926</td>\n",
       "      <td>929.57</td>\n",
       "      <td>225</td>\n",
       "      <td>51</td>\n",
       "      <td>4</td>\n",
       "      <td>18.226863</td>\n",
       "    </tr>\n",
       "    <tr>\n",
       "      <th>196</th>\n",
       "      <td>3.27</td>\n",
       "      <td>F</td>\n",
       "      <td>0.67</td>\n",
       "      <td>0.297</td>\n",
       "      <td>1904.55</td>\n",
       "      <td>376</td>\n",
       "      <td>36</td>\n",
       "      <td>3</td>\n",
       "      <td>52.904167</td>\n",
       "    </tr>\n",
       "  </tbody>\n",
       "</table>\n",
       "</div>"
      ],
      "text/plain": [
       "     distance_from_store gender  credit_score  customer_loyalty_score  \\\n",
       "455                 0.28      M          0.81                   0.889   \n",
       "621                 2.58      F          0.58                   0.162   \n",
       "64                  0.80      M          0.80                   0.956   \n",
       "456                 0.16      M          0.56                   0.926   \n",
       "196                 3.27      F          0.67                   0.297   \n",
       "\n",
       "     total_sales  total_items  transaction_count  product_area_count  \\\n",
       "455       990.65          243                 53                   4   \n",
       "621       333.26           70                 13                   4   \n",
       "64       1753.96          371                 52                   5   \n",
       "456       929.57          225                 51                   4   \n",
       "196      1904.55          376                 36                   3   \n",
       "\n",
       "     avg_basket_value  \n",
       "455         18.691509  \n",
       "621         25.635385  \n",
       "64          33.730000  \n",
       "456         18.226863  \n",
       "196         52.904167  "
      ]
     },
     "execution_count": 73,
     "metadata": {},
     "output_type": "execute_result"
    }
   ],
   "source": [
    "# \"any\" meaning drop the whole row if any one cell is empty\n",
    "data_for_model.dropna(how=\"any\", inplace=True)\n",
    "print(data_for_model.shape)\n",
    "data_for_model.head()"
   ]
  },
  {
   "attachments": {},
   "cell_type": "markdown",
   "metadata": {},
   "source": [
    "# Logistic Regression <a name=\"logreg-title\"></a>"
   ]
  },
  {
   "cell_type": "code",
   "execution_count": 74,
   "metadata": {},
   "outputs": [
    {
     "data": {
      "text/html": [
       "<div>\n",
       "<style scoped>\n",
       "    .dataframe tbody tr th:only-of-type {\n",
       "        vertical-align: middle;\n",
       "    }\n",
       "\n",
       "    .dataframe tbody tr th {\n",
       "        vertical-align: top;\n",
       "    }\n",
       "\n",
       "    .dataframe thead th {\n",
       "        text-align: right;\n",
       "    }\n",
       "</style>\n",
       "<table border=\"1\" class=\"dataframe\">\n",
       "  <thead>\n",
       "    <tr style=\"text-align: right;\">\n",
       "      <th></th>\n",
       "      <th>distance_from_store</th>\n",
       "      <th>gender</th>\n",
       "      <th>credit_score</th>\n",
       "      <th>customer_loyalty_score</th>\n",
       "      <th>total_sales</th>\n",
       "      <th>total_items</th>\n",
       "      <th>transaction_count</th>\n",
       "      <th>product_area_count</th>\n",
       "      <th>avg_basket_value</th>\n",
       "    </tr>\n",
       "  </thead>\n",
       "  <tbody>\n",
       "    <tr>\n",
       "      <th>455</th>\n",
       "      <td>0.28</td>\n",
       "      <td>M</td>\n",
       "      <td>0.81</td>\n",
       "      <td>0.889</td>\n",
       "      <td>990.65</td>\n",
       "      <td>243</td>\n",
       "      <td>53</td>\n",
       "      <td>4</td>\n",
       "      <td>18.691509</td>\n",
       "    </tr>\n",
       "    <tr>\n",
       "      <th>621</th>\n",
       "      <td>2.58</td>\n",
       "      <td>F</td>\n",
       "      <td>0.58</td>\n",
       "      <td>0.162</td>\n",
       "      <td>333.26</td>\n",
       "      <td>70</td>\n",
       "      <td>13</td>\n",
       "      <td>4</td>\n",
       "      <td>25.635385</td>\n",
       "    </tr>\n",
       "    <tr>\n",
       "      <th>64</th>\n",
       "      <td>0.80</td>\n",
       "      <td>M</td>\n",
       "      <td>0.80</td>\n",
       "      <td>0.956</td>\n",
       "      <td>1753.96</td>\n",
       "      <td>371</td>\n",
       "      <td>52</td>\n",
       "      <td>5</td>\n",
       "      <td>33.730000</td>\n",
       "    </tr>\n",
       "    <tr>\n",
       "      <th>456</th>\n",
       "      <td>0.16</td>\n",
       "      <td>M</td>\n",
       "      <td>0.56</td>\n",
       "      <td>0.926</td>\n",
       "      <td>929.57</td>\n",
       "      <td>225</td>\n",
       "      <td>51</td>\n",
       "      <td>4</td>\n",
       "      <td>18.226863</td>\n",
       "    </tr>\n",
       "    <tr>\n",
       "      <th>196</th>\n",
       "      <td>3.27</td>\n",
       "      <td>F</td>\n",
       "      <td>0.67</td>\n",
       "      <td>0.297</td>\n",
       "      <td>1904.55</td>\n",
       "      <td>376</td>\n",
       "      <td>36</td>\n",
       "      <td>3</td>\n",
       "      <td>52.904167</td>\n",
       "    </tr>\n",
       "  </tbody>\n",
       "</table>\n",
       "</div>"
      ],
      "text/plain": [
       "     distance_from_store gender  credit_score  customer_loyalty_score  \\\n",
       "455                 0.28      M          0.81                   0.889   \n",
       "621                 2.58      F          0.58                   0.162   \n",
       "64                  0.80      M          0.80                   0.956   \n",
       "456                 0.16      M          0.56                   0.926   \n",
       "196                 3.27      F          0.67                   0.297   \n",
       "\n",
       "     total_sales  total_items  transaction_count  product_area_count  \\\n",
       "455       990.65          243                 53                   4   \n",
       "621       333.26           70                 13                   4   \n",
       "64       1753.96          371                 52                   5   \n",
       "456       929.57          225                 51                   4   \n",
       "196      1904.55          376                 36                   3   \n",
       "\n",
       "     avg_basket_value  \n",
       "455         18.691509  \n",
       "621         25.635385  \n",
       "64          33.730000  \n",
       "456         18.226863  \n",
       "196         52.904167  "
      ]
     },
     "execution_count": 74,
     "metadata": {},
     "output_type": "execute_result"
    }
   ],
   "source": [
    "data_for_model_logreg = data_for_model\n",
    "data_for_model_logreg.head()"
   ]
  },
  {
   "cell_type": "code",
   "execution_count": 75,
   "metadata": {},
   "outputs": [
    {
     "name": "stdout",
     "output_type": "stream",
     "text": [
      "       distance_from_store  credit_score  customer_loyalty_score  total_sales  \\\n",
      "count           394.000000    394.000000              394.000000   394.000000   \n",
      "mean              2.021041      0.596117                0.509589  1846.502538   \n",
      "std               2.566045      0.101352                0.294504  1767.829482   \n",
      "min               0.000000      0.260000                0.002000    45.950000   \n",
      "25%               0.710000      0.530000                0.263000   942.067500   \n",
      "50%               1.645000      0.590000                0.510500  1471.490000   \n",
      "75%               2.910000      0.660000                0.771500  2104.727500   \n",
      "max              44.370000      0.880000                1.000000  9878.760000   \n",
      "\n",
      "       total_items  transaction_count  product_area_count  avg_basket_value  \n",
      "count   394.000000         394.000000          394.000000        394.000000  \n",
      "mean    278.304569          44.926396            4.312183         36.781487  \n",
      "std     214.236424          21.248012            0.725054         19.337336  \n",
      "min      10.000000           4.000000            2.000000          9.342000  \n",
      "25%     201.000000          41.000000            4.000000         22.406953  \n",
      "50%     258.500000          50.000000            4.000000         30.365417  \n",
      "75%     318.500000          53.000000            5.000000         47.208474  \n",
      "max    1187.000000         109.000000            5.000000        102.335417  \n"
     ]
    }
   ],
   "source": [
    "######################################################\n",
    "# deal with outliers\n",
    "######################################################\n",
    "outlier_investigation = data_for_model_logreg.describe()\n",
    "print(outlier_investigation)\n",
    "# some outliers in distance_from_store, total_sales, total_items\n",
    "# all others did not spark any issues"
   ]
  },
  {
   "cell_type": "code",
   "execution_count": 76,
   "metadata": {},
   "outputs": [
    {
     "name": "stdout",
     "output_type": "stream",
     "text": [
      "2 outliers detected in column distance_from_store\n",
      "23 outliers detected in column total_sales\n",
      "0 outliers detected in column total_items\n",
      "(369, 9)\n"
     ]
    },
    {
     "data": {
      "text/html": [
       "<div>\n",
       "<style scoped>\n",
       "    .dataframe tbody tr th:only-of-type {\n",
       "        vertical-align: middle;\n",
       "    }\n",
       "\n",
       "    .dataframe tbody tr th {\n",
       "        vertical-align: top;\n",
       "    }\n",
       "\n",
       "    .dataframe thead th {\n",
       "        text-align: right;\n",
       "    }\n",
       "</style>\n",
       "<table border=\"1\" class=\"dataframe\">\n",
       "  <thead>\n",
       "    <tr style=\"text-align: right;\">\n",
       "      <th></th>\n",
       "      <th>distance_from_store</th>\n",
       "      <th>gender</th>\n",
       "      <th>credit_score</th>\n",
       "      <th>customer_loyalty_score</th>\n",
       "      <th>total_sales</th>\n",
       "      <th>total_items</th>\n",
       "      <th>transaction_count</th>\n",
       "      <th>product_area_count</th>\n",
       "      <th>avg_basket_value</th>\n",
       "    </tr>\n",
       "  </thead>\n",
       "  <tbody>\n",
       "    <tr>\n",
       "      <th>455</th>\n",
       "      <td>0.28</td>\n",
       "      <td>M</td>\n",
       "      <td>0.81</td>\n",
       "      <td>0.889</td>\n",
       "      <td>990.65</td>\n",
       "      <td>243</td>\n",
       "      <td>53</td>\n",
       "      <td>4</td>\n",
       "      <td>18.691509</td>\n",
       "    </tr>\n",
       "    <tr>\n",
       "      <th>621</th>\n",
       "      <td>2.58</td>\n",
       "      <td>F</td>\n",
       "      <td>0.58</td>\n",
       "      <td>0.162</td>\n",
       "      <td>333.26</td>\n",
       "      <td>70</td>\n",
       "      <td>13</td>\n",
       "      <td>4</td>\n",
       "      <td>25.635385</td>\n",
       "    </tr>\n",
       "    <tr>\n",
       "      <th>64</th>\n",
       "      <td>0.80</td>\n",
       "      <td>M</td>\n",
       "      <td>0.80</td>\n",
       "      <td>0.956</td>\n",
       "      <td>1753.96</td>\n",
       "      <td>371</td>\n",
       "      <td>52</td>\n",
       "      <td>5</td>\n",
       "      <td>33.730000</td>\n",
       "    </tr>\n",
       "    <tr>\n",
       "      <th>456</th>\n",
       "      <td>0.16</td>\n",
       "      <td>M</td>\n",
       "      <td>0.56</td>\n",
       "      <td>0.926</td>\n",
       "      <td>929.57</td>\n",
       "      <td>225</td>\n",
       "      <td>51</td>\n",
       "      <td>4</td>\n",
       "      <td>18.226863</td>\n",
       "    </tr>\n",
       "    <tr>\n",
       "      <th>196</th>\n",
       "      <td>3.27</td>\n",
       "      <td>F</td>\n",
       "      <td>0.67</td>\n",
       "      <td>0.297</td>\n",
       "      <td>1904.55</td>\n",
       "      <td>376</td>\n",
       "      <td>36</td>\n",
       "      <td>3</td>\n",
       "      <td>52.904167</td>\n",
       "    </tr>\n",
       "  </tbody>\n",
       "</table>\n",
       "</div>"
      ],
      "text/plain": [
       "     distance_from_store gender  credit_score  customer_loyalty_score  \\\n",
       "455                 0.28      M          0.81                   0.889   \n",
       "621                 2.58      F          0.58                   0.162   \n",
       "64                  0.80      M          0.80                   0.956   \n",
       "456                 0.16      M          0.56                   0.926   \n",
       "196                 3.27      F          0.67                   0.297   \n",
       "\n",
       "     total_sales  total_items  transaction_count  product_area_count  \\\n",
       "455       990.65          243                 53                   4   \n",
       "621       333.26           70                 13                   4   \n",
       "64       1753.96          371                 52                   5   \n",
       "456       929.57          225                 51                   4   \n",
       "196      1904.55          376                 36                   3   \n",
       "\n",
       "     avg_basket_value  \n",
       "455         18.691509  \n",
       "621         25.635385  \n",
       "64          33.730000  \n",
       "456         18.226863  \n",
       "196         52.904167  "
      ]
     },
     "execution_count": 76,
     "metadata": {},
     "output_type": "execute_result"
    }
   ],
   "source": [
    "# boxplot approach remove outliers\n",
    "outlier_columns = [\"distance_from_store\", \"total_sales\", \"total_items\"]\n",
    "for column in outlier_columns:\n",
    "    lower_quartile = data_for_model_logreg[column].quantile(.25)\n",
    "    upper_quartile = data_for_model_logreg[column].quantile(.75)\n",
    "    iqr= upper_quartile - lower_quartile\n",
    "    iqr_extend = iqr *2 # 1.5 reason i dont want to cut out too many outliers\n",
    "    min_border = lower_quartile - iqr_extend\n",
    "    max_border = upper_quartile + iqr_extend\n",
    "\n",
    "    outliers = data_for_model_logreg[(data_for_model_logreg[column]<min_border)|(data_for_model_logreg[column]>max_border)].index\n",
    "    print(f\"{len(outliers)} outliers detected in column {column}\")\n",
    "\n",
    "    data_for_model_logreg.drop(outliers,inplace=True)\n",
    "\n",
    "print(data_for_model_logreg.shape)\n",
    "data_for_model_logreg.head()\n"
   ]
  },
  {
   "cell_type": "code",
   "execution_count": 77,
   "metadata": {},
   "outputs": [],
   "source": [
    "######################################################\n",
    "# split input variables and output variables\n",
    "######################################################\n",
    "# we dont want the output in the input dataframe\n",
    "X = data_for_model_logreg.drop(['customer_loyalty_score'], axis=1)\n",
    "Y = data_for_model_logreg['customer_loyalty_score']"
   ]
  },
  {
   "cell_type": "code",
   "execution_count": 78,
   "metadata": {},
   "outputs": [
    {
     "name": "stdout",
     "output_type": "stream",
     "text": [
      "(295, 8)\n",
      "(74, 8)\n",
      "(295,)\n",
      "(74,)\n"
     ]
    }
   ],
   "source": [
    "######################################################\n",
    "# split out training and test sets\n",
    "######################################################\n",
    "# Regression model \n",
    "x_train, x_test, y_train, y_test = train_test_split(X,\n",
    "                                                    Y, \n",
    "                                                    test_size=.2,\n",
    "                                                    random_state=42)\n",
    "print(x_train.shape)\n",
    "print(x_test.shape)\n",
    "print(y_train.shape)\n",
    "print(y_test.shape)"
   ]
  },
  {
   "cell_type": "code",
   "execution_count": 79,
   "metadata": {},
   "outputs": [],
   "source": [
    "######################################################\n",
    "# deal with categorical variables\n",
    "######################################################\n",
    "# gender\n",
    "categorical_vars = [\"gender\"]\n",
    "one_hot_encoder = OneHotEncoder(sparse=False, drop=\"first\")# array is easier to use and viduallize \n",
    "# avoid dummy variable trap"
   ]
  },
  {
   "cell_type": "code",
   "execution_count": 80,
   "metadata": {},
   "outputs": [
    {
     "name": "stdout",
     "output_type": "stream",
     "text": [
      "(295, 1)\n",
      "(74, 1)\n"
     ]
    },
    {
     "name": "stderr",
     "output_type": "stream",
     "text": [
      "c:\\Users\\eacalder\\.conda\\envs\\DSInfinity\\lib\\site-packages\\sklearn\\preprocessing\\_encoders.py:828: FutureWarning: `sparse` was renamed to `sparse_output` in version 1.2 and will be removed in 1.4. `sparse_output` is ignored unless you leave `sparse` to its default value.\n",
      "  warnings.warn(\n"
     ]
    }
   ],
   "source": [
    "# fit and transform on the training and only the transform on the test\n",
    "# we do this because we want the encoding rules to be learned from the \n",
    "# training data and then applied to the new data \n",
    "X_train_encoded_vars_array = one_hot_encoder.fit_transform(x_train[categorical_vars])\n",
    "X_test_encoded_vars_array = one_hot_encoder.transform(x_test[categorical_vars])\n",
    "print(X_train_encoded_vars_array.shape)\n",
    "print(X_test_encoded_vars_array.shape)"
   ]
  },
  {
   "cell_type": "code",
   "execution_count": 81,
   "metadata": {},
   "outputs": [],
   "source": [
    "encoder_feature_names = one_hot_encoder.get_feature_names_out(categorical_vars)"
   ]
  },
  {
   "cell_type": "code",
   "execution_count": 82,
   "metadata": {},
   "outputs": [
    {
     "name": "stdout",
     "output_type": "stream",
     "text": [
      "(295, 8)\n",
      "   distance_from_store  credit_score  total_sales  total_items  \\\n",
      "0                 0.19          0.57      1096.96          202   \n",
      "1                 0.39          0.43       933.39          220   \n",
      "2                 2.27          0.49      1506.49          281   \n",
      "3                 3.10          0.59       330.79           81   \n",
      "4                 0.07          0.53      2053.04          210   \n",
      "\n",
      "   transaction_count  product_area_count  avg_basket_value  gender_M  \n",
      "0                 53                   5         20.697358       1.0  \n",
      "1                 51                   4         18.301765       1.0  \n",
      "2                 47                   3         32.052979       0.0  \n",
      "3                 13                   4         25.445385       0.0  \n",
      "4                 54                   5         38.019259       1.0  \n"
     ]
    }
   ],
   "source": [
    "X_train_encoded_vars_array = pd.DataFrame(X_train_encoded_vars_array,\n",
    "                               columns=encoder_feature_names)\n",
    "x_train = pd.concat([x_train.reset_index(drop=True),\n",
    "                   X_train_encoded_vars_array.reset_index(drop=True)], \n",
    "                   axis=1)\n",
    "# reset index to ensure no rows are not aligned\n",
    "# drop the original input 2 and 3\n",
    "x_train.drop(categorical_vars, axis=1,inplace=True)\n",
    "print(x_train.shape)\n",
    "print(x_train.head())"
   ]
  },
  {
   "cell_type": "code",
   "execution_count": 83,
   "metadata": {},
   "outputs": [
    {
     "name": "stdout",
     "output_type": "stream",
     "text": [
      "(74, 8)\n",
      "   distance_from_store  credit_score  total_sales  total_items  \\\n",
      "0                 2.80          0.41      1524.01          278   \n",
      "1                 1.92          0.64      1992.51          305   \n",
      "2                 4.38          0.47       343.41           70   \n",
      "3                 1.51          0.59      1208.91          198   \n",
      "4                 2.52          0.50      1967.39          316   \n",
      "\n",
      "   transaction_count  product_area_count  avg_basket_value  gender_M  \n",
      "0                 45                   3         33.866889       0.0  \n",
      "1                 53                   5         37.594528       0.0  \n",
      "2                 12                   4         28.617500       0.0  \n",
      "3                 55                   5         21.980182       0.0  \n",
      "4                 55                   5         35.770727       0.0  \n"
     ]
    }
   ],
   "source": [
    "X_test_encoded_vars_array = pd.DataFrame(X_test_encoded_vars_array,\n",
    "                               columns=encoder_feature_names)\n",
    "x_test = pd.concat([x_test.reset_index(drop=True),\n",
    "                   X_test_encoded_vars_array.reset_index(drop=True)], axis=1)\n",
    "# reset index to ensure no rows are not aligned\n",
    "# drop the original input 2 and 3\n",
    "x_test.drop(categorical_vars, axis=1,inplace=True)\n",
    "print(x_test.shape)\n",
    "print(x_test.head())"
   ]
  },
  {
   "cell_type": "code",
   "execution_count": 84,
   "metadata": {},
   "outputs": [
    {
     "name": "stdout",
     "output_type": "stream",
     "text": [
      "RFECV(estimator=LinearRegression())\n"
     ]
    }
   ],
   "source": [
    "######################################################\n",
    "# feature selection\n",
    "######################################################\n",
    "regressor = LinearRegression()\n",
    "feature_selector = RFECV(regressor)\n",
    "\n",
    "# trains the model and assess\n",
    "fit = feature_selector.fit(x_train,y_train)\n",
    "print(fit)"
   ]
  },
  {
   "cell_type": "code",
   "execution_count": 85,
   "metadata": {},
   "outputs": [
    {
     "name": "stdout",
     "output_type": "stream",
     "text": [
      "optimal number features: 8\n"
     ]
    }
   ],
   "source": [
    "optimal_feature_count = feature_selector.n_features_\n",
    "print(f\"optimal number features: {optimal_feature_count}\")\n",
    "#it says 8 which is all of them"
   ]
  },
  {
   "cell_type": "code",
   "execution_count": 86,
   "metadata": {},
   "outputs": [
    {
     "name": "stdout",
     "output_type": "stream",
     "text": [
      "     distance_from_store  credit_score  total_sales  total_items  \\\n",
      "0                   0.19          0.57      1096.96          202   \n",
      "1                   0.39          0.43       933.39          220   \n",
      "2                   2.27          0.49      1506.49          281   \n",
      "3                   3.10          0.59       330.79           81   \n",
      "4                   0.07          0.53      2053.04          210   \n",
      "..                   ...           ...          ...          ...   \n",
      "290                 1.02          0.64      2490.66          263   \n",
      "291                 0.66          0.45      3183.80          285   \n",
      "292                 2.60          0.48      1815.22          306   \n",
      "293                 1.81          0.54      1208.05          272   \n",
      "294                 2.94          0.62      2397.63          282   \n",
      "\n",
      "     transaction_count  product_area_count  avg_basket_value  gender_M  \n",
      "0                   53                   5         20.697358       1.0  \n",
      "1                   51                   4         18.301765       1.0  \n",
      "2                   47                   3         32.052979       0.0  \n",
      "3                   13                   4         25.445385       0.0  \n",
      "4                   54                   5         38.019259       1.0  \n",
      "..                 ...                 ...               ...       ...  \n",
      "290                 51                   5         48.836471       1.0  \n",
      "291                 52                   5         61.226923       1.0  \n",
      "292                 43                   4         42.214419       0.0  \n",
      "293                 46                   4         26.261957       0.0  \n",
      "294                 52                   5         46.108269       0.0  \n",
      "\n",
      "[295 rows x 8 columns]\n",
      "    distance_from_store  credit_score  total_sales  total_items  \\\n",
      "0                  2.80          0.41      1524.01          278   \n",
      "1                  1.92          0.64      1992.51          305   \n",
      "2                  4.38          0.47       343.41           70   \n",
      "3                  1.51          0.59      1208.91          198   \n",
      "4                  2.52          0.50      1967.39          316   \n",
      "..                  ...           ...          ...          ...   \n",
      "69                 1.31          0.75      1773.33          325   \n",
      "70                 0.45          0.56      1342.64          221   \n",
      "71                 1.59          0.50      1740.37          303   \n",
      "72                 4.76          0.52      2996.02          357   \n",
      "73                 2.68          0.52       324.22           65   \n",
      "\n",
      "    transaction_count  product_area_count  avg_basket_value  gender_M  \n",
      "0                  45                   3         33.866889       0.0  \n",
      "1                  53                   5         37.594528       0.0  \n",
      "2                  12                   4         28.617500       0.0  \n",
      "3                  55                   5         21.980182       0.0  \n",
      "4                  55                   5         35.770727       0.0  \n",
      "..                ...                 ...               ...       ...  \n",
      "69                 45                   4         39.407333       1.0  \n",
      "70                 55                   5         24.411636       1.0  \n",
      "71                 52                   5         33.468654       1.0  \n",
      "72                 49                   5         61.143265       0.0  \n",
      "73                 12                   4         27.018333       0.0  \n",
      "\n",
      "[74 rows x 8 columns]\n"
     ]
    }
   ],
   "source": [
    "# we didnt really need to tun this becuse it sugested \n",
    "# all 8 columns but i ran just cause \n",
    "x_train  = x_train.loc[:,feature_selector.get_support()]\n",
    "x_test  = x_test.loc[:,feature_selector.get_support()]\n",
    "print(x_train)\n",
    "print(x_test)"
   ]
  },
  {
   "cell_type": "markdown",
   "metadata": {},
   "source": [
    "in the other approaches there was guess work where as here it cut a lot of this and able to get reliable stuff"
   ]
  },
  {
   "cell_type": "code",
   "execution_count": 87,
   "metadata": {},
   "outputs": [
    {
     "data": {
      "image/png": "[encoded data removed]",
      "text/plain": [
       "<Figure size 432x288 with 1 Axes>"
      ]
     },
     "metadata": {
      "needs_background": "light"
     },
     "output_type": "display_data"
    }
   ],
   "source": [
    "plt.plot(range(1, len(fit.cv_results_['mean_test_score']) + 1), \n",
    "         fit.cv_results_['mean_test_score'], \n",
    "         marker = \"o\")\n",
    "plt.ylabel(\"Model Score\")\n",
    "plt.xlabel(\"Number of Features\")\n",
    "plt.title(f\"Feature Selection using RFE \\n Optimal number of features is {optimal_feature_count} (at score of {round(max(fit.cv_results_['mean_test_score']),4)})\")\n",
    "plt.tight_layout()\n",
    "plt.show()"
   ]
  },
  {
   "cell_type": "code",
   "execution_count": 88,
   "metadata": {},
   "outputs": [
    {
     "data": {
      "text/html": [
       "<style>#sk-container-id-2 {color: black;background-color: white;}#sk-container-id-2 pre{padding: 0;}#sk-container-id-2 div.sk-toggleable {background-color: white;}#sk-container-id-2 label.sk-toggleable__label {cursor: pointer;display: block;width: 100%;margin-bottom: 0;padding: 0.3em;box-sizing: border-box;text-align: center;}#sk-container-id-2 label.sk-toggleable__label-arrow:before {content: \"▸\";float: left;margin-right: 0.25em;color: #696969;}#sk-container-id-2 label.sk-toggleable__label-arrow:hover:before {color: black;}#sk-container-id-2 div.sk-estimator:hover label.sk-toggleable__label-arrow:before {color: black;}#sk-container-id-2 div.sk-toggleable__content {max-height: 0;max-width: 0;overflow: hidden;text-align: left;background-color: #f0f8ff;}#sk-container-id-2 div.sk-toggleable__content pre {margin: 0.2em;color: black;border-radius: 0.25em;background-color: #f0f8ff;}#sk-container-id-2 input.sk-toggleable__control:checked~div.sk-toggleable__content {max-height: 200px;max-width: 100%;overflow: auto;}#sk-container-id-2 input.sk-toggleable__control:checked~label.sk-toggleable__label-arrow:before {content: \"▾\";}#sk-container-id-2 div.sk-estimator input.sk-toggleable__control:checked~label.sk-toggleable__label {background-color: #d4ebff;}#sk-container-id-2 div.sk-label input.sk-toggleable__control:checked~label.sk-toggleable__label {background-color: #d4ebff;}#sk-container-id-2 input.sk-hidden--visually {border: 0;clip: rect(1px 1px 1px 1px);clip: rect(1px, 1px, 1px, 1px);height: 1px;margin: -1px;overflow: hidden;padding: 0;position: absolute;width: 1px;}#sk-container-id-2 div.sk-estimator {font-family: monospace;background-color: #f0f8ff;border: 1px dotted black;border-radius: 0.25em;box-sizing: border-box;margin-bottom: 0.5em;}#sk-container-id-2 div.sk-estimator:hover {background-color: #d4ebff;}#sk-container-id-2 div.sk-parallel-item::after {content: \"\";width: 100%;border-bottom: 1px solid gray;flex-grow: 1;}#sk-container-id-2 div.sk-label:hover label.sk-toggleable__label {background-color: #d4ebff;}#sk-container-id-2 div.sk-serial::before {content: \"\";position: absolute;border-left: 1px solid gray;box-sizing: border-box;top: 0;bottom: 0;left: 50%;z-index: 0;}#sk-container-id-2 div.sk-serial {display: flex;flex-direction: column;align-items: center;background-color: white;padding-right: 0.2em;padding-left: 0.2em;position: relative;}#sk-container-id-2 div.sk-item {position: relative;z-index: 1;}#sk-container-id-2 div.sk-parallel {display: flex;align-items: stretch;justify-content: center;background-color: white;position: relative;}#sk-container-id-2 div.sk-item::before, #sk-container-id-2 div.sk-parallel-item::before {content: \"\";position: absolute;border-left: 1px solid gray;box-sizing: border-box;top: 0;bottom: 0;left: 50%;z-index: -1;}#sk-container-id-2 div.sk-parallel-item {display: flex;flex-direction: column;z-index: 1;position: relative;background-color: white;}#sk-container-id-2 div.sk-parallel-item:first-child::after {align-self: flex-end;width: 50%;}#sk-container-id-2 div.sk-parallel-item:last-child::after {align-self: flex-start;width: 50%;}#sk-container-id-2 div.sk-parallel-item:only-child::after {width: 0;}#sk-container-id-2 div.sk-dashed-wrapped {border: 1px dashed gray;margin: 0 0.4em 0.5em 0.4em;box-sizing: border-box;padding-bottom: 0.4em;background-color: white;}#sk-container-id-2 div.sk-label label {font-family: monospace;font-weight: bold;display: inline-block;line-height: 1.2em;}#sk-container-id-2 div.sk-label-container {text-align: center;}#sk-container-id-2 div.sk-container {/* jupyter's `normalize.less` sets `[hidden] { display: none; }` but bootstrap.min.css set `[hidden] { display: none !important; }` so we also need the `!important` here to be able to override the default hidden behavior on the sphinx rendered scikit-learn.org. See: https://github.com/scikit-learn/scikit-learn/issues/21755 */display: inline-block !important;position: relative;}#sk-container-id-2 div.sk-text-repr-fallback {display: none;}</style><div id=\"sk-container-id-2\" class=\"sk-top-container\"><div class=\"sk-text-repr-fallback\"><pre>LinearRegression()</pre><b>In a Jupyter environment, please rerun this cell to show the HTML representation or trust the notebook. <br />On GitHub, the HTML representation is unable to render, please try loading this page with nbviewer.org.</b></div><div class=\"sk-container\" hidden><div class=\"sk-item\"><div class=\"sk-estimator sk-toggleable\"><input class=\"sk-toggleable__control sk-hidden--visually\" id=\"sk-estimator-id-2\" type=\"checkbox\" checked><label for=\"sk-estimator-id-2\" class=\"sk-toggleable__label sk-toggleable__label-arrow\">LinearRegression</label><div class=\"sk-toggleable__content\"><pre>LinearRegression()</pre></div></div></div></div></div>"
      ],
      "text/plain": [
       "LinearRegression()"
      ]
     },
     "execution_count": 88,
     "metadata": {},
     "output_type": "execute_result"
    }
   ],
   "source": [
    "######################################################\n",
    "# model train\n",
    "######################################################\n",
    "regressor = LinearRegression()\n",
    "regressor.fit(x_train,y_train)"
   ]
  },
  {
   "cell_type": "code",
   "execution_count": 89,
   "metadata": {},
   "outputs": [],
   "source": [
    "######################################################\n",
    "# model assessment\n",
    "######################################################\n",
    "# Predict on the Test Set \n",
    "y_pred = regressor.predict(x_test)"
   ]
  },
  {
   "cell_type": "code",
   "execution_count": 90,
   "metadata": {},
   "outputs": [
    {
     "name": "stdout",
     "output_type": "stream",
     "text": [
      "0.7805702910327413\n"
     ]
    }
   ],
   "source": [
    "# Calculate R-Squared \n",
    "r_squared = r2_score(y_test,y_pred)\n",
    "print(r_squared)"
   ]
  },
  {
   "cell_type": "code",
   "execution_count": 91,
   "metadata": {},
   "outputs": [
    {
     "name": "stdout",
     "output_type": "stream",
     "text": [
      "[0.8427758  0.86000619 0.8913188  0.81883022]\n"
     ]
    }
   ],
   "source": [
    "# Cross Validation \n",
    "cv = KFold(n_splits=4,shuffle=True,random_state=42)\n",
    "cv_scores =cross_val_score(regressor,x_train,y_train,cv=cv,scoring=\"r2\")\n",
    "print(cv_scores)"
   ]
  },
  {
   "cell_type": "code",
   "execution_count": 92,
   "metadata": {},
   "outputs": [
    {
     "data": {
      "text/plain": [
       "0.8532327536589741"
      ]
     },
     "execution_count": 92,
     "metadata": {},
     "output_type": "execute_result"
    }
   ],
   "source": [
    "cv_scores.mean()"
   ]
  },
  {
   "cell_type": "code",
   "execution_count": 93,
   "metadata": {},
   "outputs": [
    {
     "name": "stdout",
     "output_type": "stream",
     "text": [
      "(74, 8)\n"
     ]
    }
   ],
   "source": [
    "# Calculate Adjusted R-Squared\n",
    "num_data_points, num_input_vars = x_test.shape \n",
    "print(x_test.shape) "
   ]
  },
  {
   "cell_type": "code",
   "execution_count": 94,
   "metadata": {},
   "outputs": [
    {
     "name": "stdout",
     "output_type": "stream",
     "text": [
      "0.7535635576213864\n"
     ]
    }
   ],
   "source": [
    "adjusted_r_squared = 1-(1-r_squared)*(num_data_points-1)/(num_data_points-num_input_vars-1)\n",
    "print(adjusted_r_squared) "
   ]
  },
  {
   "attachments": {},
   "cell_type": "markdown",
   "metadata": {},
   "source": [
    "We get an accuracy of 0.754 which is ok, but I think we can do better. Below I hilight what the coefficents and the intercept of the best fit equation"
   ]
  },
  {
   "cell_type": "code",
   "execution_count": 95,
   "metadata": {},
   "outputs": [
    {
     "name": "stdout",
     "output_type": "stream",
     "text": [
      "          0\n",
      "0 -0.201232\n",
      "1 -0.027697\n",
      "2  0.000142\n",
      "3  0.001002\n",
      "4 -0.004842\n",
      "5  0.061659\n",
      "6 -0.003971\n",
      "7 -0.013393\n"
     ]
    }
   ],
   "source": [
    "# Extract Model Coefficients\n",
    "coefficients = pd.DataFrame(regressor.coef_)  \n",
    "print(coefficients) "
   ]
  },
  {
   "cell_type": "code",
   "execution_count": 96,
   "metadata": {},
   "outputs": [
    {
     "name": "stdout",
     "output_type": "stream",
     "text": [
      "        input_variable  coefficients\n",
      "0  distance_from_store     -0.201232\n",
      "1         credit_score     -0.027697\n",
      "2          total_sales      0.000142\n",
      "3          total_items      0.001002\n",
      "4    transaction_count     -0.004842\n",
      "5   product_area_count      0.061659\n",
      "6     avg_basket_value     -0.003971\n",
      "7             gender_M     -0.013393\n"
     ]
    }
   ],
   "source": [
    "input_variable_names = pd.DataFrame(x_train.columns)\n",
    "summary_stats = pd.concat([input_variable_names,coefficients],axis=1)\n",
    "summary_stats.columns = ['input_variable', 'coefficients']\n",
    "print(summary_stats)"
   ]
  },
  {
   "cell_type": "code",
   "execution_count": 97,
   "metadata": {},
   "outputs": [
    {
     "data": {
      "text/plain": [
       "0.5160974174646102"
      ]
     },
     "execution_count": 97,
     "metadata": {},
     "output_type": "execute_result"
    }
   ],
   "source": [
    "# Extract Model Intercept\n",
    "regressor.intercept_"
   ]
  },
  {
   "attachments": {},
   "cell_type": "markdown",
   "metadata": {},
   "source": [
    "# Decision Trees <a name=\"clftree-title\"></a>"
   ]
  },
  {
   "cell_type": "code",
   "execution_count": 98,
   "metadata": {},
   "outputs": [],
   "source": [
    "data_for_model_tree = data_for_model"
   ]
  },
  {
   "cell_type": "code",
   "execution_count": 99,
   "metadata": {},
   "outputs": [],
   "source": [
    "######################################################\n",
    "# split input variables and output variables\n",
    "######################################################\n",
    "# we dont want the output in the input dataframe\n",
    "X = data_for_model_tree.drop(['customer_loyalty_score'], axis=1)\n",
    "Y = data_for_model_tree['customer_loyalty_score']"
   ]
  },
  {
   "cell_type": "code",
   "execution_count": 100,
   "metadata": {},
   "outputs": [
    {
     "name": "stdout",
     "output_type": "stream",
     "text": [
      "(295, 8)\n",
      "(74, 8)\n",
      "(295,)\n",
      "(74,)\n"
     ]
    }
   ],
   "source": [
    "######################################################\n",
    "# split out training and test sets\n",
    "######################################################\n",
    "# Regression model \n",
    "x_train, x_test, y_train, y_test = train_test_split(X,\n",
    "                                                    Y, \n",
    "                                                    test_size=.2,\n",
    "                                                    random_state=42)\n",
    "print(x_train.shape)\n",
    "print(x_test.shape)\n",
    "print(y_train.shape)\n",
    "print(y_test.shape)\n"
   ]
  },
  {
   "cell_type": "code",
   "execution_count": 101,
   "metadata": {},
   "outputs": [],
   "source": [
    "######################################################\n",
    "# deal with categorical variables\n",
    "######################################################\n",
    "# gender\n",
    "categorical_vars = [\"gender\"]\n",
    "one_hot_encoder = OneHotEncoder(sparse=False, drop=\"first\")# array is easier to use and viduallize \n",
    "# avoid dummy variable trap"
   ]
  },
  {
   "cell_type": "code",
   "execution_count": 102,
   "metadata": {},
   "outputs": [
    {
     "name": "stdout",
     "output_type": "stream",
     "text": [
      "(295, 1)\n",
      "(74, 1)\n"
     ]
    },
    {
     "name": "stderr",
     "output_type": "stream",
     "text": [
      "c:\\Users\\eacalder\\.conda\\envs\\DSInfinity\\lib\\site-packages\\sklearn\\preprocessing\\_encoders.py:828: FutureWarning: `sparse` was renamed to `sparse_output` in version 1.2 and will be removed in 1.4. `sparse_output` is ignored unless you leave `sparse` to its default value.\n",
      "  warnings.warn(\n"
     ]
    }
   ],
   "source": [
    "# fit and transform on the training and only the transform on the test\n",
    "# we do this because we want the encoding rules to be learned from the \n",
    "# training data and then applied to the new data \n",
    "X_train_encoded_vars_array = one_hot_encoder.fit_transform(x_train[categorical_vars])\n",
    "X_test_encoded_vars_array = one_hot_encoder.transform(x_test[categorical_vars])\n",
    "print(X_train_encoded_vars_array.shape)\n",
    "print(X_test_encoded_vars_array.shape)"
   ]
  },
  {
   "cell_type": "code",
   "execution_count": 103,
   "metadata": {},
   "outputs": [],
   "source": [
    "\n",
    "encoder_feature_names = one_hot_encoder.get_feature_names_out(categorical_vars)"
   ]
  },
  {
   "cell_type": "code",
   "execution_count": 104,
   "metadata": {},
   "outputs": [
    {
     "name": "stdout",
     "output_type": "stream",
     "text": [
      "(295, 8)\n",
      "   distance_from_store  credit_score  total_sales  total_items  \\\n",
      "0                 0.19          0.57      1096.96          202   \n",
      "1                 0.39          0.43       933.39          220   \n",
      "2                 2.27          0.49      1506.49          281   \n",
      "3                 3.10          0.59       330.79           81   \n",
      "4                 0.07          0.53      2053.04          210   \n",
      "\n",
      "   transaction_count  product_area_count  avg_basket_value  gender_M  \n",
      "0                 53                   5         20.697358       1.0  \n",
      "1                 51                   4         18.301765       1.0  \n",
      "2                 47                   3         32.052979       0.0  \n",
      "3                 13                   4         25.445385       0.0  \n",
      "4                 54                   5         38.019259       1.0  \n"
     ]
    }
   ],
   "source": [
    "X_train_encoded_vars_array = pd.DataFrame(X_train_encoded_vars_array,\n",
    "                               columns=encoder_feature_names)\n",
    "x_train = pd.concat([x_train.reset_index(drop=True),\n",
    "                   X_train_encoded_vars_array.reset_index(drop=True)], \n",
    "                   axis=1)\n",
    "# reset index to ensure no rows are not aligned\n",
    "# drop the original input 2 and 3\n",
    "x_train.drop(categorical_vars, axis=1,inplace=True)\n",
    "print(x_train.shape)\n",
    "print(x_train.head())"
   ]
  },
  {
   "cell_type": "code",
   "execution_count": 105,
   "metadata": {},
   "outputs": [
    {
     "name": "stdout",
     "output_type": "stream",
     "text": [
      "(74, 8)\n",
      "   distance_from_store  credit_score  total_sales  total_items  \\\n",
      "0                 2.80          0.41      1524.01          278   \n",
      "1                 1.92          0.64      1992.51          305   \n",
      "2                 4.38          0.47       343.41           70   \n",
      "3                 1.51          0.59      1208.91          198   \n",
      "4                 2.52          0.50      1967.39          316   \n",
      "\n",
      "   transaction_count  product_area_count  avg_basket_value  gender_M  \n",
      "0                 45                   3         33.866889       0.0  \n",
      "1                 53                   5         37.594528       0.0  \n",
      "2                 12                   4         28.617500       0.0  \n",
      "3                 55                   5         21.980182       0.0  \n",
      "4                 55                   5         35.770727       0.0  \n"
     ]
    }
   ],
   "source": [
    "X_test_encoded_vars_array = pd.DataFrame(X_test_encoded_vars_array,\n",
    "                               columns=encoder_feature_names)\n",
    "x_test = pd.concat([x_test.reset_index(drop=True),\n",
    "                   X_test_encoded_vars_array.reset_index(drop=True)], axis=1)\n",
    "# reset index to ensure no rows are not aligned\n",
    "# drop the original input 2 and 3\n",
    "x_test.drop(categorical_vars, axis=1,inplace=True)\n",
    "print(x_test.shape)\n",
    "print(x_test.head())"
   ]
  },
  {
   "cell_type": "markdown",
   "metadata": {},
   "source": [
    "below each variable is judges indenpendently \n",
    "if high input variables, doing below will help for computation and alot of input variable"
   ]
  },
  {
   "cell_type": "code",
   "execution_count": 106,
   "metadata": {},
   "outputs": [
    {
     "data": {
      "text/html": [
       "<style>#sk-container-id-3 {color: black;background-color: white;}#sk-container-id-3 pre{padding: 0;}#sk-container-id-3 div.sk-toggleable {background-color: white;}#sk-container-id-3 label.sk-toggleable__label {cursor: pointer;display: block;width: 100%;margin-bottom: 0;padding: 0.3em;box-sizing: border-box;text-align: center;}#sk-container-id-3 label.sk-toggleable__label-arrow:before {content: \"▸\";float: left;margin-right: 0.25em;color: #696969;}#sk-container-id-3 label.sk-toggleable__label-arrow:hover:before {color: black;}#sk-container-id-3 div.sk-estimator:hover label.sk-toggleable__label-arrow:before {color: black;}#sk-container-id-3 div.sk-toggleable__content {max-height: 0;max-width: 0;overflow: hidden;text-align: left;background-color: #f0f8ff;}#sk-container-id-3 div.sk-toggleable__content pre {margin: 0.2em;color: black;border-radius: 0.25em;background-color: #f0f8ff;}#sk-container-id-3 input.sk-toggleable__control:checked~div.sk-toggleable__content {max-height: 200px;max-width: 100%;overflow: auto;}#sk-container-id-3 input.sk-toggleable__control:checked~label.sk-toggleable__label-arrow:before {content: \"▾\";}#sk-container-id-3 div.sk-estimator input.sk-toggleable__control:checked~label.sk-toggleable__label {background-color: #d4ebff;}#sk-container-id-3 div.sk-label input.sk-toggleable__control:checked~label.sk-toggleable__label {background-color: #d4ebff;}#sk-container-id-3 input.sk-hidden--visually {border: 0;clip: rect(1px 1px 1px 1px);clip: rect(1px, 1px, 1px, 1px);height: 1px;margin: -1px;overflow: hidden;padding: 0;position: absolute;width: 1px;}#sk-container-id-3 div.sk-estimator {font-family: monospace;background-color: #f0f8ff;border: 1px dotted black;border-radius: 0.25em;box-sizing: border-box;margin-bottom: 0.5em;}#sk-container-id-3 div.sk-estimator:hover {background-color: #d4ebff;}#sk-container-id-3 div.sk-parallel-item::after {content: \"\";width: 100%;border-bottom: 1px solid gray;flex-grow: 1;}#sk-container-id-3 div.sk-label:hover label.sk-toggleable__label {background-color: #d4ebff;}#sk-container-id-3 div.sk-serial::before {content: \"\";position: absolute;border-left: 1px solid gray;box-sizing: border-box;top: 0;bottom: 0;left: 50%;z-index: 0;}#sk-container-id-3 div.sk-serial {display: flex;flex-direction: column;align-items: center;background-color: white;padding-right: 0.2em;padding-left: 0.2em;position: relative;}#sk-container-id-3 div.sk-item {position: relative;z-index: 1;}#sk-container-id-3 div.sk-parallel {display: flex;align-items: stretch;justify-content: center;background-color: white;position: relative;}#sk-container-id-3 div.sk-item::before, #sk-container-id-3 div.sk-parallel-item::before {content: \"\";position: absolute;border-left: 1px solid gray;box-sizing: border-box;top: 0;bottom: 0;left: 50%;z-index: -1;}#sk-container-id-3 div.sk-parallel-item {display: flex;flex-direction: column;z-index: 1;position: relative;background-color: white;}#sk-container-id-3 div.sk-parallel-item:first-child::after {align-self: flex-end;width: 50%;}#sk-container-id-3 div.sk-parallel-item:last-child::after {align-self: flex-start;width: 50%;}#sk-container-id-3 div.sk-parallel-item:only-child::after {width: 0;}#sk-container-id-3 div.sk-dashed-wrapped {border: 1px dashed gray;margin: 0 0.4em 0.5em 0.4em;box-sizing: border-box;padding-bottom: 0.4em;background-color: white;}#sk-container-id-3 div.sk-label label {font-family: monospace;font-weight: bold;display: inline-block;line-height: 1.2em;}#sk-container-id-3 div.sk-label-container {text-align: center;}#sk-container-id-3 div.sk-container {/* jupyter's `normalize.less` sets `[hidden] { display: none; }` but bootstrap.min.css set `[hidden] { display: none !important; }` so we also need the `!important` here to be able to override the default hidden behavior on the sphinx rendered scikit-learn.org. See: https://github.com/scikit-learn/scikit-learn/issues/21755 */display: inline-block !important;position: relative;}#sk-container-id-3 div.sk-text-repr-fallback {display: none;}</style><div id=\"sk-container-id-3\" class=\"sk-top-container\"><div class=\"sk-text-repr-fallback\"><pre>DecisionTreeRegressor(random_state=42)</pre><b>In a Jupyter environment, please rerun this cell to show the HTML representation or trust the notebook. <br />On GitHub, the HTML representation is unable to render, please try loading this page with nbviewer.org.</b></div><div class=\"sk-container\" hidden><div class=\"sk-item\"><div class=\"sk-estimator sk-toggleable\"><input class=\"sk-toggleable__control sk-hidden--visually\" id=\"sk-estimator-id-3\" type=\"checkbox\" checked><label for=\"sk-estimator-id-3\" class=\"sk-toggleable__label sk-toggleable__label-arrow\">DecisionTreeRegressor</label><div class=\"sk-toggleable__content\"><pre>DecisionTreeRegressor(random_state=42)</pre></div></div></div></div></div>"
      ],
      "text/plain": [
       "DecisionTreeRegressor(random_state=42)"
      ]
     },
     "execution_count": 106,
     "metadata": {},
     "output_type": "execute_result"
    }
   ],
   "source": [
    "######################################################\n",
    "# model train\n",
    "######################################################\n",
    "regressor = DecisionTreeRegressor(random_state=42)\n",
    "regressor.fit(x_train,y_train)"
   ]
  },
  {
   "cell_type": "code",
   "execution_count": 107,
   "metadata": {},
   "outputs": [],
   "source": [
    "######################################################\n",
    "# model assessment\n",
    "######################################################\n",
    "# Predict on the Test Set \n",
    "y_pred = regressor.predict(x_test)"
   ]
  },
  {
   "cell_type": "code",
   "execution_count": 108,
   "metadata": {},
   "outputs": [
    {
     "name": "stdout",
     "output_type": "stream",
     "text": [
      "0.8894229399071569\n"
     ]
    }
   ],
   "source": [
    "# Calculate R-Squared \n",
    "r_squared = r2_score(y_test,y_pred)\n",
    "print(r_squared)"
   ]
  },
  {
   "attachments": {},
   "cell_type": "markdown",
   "metadata": {},
   "source": [
    "So our model is getting better, I want to validate this score and try different folds to see if we actually get this same score on average."
   ]
  },
  {
   "cell_type": "code",
   "execution_count": 109,
   "metadata": {},
   "outputs": [
    {
     "name": "stdout",
     "output_type": "stream",
     "text": [
      "[0.82815691 0.84726946 0.83878834 0.86335605]\n"
     ]
    }
   ],
   "source": [
    "# Cross Validation \n",
    "cv = KFold(n_splits=4,shuffle=True,random_state=42)\n",
    "cv_scores =cross_val_score(regressor,x_train,y_train,cv=cv,scoring=\"r2\")\n",
    "print(cv_scores)"
   ]
  },
  {
   "cell_type": "code",
   "execution_count": 110,
   "metadata": {},
   "outputs": [
    {
     "data": {
      "text/plain": [
       "0.8443926914644135"
      ]
     },
     "execution_count": 110,
     "metadata": {},
     "output_type": "execute_result"
    }
   ],
   "source": [
    "cv_scores.mean()"
   ]
  },
  {
   "cell_type": "code",
   "execution_count": 111,
   "metadata": {},
   "outputs": [
    {
     "name": "stdout",
     "output_type": "stream",
     "text": [
      "(74, 8)\n"
     ]
    }
   ],
   "source": [
    "# Calculate Adjusted R-Squared\n",
    "num_data_points, num_input_vars = x_test.shape \n",
    "print(x_test.shape) "
   ]
  },
  {
   "cell_type": "code",
   "execution_count": 112,
   "metadata": {},
   "outputs": [
    {
     "name": "stdout",
     "output_type": "stream",
     "text": [
      "0.8758134555880378\n"
     ]
    }
   ],
   "source": [
    "adjusted_r_squared = 1-(1-r_squared)*(num_data_points-1)/(num_data_points-num_input_vars-1)\n",
    "print(adjusted_r_squared) "
   ]
  },
  {
   "attachments": {},
   "cell_type": "markdown",
   "metadata": {},
   "source": [
    "Ok, our accuracy:\n",
    "1. Logistic Regression: 0.754 \n",
    "2. Decision Trees: 0.876\n",
    "\n",
    "So our model is getting better, think I want to try random forest to see if we can be more accurate.\n",
    "\n",
    "First I want to try different folds to see if we can bump this up and if changing the depths helps this figure since we didnt really specify in the beginning."
   ]
  },
  {
   "attachments": {},
   "cell_type": "markdown",
   "metadata": {},
   "source": [
    "Below I wanted to validate myself by changing the depths to ensure I understood the process of overfitting"
   ]
  },
  {
   "cell_type": "code",
   "execution_count": 113,
   "metadata": {},
   "outputs": [
    {
     "data": {
      "text/plain": [
       "1.0"
      ]
     },
     "execution_count": 113,
     "metadata": {},
     "output_type": "execute_result"
    }
   ],
   "source": [
    "# demonstration of over fitting\n",
    "# decision trees are prone to this\n",
    "\n",
    "# assess model accuracy\n",
    "y_pred_training = regressor.predict(x_train)\n",
    "r2_score(y_train,y_pred_training)"
   ]
  },
  {
   "cell_type": "code",
   "execution_count": 114,
   "metadata": {},
   "outputs": [
    {
     "name": "stdout",
     "output_type": "stream",
     "text": [
      "[0.4364037494549644, 0.5848135594639989, 0.7206309355762486, 0.8292106691439445, 0.856640703864234, 0.8785569062539205, 0.8469439643502296, 0.9024600986606706]\n"
     ]
    }
   ],
   "source": [
    "# finding the best max depth\n",
    "max_depth_list = list(range(1,9))\n",
    "accuracy_scores = []\n",
    "\n",
    "for depth in max_depth_list:\n",
    "    regressor = DecisionTreeRegressor(max_depth=depth,random_state=42)\n",
    "    regressor.fit(x_train,y_train)\n",
    "    y_pred = regressor.predict(x_test)\n",
    "    accuracy = r2_score(y_test,y_pred)\n",
    "    accuracy_scores.append(accuracy)\n",
    "print(accuracy_scores)"
   ]
  },
  {
   "cell_type": "code",
   "execution_count": 115,
   "metadata": {},
   "outputs": [
    {
     "name": "stdout",
     "output_type": "stream",
     "text": [
      "8\n"
     ]
    }
   ],
   "source": [
    "max_accuracy = max(accuracy_scores)\n",
    "max_accuracy_idx = accuracy_scores.index(max_accuracy)\n",
    "optimal_depth = max_depth_list[max_accuracy_idx]\n",
    "print(optimal_depth)"
   ]
  },
  {
   "cell_type": "code",
   "execution_count": 116,
   "metadata": {},
   "outputs": [
    {
     "data": {
      "image/png": "[encoded data removed]",
      "text/plain": [
       "<Figure size 432x288 with 1 Axes>"
      ]
     },
     "metadata": {
      "needs_background": "light"
     },
     "output_type": "display_data"
    }
   ],
   "source": [
    "# plot of max depths\n",
    "plt.plot(max_depth_list,accuracy_scores)\n",
    "plt.scatter(optimal_depth,\n",
    "            max_accuracy,\n",
    "            marker='x',\n",
    "            color='red')\n",
    "plt.title(f'accuracy by max depth \\n Optimal tree depth: {optimal_depth} (accuracy: {round(max_accuracy,4)})')\n",
    "plt.xlabel('max depth of decision tree')\n",
    "plt.ylabel('accuracy')\n",
    "plt.tight_layout()\n",
    "plt.show()\n"
   ]
  },
  {
   "cell_type": "code",
   "execution_count": 117,
   "metadata": {},
   "outputs": [
    {
     "data": {
      "text/html": [
       "<style>#sk-container-id-4 {color: black;background-color: white;}#sk-container-id-4 pre{padding: 0;}#sk-container-id-4 div.sk-toggleable {background-color: white;}#sk-container-id-4 label.sk-toggleable__label {cursor: pointer;display: block;width: 100%;margin-bottom: 0;padding: 0.3em;box-sizing: border-box;text-align: center;}#sk-container-id-4 label.sk-toggleable__label-arrow:before {content: \"▸\";float: left;margin-right: 0.25em;color: #696969;}#sk-container-id-4 label.sk-toggleable__label-arrow:hover:before {color: black;}#sk-container-id-4 div.sk-estimator:hover label.sk-toggleable__label-arrow:before {color: black;}#sk-container-id-4 div.sk-toggleable__content {max-height: 0;max-width: 0;overflow: hidden;text-align: left;background-color: #f0f8ff;}#sk-container-id-4 div.sk-toggleable__content pre {margin: 0.2em;color: black;border-radius: 0.25em;background-color: #f0f8ff;}#sk-container-id-4 input.sk-toggleable__control:checked~div.sk-toggleable__content {max-height: 200px;max-width: 100%;overflow: auto;}#sk-container-id-4 input.sk-toggleable__control:checked~label.sk-toggleable__label-arrow:before {content: \"▾\";}#sk-container-id-4 div.sk-estimator input.sk-toggleable__control:checked~label.sk-toggleable__label {background-color: #d4ebff;}#sk-container-id-4 div.sk-label input.sk-toggleable__control:checked~label.sk-toggleable__label {background-color: #d4ebff;}#sk-container-id-4 input.sk-hidden--visually {border: 0;clip: rect(1px 1px 1px 1px);clip: rect(1px, 1px, 1px, 1px);height: 1px;margin: -1px;overflow: hidden;padding: 0;position: absolute;width: 1px;}#sk-container-id-4 div.sk-estimator {font-family: monospace;background-color: #f0f8ff;border: 1px dotted black;border-radius: 0.25em;box-sizing: border-box;margin-bottom: 0.5em;}#sk-container-id-4 div.sk-estimator:hover {background-color: #d4ebff;}#sk-container-id-4 div.sk-parallel-item::after {content: \"\";width: 100%;border-bottom: 1px solid gray;flex-grow: 1;}#sk-container-id-4 div.sk-label:hover label.sk-toggleable__label {background-color: #d4ebff;}#sk-container-id-4 div.sk-serial::before {content: \"\";position: absolute;border-left: 1px solid gray;box-sizing: border-box;top: 0;bottom: 0;left: 50%;z-index: 0;}#sk-container-id-4 div.sk-serial {display: flex;flex-direction: column;align-items: center;background-color: white;padding-right: 0.2em;padding-left: 0.2em;position: relative;}#sk-container-id-4 div.sk-item {position: relative;z-index: 1;}#sk-container-id-4 div.sk-parallel {display: flex;align-items: stretch;justify-content: center;background-color: white;position: relative;}#sk-container-id-4 div.sk-item::before, #sk-container-id-4 div.sk-parallel-item::before {content: \"\";position: absolute;border-left: 1px solid gray;box-sizing: border-box;top: 0;bottom: 0;left: 50%;z-index: -1;}#sk-container-id-4 div.sk-parallel-item {display: flex;flex-direction: column;z-index: 1;position: relative;background-color: white;}#sk-container-id-4 div.sk-parallel-item:first-child::after {align-self: flex-end;width: 50%;}#sk-container-id-4 div.sk-parallel-item:last-child::after {align-self: flex-start;width: 50%;}#sk-container-id-4 div.sk-parallel-item:only-child::after {width: 0;}#sk-container-id-4 div.sk-dashed-wrapped {border: 1px dashed gray;margin: 0 0.4em 0.5em 0.4em;box-sizing: border-box;padding-bottom: 0.4em;background-color: white;}#sk-container-id-4 div.sk-label label {font-family: monospace;font-weight: bold;display: inline-block;line-height: 1.2em;}#sk-container-id-4 div.sk-label-container {text-align: center;}#sk-container-id-4 div.sk-container {/* jupyter's `normalize.less` sets `[hidden] { display: none; }` but bootstrap.min.css set `[hidden] { display: none !important; }` so we also need the `!important` here to be able to override the default hidden behavior on the sphinx rendered scikit-learn.org. See: https://github.com/scikit-learn/scikit-learn/issues/21755 */display: inline-block !important;position: relative;}#sk-container-id-4 div.sk-text-repr-fallback {display: none;}</style><div id=\"sk-container-id-4\" class=\"sk-top-container\"><div class=\"sk-text-repr-fallback\"><pre>DecisionTreeRegressor(max_depth=4, random_state=42)</pre><b>In a Jupyter environment, please rerun this cell to show the HTML representation or trust the notebook. <br />On GitHub, the HTML representation is unable to render, please try loading this page with nbviewer.org.</b></div><div class=\"sk-container\" hidden><div class=\"sk-item\"><div class=\"sk-estimator sk-toggleable\"><input class=\"sk-toggleable__control sk-hidden--visually\" id=\"sk-estimator-id-4\" type=\"checkbox\" checked><label for=\"sk-estimator-id-4\" class=\"sk-toggleable__label sk-toggleable__label-arrow\">DecisionTreeRegressor</label><div class=\"sk-toggleable__content\"><pre>DecisionTreeRegressor(max_depth=4, random_state=42)</pre></div></div></div></div></div>"
      ],
      "text/plain": [
       "DecisionTreeRegressor(max_depth=4, random_state=42)"
      ]
     },
     "execution_count": 117,
     "metadata": {},
     "output_type": "execute_result"
    }
   ],
   "source": [
    "######################################################\n",
    "# model train\n",
    "######################################################\n",
    "regressor = DecisionTreeRegressor(random_state=42,max_depth=4)\n",
    "regressor.fit(x_train,y_train)"
   ]
  },
  {
   "cell_type": "code",
   "execution_count": 118,
   "metadata": {},
   "outputs": [
    {
     "name": "stdout",
     "output_type": "stream",
     "text": [
      "0.8292106691439445\n"
     ]
    }
   ],
   "source": [
    "######################################################\n",
    "# model assessment\n",
    "######################################################\n",
    "# Predict on the Test Set \n",
    "y_pred = regressor.predict(x_test)\n",
    "# Calculate R-Squared \n",
    "r_squared = r2_score(y_test,y_pred)\n",
    "print(r_squared)"
   ]
  },
  {
   "cell_type": "code",
   "execution_count": 119,
   "metadata": {},
   "outputs": [
    {
     "data": {
      "image/png": "[encoded data removed]",
      "text/plain": [
       "<Figure size 1800x1080 with 1 Axes>"
      ]
     },
     "metadata": {
      "needs_background": "light"
     },
     "output_type": "display_data"
    }
   ],
   "source": [
    "# plot our model\n",
    "# plot our decision tree\n",
    "plt.figure(figsize=(25,15))\n",
    "tree = plot_tree(regressor,\n",
    "                 feature_names=X.columns,\n",
    "                 filled=True,\n",
    "                 rounded = True,\n",
    "                 fontsize=16)"
   ]
  },
  {
   "attachments": {},
   "cell_type": "markdown",
   "metadata": {},
   "source": [
    "# Random Forest <a name=\"rf-title\"></a>"
   ]
  },
  {
   "cell_type": "code",
   "execution_count": 120,
   "metadata": {},
   "outputs": [],
   "source": [
    "data_for_model_ranfor = data_for_model"
   ]
  },
  {
   "attachments": {},
   "cell_type": "markdown",
   "metadata": {},
   "source": [
    "removing outliers for trees wont change anything so it is not necessary to run the logic on them for both random forest and tree regression"
   ]
  },
  {
   "cell_type": "code",
   "execution_count": 121,
   "metadata": {},
   "outputs": [],
   "source": [
    "######################################################\n",
    "# split input variables and output variables\n",
    "######################################################\n",
    "# we dont want the output in the input dataframe\n",
    "X = data_for_model_ranfor.drop(['customer_loyalty_score'], axis=1)\n",
    "Y = data_for_model_ranfor['customer_loyalty_score']"
   ]
  },
  {
   "cell_type": "code",
   "execution_count": 122,
   "metadata": {},
   "outputs": [
    {
     "name": "stdout",
     "output_type": "stream",
     "text": [
      "(295, 8)\n",
      "(74, 8)\n",
      "(295,)\n",
      "(74,)\n"
     ]
    }
   ],
   "source": [
    "######################################################\n",
    "# split out training and test sets\n",
    "######################################################\n",
    "# Regression model \n",
    "x_train, x_test, y_train, y_test = train_test_split(X,\n",
    "                                                    Y, \n",
    "                                                    test_size=.2,\n",
    "                                                    random_state=42)\n",
    "print(x_train.shape)\n",
    "print(x_test.shape)\n",
    "print(y_train.shape)\n",
    "print(y_test.shape)\n"
   ]
  },
  {
   "cell_type": "code",
   "execution_count": 123,
   "metadata": {},
   "outputs": [],
   "source": [
    "######################################################\n",
    "# deal with categorical variables\n",
    "######################################################\n",
    "# gender\n",
    "categorical_vars = [\"gender\"]\n",
    "one_hot_encoder = OneHotEncoder(sparse=False, drop=\"first\")# array is easier to use and viduallize \n",
    "# avoid dummy variable trap"
   ]
  },
  {
   "cell_type": "code",
   "execution_count": 124,
   "metadata": {},
   "outputs": [
    {
     "name": "stdout",
     "output_type": "stream",
     "text": [
      "(295, 1)\n",
      "(74, 1)\n"
     ]
    },
    {
     "name": "stderr",
     "output_type": "stream",
     "text": [
      "c:\\Users\\eacalder\\.conda\\envs\\DSInfinity\\lib\\site-packages\\sklearn\\preprocessing\\_encoders.py:828: FutureWarning: `sparse` was renamed to `sparse_output` in version 1.2 and will be removed in 1.4. `sparse_output` is ignored unless you leave `sparse` to its default value.\n",
      "  warnings.warn(\n"
     ]
    }
   ],
   "source": [
    "# fit and transform on the training and only the transform on the test\n",
    "# we do this because we want the encoding rules to be learned from the \n",
    "# training data and then applied to the new data \n",
    "X_train_encoded_vars_array = one_hot_encoder.fit_transform(x_train[categorical_vars])\n",
    "X_test_encoded_vars_array = one_hot_encoder.transform(x_test[categorical_vars])\n",
    "print(X_train_encoded_vars_array.shape)\n",
    "print(X_test_encoded_vars_array.shape)"
   ]
  },
  {
   "cell_type": "code",
   "execution_count": 125,
   "metadata": {},
   "outputs": [],
   "source": [
    "encoder_feature_names = one_hot_encoder.get_feature_names_out(categorical_vars)"
   ]
  },
  {
   "cell_type": "code",
   "execution_count": 126,
   "metadata": {},
   "outputs": [
    {
     "name": "stdout",
     "output_type": "stream",
     "text": [
      "(295, 8)\n",
      "   distance_from_store  credit_score  total_sales  total_items  \\\n",
      "0                 0.19          0.57      1096.96          202   \n",
      "1                 0.39          0.43       933.39          220   \n",
      "2                 2.27          0.49      1506.49          281   \n",
      "3                 3.10          0.59       330.79           81   \n",
      "4                 0.07          0.53      2053.04          210   \n",
      "\n",
      "   transaction_count  product_area_count  avg_basket_value  gender_M  \n",
      "0                 53                   5         20.697358       1.0  \n",
      "1                 51                   4         18.301765       1.0  \n",
      "2                 47                   3         32.052979       0.0  \n",
      "3                 13                   4         25.445385       0.0  \n",
      "4                 54                   5         38.019259       1.0  \n"
     ]
    }
   ],
   "source": [
    "X_train_encoded_vars_array = pd.DataFrame(X_train_encoded_vars_array,\n",
    "                               columns=encoder_feature_names)\n",
    "x_train = pd.concat([x_train.reset_index(drop=True),\n",
    "                   X_train_encoded_vars_array.reset_index(drop=True)], \n",
    "                   axis=1)\n",
    "# reset index to ensure no rows are not aligned\n",
    "# drop the original input 2 and 3\n",
    "x_train.drop(categorical_vars, axis=1,inplace=True)\n",
    "print(x_train.shape)\n",
    "print(x_train.head())"
   ]
  },
  {
   "cell_type": "code",
   "execution_count": 127,
   "metadata": {},
   "outputs": [
    {
     "name": "stdout",
     "output_type": "stream",
     "text": [
      "(74, 8)\n",
      "   distance_from_store  credit_score  total_sales  total_items  \\\n",
      "0                 2.80          0.41      1524.01          278   \n",
      "1                 1.92          0.64      1992.51          305   \n",
      "2                 4.38          0.47       343.41           70   \n",
      "3                 1.51          0.59      1208.91          198   \n",
      "4                 2.52          0.50      1967.39          316   \n",
      "\n",
      "   transaction_count  product_area_count  avg_basket_value  gender_M  \n",
      "0                 45                   3         33.866889       0.0  \n",
      "1                 53                   5         37.594528       0.0  \n",
      "2                 12                   4         28.617500       0.0  \n",
      "3                 55                   5         21.980182       0.0  \n",
      "4                 55                   5         35.770727       0.0  \n"
     ]
    }
   ],
   "source": [
    "X_test_encoded_vars_array = pd.DataFrame(X_test_encoded_vars_array,\n",
    "                               columns=encoder_feature_names)\n",
    "x_test = pd.concat([x_test.reset_index(drop=True),\n",
    "                   X_test_encoded_vars_array.reset_index(drop=True)], axis=1)\n",
    "# reset index to ensure no rows are not aligned\n",
    "# drop the original input 2 and 3\n",
    "x_test.drop(categorical_vars, axis=1,inplace=True)\n",
    "print(x_test.shape)\n",
    "print(x_test.head())"
   ]
  },
  {
   "cell_type": "code",
   "execution_count": 128,
   "metadata": {},
   "outputs": [
    {
     "data": {
      "text/html": [
       "<style>#sk-container-id-5 {color: black;background-color: white;}#sk-container-id-5 pre{padding: 0;}#sk-container-id-5 div.sk-toggleable {background-color: white;}#sk-container-id-5 label.sk-toggleable__label {cursor: pointer;display: block;width: 100%;margin-bottom: 0;padding: 0.3em;box-sizing: border-box;text-align: center;}#sk-container-id-5 label.sk-toggleable__label-arrow:before {content: \"▸\";float: left;margin-right: 0.25em;color: #696969;}#sk-container-id-5 label.sk-toggleable__label-arrow:hover:before {color: black;}#sk-container-id-5 div.sk-estimator:hover label.sk-toggleable__label-arrow:before {color: black;}#sk-container-id-5 div.sk-toggleable__content {max-height: 0;max-width: 0;overflow: hidden;text-align: left;background-color: #f0f8ff;}#sk-container-id-5 div.sk-toggleable__content pre {margin: 0.2em;color: black;border-radius: 0.25em;background-color: #f0f8ff;}#sk-container-id-5 input.sk-toggleable__control:checked~div.sk-toggleable__content {max-height: 200px;max-width: 100%;overflow: auto;}#sk-container-id-5 input.sk-toggleable__control:checked~label.sk-toggleable__label-arrow:before {content: \"▾\";}#sk-container-id-5 div.sk-estimator input.sk-toggleable__control:checked~label.sk-toggleable__label {background-color: #d4ebff;}#sk-container-id-5 div.sk-label input.sk-toggleable__control:checked~label.sk-toggleable__label {background-color: #d4ebff;}#sk-container-id-5 input.sk-hidden--visually {border: 0;clip: rect(1px 1px 1px 1px);clip: rect(1px, 1px, 1px, 1px);height: 1px;margin: -1px;overflow: hidden;padding: 0;position: absolute;width: 1px;}#sk-container-id-5 div.sk-estimator {font-family: monospace;background-color: #f0f8ff;border: 1px dotted black;border-radius: 0.25em;box-sizing: border-box;margin-bottom: 0.5em;}#sk-container-id-5 div.sk-estimator:hover {background-color: #d4ebff;}#sk-container-id-5 div.sk-parallel-item::after {content: \"\";width: 100%;border-bottom: 1px solid gray;flex-grow: 1;}#sk-container-id-5 div.sk-label:hover label.sk-toggleable__label {background-color: #d4ebff;}#sk-container-id-5 div.sk-serial::before {content: \"\";position: absolute;border-left: 1px solid gray;box-sizing: border-box;top: 0;bottom: 0;left: 50%;z-index: 0;}#sk-container-id-5 div.sk-serial {display: flex;flex-direction: column;align-items: center;background-color: white;padding-right: 0.2em;padding-left: 0.2em;position: relative;}#sk-container-id-5 div.sk-item {position: relative;z-index: 1;}#sk-container-id-5 div.sk-parallel {display: flex;align-items: stretch;justify-content: center;background-color: white;position: relative;}#sk-container-id-5 div.sk-item::before, #sk-container-id-5 div.sk-parallel-item::before {content: \"\";position: absolute;border-left: 1px solid gray;box-sizing: border-box;top: 0;bottom: 0;left: 50%;z-index: -1;}#sk-container-id-5 div.sk-parallel-item {display: flex;flex-direction: column;z-index: 1;position: relative;background-color: white;}#sk-container-id-5 div.sk-parallel-item:first-child::after {align-self: flex-end;width: 50%;}#sk-container-id-5 div.sk-parallel-item:last-child::after {align-self: flex-start;width: 50%;}#sk-container-id-5 div.sk-parallel-item:only-child::after {width: 0;}#sk-container-id-5 div.sk-dashed-wrapped {border: 1px dashed gray;margin: 0 0.4em 0.5em 0.4em;box-sizing: border-box;padding-bottom: 0.4em;background-color: white;}#sk-container-id-5 div.sk-label label {font-family: monospace;font-weight: bold;display: inline-block;line-height: 1.2em;}#sk-container-id-5 div.sk-label-container {text-align: center;}#sk-container-id-5 div.sk-container {/* jupyter's `normalize.less` sets `[hidden] { display: none; }` but bootstrap.min.css set `[hidden] { display: none !important; }` so we also need the `!important` here to be able to override the default hidden behavior on the sphinx rendered scikit-learn.org. See: https://github.com/scikit-learn/scikit-learn/issues/21755 */display: inline-block !important;position: relative;}#sk-container-id-5 div.sk-text-repr-fallback {display: none;}</style><div id=\"sk-container-id-5\" class=\"sk-top-container\"><div class=\"sk-text-repr-fallback\"><pre>RandomForestRegressor(random_state=42)</pre><b>In a Jupyter environment, please rerun this cell to show the HTML representation or trust the notebook. <br />On GitHub, the HTML representation is unable to render, please try loading this page with nbviewer.org.</b></div><div class=\"sk-container\" hidden><div class=\"sk-item\"><div class=\"sk-estimator sk-toggleable\"><input class=\"sk-toggleable__control sk-hidden--visually\" id=\"sk-estimator-id-5\" type=\"checkbox\" checked><label for=\"sk-estimator-id-5\" class=\"sk-toggleable__label sk-toggleable__label-arrow\">RandomForestRegressor</label><div class=\"sk-toggleable__content\"><pre>RandomForestRegressor(random_state=42)</pre></div></div></div></div></div>"
      ],
      "text/plain": [
       "RandomForestRegressor(random_state=42)"
      ]
     },
     "execution_count": 128,
     "metadata": {},
     "output_type": "execute_result"
    }
   ],
   "source": [
    "######################################################\n",
    "# model train\n",
    "######################################################\n",
    "regressor = RandomForestRegressor(random_state=42)\n",
    "regressor.fit(x_train,y_train)"
   ]
  },
  {
   "cell_type": "code",
   "execution_count": 129,
   "metadata": {},
   "outputs": [],
   "source": [
    "######################################################\n",
    "# model assessment\n",
    "######################################################\n",
    "# Predict on the Test Set \n",
    "y_pred = regressor.predict(x_test)"
   ]
  },
  {
   "cell_type": "code",
   "execution_count": 130,
   "metadata": {},
   "outputs": [
    {
     "name": "stdout",
     "output_type": "stream",
     "text": [
      "0.9201991316592083\n"
     ]
    }
   ],
   "source": [
    "# Calculate R-Squared \n",
    "r_squared = r2_score(y_test,y_pred)\n",
    "print(r_squared)"
   ]
  },
  {
   "cell_type": "code",
   "execution_count": 131,
   "metadata": {},
   "outputs": [
    {
     "name": "stdout",
     "output_type": "stream",
     "text": [
      "[0.89839223 0.92193768 0.92931663 0.93950913]\n"
     ]
    }
   ],
   "source": [
    "# Cross Validation \n",
    "cv = KFold(n_splits=4,shuffle=True,random_state=42)\n",
    "cv_scores =cross_val_score(regressor,x_train,y_train,cv=cv,scoring=\"r2\")\n",
    "print(cv_scores)"
   ]
  },
  {
   "cell_type": "code",
   "execution_count": 132,
   "metadata": {},
   "outputs": [
    {
     "data": {
      "text/plain": [
       "0.9222889175959589"
      ]
     },
     "execution_count": 132,
     "metadata": {},
     "output_type": "execute_result"
    }
   ],
   "source": [
    "cv_scores.mean()"
   ]
  },
  {
   "cell_type": "code",
   "execution_count": 133,
   "metadata": {},
   "outputs": [
    {
     "name": "stdout",
     "output_type": "stream",
     "text": [
      "(74, 8)\n"
     ]
    }
   ],
   "source": [
    "# Calculate Adjusted R-Squared\n",
    "num_data_points, num_input_vars = x_test.shape \n",
    "print(x_test.shape) "
   ]
  },
  {
   "cell_type": "code",
   "execution_count": 134,
   "metadata": {},
   "outputs": [
    {
     "name": "stdout",
     "output_type": "stream",
     "text": [
      "0.910377486324957\n"
     ]
    }
   ],
   "source": [
    "adjusted_r_squared = 1-(1-r_squared)*(num_data_points-1)/(num_data_points-num_input_vars-1)\n",
    "print(adjusted_r_squared) "
   ]
  },
  {
   "cell_type": "markdown",
   "metadata": {},
   "source": [
    "feature importance! "
   ]
  },
  {
   "cell_type": "code",
   "execution_count": 135,
   "metadata": {},
   "outputs": [
    {
     "data": {
      "text/html": [
       "<div>\n",
       "<style scoped>\n",
       "    .dataframe tbody tr th:only-of-type {\n",
       "        vertical-align: middle;\n",
       "    }\n",
       "\n",
       "    .dataframe tbody tr th {\n",
       "        vertical-align: top;\n",
       "    }\n",
       "\n",
       "    .dataframe thead th {\n",
       "        text-align: right;\n",
       "    }\n",
       "</style>\n",
       "<table border=\"1\" class=\"dataframe\">\n",
       "  <thead>\n",
       "    <tr style=\"text-align: right;\">\n",
       "      <th></th>\n",
       "      <th>input_variable</th>\n",
       "      <th>feature_importance</th>\n",
       "    </tr>\n",
       "  </thead>\n",
       "  <tbody>\n",
       "    <tr>\n",
       "      <th>7</th>\n",
       "      <td>avg_basket_value</td>\n",
       "      <td>0.000587</td>\n",
       "    </tr>\n",
       "    <tr>\n",
       "      <th>1</th>\n",
       "      <td>gender</td>\n",
       "      <td>0.011145</td>\n",
       "    </tr>\n",
       "    <tr>\n",
       "      <th>6</th>\n",
       "      <td>product_area_count</td>\n",
       "      <td>0.013141</td>\n",
       "    </tr>\n",
       "    <tr>\n",
       "      <th>5</th>\n",
       "      <td>transaction_count</td>\n",
       "      <td>0.016667</td>\n",
       "    </tr>\n",
       "    <tr>\n",
       "      <th>4</th>\n",
       "      <td>total_items</td>\n",
       "      <td>0.029299</td>\n",
       "    </tr>\n",
       "  </tbody>\n",
       "</table>\n",
       "</div>"
      ],
      "text/plain": [
       "       input_variable  feature_importance\n",
       "7    avg_basket_value            0.000587\n",
       "1              gender            0.011145\n",
       "6  product_area_count            0.013141\n",
       "5   transaction_count            0.016667\n",
       "4         total_items            0.029299"
      ]
     },
     "execution_count": 135,
     "metadata": {},
     "output_type": "execute_result"
    }
   ],
   "source": [
    "feature_importance = pd.DataFrame(regressor.feature_importances_)\n",
    "feature_names = pd.DataFrame(X.columns)\n",
    "feature_importance_summary = pd.concat([feature_names,feature_importance],\n",
    "                                       axis = 1)\n",
    "feature_importance_summary.columns = ['input_variable', 'feature_importance']\n",
    "feature_importance_summary.sort_values(by='feature_importance',inplace=True)\n",
    "feature_importance_summary.head()"
   ]
  },
  {
   "cell_type": "code",
   "execution_count": 136,
   "metadata": {},
   "outputs": [
    {
     "data": {
      "image/png": "[encoded data removed]",
      "text/plain": [
       "<Figure size 432x288 with 1 Axes>"
      ]
     },
     "metadata": {
      "needs_background": "light"
     },
     "output_type": "display_data"
    }
   ],
   "source": [
    "plt.barh(feature_importance_summary['input_variable'],feature_importance_summary['feature_importance'])\n",
    "plt.title(\"feature importance of random forest\")\n",
    "plt.xlabel(\"feature importance\")\n",
    "# plt.ylabel(\"y label\")\n",
    "plt.tight_layout()\n",
    "plt.grid(True)\n",
    "plt.show()"
   ]
  },
  {
   "cell_type": "markdown",
   "metadata": {},
   "source": [
    "we have the feature importance, another way of calculating this out is by \n",
    "\n",
    "permutation importance - more advised to use "
   ]
  },
  {
   "cell_type": "code",
   "execution_count": 137,
   "metadata": {},
   "outputs": [],
   "source": [
    "result = permutation_importance(regressor, \n",
    "                                x_test, \n",
    "                                y_test, \n",
    "                                n_repeats=10,\n",
    "                                random_state=42)\n",
    "# print(result)"
   ]
  },
  {
   "cell_type": "code",
   "execution_count": 138,
   "metadata": {},
   "outputs": [
    {
     "data": {
      "text/html": [
       "<div>\n",
       "<style scoped>\n",
       "    .dataframe tbody tr th:only-of-type {\n",
       "        vertical-align: middle;\n",
       "    }\n",
       "\n",
       "    .dataframe tbody tr th {\n",
       "        vertical-align: top;\n",
       "    }\n",
       "\n",
       "    .dataframe thead th {\n",
       "        text-align: right;\n",
       "    }\n",
       "</style>\n",
       "<table border=\"1\" class=\"dataframe\">\n",
       "  <thead>\n",
       "    <tr style=\"text-align: right;\">\n",
       "      <th></th>\n",
       "      <th>input_variable</th>\n",
       "      <th>feature_importance</th>\n",
       "    </tr>\n",
       "  </thead>\n",
       "  <tbody>\n",
       "    <tr>\n",
       "      <th>1</th>\n",
       "      <td>gender</td>\n",
       "      <td>-0.000400</td>\n",
       "    </tr>\n",
       "    <tr>\n",
       "      <th>7</th>\n",
       "      <td>avg_basket_value</td>\n",
       "      <td>0.000639</td>\n",
       "    </tr>\n",
       "    <tr>\n",
       "      <th>6</th>\n",
       "      <td>product_area_count</td>\n",
       "      <td>0.005867</td>\n",
       "    </tr>\n",
       "    <tr>\n",
       "      <th>4</th>\n",
       "      <td>total_items</td>\n",
       "      <td>0.006627</td>\n",
       "    </tr>\n",
       "    <tr>\n",
       "      <th>5</th>\n",
       "      <td>transaction_count</td>\n",
       "      <td>0.016121</td>\n",
       "    </tr>\n",
       "  </tbody>\n",
       "</table>\n",
       "</div>"
      ],
      "text/plain": [
       "       input_variable  feature_importance\n",
       "1              gender           -0.000400\n",
       "7    avg_basket_value            0.000639\n",
       "6  product_area_count            0.005867\n",
       "4         total_items            0.006627\n",
       "5   transaction_count            0.016121"
      ]
     },
     "execution_count": 138,
     "metadata": {},
     "output_type": "execute_result"
    }
   ],
   "source": [
    "permutation_importance = pd.DataFrame(result['importances_mean'])\n",
    "feature_names = pd.DataFrame(X.columns)\n",
    "permutation_importance_summary = pd.concat([feature_names,permutation_importance],\n",
    "                                       axis = 1)\n",
    "permutation_importance_summary.columns = ['input_variable', 'feature_importance']\n",
    "permutation_importance_summary.sort_values(by='feature_importance',inplace=True)\n",
    "permutation_importance_summary.head()"
   ]
  },
  {
   "cell_type": "code",
   "execution_count": 139,
   "metadata": {},
   "outputs": [
    {
     "data": {
      "image/png": "[encoded data removed]",
      "text/plain": [
       "<Figure size 432x288 with 1 Axes>"
      ]
     },
     "metadata": {
      "needs_background": "light"
     },
     "output_type": "display_data"
    }
   ],
   "source": [
    "plt.barh(permutation_importance_summary['input_variable'],permutation_importance_summary['feature_importance'])\n",
    "plt.title(\"permutations importance of random forest\")\n",
    "plt.xlabel(\"permutations importance\")\n",
    "# plt.ylabel(\"y label\")\n",
    "plt.tight_layout()\n",
    "plt.grid(True)\n",
    "plt.show()"
   ]
  },
  {
   "attachments": {},
   "cell_type": "markdown",
   "metadata": {},
   "source": [
    "We now understand better how our input variables affect the overall model which much of it makes sense. It seems like the distance from the store is a major contributor to the model providing the accruate loyalty score."
   ]
  },
  {
   "attachments": {},
   "cell_type": "markdown",
   "metadata": {},
   "source": [
    "Ok, our accuracy:\n",
    "1. Logistic Regression: 0.754 \n",
    "2. Decision Trees: 0.875\n",
    "3. Random Forest: 0.910\n",
    "\n",
    "So our model is better with random forest and we will go with this model to predict the remaining customer loyalty scores."
   ]
  },
  {
   "cell_type": "code",
   "execution_count": 140,
   "metadata": {},
   "outputs": [
    {
     "name": "stdout",
     "output_type": "stream",
     "text": [
      "0.18437999999999996\n",
      "[distance_from_store       2.800000\n",
      "credit_score              0.410000\n",
      "total_sales            1524.010000\n",
      "total_items             278.000000\n",
      "transaction_count        45.000000\n",
      "product_area_count        3.000000\n",
      "avg_basket_value         33.866889\n",
      "gender_M                  0.000000\n",
      "Name: 0, dtype: float64]\n"
     ]
    }
   ],
   "source": [
    "print(y_pred[0])\n",
    "new_data = [x_test.iloc[0]]\n",
    "print(new_data)\n",
    "# regressor.estimators_"
   ]
  },
  {
   "cell_type": "code",
   "execution_count": 141,
   "metadata": {},
   "outputs": [
    {
     "name": "stdout",
     "output_type": "stream",
     "text": [
      "100\n",
      "[0.209, 0.104, 0.147, 0.334, 0.147, 0.137, 0.086, 0.137, 0.314, 0.147, 0.137, 0.137, 0.137, 0.137, 0.334, 0.137, 0.104, 0.104, 0.313, 0.448, 0.137, 0.268, 0.313, 0.112, 0.147, 0.104, 0.104, 0.313, 0.137, 0.314, 0.104, 0.352, 0.137, 0.137, 0.314, 0.35, 0.209, 0.137, 0.137, 0.137, 0.147, 0.3499999999999999, 0.137, 0.137, 0.512, 0.137, 0.29, 0.137, 0.104, 0.209, 0.104, 0.137, 0.209, 0.137, 0.344, 0.104, 0.633, 0.104, 0.137, 0.352, 0.147, 0.209, 0.194, 0.147, 0.137, 0.137, 0.137, 0.448, 0.137, 0.051, 0.147, 0.147, 0.104, 0.096, 0.096, 0.147, 0.15, 0.147, 0.147, 0.147, 0.141, 0.137, 0.314, 0.113, 0.147, 0.124, 0.418, 0.137, 0.104, 0.209, 0.209, 0.147, 0.147, 0.086, 0.137, 0.137, 0.104, 0.137, 0.137, 0.147]\n"
     ]
    }
   ],
   "source": [
    "predictions = []\n",
    "tree_count = 0\n",
    "for tree in regressor.estimators_:\n",
    "    prediction = tree.predict(new_data)[0]\n",
    "    predictions.append(prediction)\n",
    "    tree_count += 1\n",
    "\n",
    "print(tree_count)\n",
    "print(predictions)"
   ]
  },
  {
   "cell_type": "code",
   "execution_count": 142,
   "metadata": {},
   "outputs": [
    {
     "data": {
      "text/plain": [
       "0.18437999999999996"
      ]
     },
     "execution_count": 142,
     "metadata": {},
     "output_type": "execute_result"
    }
   ],
   "source": [
    "sum(predictions)/tree_count"
   ]
  },
  {
   "cell_type": "code",
   "execution_count": 143,
   "metadata": {},
   "outputs": [],
   "source": [
    "# save our files\n",
    "pickle.dump(regressor,open('Saved_files/Groc_forest_reg_model.p','wb'))\n",
    "pickle.dump(one_hot_encoder,open('Saved_files/Groc_forest_reg_ohe.p','wb'))"
   ]
  },
  {
   "attachments": {},
   "cell_type": "markdown",
   "metadata": {},
   "source": [
    "## Prediction <a name=\"prediction\"></a>"
   ]
  },
  {
   "cell_type": "code",
   "execution_count": 144,
   "metadata": {},
   "outputs": [
    {
     "data": {
      "text/html": [
       "<div>\n",
       "<style scoped>\n",
       "    .dataframe tbody tr th:only-of-type {\n",
       "        vertical-align: middle;\n",
       "    }\n",
       "\n",
       "    .dataframe tbody tr th {\n",
       "        vertical-align: top;\n",
       "    }\n",
       "\n",
       "    .dataframe thead th {\n",
       "        text-align: right;\n",
       "    }\n",
       "</style>\n",
       "<table border=\"1\" class=\"dataframe\">\n",
       "  <thead>\n",
       "    <tr style=\"text-align: right;\">\n",
       "      <th></th>\n",
       "      <th>customer_id</th>\n",
       "      <th>distance_from_store</th>\n",
       "      <th>gender</th>\n",
       "      <th>credit_score</th>\n",
       "      <th>total_sales</th>\n",
       "      <th>total_items</th>\n",
       "      <th>transaction_count</th>\n",
       "      <th>product_area_count</th>\n",
       "      <th>avg_basket_value</th>\n",
       "    </tr>\n",
       "  </thead>\n",
       "  <tbody>\n",
       "    <tr>\n",
       "      <th>6</th>\n",
       "      <td>1</td>\n",
       "      <td>4.78</td>\n",
       "      <td>F</td>\n",
       "      <td>0.66</td>\n",
       "      <td>3980.49</td>\n",
       "      <td>424</td>\n",
       "      <td>51</td>\n",
       "      <td>5</td>\n",
       "      <td>78.048824</td>\n",
       "    </tr>\n",
       "    <tr>\n",
       "      <th>7</th>\n",
       "      <td>120</td>\n",
       "      <td>3.49</td>\n",
       "      <td>F</td>\n",
       "      <td>0.38</td>\n",
       "      <td>2887.20</td>\n",
       "      <td>253</td>\n",
       "      <td>45</td>\n",
       "      <td>5</td>\n",
       "      <td>64.160000</td>\n",
       "    </tr>\n",
       "    <tr>\n",
       "      <th>8</th>\n",
       "      <td>52</td>\n",
       "      <td>14.91</td>\n",
       "      <td>F</td>\n",
       "      <td>0.68</td>\n",
       "      <td>3342.75</td>\n",
       "      <td>335</td>\n",
       "      <td>47</td>\n",
       "      <td>5</td>\n",
       "      <td>71.122340</td>\n",
       "    </tr>\n",
       "    <tr>\n",
       "      <th>10</th>\n",
       "      <td>435</td>\n",
       "      <td>0.25</td>\n",
       "      <td>M</td>\n",
       "      <td>0.62</td>\n",
       "      <td>2326.71</td>\n",
       "      <td>267</td>\n",
       "      <td>48</td>\n",
       "      <td>5</td>\n",
       "      <td>48.473125</td>\n",
       "    </tr>\n",
       "    <tr>\n",
       "      <th>12</th>\n",
       "      <td>679</td>\n",
       "      <td>4.74</td>\n",
       "      <td>F</td>\n",
       "      <td>0.58</td>\n",
       "      <td>3448.59</td>\n",
       "      <td>370</td>\n",
       "      <td>49</td>\n",
       "      <td>5</td>\n",
       "      <td>70.379388</td>\n",
       "    </tr>\n",
       "  </tbody>\n",
       "</table>\n",
       "</div>"
      ],
      "text/plain": [
       "    customer_id  distance_from_store gender  credit_score  total_sales  \\\n",
       "6             1                 4.78      F          0.66      3980.49   \n",
       "7           120                 3.49      F          0.38      2887.20   \n",
       "8            52                14.91      F          0.68      3342.75   \n",
       "10          435                 0.25      M          0.62      2326.71   \n",
       "12          679                 4.74      F          0.58      3448.59   \n",
       "\n",
       "    total_items  transaction_count  product_area_count  avg_basket_value  \n",
       "6           424                 51                   5         78.048824  \n",
       "7           253                 45                   5         64.160000  \n",
       "8           335                 47                   5         71.122340  \n",
       "10          267                 48                   5         48.473125  \n",
       "12          370                 49                   5         70.379388  "
      ]
     },
     "execution_count": 144,
     "metadata": {},
     "output_type": "execute_result"
    }
   ],
   "source": [
    "to_be_scored = pickle.load(open('Saved_files/Groc_regression_scoring.p','rb'))\n",
    "to_be_scored.head()"
   ]
  },
  {
   "cell_type": "code",
   "execution_count": 145,
   "metadata": {},
   "outputs": [
    {
     "name": "stdout",
     "output_type": "stream",
     "text": [
      "RandomForestRegressor(random_state=42)\n"
     ]
    }
   ],
   "source": [
    "regressor = pickle.load(open('Saved_files/Groc_forest_reg_model.p','rb'))\n",
    "print(regressor)"
   ]
  },
  {
   "cell_type": "code",
   "execution_count": 146,
   "metadata": {},
   "outputs": [
    {
     "name": "stdout",
     "output_type": "stream",
     "text": [
      "OneHotEncoder(drop='first', sparse=False, sparse_output=False)\n"
     ]
    }
   ],
   "source": [
    "one_hot_encoder = pickle.load(open('Saved_files/Groc_forest_reg_ohe.p','rb'))\n",
    "print(one_hot_encoder)"
   ]
  },
  {
   "cell_type": "code",
   "execution_count": 147,
   "metadata": {},
   "outputs": [
    {
     "data": {
      "text/plain": [
       "customer_id            0\n",
       "distance_from_store    3\n",
       "gender                 2\n",
       "credit_score           6\n",
       "total_sales            0\n",
       "total_items            0\n",
       "transaction_count      0\n",
       "product_area_count     0\n",
       "avg_basket_value       0\n",
       "dtype: int64"
      ]
     },
     "execution_count": 147,
     "metadata": {},
     "output_type": "execute_result"
    }
   ],
   "source": [
    "to_be_scored.isna().sum()"
   ]
  },
  {
   "cell_type": "code",
   "execution_count": 148,
   "metadata": {},
   "outputs": [
    {
     "data": {
      "text/html": [
       "<div>\n",
       "<style scoped>\n",
       "    .dataframe tbody tr th:only-of-type {\n",
       "        vertical-align: middle;\n",
       "    }\n",
       "\n",
       "    .dataframe tbody tr th {\n",
       "        vertical-align: top;\n",
       "    }\n",
       "\n",
       "    .dataframe thead th {\n",
       "        text-align: right;\n",
       "    }\n",
       "</style>\n",
       "<table border=\"1\" class=\"dataframe\">\n",
       "  <thead>\n",
       "    <tr style=\"text-align: right;\">\n",
       "      <th></th>\n",
       "      <th>customer_id</th>\n",
       "      <th>distance_from_store</th>\n",
       "      <th>gender</th>\n",
       "      <th>credit_score</th>\n",
       "      <th>total_sales</th>\n",
       "      <th>total_items</th>\n",
       "      <th>transaction_count</th>\n",
       "      <th>product_area_count</th>\n",
       "      <th>avg_basket_value</th>\n",
       "    </tr>\n",
       "  </thead>\n",
       "  <tbody>\n",
       "    <tr>\n",
       "      <th>6</th>\n",
       "      <td>1</td>\n",
       "      <td>4.78</td>\n",
       "      <td>F</td>\n",
       "      <td>0.66</td>\n",
       "      <td>3980.49</td>\n",
       "      <td>424</td>\n",
       "      <td>51</td>\n",
       "      <td>5</td>\n",
       "      <td>78.048824</td>\n",
       "    </tr>\n",
       "    <tr>\n",
       "      <th>7</th>\n",
       "      <td>120</td>\n",
       "      <td>3.49</td>\n",
       "      <td>F</td>\n",
       "      <td>0.38</td>\n",
       "      <td>2887.20</td>\n",
       "      <td>253</td>\n",
       "      <td>45</td>\n",
       "      <td>5</td>\n",
       "      <td>64.160000</td>\n",
       "    </tr>\n",
       "    <tr>\n",
       "      <th>8</th>\n",
       "      <td>52</td>\n",
       "      <td>14.91</td>\n",
       "      <td>F</td>\n",
       "      <td>0.68</td>\n",
       "      <td>3342.75</td>\n",
       "      <td>335</td>\n",
       "      <td>47</td>\n",
       "      <td>5</td>\n",
       "      <td>71.122340</td>\n",
       "    </tr>\n",
       "    <tr>\n",
       "      <th>10</th>\n",
       "      <td>435</td>\n",
       "      <td>0.25</td>\n",
       "      <td>M</td>\n",
       "      <td>0.62</td>\n",
       "      <td>2326.71</td>\n",
       "      <td>267</td>\n",
       "      <td>48</td>\n",
       "      <td>5</td>\n",
       "      <td>48.473125</td>\n",
       "    </tr>\n",
       "    <tr>\n",
       "      <th>12</th>\n",
       "      <td>679</td>\n",
       "      <td>4.74</td>\n",
       "      <td>F</td>\n",
       "      <td>0.58</td>\n",
       "      <td>3448.59</td>\n",
       "      <td>370</td>\n",
       "      <td>49</td>\n",
       "      <td>5</td>\n",
       "      <td>70.379388</td>\n",
       "    </tr>\n",
       "  </tbody>\n",
       "</table>\n",
       "</div>"
      ],
      "text/plain": [
       "    customer_id  distance_from_store gender  credit_score  total_sales  \\\n",
       "6             1                 4.78      F          0.66      3980.49   \n",
       "7           120                 3.49      F          0.38      2887.20   \n",
       "8            52                14.91      F          0.68      3342.75   \n",
       "10          435                 0.25      M          0.62      2326.71   \n",
       "12          679                 4.74      F          0.58      3448.59   \n",
       "\n",
       "    total_items  transaction_count  product_area_count  avg_basket_value  \n",
       "6           424                 51                   5         78.048824  \n",
       "7           253                 45                   5         64.160000  \n",
       "8           335                 47                   5         71.122340  \n",
       "10          267                 48                   5         48.473125  \n",
       "12          370                 49                   5         70.379388  "
      ]
     },
     "execution_count": 148,
     "metadata": {},
     "output_type": "execute_result"
    }
   ],
   "source": [
    "to_be_scored.dropna(how = 'any', inplace=True)\n",
    "to_be_scored.head()"
   ]
  },
  {
   "cell_type": "code",
   "execution_count": 149,
   "metadata": {},
   "outputs": [
    {
     "data": {
      "text/html": [
       "<div>\n",
       "<style scoped>\n",
       "    .dataframe tbody tr th:only-of-type {\n",
       "        vertical-align: middle;\n",
       "    }\n",
       "\n",
       "    .dataframe tbody tr th {\n",
       "        vertical-align: top;\n",
       "    }\n",
       "\n",
       "    .dataframe thead th {\n",
       "        text-align: right;\n",
       "    }\n",
       "</style>\n",
       "<table border=\"1\" class=\"dataframe\">\n",
       "  <thead>\n",
       "    <tr style=\"text-align: right;\">\n",
       "      <th></th>\n",
       "      <th>distance_from_store</th>\n",
       "      <th>gender</th>\n",
       "      <th>credit_score</th>\n",
       "      <th>total_sales</th>\n",
       "      <th>total_items</th>\n",
       "      <th>transaction_count</th>\n",
       "      <th>product_area_count</th>\n",
       "      <th>avg_basket_value</th>\n",
       "    </tr>\n",
       "  </thead>\n",
       "  <tbody>\n",
       "    <tr>\n",
       "      <th>6</th>\n",
       "      <td>4.78</td>\n",
       "      <td>F</td>\n",
       "      <td>0.66</td>\n",
       "      <td>3980.49</td>\n",
       "      <td>424</td>\n",
       "      <td>51</td>\n",
       "      <td>5</td>\n",
       "      <td>78.048824</td>\n",
       "    </tr>\n",
       "    <tr>\n",
       "      <th>7</th>\n",
       "      <td>3.49</td>\n",
       "      <td>F</td>\n",
       "      <td>0.38</td>\n",
       "      <td>2887.20</td>\n",
       "      <td>253</td>\n",
       "      <td>45</td>\n",
       "      <td>5</td>\n",
       "      <td>64.160000</td>\n",
       "    </tr>\n",
       "    <tr>\n",
       "      <th>8</th>\n",
       "      <td>14.91</td>\n",
       "      <td>F</td>\n",
       "      <td>0.68</td>\n",
       "      <td>3342.75</td>\n",
       "      <td>335</td>\n",
       "      <td>47</td>\n",
       "      <td>5</td>\n",
       "      <td>71.122340</td>\n",
       "    </tr>\n",
       "    <tr>\n",
       "      <th>10</th>\n",
       "      <td>0.25</td>\n",
       "      <td>M</td>\n",
       "      <td>0.62</td>\n",
       "      <td>2326.71</td>\n",
       "      <td>267</td>\n",
       "      <td>48</td>\n",
       "      <td>5</td>\n",
       "      <td>48.473125</td>\n",
       "    </tr>\n",
       "    <tr>\n",
       "      <th>12</th>\n",
       "      <td>4.74</td>\n",
       "      <td>F</td>\n",
       "      <td>0.58</td>\n",
       "      <td>3448.59</td>\n",
       "      <td>370</td>\n",
       "      <td>49</td>\n",
       "      <td>5</td>\n",
       "      <td>70.379388</td>\n",
       "    </tr>\n",
       "  </tbody>\n",
       "</table>\n",
       "</div>"
      ],
      "text/plain": [
       "    distance_from_store gender  credit_score  total_sales  total_items  \\\n",
       "6                  4.78      F          0.66      3980.49          424   \n",
       "7                  3.49      F          0.38      2887.20          253   \n",
       "8                 14.91      F          0.68      3342.75          335   \n",
       "10                 0.25      M          0.62      2326.71          267   \n",
       "12                 4.74      F          0.58      3448.59          370   \n",
       "\n",
       "    transaction_count  product_area_count  avg_basket_value  \n",
       "6                  51                   5         78.048824  \n",
       "7                  45                   5         64.160000  \n",
       "8                  47                   5         71.122340  \n",
       "10                 48                   5         48.473125  \n",
       "12                 49                   5         70.379388  "
      ]
     },
     "execution_count": 149,
     "metadata": {},
     "output_type": "execute_result"
    }
   ],
   "source": [
    "customer_id = to_be_scored['customer_id']\n",
    "to_be_scored.drop(['customer_id'],axis=1, inplace=True)\n",
    "to_be_scored.head()"
   ]
  },
  {
   "cell_type": "code",
   "execution_count": 150,
   "metadata": {},
   "outputs": [],
   "source": [
    "categorical_vars = [\"gender\"]"
   ]
  },
  {
   "cell_type": "code",
   "execution_count": 151,
   "metadata": {},
   "outputs": [
    {
     "name": "stdout",
     "output_type": "stream",
     "text": [
      "(463, 1)\n"
     ]
    }
   ],
   "source": [
    "# fit and transform on the training and only the transform on the test\n",
    "# we do this because we want the encoding rules to be learned from the \n",
    "# training data and then applied to the new data \n",
    "encoded_vars_array = one_hot_encoder.transform(to_be_scored[categorical_vars])\n",
    "print(encoded_vars_array.shape)"
   ]
  },
  {
   "cell_type": "code",
   "execution_count": 152,
   "metadata": {},
   "outputs": [],
   "source": [
    "encoder_feature_names = one_hot_encoder.get_feature_names_out(categorical_vars)"
   ]
  },
  {
   "cell_type": "code",
   "execution_count": 153,
   "metadata": {},
   "outputs": [
    {
     "name": "stdout",
     "output_type": "stream",
     "text": [
      "(463, 8)\n",
      "   distance_from_store  credit_score  total_sales  total_items  \\\n",
      "0                 4.78          0.66      3980.49          424   \n",
      "1                 3.49          0.38      2887.20          253   \n",
      "2                14.91          0.68      3342.75          335   \n",
      "3                 0.25          0.62      2326.71          267   \n",
      "4                 4.74          0.58      3448.59          370   \n",
      "\n",
      "   transaction_count  product_area_count  avg_basket_value  gender_M  \n",
      "0                 51                   5         78.048824       0.0  \n",
      "1                 45                   5         64.160000       0.0  \n",
      "2                 47                   5         71.122340       0.0  \n",
      "3                 48                   5         48.473125       1.0  \n",
      "4                 49                   5         70.379388       0.0  \n"
     ]
    }
   ],
   "source": [
    "encoded_vars_array_df = pd.DataFrame(encoded_vars_array,\n",
    "                               columns=encoder_feature_names)\n",
    "to_be_scored = pd.concat([to_be_scored.reset_index(drop=True),\n",
    "                   encoded_vars_array_df.reset_index(drop=True)], \n",
    "                   axis=1)\n",
    "# reset index to ensure no rows are not aligned\n",
    "# drop the original input 2 and 3\n",
    "to_be_scored.drop(categorical_vars, axis=1,inplace=True)\n",
    "print(to_be_scored.shape)\n",
    "print(to_be_scored.head())"
   ]
  },
  {
   "cell_type": "code",
   "execution_count": 154,
   "metadata": {},
   "outputs": [],
   "source": [
    "loyalty_predictions = regressor.predict(to_be_scored)\n",
    "# print(loyalty_predictions)"
   ]
  },
  {
   "cell_type": "code",
   "execution_count": 155,
   "metadata": {},
   "outputs": [
    {
     "data": {
      "text/html": [
       "<div>\n",
       "<style scoped>\n",
       "    .dataframe tbody tr th:only-of-type {\n",
       "        vertical-align: middle;\n",
       "    }\n",
       "\n",
       "    .dataframe tbody tr th {\n",
       "        vertical-align: top;\n",
       "    }\n",
       "\n",
       "    .dataframe thead th {\n",
       "        text-align: right;\n",
       "    }\n",
       "</style>\n",
       "<table border=\"1\" class=\"dataframe\">\n",
       "  <thead>\n",
       "    <tr style=\"text-align: right;\">\n",
       "      <th></th>\n",
       "      <th>Loyalty_scores_pred</th>\n",
       "    </tr>\n",
       "  </thead>\n",
       "  <tbody>\n",
       "    <tr>\n",
       "      <th>0</th>\n",
       "      <td>0.39498</td>\n",
       "    </tr>\n",
       "    <tr>\n",
       "      <th>1</th>\n",
       "      <td>0.34691</td>\n",
       "    </tr>\n",
       "    <tr>\n",
       "      <th>2</th>\n",
       "      <td>0.33444</td>\n",
       "    </tr>\n",
       "    <tr>\n",
       "      <th>3</th>\n",
       "      <td>0.95559</td>\n",
       "    </tr>\n",
       "    <tr>\n",
       "      <th>4</th>\n",
       "      <td>0.36253</td>\n",
       "    </tr>\n",
       "  </tbody>\n",
       "</table>\n",
       "</div>"
      ],
      "text/plain": [
       "   Loyalty_scores_pred\n",
       "0              0.39498\n",
       "1              0.34691\n",
       "2              0.33444\n",
       "3              0.95559\n",
       "4              0.36253"
      ]
     },
     "execution_count": 155,
     "metadata": {},
     "output_type": "execute_result"
    }
   ],
   "source": [
    "customer_to_score = pd.DataFrame(loyalty_predictions, columns=['Loyalty_scores_pred'], index=None)\n",
    "customer_to_score.head()"
   ]
  },
  {
   "cell_type": "code",
   "execution_count": 156,
   "metadata": {},
   "outputs": [
    {
     "data": {
      "text/html": [
       "<div>\n",
       "<style scoped>\n",
       "    .dataframe tbody tr th:only-of-type {\n",
       "        vertical-align: middle;\n",
       "    }\n",
       "\n",
       "    .dataframe tbody tr th {\n",
       "        vertical-align: top;\n",
       "    }\n",
       "\n",
       "    .dataframe thead th {\n",
       "        text-align: right;\n",
       "    }\n",
       "</style>\n",
       "<table border=\"1\" class=\"dataframe\">\n",
       "  <thead>\n",
       "    <tr style=\"text-align: right;\">\n",
       "      <th></th>\n",
       "      <th>customer_id</th>\n",
       "    </tr>\n",
       "  </thead>\n",
       "  <tbody>\n",
       "    <tr>\n",
       "      <th>0</th>\n",
       "      <td>1</td>\n",
       "    </tr>\n",
       "    <tr>\n",
       "      <th>1</th>\n",
       "      <td>120</td>\n",
       "    </tr>\n",
       "    <tr>\n",
       "      <th>2</th>\n",
       "      <td>52</td>\n",
       "    </tr>\n",
       "    <tr>\n",
       "      <th>3</th>\n",
       "      <td>435</td>\n",
       "    </tr>\n",
       "    <tr>\n",
       "      <th>4</th>\n",
       "      <td>679</td>\n",
       "    </tr>\n",
       "  </tbody>\n",
       "</table>\n",
       "</div>"
      ],
      "text/plain": [
       "   customer_id\n",
       "0            1\n",
       "1          120\n",
       "2           52\n",
       "3          435\n",
       "4          679"
      ]
     },
     "execution_count": 156,
     "metadata": {},
     "output_type": "execute_result"
    }
   ],
   "source": [
    "customer_id = pd.DataFrame(customer_id,columns=['customer_id']).reset_index(drop=True)\n",
    "customer_id.head()"
   ]
  },
  {
   "cell_type": "code",
   "execution_count": 157,
   "metadata": {},
   "outputs": [
    {
     "data": {
      "text/html": [
       "<div>\n",
       "<style scoped>\n",
       "    .dataframe tbody tr th:only-of-type {\n",
       "        vertical-align: middle;\n",
       "    }\n",
       "\n",
       "    .dataframe tbody tr th {\n",
       "        vertical-align: top;\n",
       "    }\n",
       "\n",
       "    .dataframe thead th {\n",
       "        text-align: right;\n",
       "    }\n",
       "</style>\n",
       "<table border=\"1\" class=\"dataframe\">\n",
       "  <thead>\n",
       "    <tr style=\"text-align: right;\">\n",
       "      <th></th>\n",
       "      <th>Loyalty_scores_pred</th>\n",
       "      <th>customer_id</th>\n",
       "    </tr>\n",
       "  </thead>\n",
       "  <tbody>\n",
       "    <tr>\n",
       "      <th>0</th>\n",
       "      <td>0.39498</td>\n",
       "      <td>1</td>\n",
       "    </tr>\n",
       "    <tr>\n",
       "      <th>1</th>\n",
       "      <td>0.34691</td>\n",
       "      <td>120</td>\n",
       "    </tr>\n",
       "    <tr>\n",
       "      <th>2</th>\n",
       "      <td>0.33444</td>\n",
       "      <td>52</td>\n",
       "    </tr>\n",
       "    <tr>\n",
       "      <th>3</th>\n",
       "      <td>0.95559</td>\n",
       "      <td>435</td>\n",
       "    </tr>\n",
       "    <tr>\n",
       "      <th>4</th>\n",
       "      <td>0.36253</td>\n",
       "      <td>679</td>\n",
       "    </tr>\n",
       "    <tr>\n",
       "      <th>5</th>\n",
       "      <td>0.96008</td>\n",
       "      <td>182</td>\n",
       "    </tr>\n",
       "    <tr>\n",
       "      <th>6</th>\n",
       "      <td>0.38838</td>\n",
       "      <td>426</td>\n",
       "    </tr>\n",
       "    <tr>\n",
       "      <th>7</th>\n",
       "      <td>0.74898</td>\n",
       "      <td>560</td>\n",
       "    </tr>\n",
       "    <tr>\n",
       "      <th>8</th>\n",
       "      <td>0.29819</td>\n",
       "      <td>476</td>\n",
       "    </tr>\n",
       "  </tbody>\n",
       "</table>\n",
       "</div>"
      ],
      "text/plain": [
       "   Loyalty_scores_pred  customer_id\n",
       "0              0.39498            1\n",
       "1              0.34691          120\n",
       "2              0.33444           52\n",
       "3              0.95559          435\n",
       "4              0.36253          679\n",
       "5              0.96008          182\n",
       "6              0.38838          426\n",
       "7              0.74898          560\n",
       "8              0.29819          476"
      ]
     },
     "execution_count": 157,
     "metadata": {},
     "output_type": "execute_result"
    }
   ],
   "source": [
    "customer_to_score[\"customer_id\"] = customer_id\n",
    "customer_to_score.head(9)"
   ]
  },
  {
   "attachments": {},
   "cell_type": "markdown",
   "metadata": {},
   "source": [
    "We finally were able to get our model predictions for the 50% remaining customers loyalty score as seen above. This is great news to tell the store!"
   ]
  }
 ],
 "metadata": {
  "kernelspec": {
   "display_name": "Python 3",
   "language": "python",
   "name": "python3"
  },
  "language_info": {
   "codemirror_mode": {
    "name": "ipython",
    "version": 3
   },
   "file_extension": ".py",
   "mimetype": "text/x-python",
   "name": "python",
   "nbconvert_exporter": "python",
   "pygments_lexer": "ipython3",
   "version": "3.9.7"
  },
  "orig_nbformat": 4
 },
 "nbformat": 4,
 "nbformat_minor": 2
}
