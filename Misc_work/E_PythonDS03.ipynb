{
 "cells": [
  {
   "attachments": {},
   "cell_type": "markdown",
   "metadata": {},
   "source": [
    "## any pandas stuff i didnt know"
   ]
  },
  {
   "cell_type": "code",
   "execution_count": 45,
   "metadata": {},
   "outputs": [],
   "source": [
    "import pandas as pd"
   ]
  },
  {
   "attachments": {},
   "cell_type": "markdown",
   "metadata": {},
   "source": [
    "## Exploring & Understanding DataFrame Data"
   ]
  },
  {
   "cell_type": "code",
   "execution_count": 46,
   "metadata": {},
   "outputs": [],
   "source": [
    "data_path = \"C:/Users/eacalder/Documents/Education/DataScienceInfinity/Leasson_Downloads/E_PythonDS03grocery_database.xlsx\"\n",
    "\n",
    "data = pd.read_excel(data_path, sheet_name=\"transactions\")"
   ]
  },
  {
   "cell_type": "code",
   "execution_count": 53,
   "metadata": {},
   "outputs": [
    {
     "name": "stdout",
     "output_type": "stream",
     "text": [
      "       customer_id transaction_date  transaction_id  product_area_id  \\\n",
      "13077          286       2020-04-20    435751030577                1   \n",
      "32025          727       2020-04-03    435586786766                1   \n",
      "7450           157       2020-08-28    437054590241                2   \n",
      "37090          841       2020-05-29    436149099095                2   \n",
      "32247          731       2020-05-25    436109291592                1   \n",
      "...            ...              ...             ...              ...   \n",
      "37176          842       2020-09-27    437356726268                3   \n",
      "32774          744       2020-07-30    436766351117                1   \n",
      "25543          576       2020-07-06    436522718074                3   \n",
      "33840          768       2020-08-30    437074990810                4   \n",
      "9142           199       2020-06-11    436279880062                5   \n",
      "\n",
      "       num_items  sales_cost  \n",
      "13077          6      125.43  \n",
      "32025          5       93.61  \n",
      "7450           7       21.83  \n",
      "37090         16       35.47  \n",
      "32247          2       42.12  \n",
      "...          ...         ...  \n",
      "37176          5       10.08  \n",
      "32774          5      108.98  \n",
      "25543         12       56.19  \n",
      "33840          1        7.62  \n",
      "9142           2       38.28  \n",
      "\n",
      "[3851 rows x 6 columns]\n"
     ]
    },
    {
     "data": {
      "text/html": [
       "<div>\n",
       "<style scoped>\n",
       "    .dataframe tbody tr th:only-of-type {\n",
       "        vertical-align: middle;\n",
       "    }\n",
       "\n",
       "    .dataframe tbody tr th {\n",
       "        vertical-align: top;\n",
       "    }\n",
       "\n",
       "    .dataframe thead th {\n",
       "        text-align: right;\n",
       "    }\n",
       "</style>\n",
       "<table border=\"1\" class=\"dataframe\">\n",
       "  <thead>\n",
       "    <tr style=\"text-align: right;\">\n",
       "      <th></th>\n",
       "      <th>customer_id</th>\n",
       "      <th>transaction_id</th>\n",
       "      <th>product_area_id</th>\n",
       "      <th>num_items</th>\n",
       "      <th>sales_cost</th>\n",
       "    </tr>\n",
       "  </thead>\n",
       "  <tbody>\n",
       "    <tr>\n",
       "      <th>count</th>\n",
       "      <td>38506.000000</td>\n",
       "      <td>3.850600e+04</td>\n",
       "      <td>38506.000000</td>\n",
       "      <td>38506.000000</td>\n",
       "      <td>38506.000000</td>\n",
       "    </tr>\n",
       "    <tr>\n",
       "      <th>mean</th>\n",
       "      <td>429.884252</td>\n",
       "      <td>4.364726e+11</td>\n",
       "      <td>2.888303</td>\n",
       "      <td>6.190672</td>\n",
       "      <td>40.246398</td>\n",
       "    </tr>\n",
       "    <tr>\n",
       "      <th>std</th>\n",
       "      <td>255.218578</td>\n",
       "      <td>5.289576e+08</td>\n",
       "      <td>1.360284</td>\n",
       "      <td>5.961531</td>\n",
       "      <td>54.597118</td>\n",
       "    </tr>\n",
       "    <tr>\n",
       "      <th>min</th>\n",
       "      <td>1.000000</td>\n",
       "      <td>4.355612e+11</td>\n",
       "      <td>1.000000</td>\n",
       "      <td>1.000000</td>\n",
       "      <td>0.000000</td>\n",
       "    </tr>\n",
       "    <tr>\n",
       "      <th>25%</th>\n",
       "      <td>209.000000</td>\n",
       "      <td>4.360164e+11</td>\n",
       "      <td>2.000000</td>\n",
       "      <td>2.000000</td>\n",
       "      <td>11.420000</td>\n",
       "    </tr>\n",
       "    <tr>\n",
       "      <th>50%</th>\n",
       "      <td>422.000000</td>\n",
       "      <td>4.364727e+11</td>\n",
       "      <td>3.000000</td>\n",
       "      <td>4.000000</td>\n",
       "      <td>23.180000</td>\n",
       "    </tr>\n",
       "    <tr>\n",
       "      <th>75%</th>\n",
       "      <td>656.000000</td>\n",
       "      <td>4.369285e+11</td>\n",
       "      <td>4.000000</td>\n",
       "      <td>8.000000</td>\n",
       "      <td>45.980000</td>\n",
       "    </tr>\n",
       "    <tr>\n",
       "      <th>max</th>\n",
       "      <td>870.000000</td>\n",
       "      <td>4.373898e+11</td>\n",
       "      <td>5.000000</td>\n",
       "      <td>310.000000</td>\n",
       "      <td>669.340000</td>\n",
       "    </tr>\n",
       "  </tbody>\n",
       "</table>\n",
       "</div>"
      ],
      "text/plain": [
       "        customer_id  transaction_id  product_area_id     num_items  \\\n",
       "count  38506.000000    3.850600e+04     38506.000000  38506.000000   \n",
       "mean     429.884252    4.364726e+11         2.888303      6.190672   \n",
       "std      255.218578    5.289576e+08         1.360284      5.961531   \n",
       "min        1.000000    4.355612e+11         1.000000      1.000000   \n",
       "25%      209.000000    4.360164e+11         2.000000      2.000000   \n",
       "50%      422.000000    4.364727e+11         3.000000      4.000000   \n",
       "75%      656.000000    4.369285e+11         4.000000      8.000000   \n",
       "max      870.000000    4.373898e+11         5.000000    310.000000   \n",
       "\n",
       "         sales_cost  \n",
       "count  38506.000000  \n",
       "mean      40.246398  \n",
       "std       54.597118  \n",
       "min        0.000000  \n",
       "25%       11.420000  \n",
       "50%       23.180000  \n",
       "75%       45.980000  \n",
       "max      669.340000  "
      ]
     },
     "execution_count": 53,
     "metadata": {},
     "output_type": "execute_result"
    }
   ],
   "source": [
    "data.shape\n",
    "data.head()\n",
    "data.tail()\n",
    "# rows at randmom\n",
    "data.sample(10)\n",
    "\n",
    "sample = data.sample(frac = .1)\n",
    "print(sample)\n",
    "\n",
    "data.describe()\n",
    "\n"
   ]
  },
  {
   "cell_type": "code",
   "execution_count": 55,
   "metadata": {},
   "outputs": [
    {
     "data": {
      "text/html": [
       "<div>\n",
       "<style scoped>\n",
       "    .dataframe tbody tr th:only-of-type {\n",
       "        vertical-align: middle;\n",
       "    }\n",
       "\n",
       "    .dataframe tbody tr th {\n",
       "        vertical-align: top;\n",
       "    }\n",
       "\n",
       "    .dataframe thead th {\n",
       "        text-align: right;\n",
       "    }\n",
       "</style>\n",
       "<table border=\"1\" class=\"dataframe\">\n",
       "  <thead>\n",
       "    <tr style=\"text-align: right;\">\n",
       "      <th></th>\n",
       "      <th>customer_id</th>\n",
       "      <th>transaction_date</th>\n",
       "      <th>transaction_id</th>\n",
       "      <th>product_area_id</th>\n",
       "      <th>num_items</th>\n",
       "      <th>sales_cost</th>\n",
       "    </tr>\n",
       "  </thead>\n",
       "  <tbody>\n",
       "    <tr>\n",
       "      <th>10443</th>\n",
       "      <td>224</td>\n",
       "      <td>2020-07-22</td>\n",
       "      <td>436683121376</td>\n",
       "      <td>1</td>\n",
       "      <td>27</td>\n",
       "      <td>669.34</td>\n",
       "    </tr>\n",
       "    <tr>\n",
       "      <th>1367</th>\n",
       "      <td>27</td>\n",
       "      <td>2020-08-31</td>\n",
       "      <td>437085904531</td>\n",
       "      <td>1</td>\n",
       "      <td>27</td>\n",
       "      <td>639.22</td>\n",
       "    </tr>\n",
       "    <tr>\n",
       "      <th>491</th>\n",
       "      <td>10</td>\n",
       "      <td>2020-09-29</td>\n",
       "      <td>437372244148</td>\n",
       "      <td>1</td>\n",
       "      <td>26</td>\n",
       "      <td>630.88</td>\n",
       "    </tr>\n",
       "    <tr>\n",
       "      <th>26319</th>\n",
       "      <td>593</td>\n",
       "      <td>2020-09-04</td>\n",
       "      <td>437126622541</td>\n",
       "      <td>1</td>\n",
       "      <td>24</td>\n",
       "      <td>611.83</td>\n",
       "    </tr>\n",
       "    <tr>\n",
       "      <th>32232</th>\n",
       "      <td>731</td>\n",
       "      <td>2020-04-29</td>\n",
       "      <td>435847289476</td>\n",
       "      <td>1</td>\n",
       "      <td>27</td>\n",
       "      <td>600.48</td>\n",
       "    </tr>\n",
       "  </tbody>\n",
       "</table>\n",
       "</div>"
      ],
      "text/plain": [
       "       customer_id transaction_date  transaction_id  product_area_id  \\\n",
       "10443          224       2020-07-22    436683121376                1   \n",
       "1367            27       2020-08-31    437085904531                1   \n",
       "491             10       2020-09-29    437372244148                1   \n",
       "26319          593       2020-09-04    437126622541                1   \n",
       "32232          731       2020-04-29    435847289476                1   \n",
       "\n",
       "       num_items  sales_cost  \n",
       "10443         27      669.34  \n",
       "1367          27      639.22  \n",
       "491           26      630.88  \n",
       "26319         24      611.83  \n",
       "32232         27      600.48  "
      ]
     },
     "execution_count": 55,
     "metadata": {},
     "output_type": "execute_result"
    }
   ],
   "source": [
    "data.nlargest(5,\"sales_cost\")"
   ]
  },
  {
   "cell_type": "code",
   "execution_count": 56,
   "metadata": {},
   "outputs": [
    {
     "data": {
      "text/html": [
       "<div>\n",
       "<style scoped>\n",
       "    .dataframe tbody tr th:only-of-type {\n",
       "        vertical-align: middle;\n",
       "    }\n",
       "\n",
       "    .dataframe tbody tr th {\n",
       "        vertical-align: top;\n",
       "    }\n",
       "\n",
       "    .dataframe thead th {\n",
       "        text-align: right;\n",
       "    }\n",
       "</style>\n",
       "<table border=\"1\" class=\"dataframe\">\n",
       "  <thead>\n",
       "    <tr style=\"text-align: right;\">\n",
       "      <th></th>\n",
       "      <th>customer_id</th>\n",
       "      <th>transaction_date</th>\n",
       "      <th>transaction_id</th>\n",
       "      <th>product_area_id</th>\n",
       "      <th>num_items</th>\n",
       "      <th>sales_cost</th>\n",
       "    </tr>\n",
       "  </thead>\n",
       "  <tbody>\n",
       "    <tr>\n",
       "      <th>14935</th>\n",
       "      <td>326</td>\n",
       "      <td>2020-09-07</td>\n",
       "      <td>437152966988</td>\n",
       "      <td>2</td>\n",
       "      <td>3</td>\n",
       "      <td>0.00</td>\n",
       "    </tr>\n",
       "    <tr>\n",
       "      <th>17926</th>\n",
       "      <td>392</td>\n",
       "      <td>2020-08-01</td>\n",
       "      <td>436789522435</td>\n",
       "      <td>2</td>\n",
       "      <td>6</td>\n",
       "      <td>0.00</td>\n",
       "    </tr>\n",
       "    <tr>\n",
       "      <th>19864</th>\n",
       "      <td>435</td>\n",
       "      <td>2020-04-26</td>\n",
       "      <td>435811839549</td>\n",
       "      <td>2</td>\n",
       "      <td>1</td>\n",
       "      <td>0.00</td>\n",
       "    </tr>\n",
       "    <tr>\n",
       "      <th>35057</th>\n",
       "      <td>796</td>\n",
       "      <td>2020-06-18</td>\n",
       "      <td>436342092911</td>\n",
       "      <td>2</td>\n",
       "      <td>7</td>\n",
       "      <td>0.00</td>\n",
       "    </tr>\n",
       "    <tr>\n",
       "      <th>10933</th>\n",
       "      <td>236</td>\n",
       "      <td>2020-05-06</td>\n",
       "      <td>435916318917</td>\n",
       "      <td>2</td>\n",
       "      <td>2</td>\n",
       "      <td>0.01</td>\n",
       "    </tr>\n",
       "  </tbody>\n",
       "</table>\n",
       "</div>"
      ],
      "text/plain": [
       "       customer_id transaction_date  transaction_id  product_area_id  \\\n",
       "14935          326       2020-09-07    437152966988                2   \n",
       "17926          392       2020-08-01    436789522435                2   \n",
       "19864          435       2020-04-26    435811839549                2   \n",
       "35057          796       2020-06-18    436342092911                2   \n",
       "10933          236       2020-05-06    435916318917                2   \n",
       "\n",
       "       num_items  sales_cost  \n",
       "14935          3        0.00  \n",
       "17926          6        0.00  \n",
       "19864          1        0.00  \n",
       "35057          7        0.00  \n",
       "10933          2        0.01  "
      ]
     },
     "execution_count": 56,
     "metadata": {},
     "output_type": "execute_result"
    }
   ],
   "source": [
    "data.nsmallest(5,\"sales_cost\")"
   ]
  },
  {
   "cell_type": "code",
   "execution_count": 58,
   "metadata": {},
   "outputs": [
    {
     "data": {
      "text/plain": [
       "customer_id           870\n",
       "transaction_date      183\n",
       "transaction_id      18160\n",
       "product_area_id         5\n",
       "num_items              59\n",
       "sales_cost          10986\n",
       "dtype: int64"
      ]
     },
     "execution_count": 58,
     "metadata": {},
     "output_type": "execute_result"
    }
   ],
   "source": [
    "data.nunique()"
   ]
  },
  {
   "cell_type": "code",
   "execution_count": 61,
   "metadata": {},
   "outputs": [
    {
     "data": {
      "text/plain": [
       "customer_id            0\n",
       "distance_from_store    5\n",
       "gender                 5\n",
       "credit_score           8\n",
       "dtype: int64"
      ]
     },
     "execution_count": 61,
     "metadata": {},
     "output_type": "execute_result"
    }
   ],
   "source": [
    "customer_details = pd.read_excel(data_path, sheet_name=\"customer_details\")\n",
    "\n",
    "customer_details.isna().sum()"
   ]
  },
  {
   "attachments": {},
   "cell_type": "markdown",
   "metadata": {},
   "source": [
    "## Accessing Specific Columns In Our DataFrame"
   ]
  },
  {
   "cell_type": "code",
   "execution_count": 62,
   "metadata": {},
   "outputs": [],
   "source": [
    "transactions = pd.read_excel(data_path, sheet_name=\"transactions\")"
   ]
  },
  {
   "cell_type": "code",
   "execution_count": 70,
   "metadata": {},
   "outputs": [
    {
     "name": "stdout",
     "output_type": "stream",
     "text": [
      "0          1\n",
      "1          1\n",
      "2          1\n",
      "3          1\n",
      "4          1\n",
      "        ... \n",
      "38501    870\n",
      "38502    870\n",
      "38503    870\n",
      "38504    870\n",
      "38505    870\n",
      "Name: customer_id, Length: 38506, dtype: int64\n",
      "0          1\n",
      "1          1\n",
      "2          1\n",
      "3          1\n",
      "4          1\n",
      "        ... \n",
      "38501    870\n",
      "38502    870\n",
      "38503    870\n",
      "38504    870\n",
      "38505    870\n",
      "Name: customer_id, Length: 38506, dtype: int64\n",
      "       customer_id\n",
      "0                1\n",
      "1                1\n",
      "2                1\n",
      "3                1\n",
      "4                1\n",
      "...            ...\n",
      "38501          870\n",
      "38502          870\n",
      "38503          870\n",
      "38504          870\n",
      "38505          870\n",
      "\n",
      "[38506 rows x 1 columns]\n",
      "       customer_id  sales_cost\n",
      "0                1       19.16\n",
      "1                1        7.71\n",
      "2                1       26.97\n",
      "3                1       38.52\n",
      "4                1       22.13\n",
      "...            ...         ...\n",
      "38501          870       51.61\n",
      "38502          870       33.77\n",
      "38503          870       23.46\n",
      "38504          870       18.52\n",
      "38505          870        2.63\n",
      "\n",
      "[38506 rows x 2 columns]\n"
     ]
    }
   ],
   "source": [
    "transactions.head()\n",
    "\n",
    "# not the best approach\n",
    "newdf = transactions.customer_id\n",
    "print(newdf)\n",
    "\n",
    "myvar = \"customer_id\"\n",
    "\n",
    "newdf = transactions[\"customer_id\"]\n",
    "print(transactions[myvar])\n",
    "\n",
    "# Better\n",
    "new_df = transactions[[\"customer_id\"]]\n",
    "print(new_df)\n",
    "\n",
    "new_df = transactions[[\"customer_id\",\"sales_cost\"]]\n",
    "print(new_df)\n"
   ]
  },
  {
   "attachments": {},
   "cell_type": "markdown",
   "metadata": {},
   "source": [
    "## Adding & Dropping Columns In Our DataFrame"
   ]
  },
  {
   "cell_type": "code",
   "execution_count": 78,
   "metadata": {},
   "outputs": [
    {
     "name": "stdout",
     "output_type": "stream",
     "text": [
      "   customer_id transaction_date  transaction_id  product_area_id  num_items  \\\n",
      "0            1       2020-04-10    435657533999                3          7   \n",
      "1            1       2020-04-10    435657533999                2          5   \n",
      "2            1       2020-06-02    436189770685                4          4   \n",
      "3            1       2020-06-02    436189770685                1          2   \n",
      "4            1       2020-06-10    436265380298                4          4   \n",
      "\n",
      "   sales_cost  store_is  profit sales_type  \n",
      "0       19.16         1   3.832     Medium  \n",
      "1        7.71         1   1.542      Small  \n",
      "2       26.97         1   5.394      Large  \n",
      "3       38.52         1   7.704      Large  \n",
      "4       22.13         1   4.426      Large  \n",
      "   customer_id transaction_date  transaction_id  product_area_id  num_items  \\\n",
      "0            1       2020-04-10    435657533999                3          7   \n",
      "1            1       2020-04-10    435657533999                2          5   \n",
      "2            1       2020-06-02    436189770685                4          4   \n",
      "3            1       2020-06-02    436189770685                1          2   \n",
      "4            1       2020-06-10    436265380298                4          4   \n",
      "\n",
      "   sales_cost  store_is  profit sales_type  \n",
      "0       19.16         1   3.832      Small  \n",
      "1        7.71         1   1.542      Small  \n",
      "2       26.97         1   5.394      Large  \n",
      "3       38.52         1   7.704      Large  \n",
      "4       22.13         1   4.426      Large  \n",
      "   customer_id transaction_date  transaction_id  product_area_id  num_items  \\\n",
      "0            1       2020-04-10    435657533999                3          7   \n",
      "1            1       2020-04-10    435657533999                2          5   \n",
      "2            1       2020-06-02    436189770685                4          4   \n",
      "3            1       2020-06-02    436189770685                1          2   \n",
      "4            1       2020-06-10    436265380298                4          4   \n",
      "\n",
      "   sales_cost  store_is  profit sales_type  \n",
      "0       19.16         1   3.832     Medium  \n",
      "1        7.71         1   1.542      Small  \n",
      "2       26.97         1   5.394      Large  \n",
      "3       38.52         1   7.704      Large  \n",
      "4       22.13         1   4.426      Large  \n",
      "   customer_id transaction_date  transaction_id  product_area_id  num_items  \\\n",
      "0            1       2020-04-10    435657533999                3          7   \n",
      "1            1       2020-04-10    435657533999                2          5   \n",
      "2            1       2020-06-02    436189770685                4          4   \n",
      "3            1       2020-06-02    436189770685                1          2   \n",
      "4            1       2020-06-10    436265380298                4          4   \n",
      "\n",
      "   store_is  profit sales_type  \n",
      "0         1   3.832     Medium  \n",
      "1         1   1.542      Small  \n",
      "2         1   5.394      Large  \n",
      "3         1   7.704      Large  \n",
      "4         1   4.426      Large  \n"
     ]
    }
   ],
   "source": [
    "import numpy as np\n",
    "transactions.head()\n",
    "\n",
    "transactions[\"store_is\"] = 1\n",
    "transactions.head()\n",
    "transactions[\"profit\"] = transactions[\"sales_cost\"] * .2\n",
    "print(transactions.head())\n",
    "\n",
    "transactions[\"sales_type\"] = np.where(transactions[\"sales_cost\"] > 20, \"Large\", \"Small\")\n",
    "\n",
    "print(transactions.head())\n",
    "\n",
    "condition_rules = [transactions[\"sales_cost\"] > 50,transactions[\"sales_cost\"] > 20,transactions[\"sales_cost\"] > 10]\n",
    "outcomes = [\"X-Large\", \"Large\", \"Medium\"]\n",
    "\n",
    "transactions[\"sales_type\"] = np.select(condition_rules, outcomes, default = \"Small\")\n",
    "\n",
    "print(transactions.head())\n",
    "\n",
    "\n",
    "new_df = transactions.drop([\"sales_cost\"], axis = 1)\n",
    "print(new_df.head())"
   ]
  },
  {
   "attachments": {},
   "cell_type": "markdown",
   "metadata": {},
   "source": [
    "##  Adding Columns Using Map, Replace, And Apply"
   ]
  },
  {
   "cell_type": "code",
   "execution_count": 80,
   "metadata": {},
   "outputs": [],
   "source": [
    "customer_details.head()\n",
    "product_areas = pd.read_excel(data_path, sheet_name=\"product_areas\")"
   ]
  },
  {
   "cell_type": "code",
   "execution_count": 82,
   "metadata": {},
   "outputs": [
    {
     "data": {
      "text/html": [
       "<div>\n",
       "<style scoped>\n",
       "    .dataframe tbody tr th:only-of-type {\n",
       "        vertical-align: middle;\n",
       "    }\n",
       "\n",
       "    .dataframe tbody tr th {\n",
       "        vertical-align: top;\n",
       "    }\n",
       "\n",
       "    .dataframe thead th {\n",
       "        text-align: right;\n",
       "    }\n",
       "</style>\n",
       "<table border=\"1\" class=\"dataframe\">\n",
       "  <thead>\n",
       "    <tr style=\"text-align: right;\">\n",
       "      <th></th>\n",
       "      <th>customer_id</th>\n",
       "      <th>distance_from_store</th>\n",
       "      <th>gender</th>\n",
       "      <th>credit_score</th>\n",
       "      <th>gender_numeric</th>\n",
       "    </tr>\n",
       "  </thead>\n",
       "  <tbody>\n",
       "    <tr>\n",
       "      <th>0</th>\n",
       "      <td>74</td>\n",
       "      <td>3.38</td>\n",
       "      <td>F</td>\n",
       "      <td>0.59</td>\n",
       "      <td>1.0</td>\n",
       "    </tr>\n",
       "    <tr>\n",
       "      <th>1</th>\n",
       "      <td>524</td>\n",
       "      <td>4.76</td>\n",
       "      <td>F</td>\n",
       "      <td>0.52</td>\n",
       "      <td>1.0</td>\n",
       "    </tr>\n",
       "    <tr>\n",
       "      <th>2</th>\n",
       "      <td>607</td>\n",
       "      <td>4.45</td>\n",
       "      <td>F</td>\n",
       "      <td>0.49</td>\n",
       "      <td>1.0</td>\n",
       "    </tr>\n",
       "    <tr>\n",
       "      <th>3</th>\n",
       "      <td>343</td>\n",
       "      <td>0.91</td>\n",
       "      <td>M</td>\n",
       "      <td>0.54</td>\n",
       "      <td>NaN</td>\n",
       "    </tr>\n",
       "    <tr>\n",
       "      <th>4</th>\n",
       "      <td>322</td>\n",
       "      <td>3.02</td>\n",
       "      <td>F</td>\n",
       "      <td>0.63</td>\n",
       "      <td>1.0</td>\n",
       "    </tr>\n",
       "  </tbody>\n",
       "</table>\n",
       "</div>"
      ],
      "text/plain": [
       "   customer_id  distance_from_store gender  credit_score  gender_numeric\n",
       "0           74                 3.38      F          0.59             1.0\n",
       "1          524                 4.76      F          0.52             1.0\n",
       "2          607                 4.45      F          0.49             1.0\n",
       "3          343                 0.91      M          0.54             NaN\n",
       "4          322                 3.02      F          0.63             1.0"
      ]
     },
     "execution_count": 82,
     "metadata": {},
     "output_type": "execute_result"
    }
   ],
   "source": [
    "# map\n",
    "customer_details[\"gender_numeric\"] = customer_details[\"gender\"].map({\"M\":0,\"F\":1})\n",
    "customer_details.head()\n",
    "customer_details[\"gender_numeric\"] = customer_details[\"gender\"].map({\"F\":1})\n",
    "customer_details.head()# see if you dont specify how it errors"
   ]
  },
  {
   "cell_type": "code",
   "execution_count": 84,
   "metadata": {},
   "outputs": [
    {
     "data": {
      "text/html": [
       "<div>\n",
       "<style scoped>\n",
       "    .dataframe tbody tr th:only-of-type {\n",
       "        vertical-align: middle;\n",
       "    }\n",
       "\n",
       "    .dataframe tbody tr th {\n",
       "        vertical-align: top;\n",
       "    }\n",
       "\n",
       "    .dataframe thead th {\n",
       "        text-align: right;\n",
       "    }\n",
       "</style>\n",
       "<table border=\"1\" class=\"dataframe\">\n",
       "  <thead>\n",
       "    <tr style=\"text-align: right;\">\n",
       "      <th></th>\n",
       "      <th>customer_id</th>\n",
       "      <th>distance_from_store</th>\n",
       "      <th>gender</th>\n",
       "      <th>credit_score</th>\n",
       "      <th>gender_numeric</th>\n",
       "    </tr>\n",
       "  </thead>\n",
       "  <tbody>\n",
       "    <tr>\n",
       "      <th>0</th>\n",
       "      <td>74</td>\n",
       "      <td>3.38</td>\n",
       "      <td>F</td>\n",
       "      <td>0.59</td>\n",
       "      <td>1</td>\n",
       "    </tr>\n",
       "    <tr>\n",
       "      <th>1</th>\n",
       "      <td>524</td>\n",
       "      <td>4.76</td>\n",
       "      <td>F</td>\n",
       "      <td>0.52</td>\n",
       "      <td>1</td>\n",
       "    </tr>\n",
       "    <tr>\n",
       "      <th>2</th>\n",
       "      <td>607</td>\n",
       "      <td>4.45</td>\n",
       "      <td>F</td>\n",
       "      <td>0.49</td>\n",
       "      <td>1</td>\n",
       "    </tr>\n",
       "    <tr>\n",
       "      <th>3</th>\n",
       "      <td>343</td>\n",
       "      <td>0.91</td>\n",
       "      <td>M</td>\n",
       "      <td>0.54</td>\n",
       "      <td>M</td>\n",
       "    </tr>\n",
       "    <tr>\n",
       "      <th>4</th>\n",
       "      <td>322</td>\n",
       "      <td>3.02</td>\n",
       "      <td>F</td>\n",
       "      <td>0.63</td>\n",
       "      <td>1</td>\n",
       "    </tr>\n",
       "  </tbody>\n",
       "</table>\n",
       "</div>"
      ],
      "text/plain": [
       "   customer_id  distance_from_store gender  credit_score gender_numeric\n",
       "0           74                 3.38      F          0.59              1\n",
       "1          524                 4.76      F          0.52              1\n",
       "2          607                 4.45      F          0.49              1\n",
       "3          343                 0.91      M          0.54              M\n",
       "4          322                 3.02      F          0.63              1"
      ]
     },
     "execution_count": 84,
     "metadata": {},
     "output_type": "execute_result"
    }
   ],
   "source": [
    "# replace\n",
    "customer_details[\"gender_numeric\"] = customer_details[\"gender\"].replace({\"M\":0,\"F\":1})\n",
    "customer_details.head()\n",
    "customer_details[\"gender_numeric\"] = customer_details[\"gender\"].replace({\"F\":1})\n",
    "customer_details.head()# keeps M instead of null"
   ]
  },
  {
   "cell_type": "code",
   "execution_count": 87,
   "metadata": {},
   "outputs": [],
   "source": [
    "# apply\n",
    "\n",
    "product_areas[\"product_area_name\"].apply(len)\n",
    "\n",
    "def update_profit_margin(profit_margin):\n",
    "    if profit_margin > .2:\n",
    "        return profit_margin * 1.2\n",
    "    else:\n",
    "        return profit_margin * .8\n",
    "\n",
    "product_areas[\"profit_margin_updated\"] = product_areas[\"profit_margin\"].apply(update_profit_margin)\n"
   ]
  },
  {
   "cell_type": "code",
   "execution_count": 89,
   "metadata": {},
   "outputs": [
    {
     "name": "stdout",
     "output_type": "stream",
     "text": [
      "A    2\n",
      "B    4\n",
      "C    6\n",
      "dtype: int64\n",
      "0    5\n",
      "1    6\n",
      "dtype: int64\n"
     ]
    }
   ],
   "source": [
    "x = pd.DataFrame({\"A\" : [1,2], \"B\" : [3,4], \"C\" : [5,6]})\n",
    "\n",
    "print(x.apply(max))\n",
    "print(x.apply(max, axis = 1))"
   ]
  },
  {
   "cell_type": "code",
   "execution_count": 90,
   "metadata": {},
   "outputs": [
    {
     "data": {
      "text/html": [
       "<div>\n",
       "<style scoped>\n",
       "    .dataframe tbody tr th:only-of-type {\n",
       "        vertical-align: middle;\n",
       "    }\n",
       "\n",
       "    .dataframe tbody tr th {\n",
       "        vertical-align: top;\n",
       "    }\n",
       "\n",
       "    .dataframe thead th {\n",
       "        text-align: right;\n",
       "    }\n",
       "</style>\n",
       "<table border=\"1\" class=\"dataframe\">\n",
       "  <thead>\n",
       "    <tr style=\"text-align: right;\">\n",
       "      <th></th>\n",
       "      <th>A</th>\n",
       "      <th>B</th>\n",
       "      <th>C</th>\n",
       "    </tr>\n",
       "  </thead>\n",
       "  <tbody>\n",
       "    <tr>\n",
       "      <th>0</th>\n",
       "      <td>1</td>\n",
       "      <td>9</td>\n",
       "      <td>25</td>\n",
       "    </tr>\n",
       "    <tr>\n",
       "      <th>1</th>\n",
       "      <td>4</td>\n",
       "      <td>16</td>\n",
       "      <td>36</td>\n",
       "    </tr>\n",
       "  </tbody>\n",
       "</table>\n",
       "</div>"
      ],
      "text/plain": [
       "   A   B   C\n",
       "0  1   9  25\n",
       "1  4  16  36"
      ]
     },
     "execution_count": 90,
     "metadata": {},
     "output_type": "execute_result"
    }
   ],
   "source": [
    "def square(n):\n",
    "    return n ** 2\n",
    "\n",
    "x.applymap(square)"
   ]
  },
  {
   "attachments": {},
   "cell_type": "markdown",
   "metadata": {},
   "source": [
    "## Sorting"
   ]
  },
  {
   "cell_type": "code",
   "execution_count": 92,
   "metadata": {},
   "outputs": [
    {
     "data": {
      "text/html": [
       "<div>\n",
       "<style scoped>\n",
       "    .dataframe tbody tr th:only-of-type {\n",
       "        vertical-align: middle;\n",
       "    }\n",
       "\n",
       "    .dataframe tbody tr th {\n",
       "        vertical-align: top;\n",
       "    }\n",
       "\n",
       "    .dataframe thead th {\n",
       "        text-align: right;\n",
       "    }\n",
       "</style>\n",
       "<table border=\"1\" class=\"dataframe\">\n",
       "  <thead>\n",
       "    <tr style=\"text-align: right;\">\n",
       "      <th></th>\n",
       "      <th>customer_id</th>\n",
       "      <th>distance_from_store</th>\n",
       "      <th>gender</th>\n",
       "      <th>credit_score</th>\n",
       "      <th>gender_numeric</th>\n",
       "    </tr>\n",
       "  </thead>\n",
       "  <tbody>\n",
       "    <tr>\n",
       "      <th>458</th>\n",
       "      <td>22</td>\n",
       "      <td>0.00</td>\n",
       "      <td>M</td>\n",
       "      <td>0.68</td>\n",
       "      <td>M</td>\n",
       "    </tr>\n",
       "    <tr>\n",
       "      <th>131</th>\n",
       "      <td>260</td>\n",
       "      <td>0.00</td>\n",
       "      <td>M</td>\n",
       "      <td>0.71</td>\n",
       "      <td>M</td>\n",
       "    </tr>\n",
       "    <tr>\n",
       "      <th>92</th>\n",
       "      <td>640</td>\n",
       "      <td>0.00</td>\n",
       "      <td>M</td>\n",
       "      <td>0.52</td>\n",
       "      <td>M</td>\n",
       "    </tr>\n",
       "    <tr>\n",
       "      <th>683</th>\n",
       "      <td>804</td>\n",
       "      <td>0.01</td>\n",
       "      <td>M</td>\n",
       "      <td>0.53</td>\n",
       "      <td>M</td>\n",
       "    </tr>\n",
       "    <tr>\n",
       "      <th>227</th>\n",
       "      <td>2</td>\n",
       "      <td>0.01</td>\n",
       "      <td>M</td>\n",
       "      <td>0.54</td>\n",
       "      <td>M</td>\n",
       "    </tr>\n",
       "  </tbody>\n",
       "</table>\n",
       "</div>"
      ],
      "text/plain": [
       "     customer_id  distance_from_store gender  credit_score gender_numeric\n",
       "458           22                 0.00      M          0.68              M\n",
       "131          260                 0.00      M          0.71              M\n",
       "92           640                 0.00      M          0.52              M\n",
       "683          804                 0.01      M          0.53              M\n",
       "227            2                 0.01      M          0.54              M"
      ]
     },
     "execution_count": 92,
     "metadata": {},
     "output_type": "execute_result"
    }
   ],
   "source": [
    "customer_details.head()\n",
    "customer_details.sort_values(by=\"distance_from_store\", inplace=True)\n",
    "customer_details.head()\n"
   ]
  },
  {
   "cell_type": "code",
   "execution_count": 93,
   "metadata": {},
   "outputs": [
    {
     "data": {
      "text/html": [
       "<div>\n",
       "<style scoped>\n",
       "    .dataframe tbody tr th:only-of-type {\n",
       "        vertical-align: middle;\n",
       "    }\n",
       "\n",
       "    .dataframe tbody tr th {\n",
       "        vertical-align: top;\n",
       "    }\n",
       "\n",
       "    .dataframe thead th {\n",
       "        text-align: right;\n",
       "    }\n",
       "</style>\n",
       "<table border=\"1\" class=\"dataframe\">\n",
       "  <thead>\n",
       "    <tr style=\"text-align: right;\">\n",
       "      <th></th>\n",
       "      <th>customer_id</th>\n",
       "      <th>distance_from_store</th>\n",
       "      <th>gender</th>\n",
       "      <th>credit_score</th>\n",
       "      <th>gender_numeric</th>\n",
       "    </tr>\n",
       "  </thead>\n",
       "  <tbody>\n",
       "    <tr>\n",
       "      <th>860</th>\n",
       "      <td>711</td>\n",
       "      <td>400.97</td>\n",
       "      <td>F</td>\n",
       "      <td>0.54</td>\n",
       "      <td>1</td>\n",
       "    </tr>\n",
       "    <tr>\n",
       "      <th>197</th>\n",
       "      <td>415</td>\n",
       "      <td>113.89</td>\n",
       "      <td>F</td>\n",
       "      <td>0.57</td>\n",
       "      <td>1</td>\n",
       "    </tr>\n",
       "    <tr>\n",
       "      <th>35</th>\n",
       "      <td>762</td>\n",
       "      <td>44.37</td>\n",
       "      <td>F</td>\n",
       "      <td>0.55</td>\n",
       "      <td>1</td>\n",
       "    </tr>\n",
       "    <tr>\n",
       "      <th>613</th>\n",
       "      <td>229</td>\n",
       "      <td>18.09</td>\n",
       "      <td>F</td>\n",
       "      <td>0.67</td>\n",
       "      <td>1</td>\n",
       "    </tr>\n",
       "    <tr>\n",
       "      <th>8</th>\n",
       "      <td>52</td>\n",
       "      <td>14.91</td>\n",
       "      <td>F</td>\n",
       "      <td>0.68</td>\n",
       "      <td>1</td>\n",
       "    </tr>\n",
       "  </tbody>\n",
       "</table>\n",
       "</div>"
      ],
      "text/plain": [
       "     customer_id  distance_from_store gender  credit_score gender_numeric\n",
       "860          711               400.97      F          0.54              1\n",
       "197          415               113.89      F          0.57              1\n",
       "35           762                44.37      F          0.55              1\n",
       "613          229                18.09      F          0.67              1\n",
       "8             52                14.91      F          0.68              1"
      ]
     },
     "execution_count": 93,
     "metadata": {},
     "output_type": "execute_result"
    }
   ],
   "source": [
    "customer_details.sort_values(by=\"distance_from_store\", inplace=True, ascending=False)\n",
    "customer_details.head()"
   ]
  },
  {
   "cell_type": "code",
   "execution_count": 94,
   "metadata": {},
   "outputs": [
    {
     "data": {
      "text/html": [
       "<div>\n",
       "<style scoped>\n",
       "    .dataframe tbody tr th:only-of-type {\n",
       "        vertical-align: middle;\n",
       "    }\n",
       "\n",
       "    .dataframe tbody tr th {\n",
       "        vertical-align: top;\n",
       "    }\n",
       "\n",
       "    .dataframe thead th {\n",
       "        text-align: right;\n",
       "    }\n",
       "</style>\n",
       "<table border=\"1\" class=\"dataframe\">\n",
       "  <thead>\n",
       "    <tr style=\"text-align: right;\">\n",
       "      <th></th>\n",
       "      <th>customer_id</th>\n",
       "      <th>distance_from_store</th>\n",
       "      <th>gender</th>\n",
       "      <th>credit_score</th>\n",
       "      <th>gender_numeric</th>\n",
       "    </tr>\n",
       "  </thead>\n",
       "  <tbody>\n",
       "    <tr>\n",
       "      <th>860</th>\n",
       "      <td>711</td>\n",
       "      <td>400.97</td>\n",
       "      <td>F</td>\n",
       "      <td>0.54</td>\n",
       "      <td>1</td>\n",
       "    </tr>\n",
       "    <tr>\n",
       "      <th>197</th>\n",
       "      <td>415</td>\n",
       "      <td>113.89</td>\n",
       "      <td>F</td>\n",
       "      <td>0.57</td>\n",
       "      <td>1</td>\n",
       "    </tr>\n",
       "    <tr>\n",
       "      <th>35</th>\n",
       "      <td>762</td>\n",
       "      <td>44.37</td>\n",
       "      <td>F</td>\n",
       "      <td>0.55</td>\n",
       "      <td>1</td>\n",
       "    </tr>\n",
       "    <tr>\n",
       "      <th>613</th>\n",
       "      <td>229</td>\n",
       "      <td>18.09</td>\n",
       "      <td>F</td>\n",
       "      <td>0.67</td>\n",
       "      <td>1</td>\n",
       "    </tr>\n",
       "    <tr>\n",
       "      <th>8</th>\n",
       "      <td>52</td>\n",
       "      <td>14.91</td>\n",
       "      <td>F</td>\n",
       "      <td>0.68</td>\n",
       "      <td>1</td>\n",
       "    </tr>\n",
       "  </tbody>\n",
       "</table>\n",
       "</div>"
      ],
      "text/plain": [
       "     customer_id  distance_from_store gender  credit_score gender_numeric\n",
       "860          711               400.97      F          0.54              1\n",
       "197          415               113.89      F          0.57              1\n",
       "35           762                44.37      F          0.55              1\n",
       "613          229                18.09      F          0.67              1\n",
       "8             52                14.91      F          0.68              1"
      ]
     },
     "execution_count": 94,
     "metadata": {},
     "output_type": "execute_result"
    }
   ],
   "source": [
    "customer_details.sort_values(by=[\"distance_from_store\",\"credit_score\"], inplace=True, ascending=False)\n",
    "customer_details.head()"
   ]
  },
  {
   "cell_type": "code",
   "execution_count": 95,
   "metadata": {},
   "outputs": [
    {
     "data": {
      "text/html": [
       "<div>\n",
       "<style scoped>\n",
       "    .dataframe tbody tr th:only-of-type {\n",
       "        vertical-align: middle;\n",
       "    }\n",
       "\n",
       "    .dataframe tbody tr th {\n",
       "        vertical-align: top;\n",
       "    }\n",
       "\n",
       "    .dataframe thead th {\n",
       "        text-align: right;\n",
       "    }\n",
       "</style>\n",
       "<table border=\"1\" class=\"dataframe\">\n",
       "  <thead>\n",
       "    <tr style=\"text-align: right;\">\n",
       "      <th></th>\n",
       "      <th>customer_id</th>\n",
       "      <th>distance_from_store</th>\n",
       "      <th>gender</th>\n",
       "      <th>credit_score</th>\n",
       "      <th>gender_numeric</th>\n",
       "    </tr>\n",
       "  </thead>\n",
       "  <tbody>\n",
       "    <tr>\n",
       "      <th>314</th>\n",
       "      <td>105</td>\n",
       "      <td>NaN</td>\n",
       "      <td>F</td>\n",
       "      <td>0.71</td>\n",
       "      <td>1</td>\n",
       "    </tr>\n",
       "    <tr>\n",
       "      <th>576</th>\n",
       "      <td>362</td>\n",
       "      <td>NaN</td>\n",
       "      <td>NaN</td>\n",
       "      <td>0.56</td>\n",
       "      <td>NaN</td>\n",
       "    </tr>\n",
       "    <tr>\n",
       "      <th>466</th>\n",
       "      <td>218</td>\n",
       "      <td>NaN</td>\n",
       "      <td>M</td>\n",
       "      <td>0.37</td>\n",
       "      <td>M</td>\n",
       "    </tr>\n",
       "    <tr>\n",
       "      <th>169</th>\n",
       "      <td>517</td>\n",
       "      <td>NaN</td>\n",
       "      <td>NaN</td>\n",
       "      <td>NaN</td>\n",
       "      <td>NaN</td>\n",
       "    </tr>\n",
       "    <tr>\n",
       "      <th>845</th>\n",
       "      <td>292</td>\n",
       "      <td>NaN</td>\n",
       "      <td>NaN</td>\n",
       "      <td>NaN</td>\n",
       "      <td>NaN</td>\n",
       "    </tr>\n",
       "  </tbody>\n",
       "</table>\n",
       "</div>"
      ],
      "text/plain": [
       "     customer_id  distance_from_store gender  credit_score gender_numeric\n",
       "314          105                  NaN      F          0.71              1\n",
       "576          362                  NaN    NaN          0.56            NaN\n",
       "466          218                  NaN      M          0.37              M\n",
       "169          517                  NaN    NaN           NaN            NaN\n",
       "845          292                  NaN    NaN           NaN            NaN"
      ]
     },
     "execution_count": 95,
     "metadata": {},
     "output_type": "execute_result"
    }
   ],
   "source": [
    "customer_details.sort_values(by=\"distance_from_store\", inplace=True, na_position=\"first\")\n",
    "customer_details.head()"
   ]
  },
  {
   "attachments": {},
   "cell_type": "markdown",
   "metadata": {},
   "source": [
    "## ranking"
   ]
  },
  {
   "cell_type": "code",
   "execution_count": 98,
   "metadata": {},
   "outputs": [
    {
     "data": {
      "text/html": [
       "<div>\n",
       "<style scoped>\n",
       "    .dataframe tbody tr th:only-of-type {\n",
       "        vertical-align: middle;\n",
       "    }\n",
       "\n",
       "    .dataframe tbody tr th {\n",
       "        vertical-align: top;\n",
       "    }\n",
       "\n",
       "    .dataframe thead th {\n",
       "        text-align: right;\n",
       "    }\n",
       "</style>\n",
       "<table border=\"1\" class=\"dataframe\">\n",
       "  <thead>\n",
       "    <tr style=\"text-align: right;\">\n",
       "      <th></th>\n",
       "      <th>column1</th>\n",
       "    </tr>\n",
       "  </thead>\n",
       "  <tbody>\n",
       "    <tr>\n",
       "      <th>0</th>\n",
       "      <td>1.0</td>\n",
       "    </tr>\n",
       "    <tr>\n",
       "      <th>1</th>\n",
       "      <td>1.0</td>\n",
       "    </tr>\n",
       "    <tr>\n",
       "      <th>2</th>\n",
       "      <td>1.0</td>\n",
       "    </tr>\n",
       "    <tr>\n",
       "      <th>3</th>\n",
       "      <td>2.0</td>\n",
       "    </tr>\n",
       "    <tr>\n",
       "      <th>4</th>\n",
       "      <td>3.0</td>\n",
       "    </tr>\n",
       "    <tr>\n",
       "      <th>5</th>\n",
       "      <td>4.0</td>\n",
       "    </tr>\n",
       "    <tr>\n",
       "      <th>6</th>\n",
       "      <td>5.0</td>\n",
       "    </tr>\n",
       "    <tr>\n",
       "      <th>7</th>\n",
       "      <td>NaN</td>\n",
       "    </tr>\n",
       "    <tr>\n",
       "      <th>8</th>\n",
       "      <td>6.0</td>\n",
       "    </tr>\n",
       "    <tr>\n",
       "      <th>9</th>\n",
       "      <td>8.0</td>\n",
       "    </tr>\n",
       "  </tbody>\n",
       "</table>\n",
       "</div>"
      ],
      "text/plain": [
       "   column1\n",
       "0      1.0\n",
       "1      1.0\n",
       "2      1.0\n",
       "3      2.0\n",
       "4      3.0\n",
       "5      4.0\n",
       "6      5.0\n",
       "7      NaN\n",
       "8      6.0\n",
       "9      8.0"
      ]
     },
     "execution_count": 98,
     "metadata": {},
     "output_type": "execute_result"
    }
   ],
   "source": [
    "x=pd.DataFrame({\"column1\" : [1,1,1,2,3,4,5,np.nan,6,8]})\n",
    "x.head(10)"
   ]
  },
  {
   "cell_type": "code",
   "execution_count": 101,
   "metadata": {},
   "outputs": [
    {
     "data": {
      "text/html": [
       "<div>\n",
       "<style scoped>\n",
       "    .dataframe tbody tr th:only-of-type {\n",
       "        vertical-align: middle;\n",
       "    }\n",
       "\n",
       "    .dataframe tbody tr th {\n",
       "        vertical-align: top;\n",
       "    }\n",
       "\n",
       "    .dataframe thead th {\n",
       "        text-align: right;\n",
       "    }\n",
       "</style>\n",
       "<table border=\"1\" class=\"dataframe\">\n",
       "  <thead>\n",
       "    <tr style=\"text-align: right;\">\n",
       "      <th></th>\n",
       "      <th>column1</th>\n",
       "      <th>solumnrank</th>\n",
       "      <th>columnrank</th>\n",
       "    </tr>\n",
       "  </thead>\n",
       "  <tbody>\n",
       "    <tr>\n",
       "      <th>0</th>\n",
       "      <td>1.0</td>\n",
       "      <td>2.0</td>\n",
       "      <td>2.0</td>\n",
       "    </tr>\n",
       "    <tr>\n",
       "      <th>1</th>\n",
       "      <td>1.0</td>\n",
       "      <td>2.0</td>\n",
       "      <td>2.0</td>\n",
       "    </tr>\n",
       "    <tr>\n",
       "      <th>2</th>\n",
       "      <td>1.0</td>\n",
       "      <td>2.0</td>\n",
       "      <td>2.0</td>\n",
       "    </tr>\n",
       "    <tr>\n",
       "      <th>3</th>\n",
       "      <td>2.0</td>\n",
       "      <td>4.0</td>\n",
       "      <td>4.0</td>\n",
       "    </tr>\n",
       "    <tr>\n",
       "      <th>4</th>\n",
       "      <td>3.0</td>\n",
       "      <td>5.0</td>\n",
       "      <td>5.0</td>\n",
       "    </tr>\n",
       "    <tr>\n",
       "      <th>5</th>\n",
       "      <td>4.0</td>\n",
       "      <td>6.0</td>\n",
       "      <td>6.0</td>\n",
       "    </tr>\n",
       "    <tr>\n",
       "      <th>6</th>\n",
       "      <td>5.0</td>\n",
       "      <td>7.0</td>\n",
       "      <td>7.0</td>\n",
       "    </tr>\n",
       "    <tr>\n",
       "      <th>7</th>\n",
       "      <td>NaN</td>\n",
       "      <td>NaN</td>\n",
       "      <td>NaN</td>\n",
       "    </tr>\n",
       "    <tr>\n",
       "      <th>8</th>\n",
       "      <td>6.0</td>\n",
       "      <td>8.0</td>\n",
       "      <td>8.0</td>\n",
       "    </tr>\n",
       "    <tr>\n",
       "      <th>9</th>\n",
       "      <td>8.0</td>\n",
       "      <td>9.0</td>\n",
       "      <td>9.0</td>\n",
       "    </tr>\n",
       "  </tbody>\n",
       "</table>\n",
       "</div>"
      ],
      "text/plain": [
       "   column1  solumnrank  columnrank\n",
       "0      1.0         2.0         2.0\n",
       "1      1.0         2.0         2.0\n",
       "2      1.0         2.0         2.0\n",
       "3      2.0         4.0         4.0\n",
       "4      3.0         5.0         5.0\n",
       "5      4.0         6.0         6.0\n",
       "6      5.0         7.0         7.0\n",
       "7      NaN         NaN         NaN\n",
       "8      6.0         8.0         8.0\n",
       "9      8.0         9.0         9.0"
      ]
     },
     "execution_count": 101,
     "metadata": {},
     "output_type": "execute_result"
    }
   ],
   "source": [
    "x[\"columnrank\"] = x[\"column1\"].rank()\n",
    "x.head(10)"
   ]
  },
  {
   "cell_type": "code",
   "execution_count": 102,
   "metadata": {},
   "outputs": [
    {
     "data": {
      "text/html": [
       "<div>\n",
       "<style scoped>\n",
       "    .dataframe tbody tr th:only-of-type {\n",
       "        vertical-align: middle;\n",
       "    }\n",
       "\n",
       "    .dataframe tbody tr th {\n",
       "        vertical-align: top;\n",
       "    }\n",
       "\n",
       "    .dataframe thead th {\n",
       "        text-align: right;\n",
       "    }\n",
       "</style>\n",
       "<table border=\"1\" class=\"dataframe\">\n",
       "  <thead>\n",
       "    <tr style=\"text-align: right;\">\n",
       "      <th></th>\n",
       "      <th>column1</th>\n",
       "      <th>solumnrank</th>\n",
       "      <th>columnrank</th>\n",
       "      <th>averagerank</th>\n",
       "      <th>minrank</th>\n",
       "      <th>maxrank</th>\n",
       "      <th>firstrank</th>\n",
       "      <th>denserank</th>\n",
       "    </tr>\n",
       "  </thead>\n",
       "  <tbody>\n",
       "    <tr>\n",
       "      <th>0</th>\n",
       "      <td>1.0</td>\n",
       "      <td>2.0</td>\n",
       "      <td>2.0</td>\n",
       "      <td>2.0</td>\n",
       "      <td>1.0</td>\n",
       "      <td>3.0</td>\n",
       "      <td>1.0</td>\n",
       "      <td>1.0</td>\n",
       "    </tr>\n",
       "    <tr>\n",
       "      <th>1</th>\n",
       "      <td>1.0</td>\n",
       "      <td>2.0</td>\n",
       "      <td>2.0</td>\n",
       "      <td>2.0</td>\n",
       "      <td>1.0</td>\n",
       "      <td>3.0</td>\n",
       "      <td>2.0</td>\n",
       "      <td>1.0</td>\n",
       "    </tr>\n",
       "    <tr>\n",
       "      <th>2</th>\n",
       "      <td>1.0</td>\n",
       "      <td>2.0</td>\n",
       "      <td>2.0</td>\n",
       "      <td>2.0</td>\n",
       "      <td>1.0</td>\n",
       "      <td>3.0</td>\n",
       "      <td>3.0</td>\n",
       "      <td>1.0</td>\n",
       "    </tr>\n",
       "    <tr>\n",
       "      <th>3</th>\n",
       "      <td>2.0</td>\n",
       "      <td>4.0</td>\n",
       "      <td>4.0</td>\n",
       "      <td>4.0</td>\n",
       "      <td>4.0</td>\n",
       "      <td>4.0</td>\n",
       "      <td>4.0</td>\n",
       "      <td>2.0</td>\n",
       "    </tr>\n",
       "    <tr>\n",
       "      <th>4</th>\n",
       "      <td>3.0</td>\n",
       "      <td>5.0</td>\n",
       "      <td>5.0</td>\n",
       "      <td>5.0</td>\n",
       "      <td>5.0</td>\n",
       "      <td>5.0</td>\n",
       "      <td>5.0</td>\n",
       "      <td>3.0</td>\n",
       "    </tr>\n",
       "    <tr>\n",
       "      <th>5</th>\n",
       "      <td>4.0</td>\n",
       "      <td>6.0</td>\n",
       "      <td>6.0</td>\n",
       "      <td>6.0</td>\n",
       "      <td>6.0</td>\n",
       "      <td>6.0</td>\n",
       "      <td>6.0</td>\n",
       "      <td>4.0</td>\n",
       "    </tr>\n",
       "    <tr>\n",
       "      <th>6</th>\n",
       "      <td>5.0</td>\n",
       "      <td>7.0</td>\n",
       "      <td>7.0</td>\n",
       "      <td>7.0</td>\n",
       "      <td>7.0</td>\n",
       "      <td>7.0</td>\n",
       "      <td>7.0</td>\n",
       "      <td>5.0</td>\n",
       "    </tr>\n",
       "    <tr>\n",
       "      <th>7</th>\n",
       "      <td>NaN</td>\n",
       "      <td>NaN</td>\n",
       "      <td>NaN</td>\n",
       "      <td>NaN</td>\n",
       "      <td>NaN</td>\n",
       "      <td>NaN</td>\n",
       "      <td>NaN</td>\n",
       "      <td>NaN</td>\n",
       "    </tr>\n",
       "    <tr>\n",
       "      <th>8</th>\n",
       "      <td>6.0</td>\n",
       "      <td>8.0</td>\n",
       "      <td>8.0</td>\n",
       "      <td>8.0</td>\n",
       "      <td>8.0</td>\n",
       "      <td>8.0</td>\n",
       "      <td>8.0</td>\n",
       "      <td>6.0</td>\n",
       "    </tr>\n",
       "    <tr>\n",
       "      <th>9</th>\n",
       "      <td>8.0</td>\n",
       "      <td>9.0</td>\n",
       "      <td>9.0</td>\n",
       "      <td>9.0</td>\n",
       "      <td>9.0</td>\n",
       "      <td>9.0</td>\n",
       "      <td>9.0</td>\n",
       "      <td>7.0</td>\n",
       "    </tr>\n",
       "  </tbody>\n",
       "</table>\n",
       "</div>"
      ],
      "text/plain": [
       "   column1  solumnrank  columnrank  averagerank  minrank  maxrank  firstrank  \\\n",
       "0      1.0         2.0         2.0          2.0      1.0      3.0        1.0   \n",
       "1      1.0         2.0         2.0          2.0      1.0      3.0        2.0   \n",
       "2      1.0         2.0         2.0          2.0      1.0      3.0        3.0   \n",
       "3      2.0         4.0         4.0          4.0      4.0      4.0        4.0   \n",
       "4      3.0         5.0         5.0          5.0      5.0      5.0        5.0   \n",
       "5      4.0         6.0         6.0          6.0      6.0      6.0        6.0   \n",
       "6      5.0         7.0         7.0          7.0      7.0      7.0        7.0   \n",
       "7      NaN         NaN         NaN          NaN      NaN      NaN        NaN   \n",
       "8      6.0         8.0         8.0          8.0      8.0      8.0        8.0   \n",
       "9      8.0         9.0         9.0          9.0      9.0      9.0        9.0   \n",
       "\n",
       "   denserank  \n",
       "0        1.0  \n",
       "1        1.0  \n",
       "2        1.0  \n",
       "3        2.0  \n",
       "4        3.0  \n",
       "5        4.0  \n",
       "6        5.0  \n",
       "7        NaN  \n",
       "8        6.0  \n",
       "9        7.0  "
      ]
     },
     "execution_count": 102,
     "metadata": {},
     "output_type": "execute_result"
    }
   ],
   "source": [
    "x[\"averagerank\"] = x[\"column1\"].rank(method=\"average\")\n",
    "x[\"minrank\"] = x[\"column1\"].rank(method=\"min\")\n",
    "x[\"maxrank\"] = x[\"column1\"].rank(method=\"max\")\n",
    "x[\"firstrank\"] = x[\"column1\"].rank(method=\"first\")\n",
    "x[\"denserank\"] = x[\"column1\"].rank(method=\"dense\")\n",
    "\n",
    "x.head(10)"
   ]
  },
  {
   "cell_type": "code",
   "execution_count": 103,
   "metadata": {},
   "outputs": [
    {
     "data": {
      "text/html": [
       "<div>\n",
       "<style scoped>\n",
       "    .dataframe tbody tr th:only-of-type {\n",
       "        vertical-align: middle;\n",
       "    }\n",
       "\n",
       "    .dataframe tbody tr th {\n",
       "        vertical-align: top;\n",
       "    }\n",
       "\n",
       "    .dataframe thead th {\n",
       "        text-align: right;\n",
       "    }\n",
       "</style>\n",
       "<table border=\"1\" class=\"dataframe\">\n",
       "  <thead>\n",
       "    <tr style=\"text-align: right;\">\n",
       "      <th></th>\n",
       "      <th>column1</th>\n",
       "      <th>solumnrank</th>\n",
       "      <th>columnrank</th>\n",
       "      <th>averagerank</th>\n",
       "      <th>minrank</th>\n",
       "      <th>maxrank</th>\n",
       "      <th>firstrank</th>\n",
       "      <th>denserank</th>\n",
       "      <th>denserank_top</th>\n",
       "      <th>denserank_bottom</th>\n",
       "    </tr>\n",
       "  </thead>\n",
       "  <tbody>\n",
       "    <tr>\n",
       "      <th>0</th>\n",
       "      <td>1.0</td>\n",
       "      <td>2.0</td>\n",
       "      <td>2.0</td>\n",
       "      <td>2.0</td>\n",
       "      <td>1.0</td>\n",
       "      <td>3.0</td>\n",
       "      <td>1.0</td>\n",
       "      <td>1.0</td>\n",
       "      <td>2.0</td>\n",
       "      <td>1.0</td>\n",
       "    </tr>\n",
       "    <tr>\n",
       "      <th>1</th>\n",
       "      <td>1.0</td>\n",
       "      <td>2.0</td>\n",
       "      <td>2.0</td>\n",
       "      <td>2.0</td>\n",
       "      <td>1.0</td>\n",
       "      <td>3.0</td>\n",
       "      <td>2.0</td>\n",
       "      <td>1.0</td>\n",
       "      <td>2.0</td>\n",
       "      <td>1.0</td>\n",
       "    </tr>\n",
       "    <tr>\n",
       "      <th>2</th>\n",
       "      <td>1.0</td>\n",
       "      <td>2.0</td>\n",
       "      <td>2.0</td>\n",
       "      <td>2.0</td>\n",
       "      <td>1.0</td>\n",
       "      <td>3.0</td>\n",
       "      <td>3.0</td>\n",
       "      <td>1.0</td>\n",
       "      <td>2.0</td>\n",
       "      <td>1.0</td>\n",
       "    </tr>\n",
       "    <tr>\n",
       "      <th>3</th>\n",
       "      <td>2.0</td>\n",
       "      <td>4.0</td>\n",
       "      <td>4.0</td>\n",
       "      <td>4.0</td>\n",
       "      <td>4.0</td>\n",
       "      <td>4.0</td>\n",
       "      <td>4.0</td>\n",
       "      <td>2.0</td>\n",
       "      <td>3.0</td>\n",
       "      <td>2.0</td>\n",
       "    </tr>\n",
       "    <tr>\n",
       "      <th>4</th>\n",
       "      <td>3.0</td>\n",
       "      <td>5.0</td>\n",
       "      <td>5.0</td>\n",
       "      <td>5.0</td>\n",
       "      <td>5.0</td>\n",
       "      <td>5.0</td>\n",
       "      <td>5.0</td>\n",
       "      <td>3.0</td>\n",
       "      <td>4.0</td>\n",
       "      <td>3.0</td>\n",
       "    </tr>\n",
       "    <tr>\n",
       "      <th>5</th>\n",
       "      <td>4.0</td>\n",
       "      <td>6.0</td>\n",
       "      <td>6.0</td>\n",
       "      <td>6.0</td>\n",
       "      <td>6.0</td>\n",
       "      <td>6.0</td>\n",
       "      <td>6.0</td>\n",
       "      <td>4.0</td>\n",
       "      <td>5.0</td>\n",
       "      <td>4.0</td>\n",
       "    </tr>\n",
       "    <tr>\n",
       "      <th>6</th>\n",
       "      <td>5.0</td>\n",
       "      <td>7.0</td>\n",
       "      <td>7.0</td>\n",
       "      <td>7.0</td>\n",
       "      <td>7.0</td>\n",
       "      <td>7.0</td>\n",
       "      <td>7.0</td>\n",
       "      <td>5.0</td>\n",
       "      <td>6.0</td>\n",
       "      <td>5.0</td>\n",
       "    </tr>\n",
       "    <tr>\n",
       "      <th>7</th>\n",
       "      <td>NaN</td>\n",
       "      <td>NaN</td>\n",
       "      <td>NaN</td>\n",
       "      <td>NaN</td>\n",
       "      <td>NaN</td>\n",
       "      <td>NaN</td>\n",
       "      <td>NaN</td>\n",
       "      <td>NaN</td>\n",
       "      <td>1.0</td>\n",
       "      <td>8.0</td>\n",
       "    </tr>\n",
       "    <tr>\n",
       "      <th>8</th>\n",
       "      <td>6.0</td>\n",
       "      <td>8.0</td>\n",
       "      <td>8.0</td>\n",
       "      <td>8.0</td>\n",
       "      <td>8.0</td>\n",
       "      <td>8.0</td>\n",
       "      <td>8.0</td>\n",
       "      <td>6.0</td>\n",
       "      <td>7.0</td>\n",
       "      <td>6.0</td>\n",
       "    </tr>\n",
       "    <tr>\n",
       "      <th>9</th>\n",
       "      <td>8.0</td>\n",
       "      <td>9.0</td>\n",
       "      <td>9.0</td>\n",
       "      <td>9.0</td>\n",
       "      <td>9.0</td>\n",
       "      <td>9.0</td>\n",
       "      <td>9.0</td>\n",
       "      <td>7.0</td>\n",
       "      <td>8.0</td>\n",
       "      <td>7.0</td>\n",
       "    </tr>\n",
       "  </tbody>\n",
       "</table>\n",
       "</div>"
      ],
      "text/plain": [
       "   column1  solumnrank  columnrank  averagerank  minrank  maxrank  firstrank  \\\n",
       "0      1.0         2.0         2.0          2.0      1.0      3.0        1.0   \n",
       "1      1.0         2.0         2.0          2.0      1.0      3.0        2.0   \n",
       "2      1.0         2.0         2.0          2.0      1.0      3.0        3.0   \n",
       "3      2.0         4.0         4.0          4.0      4.0      4.0        4.0   \n",
       "4      3.0         5.0         5.0          5.0      5.0      5.0        5.0   \n",
       "5      4.0         6.0         6.0          6.0      6.0      6.0        6.0   \n",
       "6      5.0         7.0         7.0          7.0      7.0      7.0        7.0   \n",
       "7      NaN         NaN         NaN          NaN      NaN      NaN        NaN   \n",
       "8      6.0         8.0         8.0          8.0      8.0      8.0        8.0   \n",
       "9      8.0         9.0         9.0          9.0      9.0      9.0        9.0   \n",
       "\n",
       "   denserank  denserank_top  denserank_bottom  \n",
       "0        1.0            2.0               1.0  \n",
       "1        1.0            2.0               1.0  \n",
       "2        1.0            2.0               1.0  \n",
       "3        2.0            3.0               2.0  \n",
       "4        3.0            4.0               3.0  \n",
       "5        4.0            5.0               4.0  \n",
       "6        5.0            6.0               5.0  \n",
       "7        NaN            1.0               8.0  \n",
       "8        6.0            7.0               6.0  \n",
       "9        7.0            8.0               7.0  "
      ]
     },
     "execution_count": 103,
     "metadata": {},
     "output_type": "execute_result"
    }
   ],
   "source": [
    "x[\"denserank_top\"] = x[\"column1\"].rank(method=\"dense\", na_option=\"top\")\n",
    "x[\"denserank_bottom\"] = x[\"column1\"].rank(method=\"dense\", na_option=\"bottom\")\n",
    "\n",
    "x.head(10)"
   ]
  },
  {
   "attachments": {},
   "cell_type": "markdown",
   "metadata": {},
   "source": [
    "## Selecting Rows & Columns using LOC & ILOC"
   ]
  },
  {
   "cell_type": "code",
   "execution_count": 115,
   "metadata": {},
   "outputs": [
    {
     "data": {
      "text/html": [
       "<div>\n",
       "<style scoped>\n",
       "    .dataframe tbody tr th:only-of-type {\n",
       "        vertical-align: middle;\n",
       "    }\n",
       "\n",
       "    .dataframe tbody tr th {\n",
       "        vertical-align: top;\n",
       "    }\n",
       "\n",
       "    .dataframe thead th {\n",
       "        text-align: right;\n",
       "    }\n",
       "</style>\n",
       "<table border=\"1\" class=\"dataframe\">\n",
       "  <thead>\n",
       "    <tr style=\"text-align: right;\">\n",
       "      <th></th>\n",
       "      <th>customer_id</th>\n",
       "      <th>transaction_date</th>\n",
       "      <th>transaction_id</th>\n",
       "      <th>product_area_id</th>\n",
       "      <th>num_items</th>\n",
       "      <th>sales_cost</th>\n",
       "    </tr>\n",
       "  </thead>\n",
       "  <tbody>\n",
       "    <tr>\n",
       "      <th>0</th>\n",
       "      <td>1</td>\n",
       "      <td>2020-04-10</td>\n",
       "      <td>435657533999</td>\n",
       "      <td>3</td>\n",
       "      <td>7</td>\n",
       "      <td>19.16</td>\n",
       "    </tr>\n",
       "    <tr>\n",
       "      <th>1</th>\n",
       "      <td>1</td>\n",
       "      <td>2020-04-10</td>\n",
       "      <td>435657533999</td>\n",
       "      <td>2</td>\n",
       "      <td>5</td>\n",
       "      <td>7.71</td>\n",
       "    </tr>\n",
       "    <tr>\n",
       "      <th>2</th>\n",
       "      <td>1</td>\n",
       "      <td>2020-06-02</td>\n",
       "      <td>436189770685</td>\n",
       "      <td>4</td>\n",
       "      <td>4</td>\n",
       "      <td>26.97</td>\n",
       "    </tr>\n",
       "    <tr>\n",
       "      <th>3</th>\n",
       "      <td>1</td>\n",
       "      <td>2020-06-02</td>\n",
       "      <td>436189770685</td>\n",
       "      <td>1</td>\n",
       "      <td>2</td>\n",
       "      <td>38.52</td>\n",
       "    </tr>\n",
       "    <tr>\n",
       "      <th>4</th>\n",
       "      <td>1</td>\n",
       "      <td>2020-06-10</td>\n",
       "      <td>436265380298</td>\n",
       "      <td>4</td>\n",
       "      <td>4</td>\n",
       "      <td>22.13</td>\n",
       "    </tr>\n",
       "  </tbody>\n",
       "</table>\n",
       "</div>"
      ],
      "text/plain": [
       "   customer_id transaction_date  transaction_id  product_area_id  num_items  \\\n",
       "0            1       2020-04-10    435657533999                3          7   \n",
       "1            1       2020-04-10    435657533999                2          5   \n",
       "2            1       2020-06-02    436189770685                4          4   \n",
       "3            1       2020-06-02    436189770685                1          2   \n",
       "4            1       2020-06-10    436265380298                4          4   \n",
       "\n",
       "   sales_cost  \n",
       "0       19.16  \n",
       "1        7.71  \n",
       "2       26.97  \n",
       "3       38.52  \n",
       "4       22.13  "
      ]
     },
     "execution_count": 115,
     "metadata": {},
     "output_type": "execute_result"
    }
   ],
   "source": [
    "transactions = pd.read_excel(data_path, sheet_name=\"transactions\")\n",
    "transactions.head()\n",
    "#LOC\n",
    "transactions.loc[\"row_labels\",\"column_labels\"]\n",
    "# ILOC\n",
    "transactions.iloc[\"row_index\",\"column_index\"]"
   ]
  },
  {
   "cell_type": "code",
   "execution_count": 117,
   "metadata": {},
   "outputs": [
    {
     "data": {
      "text/html": [
       "<div>\n",
       "<style scoped>\n",
       "    .dataframe tbody tr th:only-of-type {\n",
       "        vertical-align: middle;\n",
       "    }\n",
       "\n",
       "    .dataframe tbody tr th {\n",
       "        vertical-align: top;\n",
       "    }\n",
       "\n",
       "    .dataframe thead th {\n",
       "        text-align: right;\n",
       "    }\n",
       "</style>\n",
       "<table border=\"1\" class=\"dataframe\">\n",
       "  <thead>\n",
       "    <tr style=\"text-align: right;\">\n",
       "      <th></th>\n",
       "      <th>customer_id</th>\n",
       "      <th>product_area_id</th>\n",
       "      <th>sales_cost</th>\n",
       "    </tr>\n",
       "  </thead>\n",
       "  <tbody>\n",
       "    <tr>\n",
       "      <th>0</th>\n",
       "      <td>1</td>\n",
       "      <td>3</td>\n",
       "      <td>19.16</td>\n",
       "    </tr>\n",
       "    <tr>\n",
       "      <th>1</th>\n",
       "      <td>1</td>\n",
       "      <td>2</td>\n",
       "      <td>7.71</td>\n",
       "    </tr>\n",
       "    <tr>\n",
       "      <th>2</th>\n",
       "      <td>1</td>\n",
       "      <td>4</td>\n",
       "      <td>26.97</td>\n",
       "    </tr>\n",
       "    <tr>\n",
       "      <th>3</th>\n",
       "      <td>1</td>\n",
       "      <td>1</td>\n",
       "      <td>38.52</td>\n",
       "    </tr>\n",
       "    <tr>\n",
       "      <th>4</th>\n",
       "      <td>1</td>\n",
       "      <td>4</td>\n",
       "      <td>22.13</td>\n",
       "    </tr>\n",
       "    <tr>\n",
       "      <th>...</th>\n",
       "      <td>...</td>\n",
       "      <td>...</td>\n",
       "      <td>...</td>\n",
       "    </tr>\n",
       "    <tr>\n",
       "      <th>38501</th>\n",
       "      <td>870</td>\n",
       "      <td>5</td>\n",
       "      <td>51.61</td>\n",
       "    </tr>\n",
       "    <tr>\n",
       "      <th>38502</th>\n",
       "      <td>870</td>\n",
       "      <td>2</td>\n",
       "      <td>33.77</td>\n",
       "    </tr>\n",
       "    <tr>\n",
       "      <th>38503</th>\n",
       "      <td>870</td>\n",
       "      <td>5</td>\n",
       "      <td>23.46</td>\n",
       "    </tr>\n",
       "    <tr>\n",
       "      <th>38504</th>\n",
       "      <td>870</td>\n",
       "      <td>1</td>\n",
       "      <td>18.52</td>\n",
       "    </tr>\n",
       "    <tr>\n",
       "      <th>38505</th>\n",
       "      <td>870</td>\n",
       "      <td>2</td>\n",
       "      <td>2.63</td>\n",
       "    </tr>\n",
       "  </tbody>\n",
       "</table>\n",
       "<p>38506 rows × 3 columns</p>\n",
       "</div>"
      ],
      "text/plain": [
       "       customer_id  product_area_id  sales_cost\n",
       "0                1                3       19.16\n",
       "1                1                2        7.71\n",
       "2                1                4       26.97\n",
       "3                1                1       38.52\n",
       "4                1                4       22.13\n",
       "...            ...              ...         ...\n",
       "38501          870                5       51.61\n",
       "38502          870                2       33.77\n",
       "38503          870                5       23.46\n",
       "38504          870                1       18.52\n",
       "38505          870                2        2.63\n",
       "\n",
       "[38506 rows x 3 columns]"
      ]
     },
     "execution_count": 117,
     "metadata": {},
     "output_type": "execute_result"
    }
   ],
   "source": [
    "transactions.iloc[0] # one row to be returned\n",
    "transactions.iloc[0:4]\n",
    "transactions.iloc[[0,30,51]]\n",
    "transactions.iloc[0:4,[0,3,-1]]\n",
    "\n",
    "\n",
    "transactions.iloc[:,[0,3,-1]]"
   ]
  },
  {
   "cell_type": "code",
   "execution_count": 118,
   "metadata": {},
   "outputs": [
    {
     "data": {
      "text/plain": [
       "customer_id                           1\n",
       "transaction_date    2020-04-10 00:00:00\n",
       "transaction_id             435657533999\n",
       "product_area_id                       3\n",
       "num_items                             7\n",
       "sales_cost                        19.16\n",
       "Name: 0, dtype: object"
      ]
     },
     "execution_count": 118,
     "metadata": {},
     "output_type": "execute_result"
    }
   ],
   "source": [
    "transactions.loc[0] "
   ]
  },
  {
   "cell_type": "code",
   "execution_count": 123,
   "metadata": {},
   "outputs": [
    {
     "data": {
      "text/html": [
       "<div>\n",
       "<style scoped>\n",
       "    .dataframe tbody tr th:only-of-type {\n",
       "        vertical-align: middle;\n",
       "    }\n",
       "\n",
       "    .dataframe tbody tr th {\n",
       "        vertical-align: top;\n",
       "    }\n",
       "\n",
       "    .dataframe thead th {\n",
       "        text-align: right;\n",
       "    }\n",
       "</style>\n",
       "<table border=\"1\" class=\"dataframe\">\n",
       "  <thead>\n",
       "    <tr style=\"text-align: right;\">\n",
       "      <th></th>\n",
       "      <th>index</th>\n",
       "      <th>customer_id</th>\n",
       "      <th>transaction_date</th>\n",
       "      <th>transaction_id</th>\n",
       "      <th>product_area_id</th>\n",
       "      <th>num_items</th>\n",
       "      <th>sales_cost</th>\n",
       "    </tr>\n",
       "  </thead>\n",
       "  <tbody>\n",
       "    <tr>\n",
       "      <th>0</th>\n",
       "      <td>0</td>\n",
       "      <td>1</td>\n",
       "      <td>2020-04-10</td>\n",
       "      <td>435657533999</td>\n",
       "      <td>3</td>\n",
       "      <td>7</td>\n",
       "      <td>19.16</td>\n",
       "    </tr>\n",
       "    <tr>\n",
       "      <th>1</th>\n",
       "      <td>1</td>\n",
       "      <td>1</td>\n",
       "      <td>2020-04-10</td>\n",
       "      <td>435657533999</td>\n",
       "      <td>2</td>\n",
       "      <td>5</td>\n",
       "      <td>7.71</td>\n",
       "    </tr>\n",
       "    <tr>\n",
       "      <th>2</th>\n",
       "      <td>2</td>\n",
       "      <td>1</td>\n",
       "      <td>2020-06-02</td>\n",
       "      <td>436189770685</td>\n",
       "      <td>4</td>\n",
       "      <td>4</td>\n",
       "      <td>26.97</td>\n",
       "    </tr>\n",
       "    <tr>\n",
       "      <th>3</th>\n",
       "      <td>3</td>\n",
       "      <td>1</td>\n",
       "      <td>2020-06-02</td>\n",
       "      <td>436189770685</td>\n",
       "      <td>1</td>\n",
       "      <td>2</td>\n",
       "      <td>38.52</td>\n",
       "    </tr>\n",
       "    <tr>\n",
       "      <th>4</th>\n",
       "      <td>4</td>\n",
       "      <td>1</td>\n",
       "      <td>2020-06-10</td>\n",
       "      <td>436265380298</td>\n",
       "      <td>4</td>\n",
       "      <td>4</td>\n",
       "      <td>22.13</td>\n",
       "    </tr>\n",
       "  </tbody>\n",
       "</table>\n",
       "</div>"
      ],
      "text/plain": [
       "   index  customer_id transaction_date  transaction_id  product_area_id  \\\n",
       "0      0            1       2020-04-10    435657533999                3   \n",
       "1      1            1       2020-04-10    435657533999                2   \n",
       "2      2            1       2020-06-02    436189770685                4   \n",
       "3      3            1       2020-06-02    436189770685                1   \n",
       "4      4            1       2020-06-10    436265380298                4   \n",
       "\n",
       "   num_items  sales_cost  \n",
       "0          7       19.16  \n",
       "1          5        7.71  \n",
       "2          4       26.97  \n",
       "3          2       38.52  \n",
       "4          4       22.13  "
      ]
     },
     "execution_count": 123,
     "metadata": {},
     "output_type": "execute_result"
    }
   ],
   "source": [
    "# transactions.set_index(\"customer_id\", inplace=True) \n",
    "transactions.reset_index(inplace=True)\n",
    "transactions.head() "
   ]
  },
  {
   "cell_type": "code",
   "execution_count": 125,
   "metadata": {},
   "outputs": [
    {
     "data": {
      "text/html": [
       "<div>\n",
       "<style scoped>\n",
       "    .dataframe tbody tr th:only-of-type {\n",
       "        vertical-align: middle;\n",
       "    }\n",
       "\n",
       "    .dataframe tbody tr th {\n",
       "        vertical-align: top;\n",
       "    }\n",
       "\n",
       "    .dataframe thead th {\n",
       "        text-align: right;\n",
       "    }\n",
       "</style>\n",
       "<table border=\"1\" class=\"dataframe\">\n",
       "  <thead>\n",
       "    <tr style=\"text-align: right;\">\n",
       "      <th></th>\n",
       "      <th>customer_id</th>\n",
       "      <th>product_area_id</th>\n",
       "      <th>sales_cost</th>\n",
       "    </tr>\n",
       "  </thead>\n",
       "  <tbody>\n",
       "    <tr>\n",
       "      <th>0</th>\n",
       "      <td>1</td>\n",
       "      <td>3</td>\n",
       "      <td>19.16</td>\n",
       "    </tr>\n",
       "    <tr>\n",
       "      <th>1</th>\n",
       "      <td>1</td>\n",
       "      <td>2</td>\n",
       "      <td>7.71</td>\n",
       "    </tr>\n",
       "    <tr>\n",
       "      <th>2</th>\n",
       "      <td>1</td>\n",
       "      <td>4</td>\n",
       "      <td>26.97</td>\n",
       "    </tr>\n",
       "    <tr>\n",
       "      <th>3</th>\n",
       "      <td>1</td>\n",
       "      <td>1</td>\n",
       "      <td>38.52</td>\n",
       "    </tr>\n",
       "    <tr>\n",
       "      <th>4</th>\n",
       "      <td>1</td>\n",
       "      <td>4</td>\n",
       "      <td>22.13</td>\n",
       "    </tr>\n",
       "    <tr>\n",
       "      <th>5</th>\n",
       "      <td>1</td>\n",
       "      <td>1</td>\n",
       "      <td>34.23</td>\n",
       "    </tr>\n",
       "    <tr>\n",
       "      <th>6</th>\n",
       "      <td>1</td>\n",
       "      <td>2</td>\n",
       "      <td>15.35</td>\n",
       "    </tr>\n",
       "    <tr>\n",
       "      <th>7</th>\n",
       "      <td>1</td>\n",
       "      <td>4</td>\n",
       "      <td>14.86</td>\n",
       "    </tr>\n",
       "    <tr>\n",
       "      <th>8</th>\n",
       "      <td>1</td>\n",
       "      <td>5</td>\n",
       "      <td>44.97</td>\n",
       "    </tr>\n",
       "    <tr>\n",
       "      <th>9</th>\n",
       "      <td>1</td>\n",
       "      <td>2</td>\n",
       "      <td>2.08</td>\n",
       "    </tr>\n",
       "    <tr>\n",
       "      <th>10</th>\n",
       "      <td>1</td>\n",
       "      <td>4</td>\n",
       "      <td>20.43</td>\n",
       "    </tr>\n",
       "  </tbody>\n",
       "</table>\n",
       "</div>"
      ],
      "text/plain": [
       "    customer_id  product_area_id  sales_cost\n",
       "0             1                3       19.16\n",
       "1             1                2        7.71\n",
       "2             1                4       26.97\n",
       "3             1                1       38.52\n",
       "4             1                4       22.13\n",
       "5             1                1       34.23\n",
       "6             1                2       15.35\n",
       "7             1                4       14.86\n",
       "8             1                5       44.97\n",
       "9             1                2        2.08\n",
       "10            1                4       20.43"
      ]
     },
     "execution_count": 125,
     "metadata": {},
     "output_type": "execute_result"
    }
   ],
   "source": [
    "transactions.loc[0:10,\"customer_id\"]\n",
    "transactions.loc[0:10,[\"customer_id\",\"product_area_id\",\"sales_cost\"]]"
   ]
  },
  {
   "cell_type": "code",
   "execution_count": 126,
   "metadata": {},
   "outputs": [
    {
     "data": {
      "text/plain": [
       "0        False\n",
       "1        False\n",
       "2        False\n",
       "3        False\n",
       "4        False\n",
       "         ...  \n",
       "38501    False\n",
       "38502    False\n",
       "38503    False\n",
       "38504    False\n",
       "38505    False\n",
       "Name: customer_id, Length: 38506, dtype: bool"
      ]
     },
     "execution_count": 126,
     "metadata": {},
     "output_type": "execute_result"
    }
   ],
   "source": [
    "# conditional logic\n",
    "transactions[\"customer_id\"] == 642"
   ]
  },
  {
   "cell_type": "code",
   "execution_count": 133,
   "metadata": {},
   "outputs": [
    {
     "data": {
      "text/html": [
       "<div>\n",
       "<style scoped>\n",
       "    .dataframe tbody tr th:only-of-type {\n",
       "        vertical-align: middle;\n",
       "    }\n",
       "\n",
       "    .dataframe tbody tr th {\n",
       "        vertical-align: top;\n",
       "    }\n",
       "\n",
       "    .dataframe thead th {\n",
       "        text-align: right;\n",
       "    }\n",
       "</style>\n",
       "<table border=\"1\" class=\"dataframe\">\n",
       "  <thead>\n",
       "    <tr style=\"text-align: right;\">\n",
       "      <th></th>\n",
       "      <th>index</th>\n",
       "      <th>customer_id</th>\n",
       "      <th>transaction_date</th>\n",
       "      <th>transaction_id</th>\n",
       "      <th>product_area_id</th>\n",
       "      <th>num_items</th>\n",
       "      <th>sales_cost</th>\n",
       "    </tr>\n",
       "  </thead>\n",
       "  <tbody>\n",
       "    <tr>\n",
       "      <th>0</th>\n",
       "      <td>0</td>\n",
       "      <td>1</td>\n",
       "      <td>2020-04-10</td>\n",
       "      <td>435657533999</td>\n",
       "      <td>3</td>\n",
       "      <td>7</td>\n",
       "      <td>19.16</td>\n",
       "    </tr>\n",
       "    <tr>\n",
       "      <th>6</th>\n",
       "      <td>6</td>\n",
       "      <td>1</td>\n",
       "      <td>2020-06-10</td>\n",
       "      <td>436265380298</td>\n",
       "      <td>2</td>\n",
       "      <td>7</td>\n",
       "      <td>15.35</td>\n",
       "    </tr>\n",
       "    <tr>\n",
       "      <th>8</th>\n",
       "      <td>8</td>\n",
       "      <td>1</td>\n",
       "      <td>2020-06-19</td>\n",
       "      <td>436352035866</td>\n",
       "      <td>5</td>\n",
       "      <td>6</td>\n",
       "      <td>44.97</td>\n",
       "    </tr>\n",
       "    <tr>\n",
       "      <th>9</th>\n",
       "      <td>9</td>\n",
       "      <td>1</td>\n",
       "      <td>2020-06-19</td>\n",
       "      <td>436352035866</td>\n",
       "      <td>2</td>\n",
       "      <td>6</td>\n",
       "      <td>2.08</td>\n",
       "    </tr>\n",
       "    <tr>\n",
       "      <th>12</th>\n",
       "      <td>12</td>\n",
       "      <td>1</td>\n",
       "      <td>2020-07-02</td>\n",
       "      <td>436488780919</td>\n",
       "      <td>1</td>\n",
       "      <td>18</td>\n",
       "      <td>385.68</td>\n",
       "    </tr>\n",
       "    <tr>\n",
       "      <th>...</th>\n",
       "      <td>...</td>\n",
       "      <td>...</td>\n",
       "      <td>...</td>\n",
       "      <td>...</td>\n",
       "      <td>...</td>\n",
       "      <td>...</td>\n",
       "      <td>...</td>\n",
       "    </tr>\n",
       "    <tr>\n",
       "      <th>38496</th>\n",
       "      <td>38496</td>\n",
       "      <td>870</td>\n",
       "      <td>2020-09-21</td>\n",
       "      <td>437291420399</td>\n",
       "      <td>3</td>\n",
       "      <td>18</td>\n",
       "      <td>66.67</td>\n",
       "    </tr>\n",
       "    <tr>\n",
       "      <th>38499</th>\n",
       "      <td>38499</td>\n",
       "      <td>870</td>\n",
       "      <td>2020-09-23</td>\n",
       "      <td>437316479610</td>\n",
       "      <td>4</td>\n",
       "      <td>6</td>\n",
       "      <td>17.73</td>\n",
       "    </tr>\n",
       "    <tr>\n",
       "      <th>38500</th>\n",
       "      <td>38500</td>\n",
       "      <td>870</td>\n",
       "      <td>2020-09-23</td>\n",
       "      <td>437316479610</td>\n",
       "      <td>3</td>\n",
       "      <td>14</td>\n",
       "      <td>42.38</td>\n",
       "    </tr>\n",
       "    <tr>\n",
       "      <th>38502</th>\n",
       "      <td>38502</td>\n",
       "      <td>870</td>\n",
       "      <td>2020-09-23</td>\n",
       "      <td>437316479610</td>\n",
       "      <td>2</td>\n",
       "      <td>15</td>\n",
       "      <td>33.77</td>\n",
       "    </tr>\n",
       "    <tr>\n",
       "      <th>38505</th>\n",
       "      <td>38505</td>\n",
       "      <td>870</td>\n",
       "      <td>2020-09-30</td>\n",
       "      <td>437385547544</td>\n",
       "      <td>2</td>\n",
       "      <td>6</td>\n",
       "      <td>2.63</td>\n",
       "    </tr>\n",
       "  </tbody>\n",
       "</table>\n",
       "<p>15982 rows × 7 columns</p>\n",
       "</div>"
      ],
      "text/plain": [
       "       index  customer_id transaction_date  transaction_id  product_area_id  \\\n",
       "0          0            1       2020-04-10    435657533999                3   \n",
       "6          6            1       2020-06-10    436265380298                2   \n",
       "8          8            1       2020-06-19    436352035866                5   \n",
       "9          9            1       2020-06-19    436352035866                2   \n",
       "12        12            1       2020-07-02    436488780919                1   \n",
       "...      ...          ...              ...             ...              ...   \n",
       "38496  38496          870       2020-09-21    437291420399                3   \n",
       "38499  38499          870       2020-09-23    437316479610                4   \n",
       "38500  38500          870       2020-09-23    437316479610                3   \n",
       "38502  38502          870       2020-09-23    437316479610                2   \n",
       "38505  38505          870       2020-09-30    437385547544                2   \n",
       "\n",
       "       num_items  sales_cost  \n",
       "0              7       19.16  \n",
       "6              7       15.35  \n",
       "8              6       44.97  \n",
       "9              6        2.08  \n",
       "12            18      385.68  \n",
       "...          ...         ...  \n",
       "38496         18       66.67  \n",
       "38499          6       17.73  \n",
       "38500         14       42.38  \n",
       "38502         15       33.77  \n",
       "38505          6        2.63  \n",
       "\n",
       "[15982 rows x 7 columns]"
      ]
     },
     "execution_count": 133,
     "metadata": {},
     "output_type": "execute_result"
    }
   ],
   "source": [
    "transactions.loc[transactions[\"customer_id\"] == 642]\n",
    "transactions.loc[transactions[\"customer_id\"] == 642, [\"customer_id\", \"sales_cost\"]]\n",
    "transactions.loc[(transactions[\"customer_id\"] == 642) & (transactions[\"num_items\"] > 5)]\n",
    "transactions.loc[(transactions[\"customer_id\"] == 642) | (transactions[\"num_items\"] > 5)]"
   ]
  },
  {
   "cell_type": "code",
   "execution_count": 135,
   "metadata": {},
   "outputs": [
    {
     "data": {
      "text/html": [
       "<div>\n",
       "<style scoped>\n",
       "    .dataframe tbody tr th:only-of-type {\n",
       "        vertical-align: middle;\n",
       "    }\n",
       "\n",
       "    .dataframe tbody tr th {\n",
       "        vertical-align: top;\n",
       "    }\n",
       "\n",
       "    .dataframe thead th {\n",
       "        text-align: right;\n",
       "    }\n",
       "</style>\n",
       "<table border=\"1\" class=\"dataframe\">\n",
       "  <thead>\n",
       "    <tr style=\"text-align: right;\">\n",
       "      <th></th>\n",
       "      <th>index</th>\n",
       "      <th>customer_id</th>\n",
       "      <th>transaction_date</th>\n",
       "      <th>transaction_id</th>\n",
       "      <th>product_area_id</th>\n",
       "      <th>num_items</th>\n",
       "      <th>sales_cost</th>\n",
       "    </tr>\n",
       "  </thead>\n",
       "  <tbody>\n",
       "    <tr>\n",
       "      <th>0</th>\n",
       "      <td>0</td>\n",
       "      <td>1</td>\n",
       "      <td>2020-04-10</td>\n",
       "      <td>435657533999</td>\n",
       "      <td>3</td>\n",
       "      <td>7</td>\n",
       "      <td>19.16</td>\n",
       "    </tr>\n",
       "    <tr>\n",
       "      <th>1</th>\n",
       "      <td>1</td>\n",
       "      <td>1</td>\n",
       "      <td>2020-04-10</td>\n",
       "      <td>435657533999</td>\n",
       "      <td>2</td>\n",
       "      <td>5</td>\n",
       "      <td>7.71</td>\n",
       "    </tr>\n",
       "    <tr>\n",
       "      <th>2</th>\n",
       "      <td>2</td>\n",
       "      <td>1</td>\n",
       "      <td>2020-06-02</td>\n",
       "      <td>436189770685</td>\n",
       "      <td>4</td>\n",
       "      <td>4</td>\n",
       "      <td>26.97</td>\n",
       "    </tr>\n",
       "    <tr>\n",
       "      <th>3</th>\n",
       "      <td>3</td>\n",
       "      <td>1</td>\n",
       "      <td>2020-06-02</td>\n",
       "      <td>436189770685</td>\n",
       "      <td>1</td>\n",
       "      <td>2</td>\n",
       "      <td>38.52</td>\n",
       "    </tr>\n",
       "    <tr>\n",
       "      <th>4</th>\n",
       "      <td>4</td>\n",
       "      <td>1</td>\n",
       "      <td>2020-06-10</td>\n",
       "      <td>436265380298</td>\n",
       "      <td>4</td>\n",
       "      <td>4</td>\n",
       "      <td>22.13</td>\n",
       "    </tr>\n",
       "    <tr>\n",
       "      <th>...</th>\n",
       "      <td>...</td>\n",
       "      <td>...</td>\n",
       "      <td>...</td>\n",
       "      <td>...</td>\n",
       "      <td>...</td>\n",
       "      <td>...</td>\n",
       "      <td>...</td>\n",
       "    </tr>\n",
       "    <tr>\n",
       "      <th>38501</th>\n",
       "      <td>38501</td>\n",
       "      <td>870</td>\n",
       "      <td>2020-09-23</td>\n",
       "      <td>437316479610</td>\n",
       "      <td>5</td>\n",
       "      <td>4</td>\n",
       "      <td>51.61</td>\n",
       "    </tr>\n",
       "    <tr>\n",
       "      <th>38502</th>\n",
       "      <td>38502</td>\n",
       "      <td>870</td>\n",
       "      <td>2020-09-23</td>\n",
       "      <td>437316479610</td>\n",
       "      <td>2</td>\n",
       "      <td>15</td>\n",
       "      <td>33.77</td>\n",
       "    </tr>\n",
       "    <tr>\n",
       "      <th>38503</th>\n",
       "      <td>38503</td>\n",
       "      <td>870</td>\n",
       "      <td>2020-09-30</td>\n",
       "      <td>437385547544</td>\n",
       "      <td>5</td>\n",
       "      <td>3</td>\n",
       "      <td>23.46</td>\n",
       "    </tr>\n",
       "    <tr>\n",
       "      <th>38504</th>\n",
       "      <td>38504</td>\n",
       "      <td>870</td>\n",
       "      <td>2020-09-30</td>\n",
       "      <td>437385547544</td>\n",
       "      <td>1</td>\n",
       "      <td>1</td>\n",
       "      <td>18.52</td>\n",
       "    </tr>\n",
       "    <tr>\n",
       "      <th>38505</th>\n",
       "      <td>38505</td>\n",
       "      <td>870</td>\n",
       "      <td>2020-09-30</td>\n",
       "      <td>437385547544</td>\n",
       "      <td>2</td>\n",
       "      <td>6</td>\n",
       "      <td>2.63</td>\n",
       "    </tr>\n",
       "  </tbody>\n",
       "</table>\n",
       "<p>38392 rows × 7 columns</p>\n",
       "</div>"
      ],
      "text/plain": [
       "       index  customer_id transaction_date  transaction_id  product_area_id  \\\n",
       "0          0            1       2020-04-10    435657533999                3   \n",
       "1          1            1       2020-04-10    435657533999                2   \n",
       "2          2            1       2020-06-02    436189770685                4   \n",
       "3          3            1       2020-06-02    436189770685                1   \n",
       "4          4            1       2020-06-10    436265380298                4   \n",
       "...      ...          ...              ...             ...              ...   \n",
       "38501  38501          870       2020-09-23    437316479610                5   \n",
       "38502  38502          870       2020-09-23    437316479610                2   \n",
       "38503  38503          870       2020-09-30    437385547544                5   \n",
       "38504  38504          870       2020-09-30    437385547544                1   \n",
       "38505  38505          870       2020-09-30    437385547544                2   \n",
       "\n",
       "       num_items  sales_cost  \n",
       "0              7       19.16  \n",
       "1              5        7.71  \n",
       "2              4       26.97  \n",
       "3              2       38.52  \n",
       "4              4       22.13  \n",
       "...          ...         ...  \n",
       "38501          4       51.61  \n",
       "38502         15       33.77  \n",
       "38503          3       23.46  \n",
       "38504          1       18.52  \n",
       "38505          6        2.63  \n",
       "\n",
       "[38392 rows x 7 columns]"
      ]
     },
     "execution_count": 135,
     "metadata": {},
     "output_type": "execute_result"
    }
   ],
   "source": [
    "transactions.loc[transactions[\"customer_id\"].isin([642,700])]\n",
    "transactions.loc[~transactions[\"customer_id\"].isin([642,700])]\n"
   ]
  },
  {
   "attachments": {},
   "cell_type": "markdown",
   "metadata": {},
   "source": [
    "## Renaming Columns"
   ]
  },
  {
   "cell_type": "code",
   "execution_count": 136,
   "metadata": {},
   "outputs": [
    {
     "data": {
      "text/plain": [
       "['index',\n",
       " 'customer_id',\n",
       " 'transaction_date',\n",
       " 'transaction_id',\n",
       " 'product_area_id',\n",
       " 'num_items',\n",
       " 'sales_cost']"
      ]
     },
     "execution_count": 136,
     "metadata": {},
     "output_type": "execute_result"
    }
   ],
   "source": [
    "list(transactions)"
   ]
  },
  {
   "cell_type": "code",
   "execution_count": 137,
   "metadata": {},
   "outputs": [
    {
     "data": {
      "text/plain": [
       "['index',\n",
       " 'friend_id',\n",
       " 'transaction_date',\n",
       " 'transaction_id',\n",
       " 'product_area_id',\n",
       " 'num_items',\n",
       " 'sales_cost']"
      ]
     },
     "execution_count": 137,
     "metadata": {},
     "output_type": "execute_result"
    }
   ],
   "source": [
    "transactions.rename(columns={\"customer_id\":\"friend_id\"}, inplace=True)\n",
    "list(transactions)"
   ]
  },
  {
   "cell_type": "code",
   "execution_count": 139,
   "metadata": {},
   "outputs": [
    {
     "data": {
      "text/plain": [
       "['index',\n",
       " 'friend_id',\n",
       " 'test_date',\n",
       " 'test_id',\n",
       " 'product_area_id',\n",
       " 'num_items',\n",
       " 'sales_cost']"
      ]
     },
     "execution_count": 139,
     "metadata": {},
     "output_type": "execute_result"
    }
   ],
   "source": [
    "column_names = ['index','friend_id',\n",
    " 'test_date',\n",
    " 'test_id',\n",
    " 'product_area_id',\n",
    " 'num_items',\n",
    " 'sales_cost']\n",
    "transactions.columns = column_names\n",
    "list(transactions)"
   ]
  },
  {
   "cell_type": "code",
   "execution_count": 140,
   "metadata": {},
   "outputs": [
    {
     "data": {
      "text/html": [
       "<div>\n",
       "<style scoped>\n",
       "    .dataframe tbody tr th:only-of-type {\n",
       "        vertical-align: middle;\n",
       "    }\n",
       "\n",
       "    .dataframe tbody tr th {\n",
       "        vertical-align: top;\n",
       "    }\n",
       "\n",
       "    .dataframe thead th {\n",
       "        text-align: right;\n",
       "    }\n",
       "</style>\n",
       "<table border=\"1\" class=\"dataframe\">\n",
       "  <thead>\n",
       "    <tr style=\"text-align: right;\">\n",
       "      <th></th>\n",
       "      <th>index</th>\n",
       "      <th>friend id</th>\n",
       "      <th>test date</th>\n",
       "      <th>test id</th>\n",
       "      <th>product area id</th>\n",
       "      <th>num items</th>\n",
       "      <th>sales cost</th>\n",
       "    </tr>\n",
       "  </thead>\n",
       "  <tbody>\n",
       "    <tr>\n",
       "      <th>0</th>\n",
       "      <td>0</td>\n",
       "      <td>1</td>\n",
       "      <td>2020-04-10</td>\n",
       "      <td>435657533999</td>\n",
       "      <td>3</td>\n",
       "      <td>7</td>\n",
       "      <td>19.16</td>\n",
       "    </tr>\n",
       "    <tr>\n",
       "      <th>1</th>\n",
       "      <td>1</td>\n",
       "      <td>1</td>\n",
       "      <td>2020-04-10</td>\n",
       "      <td>435657533999</td>\n",
       "      <td>2</td>\n",
       "      <td>5</td>\n",
       "      <td>7.71</td>\n",
       "    </tr>\n",
       "    <tr>\n",
       "      <th>2</th>\n",
       "      <td>2</td>\n",
       "      <td>1</td>\n",
       "      <td>2020-06-02</td>\n",
       "      <td>436189770685</td>\n",
       "      <td>4</td>\n",
       "      <td>4</td>\n",
       "      <td>26.97</td>\n",
       "    </tr>\n",
       "    <tr>\n",
       "      <th>3</th>\n",
       "      <td>3</td>\n",
       "      <td>1</td>\n",
       "      <td>2020-06-02</td>\n",
       "      <td>436189770685</td>\n",
       "      <td>1</td>\n",
       "      <td>2</td>\n",
       "      <td>38.52</td>\n",
       "    </tr>\n",
       "    <tr>\n",
       "      <th>4</th>\n",
       "      <td>4</td>\n",
       "      <td>1</td>\n",
       "      <td>2020-06-10</td>\n",
       "      <td>436265380298</td>\n",
       "      <td>4</td>\n",
       "      <td>4</td>\n",
       "      <td>22.13</td>\n",
       "    </tr>\n",
       "  </tbody>\n",
       "</table>\n",
       "</div>"
      ],
      "text/plain": [
       "   index  friend id  test date       test id  product area id  num items  \\\n",
       "0      0          1 2020-04-10  435657533999                3          7   \n",
       "1      1          1 2020-04-10  435657533999                2          5   \n",
       "2      2          1 2020-06-02  436189770685                4          4   \n",
       "3      3          1 2020-06-02  436189770685                1          2   \n",
       "4      4          1 2020-06-10  436265380298                4          4   \n",
       "\n",
       "   sales cost  \n",
       "0       19.16  \n",
       "1        7.71  \n",
       "2       26.97  \n",
       "3       38.52  \n",
       "4       22.13  "
      ]
     },
     "execution_count": 140,
     "metadata": {},
     "output_type": "execute_result"
    }
   ],
   "source": [
    "transactions.columns = transactions.columns.str.replace(\"_\", \" \")\n",
    "transactions.head()"
   ]
  },
  {
   "attachments": {},
   "cell_type": "markdown",
   "metadata": {},
   "source": [
    "## Joining & Merging DataFrames"
   ]
  },
  {
   "cell_type": "code",
   "execution_count": 141,
   "metadata": {},
   "outputs": [
    {
     "data": {
      "text/html": [
       "<div>\n",
       "<style scoped>\n",
       "    .dataframe tbody tr th:only-of-type {\n",
       "        vertical-align: middle;\n",
       "    }\n",
       "\n",
       "    .dataframe tbody tr th {\n",
       "        vertical-align: top;\n",
       "    }\n",
       "\n",
       "    .dataframe thead th {\n",
       "        text-align: right;\n",
       "    }\n",
       "</style>\n",
       "<table border=\"1\" class=\"dataframe\">\n",
       "  <thead>\n",
       "    <tr style=\"text-align: right;\">\n",
       "      <th></th>\n",
       "      <th>customer_id</th>\n",
       "      <th>transaction_date</th>\n",
       "      <th>transaction_id</th>\n",
       "      <th>product_area_id</th>\n",
       "      <th>num_items</th>\n",
       "      <th>sales_cost</th>\n",
       "    </tr>\n",
       "  </thead>\n",
       "  <tbody>\n",
       "    <tr>\n",
       "      <th>0</th>\n",
       "      <td>1</td>\n",
       "      <td>2020-04-10</td>\n",
       "      <td>435657533999</td>\n",
       "      <td>3</td>\n",
       "      <td>7</td>\n",
       "      <td>19.16</td>\n",
       "    </tr>\n",
       "    <tr>\n",
       "      <th>1</th>\n",
       "      <td>1</td>\n",
       "      <td>2020-04-10</td>\n",
       "      <td>435657533999</td>\n",
       "      <td>2</td>\n",
       "      <td>5</td>\n",
       "      <td>7.71</td>\n",
       "    </tr>\n",
       "    <tr>\n",
       "      <th>2</th>\n",
       "      <td>1</td>\n",
       "      <td>2020-06-02</td>\n",
       "      <td>436189770685</td>\n",
       "      <td>4</td>\n",
       "      <td>4</td>\n",
       "      <td>26.97</td>\n",
       "    </tr>\n",
       "    <tr>\n",
       "      <th>3</th>\n",
       "      <td>1</td>\n",
       "      <td>2020-06-02</td>\n",
       "      <td>436189770685</td>\n",
       "      <td>1</td>\n",
       "      <td>2</td>\n",
       "      <td>38.52</td>\n",
       "    </tr>\n",
       "    <tr>\n",
       "      <th>4</th>\n",
       "      <td>1</td>\n",
       "      <td>2020-06-10</td>\n",
       "      <td>436265380298</td>\n",
       "      <td>4</td>\n",
       "      <td>4</td>\n",
       "      <td>22.13</td>\n",
       "    </tr>\n",
       "  </tbody>\n",
       "</table>\n",
       "</div>"
      ],
      "text/plain": [
       "   customer_id transaction_date  transaction_id  product_area_id  num_items  \\\n",
       "0            1       2020-04-10    435657533999                3          7   \n",
       "1            1       2020-04-10    435657533999                2          5   \n",
       "2            1       2020-06-02    436189770685                4          4   \n",
       "3            1       2020-06-02    436189770685                1          2   \n",
       "4            1       2020-06-10    436265380298                4          4   \n",
       "\n",
       "   sales_cost  \n",
       "0       19.16  \n",
       "1        7.71  \n",
       "2       26.97  \n",
       "3       38.52  \n",
       "4       22.13  "
      ]
     },
     "execution_count": 141,
     "metadata": {},
     "output_type": "execute_result"
    }
   ],
   "source": [
    "transactions = pd.read_excel(data_path, sheet_name=\"transactions\")\n",
    "transactions.head()"
   ]
  },
  {
   "cell_type": "code",
   "execution_count": 146,
   "metadata": {},
   "outputs": [
    {
     "name": "stdout",
     "output_type": "stream",
     "text": [
      "   A  B  C  D\n",
      "0  1  4  1  4\n",
      "1  2  5  2  5\n",
      "2  3  6  3  6\n"
     ]
    }
   ],
   "source": [
    "#Joining\n",
    "df_a = pd.DataFrame({\"A\":[1,2,3],\"B\":[4,5,6]})\n",
    "df_b = pd.DataFrame({\"C\":[1,2,3],\"D\":[4,5,6]})\n",
    "\n",
    "df_c = pd.concat([df_a,df_b], axis=1)\n",
    "print(df_c)"
   ]
  },
  {
   "cell_type": "code",
   "execution_count": 147,
   "metadata": {},
   "outputs": [
    {
     "name": "stdout",
     "output_type": "stream",
     "text": [
      "     A    B    C    D\n",
      "0  1.0  4.0  NaN  NaN\n",
      "1  2.0  5.0  NaN  NaN\n",
      "2  3.0  6.0  NaN  NaN\n",
      "0  NaN  NaN  1.0  4.0\n",
      "1  NaN  NaN  2.0  5.0\n",
      "2  NaN  NaN  3.0  6.0\n"
     ]
    }
   ],
   "source": [
    "df_c = pd.concat([df_a,df_b], axis=0)\n",
    "print(df_c)"
   ]
  },
  {
   "cell_type": "code",
   "execution_count": 148,
   "metadata": {},
   "outputs": [
    {
     "name": "stdout",
     "output_type": "stream",
     "text": [
      "   A  B\n",
      "0  1  4\n",
      "1  2  5\n",
      "2  3  6\n",
      "0  1  4\n",
      "1  2  5\n",
      "2  3  6\n"
     ]
    }
   ],
   "source": [
    "df_a = pd.DataFrame({\"A\":[1,2,3],\"B\":[4,5,6]})\n",
    "df_b = pd.DataFrame({\"A\":[1,2,3],\"B\":[4,5,6]})\n",
    "df_c = pd.concat([df_a,df_b], axis=0)\n",
    "print(df_c)"
   ]
  },
  {
   "cell_type": "code",
   "execution_count": 149,
   "metadata": {},
   "outputs": [
    {
     "name": "stderr",
     "output_type": "stream",
     "text": [
      "C:\\Users\\eacalder\\AppData\\Local\\Temp\\1/ipykernel_9488/3716620015.py:1: FutureWarning: The frame.append method is deprecated and will be removed from pandas in a future version. Use pandas.concat instead.\n",
      "  df_a.append(df_b)\n"
     ]
    },
    {
     "data": {
      "text/html": [
       "<div>\n",
       "<style scoped>\n",
       "    .dataframe tbody tr th:only-of-type {\n",
       "        vertical-align: middle;\n",
       "    }\n",
       "\n",
       "    .dataframe tbody tr th {\n",
       "        vertical-align: top;\n",
       "    }\n",
       "\n",
       "    .dataframe thead th {\n",
       "        text-align: right;\n",
       "    }\n",
       "</style>\n",
       "<table border=\"1\" class=\"dataframe\">\n",
       "  <thead>\n",
       "    <tr style=\"text-align: right;\">\n",
       "      <th></th>\n",
       "      <th>A</th>\n",
       "      <th>B</th>\n",
       "    </tr>\n",
       "  </thead>\n",
       "  <tbody>\n",
       "    <tr>\n",
       "      <th>0</th>\n",
       "      <td>1</td>\n",
       "      <td>4</td>\n",
       "    </tr>\n",
       "    <tr>\n",
       "      <th>1</th>\n",
       "      <td>2</td>\n",
       "      <td>5</td>\n",
       "    </tr>\n",
       "    <tr>\n",
       "      <th>2</th>\n",
       "      <td>3</td>\n",
       "      <td>6</td>\n",
       "    </tr>\n",
       "    <tr>\n",
       "      <th>0</th>\n",
       "      <td>1</td>\n",
       "      <td>4</td>\n",
       "    </tr>\n",
       "    <tr>\n",
       "      <th>1</th>\n",
       "      <td>2</td>\n",
       "      <td>5</td>\n",
       "    </tr>\n",
       "    <tr>\n",
       "      <th>2</th>\n",
       "      <td>3</td>\n",
       "      <td>6</td>\n",
       "    </tr>\n",
       "  </tbody>\n",
       "</table>\n",
       "</div>"
      ],
      "text/plain": [
       "   A  B\n",
       "0  1  4\n",
       "1  2  5\n",
       "2  3  6\n",
       "0  1  4\n",
       "1  2  5\n",
       "2  3  6"
      ]
     },
     "execution_count": 149,
     "metadata": {},
     "output_type": "execute_result"
    }
   ],
   "source": [
    "df_a.append(df_b)"
   ]
  },
  {
   "cell_type": "code",
   "execution_count": 150,
   "metadata": {},
   "outputs": [],
   "source": [
    "#Merging\n",
    "df_a = pd.DataFrame({\"user_id\":[1,2,3,5,7],\"age\":[41,15,60,18,29]})\n",
    "df_b = pd.DataFrame({\"user_id\":[1,2,3,4,5],\"gender\":[\"m\",\"f\",\"f\",\"f\",\"m\"]})"
   ]
  },
  {
   "cell_type": "code",
   "execution_count": 151,
   "metadata": {},
   "outputs": [
    {
     "data": {
      "text/html": [
       "<div>\n",
       "<style scoped>\n",
       "    .dataframe tbody tr th:only-of-type {\n",
       "        vertical-align: middle;\n",
       "    }\n",
       "\n",
       "    .dataframe tbody tr th {\n",
       "        vertical-align: top;\n",
       "    }\n",
       "\n",
       "    .dataframe thead th {\n",
       "        text-align: right;\n",
       "    }\n",
       "</style>\n",
       "<table border=\"1\" class=\"dataframe\">\n",
       "  <thead>\n",
       "    <tr style=\"text-align: right;\">\n",
       "      <th></th>\n",
       "      <th>user_id</th>\n",
       "      <th>age</th>\n",
       "      <th>gender</th>\n",
       "    </tr>\n",
       "  </thead>\n",
       "  <tbody>\n",
       "    <tr>\n",
       "      <th>0</th>\n",
       "      <td>1</td>\n",
       "      <td>41</td>\n",
       "      <td>m</td>\n",
       "    </tr>\n",
       "    <tr>\n",
       "      <th>1</th>\n",
       "      <td>2</td>\n",
       "      <td>15</td>\n",
       "      <td>f</td>\n",
       "    </tr>\n",
       "    <tr>\n",
       "      <th>2</th>\n",
       "      <td>3</td>\n",
       "      <td>60</td>\n",
       "      <td>f</td>\n",
       "    </tr>\n",
       "    <tr>\n",
       "      <th>3</th>\n",
       "      <td>5</td>\n",
       "      <td>18</td>\n",
       "      <td>m</td>\n",
       "    </tr>\n",
       "  </tbody>\n",
       "</table>\n",
       "</div>"
      ],
      "text/plain": [
       "   user_id  age gender\n",
       "0        1   41      m\n",
       "1        2   15      f\n",
       "2        3   60      f\n",
       "3        5   18      m"
      ]
     },
     "execution_count": 151,
     "metadata": {},
     "output_type": "execute_result"
    }
   ],
   "source": [
    "#inner join\n",
    "pd.merge(df_a,df_b,how='inner',on=\"user_id\")\n"
   ]
  },
  {
   "cell_type": "code",
   "execution_count": 152,
   "metadata": {},
   "outputs": [
    {
     "data": {
      "text/html": [
       "<div>\n",
       "<style scoped>\n",
       "    .dataframe tbody tr th:only-of-type {\n",
       "        vertical-align: middle;\n",
       "    }\n",
       "\n",
       "    .dataframe tbody tr th {\n",
       "        vertical-align: top;\n",
       "    }\n",
       "\n",
       "    .dataframe thead th {\n",
       "        text-align: right;\n",
       "    }\n",
       "</style>\n",
       "<table border=\"1\" class=\"dataframe\">\n",
       "  <thead>\n",
       "    <tr style=\"text-align: right;\">\n",
       "      <th></th>\n",
       "      <th>user_id</th>\n",
       "      <th>age</th>\n",
       "      <th>gender</th>\n",
       "    </tr>\n",
       "  </thead>\n",
       "  <tbody>\n",
       "    <tr>\n",
       "      <th>0</th>\n",
       "      <td>1</td>\n",
       "      <td>41</td>\n",
       "      <td>m</td>\n",
       "    </tr>\n",
       "    <tr>\n",
       "      <th>1</th>\n",
       "      <td>2</td>\n",
       "      <td>15</td>\n",
       "      <td>f</td>\n",
       "    </tr>\n",
       "    <tr>\n",
       "      <th>2</th>\n",
       "      <td>3</td>\n",
       "      <td>60</td>\n",
       "      <td>f</td>\n",
       "    </tr>\n",
       "    <tr>\n",
       "      <th>3</th>\n",
       "      <td>5</td>\n",
       "      <td>18</td>\n",
       "      <td>m</td>\n",
       "    </tr>\n",
       "    <tr>\n",
       "      <th>4</th>\n",
       "      <td>7</td>\n",
       "      <td>29</td>\n",
       "      <td>NaN</td>\n",
       "    </tr>\n",
       "  </tbody>\n",
       "</table>\n",
       "</div>"
      ],
      "text/plain": [
       "   user_id  age gender\n",
       "0        1   41      m\n",
       "1        2   15      f\n",
       "2        3   60      f\n",
       "3        5   18      m\n",
       "4        7   29    NaN"
      ]
     },
     "execution_count": 152,
     "metadata": {},
     "output_type": "execute_result"
    }
   ],
   "source": [
    "#left join\n",
    "pd.merge(df_a,df_b,how='left',on=\"user_id\")"
   ]
  },
  {
   "cell_type": "code",
   "execution_count": 153,
   "metadata": {},
   "outputs": [
    {
     "data": {
      "text/html": [
       "<div>\n",
       "<style scoped>\n",
       "    .dataframe tbody tr th:only-of-type {\n",
       "        vertical-align: middle;\n",
       "    }\n",
       "\n",
       "    .dataframe tbody tr th {\n",
       "        vertical-align: top;\n",
       "    }\n",
       "\n",
       "    .dataframe thead th {\n",
       "        text-align: right;\n",
       "    }\n",
       "</style>\n",
       "<table border=\"1\" class=\"dataframe\">\n",
       "  <thead>\n",
       "    <tr style=\"text-align: right;\">\n",
       "      <th></th>\n",
       "      <th>user_id</th>\n",
       "      <th>age</th>\n",
       "      <th>gender</th>\n",
       "    </tr>\n",
       "  </thead>\n",
       "  <tbody>\n",
       "    <tr>\n",
       "      <th>0</th>\n",
       "      <td>1</td>\n",
       "      <td>41.0</td>\n",
       "      <td>m</td>\n",
       "    </tr>\n",
       "    <tr>\n",
       "      <th>1</th>\n",
       "      <td>2</td>\n",
       "      <td>15.0</td>\n",
       "      <td>f</td>\n",
       "    </tr>\n",
       "    <tr>\n",
       "      <th>2</th>\n",
       "      <td>3</td>\n",
       "      <td>60.0</td>\n",
       "      <td>f</td>\n",
       "    </tr>\n",
       "    <tr>\n",
       "      <th>3</th>\n",
       "      <td>5</td>\n",
       "      <td>18.0</td>\n",
       "      <td>m</td>\n",
       "    </tr>\n",
       "    <tr>\n",
       "      <th>4</th>\n",
       "      <td>7</td>\n",
       "      <td>29.0</td>\n",
       "      <td>NaN</td>\n",
       "    </tr>\n",
       "    <tr>\n",
       "      <th>5</th>\n",
       "      <td>4</td>\n",
       "      <td>NaN</td>\n",
       "      <td>f</td>\n",
       "    </tr>\n",
       "  </tbody>\n",
       "</table>\n",
       "</div>"
      ],
      "text/plain": [
       "   user_id   age gender\n",
       "0        1  41.0      m\n",
       "1        2  15.0      f\n",
       "2        3  60.0      f\n",
       "3        5  18.0      m\n",
       "4        7  29.0    NaN\n",
       "5        4   NaN      f"
      ]
     },
     "execution_count": 153,
     "metadata": {},
     "output_type": "execute_result"
    }
   ],
   "source": [
    "#outer join\n",
    "pd.merge(df_a,df_b,how='outer',on=\"user_id\")"
   ]
  },
  {
   "cell_type": "code",
   "execution_count": null,
   "metadata": {},
   "outputs": [],
   "source": [
    "# join on multiple columns\n",
    "pd.merge(df_a,df_b,how='inner',on=[\"user_id\",\"column2\"])"
   ]
  },
  {
   "cell_type": "code",
   "execution_count": 154,
   "metadata": {},
   "outputs": [
    {
     "data": {
      "text/html": [
       "<div>\n",
       "<style scoped>\n",
       "    .dataframe tbody tr th:only-of-type {\n",
       "        vertical-align: middle;\n",
       "    }\n",
       "\n",
       "    .dataframe tbody tr th {\n",
       "        vertical-align: top;\n",
       "    }\n",
       "\n",
       "    .dataframe thead th {\n",
       "        text-align: right;\n",
       "    }\n",
       "</style>\n",
       "<table border=\"1\" class=\"dataframe\">\n",
       "  <thead>\n",
       "    <tr style=\"text-align: right;\">\n",
       "      <th></th>\n",
       "      <th>user_id</th>\n",
       "      <th>age</th>\n",
       "      <th>customer_id</th>\n",
       "      <th>gender</th>\n",
       "    </tr>\n",
       "  </thead>\n",
       "  <tbody>\n",
       "    <tr>\n",
       "      <th>0</th>\n",
       "      <td>1</td>\n",
       "      <td>41</td>\n",
       "      <td>1</td>\n",
       "      <td>m</td>\n",
       "    </tr>\n",
       "    <tr>\n",
       "      <th>1</th>\n",
       "      <td>2</td>\n",
       "      <td>15</td>\n",
       "      <td>2</td>\n",
       "      <td>f</td>\n",
       "    </tr>\n",
       "    <tr>\n",
       "      <th>2</th>\n",
       "      <td>3</td>\n",
       "      <td>60</td>\n",
       "      <td>3</td>\n",
       "      <td>f</td>\n",
       "    </tr>\n",
       "    <tr>\n",
       "      <th>3</th>\n",
       "      <td>5</td>\n",
       "      <td>18</td>\n",
       "      <td>5</td>\n",
       "      <td>m</td>\n",
       "    </tr>\n",
       "  </tbody>\n",
       "</table>\n",
       "</div>"
      ],
      "text/plain": [
       "   user_id  age  customer_id gender\n",
       "0        1   41            1      m\n",
       "1        2   15            2      f\n",
       "2        3   60            3      f\n",
       "3        5   18            5      m"
      ]
     },
     "execution_count": 154,
     "metadata": {},
     "output_type": "execute_result"
    }
   ],
   "source": [
    "df_b.rename(columns={\"user_id\":\"customer_id\"}, inplace=True)\n",
    "pd.merge(df_a,df_b, how='inner',left_on='user_id', right_on=\"customer_id\")"
   ]
  },
  {
   "attachments": {},
   "cell_type": "markdown",
   "metadata": {},
   "source": [
    "## Aggregating Data Using GROUPBY"
   ]
  },
  {
   "cell_type": "code",
   "execution_count": 156,
   "metadata": {},
   "outputs": [
    {
     "data": {
      "text/html": [
       "<div>\n",
       "<style scoped>\n",
       "    .dataframe tbody tr th:only-of-type {\n",
       "        vertical-align: middle;\n",
       "    }\n",
       "\n",
       "    .dataframe tbody tr th {\n",
       "        vertical-align: top;\n",
       "    }\n",
       "\n",
       "    .dataframe thead th {\n",
       "        text-align: right;\n",
       "    }\n",
       "</style>\n",
       "<table border=\"1\" class=\"dataframe\">\n",
       "  <thead>\n",
       "    <tr style=\"text-align: right;\">\n",
       "      <th></th>\n",
       "      <th>customer_id</th>\n",
       "      <th>transaction_date</th>\n",
       "      <th>transaction_id</th>\n",
       "      <th>product_area_id</th>\n",
       "      <th>num_items</th>\n",
       "      <th>sales_cost</th>\n",
       "    </tr>\n",
       "  </thead>\n",
       "  <tbody>\n",
       "    <tr>\n",
       "      <th>0</th>\n",
       "      <td>1</td>\n",
       "      <td>2020-04-10</td>\n",
       "      <td>435657533999</td>\n",
       "      <td>3</td>\n",
       "      <td>7</td>\n",
       "      <td>19.16</td>\n",
       "    </tr>\n",
       "    <tr>\n",
       "      <th>1</th>\n",
       "      <td>1</td>\n",
       "      <td>2020-04-10</td>\n",
       "      <td>435657533999</td>\n",
       "      <td>2</td>\n",
       "      <td>5</td>\n",
       "      <td>7.71</td>\n",
       "    </tr>\n",
       "    <tr>\n",
       "      <th>2</th>\n",
       "      <td>1</td>\n",
       "      <td>2020-06-02</td>\n",
       "      <td>436189770685</td>\n",
       "      <td>4</td>\n",
       "      <td>4</td>\n",
       "      <td>26.97</td>\n",
       "    </tr>\n",
       "    <tr>\n",
       "      <th>3</th>\n",
       "      <td>1</td>\n",
       "      <td>2020-06-02</td>\n",
       "      <td>436189770685</td>\n",
       "      <td>1</td>\n",
       "      <td>2</td>\n",
       "      <td>38.52</td>\n",
       "    </tr>\n",
       "    <tr>\n",
       "      <th>4</th>\n",
       "      <td>1</td>\n",
       "      <td>2020-06-10</td>\n",
       "      <td>436265380298</td>\n",
       "      <td>4</td>\n",
       "      <td>4</td>\n",
       "      <td>22.13</td>\n",
       "    </tr>\n",
       "  </tbody>\n",
       "</table>\n",
       "</div>"
      ],
      "text/plain": [
       "   customer_id transaction_date  transaction_id  product_area_id  num_items  \\\n",
       "0            1       2020-04-10    435657533999                3          7   \n",
       "1            1       2020-04-10    435657533999                2          5   \n",
       "2            1       2020-06-02    436189770685                4          4   \n",
       "3            1       2020-06-02    436189770685                1          2   \n",
       "4            1       2020-06-10    436265380298                4          4   \n",
       "\n",
       "   sales_cost  \n",
       "0       19.16  \n",
       "1        7.71  \n",
       "2       26.97  \n",
       "3       38.52  \n",
       "4       22.13  "
      ]
     },
     "execution_count": 156,
     "metadata": {},
     "output_type": "execute_result"
    }
   ],
   "source": [
    "transactions = pd.read_excel(data_path, sheet_name=\"transactions\")\n",
    "product_areas = pd.read_excel(data_path, sheet_name=\"product_areas\")\n",
    "transactions.head()"
   ]
  },
  {
   "cell_type": "code",
   "execution_count": 159,
   "metadata": {},
   "outputs": [
    {
     "data": {
      "text/plain": [
       "1549727.8199999998"
      ]
     },
     "execution_count": 159,
     "metadata": {},
     "output_type": "execute_result"
    }
   ],
   "source": [
    "transactions[\"sales_cost\"].sum()"
   ]
  },
  {
   "cell_type": "code",
   "execution_count": 160,
   "metadata": {},
   "outputs": [
    {
     "data": {
      "text/plain": [
       "Fruit         8699\n",
       "Vegetables    8473\n",
       "Non-Food      7784\n",
       "Dairy         7360\n",
       "Meat          6190\n",
       "Name: product_area_name, dtype: int64"
      ]
     },
     "execution_count": 160,
     "metadata": {},
     "output_type": "execute_result"
    }
   ],
   "source": [
    "merge_trans = pd.merge(transactions,product_areas, how='inner', on='product_area_id')\n",
    "merge_trans['product_area_name'].value_counts()"
   ]
  },
  {
   "cell_type": "code",
   "execution_count": 163,
   "metadata": {},
   "outputs": [
    {
     "data": {
      "text/plain": [
       "product_area_name\n",
       "Dairy         175792.77\n",
       "Fruit         252033.53\n",
       "Meat          240892.82\n",
       "Non-Food      747129.45\n",
       "Vegetables    133879.25\n",
       "Name: sales_cost, dtype: float64"
      ]
     },
     "execution_count": 163,
     "metadata": {},
     "output_type": "execute_result"
    }
   ],
   "source": [
    "merge_trans.groupby('product_area_name')[\"sales_cost\"].sum()"
   ]
  },
  {
   "cell_type": "code",
   "execution_count": 164,
   "metadata": {},
   "outputs": [
    {
     "data": {
      "text/plain": [
       "product_area_name      \n",
       "Dairy              0.25      9.5300\n",
       "                   0.50     17.9150\n",
       "                   0.75     30.8425\n",
       "Fruit              0.25     11.1400\n",
       "                   0.50     21.7100\n",
       "                   0.75     38.5500\n",
       "Meat               0.25     15.4500\n",
       "                   0.50     28.0000\n",
       "                   0.75     49.8950\n",
       "Non-Food           0.25     31.9575\n",
       "                   0.50     63.1550\n",
       "                   0.75    126.4575\n",
       "Vegetables         0.25      4.8100\n",
       "                   0.50     11.6100\n",
       "                   0.75     21.8500\n",
       "Name: sales_cost, dtype: float64"
      ]
     },
     "execution_count": 164,
     "metadata": {},
     "output_type": "execute_result"
    }
   ],
   "source": [
    "merge_trans.groupby('product_area_name')[\"sales_cost\"].quantile([.25,.5,.75])"
   ]
  },
  {
   "cell_type": "code",
   "execution_count": 167,
   "metadata": {},
   "outputs": [
    {
     "name": "stdout",
     "output_type": "stream",
     "text": [
      "<class 'pandas.core.series.Series'>\n",
      "<class 'pandas.core.frame.DataFrame'>\n"
     ]
    }
   ],
   "source": [
    "sales_summary = merge_trans.groupby('product_area_name')[\"sales_cost\"].sum()\n",
    "print(type(sales_summary))\n",
    "sales_summary = merge_trans.groupby('product_area_name')[\"sales_cost\"].sum().reset_index()\n",
    "print(type(sales_summary)) # way to get a dataframe as an output"
   ]
  },
  {
   "cell_type": "code",
   "execution_count": 169,
   "metadata": {},
   "outputs": [
    {
     "name": "stdout",
     "output_type": "stream",
     "text": [
      "<class 'method'>\n",
      "<bound method Series.reset_index of product_area_name  transaction_date\n",
      "Dairy              2020-04-01          1043.14\n",
      "                   2020-04-02          1204.71\n",
      "                   2020-04-03          1122.61\n",
      "                   2020-04-04          1232.02\n",
      "                   2020-04-05           995.28\n",
      "                                        ...   \n",
      "Vegetables         2020-09-26           741.34\n",
      "                   2020-09-27          1028.84\n",
      "                   2020-09-28           749.91\n",
      "                   2020-09-29           784.13\n",
      "                   2020-09-30           770.43\n",
      "Name: sales_cost, Length: 915, dtype: float64>\n"
     ]
    }
   ],
   "source": [
    "sales_summary = merge_trans.groupby(['product_area_name','transaction_date'])[\"sales_cost\"].sum().reset_index\n",
    "print(type(sales_summary))\n",
    "print(sales_summary)"
   ]
  },
  {
   "cell_type": "code",
   "execution_count": 170,
   "metadata": {},
   "outputs": [
    {
     "name": "stdout",
     "output_type": "stream",
     "text": [
      "<class 'method'>\n",
      "<bound method DataFrame.reset_index of                                     sales_cost  num_items\n",
      "product_area_name transaction_date                       \n",
      "Dairy             2020-04-01           1043.14        203\n",
      "                  2020-04-02           1204.71        250\n",
      "                  2020-04-03           1122.61        219\n",
      "                  2020-04-04           1232.02        251\n",
      "                  2020-04-05            995.28        195\n",
      "...                                        ...        ...\n",
      "Vegetables        2020-09-26            741.34        309\n",
      "                  2020-09-27           1028.84        489\n",
      "                  2020-09-28            749.91        357\n",
      "                  2020-09-29            784.13        390\n",
      "                  2020-09-30            770.43        326\n",
      "\n",
      "[915 rows x 2 columns]>\n"
     ]
    }
   ],
   "source": [
    "sales_summary = merge_trans.groupby(['product_area_name','transaction_date'])[[\"sales_cost\",\"num_items\"]].sum().reset_index\n",
    "print(type(sales_summary))\n",
    "print(sales_summary)"
   ]
  },
  {
   "cell_type": "code",
   "execution_count": 171,
   "metadata": {},
   "outputs": [
    {
     "name": "stdout",
     "output_type": "stream",
     "text": [
      "<class 'pandas.core.frame.DataFrame'>\n",
      "  product_area_name  sales_cost\n",
      "0             Dairy   175792.77\n",
      "1             Fruit   252033.53\n",
      "2              Meat   240892.82\n",
      "3          Non-Food   747129.45\n",
      "4        Vegetables   133879.25\n"
     ]
    }
   ],
   "source": [
    "sales_summary = merge_trans.groupby('product_area_name')[\"sales_cost\"].agg(\"sum\").reset_index()\n",
    "print(type(sales_summary))\n",
    "print(sales_summary)"
   ]
  },
  {
   "cell_type": "code",
   "execution_count": 173,
   "metadata": {},
   "outputs": [
    {
     "name": "stdout",
     "output_type": "stream",
     "text": [
      "<class 'pandas.core.frame.DataFrame'>\n",
      "  product_area_name        sum       mean\n",
      "0             Dairy  175792.77  23.884887\n",
      "1             Fruit  252033.53  28.972701\n",
      "2              Meat  240892.82  38.916449\n",
      "3          Non-Food  747129.45  95.982715\n",
      "4        Vegetables  133879.25  15.800690\n"
     ]
    }
   ],
   "source": [
    "sales_summary = merge_trans.groupby('product_area_name')[\"sales_cost\"].agg([\"sum\",\"mean\"]).reset_index()\n",
    "print(type(sales_summary))\n",
    "print(sales_summary)"
   ]
  },
  {
   "cell_type": "code",
   "execution_count": 175,
   "metadata": {},
   "outputs": [
    {
     "name": "stdout",
     "output_type": "stream",
     "text": [
      "<class 'pandas.core.frame.DataFrame'>\n",
      "                                   sales_cost            num_items          \n",
      "                                          sum       mean       sum      mean\n",
      "product_area_name transaction_date                                          \n",
      "Dairy             2020-04-01          1043.14  22.676957       203  4.413043\n",
      "                  2020-04-02          1204.71  26.771333       250  5.555556\n",
      "                  2020-04-03          1122.61  24.404565       219  4.760870\n",
      "                  2020-04-04          1232.02  22.000357       251  4.482143\n",
      "                  2020-04-05           995.28  23.697143       195  4.642857\n",
      "...                                       ...        ...       ...       ...\n",
      "Vegetables        2020-09-26           741.34  16.848636       309  7.022727\n",
      "                  2020-09-27          1028.84  20.576800       489  9.780000\n",
      "                  2020-09-28           749.91  16.302391       357  7.760870\n",
      "                  2020-09-29           784.13  16.336042       390  8.125000\n",
      "                  2020-09-30           770.43  15.723061       326  6.653061\n",
      "\n",
      "[915 rows x 4 columns]\n"
     ]
    }
   ],
   "source": [
    "sales_summary = merge_trans.groupby(['product_area_name','transaction_date'])[[\"sales_cost\",\"num_items\"]].agg([\"sum\",\"mean\"])\n",
    "print(type(sales_summary))\n",
    "print(sales_summary)"
   ]
  },
  {
   "cell_type": "code",
   "execution_count": 176,
   "metadata": {},
   "outputs": [
    {
     "name": "stdout",
     "output_type": "stream",
     "text": [
      "<class 'method'>\n",
      "<bound method DataFrame.reset_index of                                    sales_cost            num_items          \n",
      "                                          sum       mean       sum      mean\n",
      "product_area_name transaction_date                                          \n",
      "Dairy             2020-04-01          1043.14  22.676957       203  4.413043\n",
      "                  2020-04-02          1204.71  26.771333       250  5.555556\n",
      "                  2020-04-03          1122.61  24.404565       219  4.760870\n",
      "                  2020-04-04          1232.02  22.000357       251  4.482143\n",
      "                  2020-04-05           995.28  23.697143       195  4.642857\n",
      "...                                       ...        ...       ...       ...\n",
      "Vegetables        2020-09-26           741.34  16.848636       309  7.022727\n",
      "                  2020-09-27          1028.84  20.576800       489  9.780000\n",
      "                  2020-09-28           749.91  16.302391       357  7.760870\n",
      "                  2020-09-29           784.13  16.336042       390  8.125000\n",
      "                  2020-09-30           770.43  15.723061       326  6.653061\n",
      "\n",
      "[915 rows x 4 columns]>\n"
     ]
    }
   ],
   "source": [
    "sales_summary = merge_trans.groupby(['product_area_name','transaction_date'])[[\"sales_cost\",\"num_items\"]].agg([\"sum\",\"mean\"]).reset_index\n",
    "print(type(sales_summary))\n",
    "print(sales_summary)"
   ]
  },
  {
   "cell_type": "code",
   "execution_count": 177,
   "metadata": {},
   "outputs": [
    {
     "name": "stdout",
     "output_type": "stream",
     "text": [
      "<class 'pandas.core.frame.DataFrame'>\n",
      "  product_area_name  sales_cost  num_items\n",
      "0             Dairy   175792.77   4.606386\n",
      "1             Fruit   252033.53   9.366134\n",
      "2              Meat   240892.82   3.739095\n",
      "3          Non-Food   747129.45   4.418808\n",
      "4        Vegetables   133879.25   7.725481\n"
     ]
    }
   ],
   "source": [
    "sales_summary = merge_trans.groupby('product_area_name').agg({\"sales_cost\":\"sum\",\"num_items\":\"mean\"}).reset_index()\n",
    "print(type(sales_summary))\n",
    "print(sales_summary)"
   ]
  },
  {
   "attachments": {},
   "cell_type": "markdown",
   "metadata": {},
   "source": [
    "## Pivoting A DataFrame"
   ]
  },
  {
   "cell_type": "code",
   "execution_count": 179,
   "metadata": {},
   "outputs": [
    {
     "data": {
      "text/html": [
       "<div>\n",
       "<style scoped>\n",
       "    .dataframe tbody tr th:only-of-type {\n",
       "        vertical-align: middle;\n",
       "    }\n",
       "\n",
       "    .dataframe tbody tr th {\n",
       "        vertical-align: top;\n",
       "    }\n",
       "\n",
       "    .dataframe thead th {\n",
       "        text-align: right;\n",
       "    }\n",
       "</style>\n",
       "<table border=\"1\" class=\"dataframe\">\n",
       "  <thead>\n",
       "    <tr style=\"text-align: right;\">\n",
       "      <th></th>\n",
       "      <th>customer_id</th>\n",
       "      <th>transaction_date</th>\n",
       "      <th>transaction_id</th>\n",
       "      <th>product_area_id</th>\n",
       "      <th>num_items</th>\n",
       "      <th>sales_cost</th>\n",
       "      <th>product_area_name</th>\n",
       "      <th>profit_margin</th>\n",
       "    </tr>\n",
       "  </thead>\n",
       "  <tbody>\n",
       "    <tr>\n",
       "      <th>0</th>\n",
       "      <td>1</td>\n",
       "      <td>2020-04-10</td>\n",
       "      <td>435657533999</td>\n",
       "      <td>3</td>\n",
       "      <td>7</td>\n",
       "      <td>19.16</td>\n",
       "      <td>Fruit</td>\n",
       "      <td>0.14</td>\n",
       "    </tr>\n",
       "    <tr>\n",
       "      <th>1</th>\n",
       "      <td>1</td>\n",
       "      <td>2020-07-20</td>\n",
       "      <td>436667313620</td>\n",
       "      <td>3</td>\n",
       "      <td>8</td>\n",
       "      <td>19.99</td>\n",
       "      <td>Fruit</td>\n",
       "      <td>0.14</td>\n",
       "    </tr>\n",
       "    <tr>\n",
       "      <th>2</th>\n",
       "      <td>1</td>\n",
       "      <td>2020-07-22</td>\n",
       "      <td>436686191960</td>\n",
       "      <td>3</td>\n",
       "      <td>20</td>\n",
       "      <td>61.69</td>\n",
       "      <td>Fruit</td>\n",
       "      <td>0.14</td>\n",
       "    </tr>\n",
       "    <tr>\n",
       "      <th>3</th>\n",
       "      <td>1</td>\n",
       "      <td>2020-08-12</td>\n",
       "      <td>436899350757</td>\n",
       "      <td>3</td>\n",
       "      <td>16</td>\n",
       "      <td>52.28</td>\n",
       "      <td>Fruit</td>\n",
       "      <td>0.14</td>\n",
       "    </tr>\n",
       "    <tr>\n",
       "      <th>4</th>\n",
       "      <td>1</td>\n",
       "      <td>2020-08-13</td>\n",
       "      <td>436908803653</td>\n",
       "      <td>3</td>\n",
       "      <td>14</td>\n",
       "      <td>34.58</td>\n",
       "      <td>Fruit</td>\n",
       "      <td>0.14</td>\n",
       "    </tr>\n",
       "  </tbody>\n",
       "</table>\n",
       "</div>"
      ],
      "text/plain": [
       "   customer_id transaction_date  transaction_id  product_area_id  num_items  \\\n",
       "0            1       2020-04-10    435657533999                3          7   \n",
       "1            1       2020-07-20    436667313620                3          8   \n",
       "2            1       2020-07-22    436686191960                3         20   \n",
       "3            1       2020-08-12    436899350757                3         16   \n",
       "4            1       2020-08-13    436908803653                3         14   \n",
       "\n",
       "   sales_cost product_area_name  profit_margin  \n",
       "0       19.16             Fruit           0.14  \n",
       "1       19.99             Fruit           0.14  \n",
       "2       61.69             Fruit           0.14  \n",
       "3       52.28             Fruit           0.14  \n",
       "4       34.58             Fruit           0.14  "
      ]
     },
     "execution_count": 179,
     "metadata": {},
     "output_type": "execute_result"
    }
   ],
   "source": [
    "product_areas.head()\n",
    "transactions.head()\n",
    "merge_trans.head()"
   ]
  },
  {
   "cell_type": "code",
   "execution_count": 180,
   "metadata": {},
   "outputs": [
    {
     "name": "stdout",
     "output_type": "stream",
     "text": [
      "<class 'pandas.core.frame.DataFrame'>\n",
      "    transaction_date product_area_name  sales_cost\n",
      "0         2020-04-01             Dairy     1043.14\n",
      "1         2020-04-01             Fruit     1137.81\n",
      "2         2020-04-01              Meat     1448.21\n",
      "3         2020-04-01          Non-Food     4667.76\n",
      "4         2020-04-01        Vegetables     1306.45\n",
      "..               ...               ...         ...\n",
      "910       2020-09-30             Dairy     1064.09\n",
      "911       2020-09-30             Fruit     1479.63\n",
      "912       2020-09-30              Meat     2050.98\n",
      "913       2020-09-30          Non-Food     3825.52\n",
      "914       2020-09-30        Vegetables      770.43\n",
      "\n",
      "[915 rows x 3 columns]\n"
     ]
    }
   ],
   "source": [
    "sales_summary = merge_trans.groupby([\"transaction_date\", \"product_area_name\"])[\"sales_cost\"].sum().reset_index()\n",
    "print(type(sales_summary))\n",
    "print(sales_summary)"
   ]
  },
  {
   "cell_type": "code",
   "execution_count": 181,
   "metadata": {},
   "outputs": [
    {
     "name": "stdout",
     "output_type": "stream",
     "text": [
      "<class 'pandas.core.frame.DataFrame'>\n",
      "product_area_name    Dairy    Fruit     Meat  Non-Food  Vegetables\n",
      "transaction_date                                                  \n",
      "2020-04-01         1043.14  1137.81  1448.21   4667.76     1306.45\n",
      "2020-04-02         1204.71  1722.27  1684.33   3834.35      758.39\n",
      "2020-04-03         1122.61  1508.80  1221.80   3861.28      887.49\n",
      "2020-04-04         1232.02  1946.22  1506.92   5172.59      678.26\n",
      "2020-04-05          995.28  1367.22  1337.26   4621.97      967.90\n",
      "...                    ...      ...      ...       ...         ...\n",
      "2020-09-26         1010.66  1471.05  1830.72   4606.51      741.34\n",
      "2020-09-27         1248.33  1712.38  1870.55   6190.36     1028.84\n",
      "2020-09-28         1135.79  1124.51  1458.74   4829.44      749.91\n",
      "2020-09-29          892.31  1445.79  1207.30   5231.01      784.13\n",
      "2020-09-30         1064.09  1479.63  2050.98   3825.52      770.43\n",
      "\n",
      "[183 rows x 5 columns]\n"
     ]
    }
   ],
   "source": [
    "sales_summary_pivot = merge_trans.pivot_table(index=\"transaction_date\",\n",
    "                                              columns=\"product_area_name\",\n",
    "                                              values=\"sales_cost\",\n",
    "                                              aggfunc=\"sum\")\n",
    "print(type(sales_summary_pivot))\n",
    "print(sales_summary_pivot)"
   ]
  },
  {
   "cell_type": "code",
   "execution_count": 182,
   "metadata": {},
   "outputs": [
    {
     "ename": "ImportError",
     "evalue": "matplotlib is required for plotting when the default backend \"matplotlib\" is selected.",
     "output_type": "error",
     "traceback": [
      "\u001b[1;31m---------------------------------------------------------------------------\u001b[0m",
      "\u001b[1;31mImportError\u001b[0m                               Traceback (most recent call last)",
      "\u001b[1;32m~\\AppData\\Local\\Temp\\1/ipykernel_9488/2910998727.py\u001b[0m in \u001b[0;36m<module>\u001b[1;34m\u001b[0m\n\u001b[1;32m----> 1\u001b[1;33m \u001b[0msales_summary_pivot\u001b[0m\u001b[1;33m.\u001b[0m\u001b[0mplot\u001b[0m\u001b[1;33m(\u001b[0m\u001b[1;33m)\u001b[0m\u001b[1;33m\u001b[0m\u001b[1;33m\u001b[0m\u001b[0m\n\u001b[0m",
      "\u001b[1;32mc:\\Users\\eacalder\\.conda\\envs\\DSInfinity\\lib\\site-packages\\pandas\\plotting\\_core.py\u001b[0m in \u001b[0;36m__call__\u001b[1;34m(self, *args, **kwargs)\u001b[0m\n\u001b[0;32m    918\u001b[0m \u001b[1;33m\u001b[0m\u001b[0m\n\u001b[0;32m    919\u001b[0m     \u001b[1;32mdef\u001b[0m \u001b[0m__call__\u001b[0m\u001b[1;33m(\u001b[0m\u001b[0mself\u001b[0m\u001b[1;33m,\u001b[0m \u001b[1;33m*\u001b[0m\u001b[0margs\u001b[0m\u001b[1;33m,\u001b[0m \u001b[1;33m**\u001b[0m\u001b[0mkwargs\u001b[0m\u001b[1;33m)\u001b[0m\u001b[1;33m:\u001b[0m\u001b[1;33m\u001b[0m\u001b[1;33m\u001b[0m\u001b[0m\n\u001b[1;32m--> 920\u001b[1;33m         \u001b[0mplot_backend\u001b[0m \u001b[1;33m=\u001b[0m \u001b[0m_get_plot_backend\u001b[0m\u001b[1;33m(\u001b[0m\u001b[0mkwargs\u001b[0m\u001b[1;33m.\u001b[0m\u001b[0mpop\u001b[0m\u001b[1;33m(\u001b[0m\u001b[1;34m\"backend\"\u001b[0m\u001b[1;33m,\u001b[0m \u001b[1;32mNone\u001b[0m\u001b[1;33m)\u001b[0m\u001b[1;33m)\u001b[0m\u001b[1;33m\u001b[0m\u001b[1;33m\u001b[0m\u001b[0m\n\u001b[0m\u001b[0;32m    921\u001b[0m \u001b[1;33m\u001b[0m\u001b[0m\n\u001b[0;32m    922\u001b[0m         x, y, kind, kwargs = self._get_call_args(\n",
      "\u001b[1;32mc:\\Users\\eacalder\\.conda\\envs\\DSInfinity\\lib\\site-packages\\pandas\\plotting\\_core.py\u001b[0m in \u001b[0;36m_get_plot_backend\u001b[1;34m(backend)\u001b[0m\n\u001b[0;32m   1884\u001b[0m         \u001b[1;32mreturn\u001b[0m \u001b[0m_backends\u001b[0m\u001b[1;33m[\u001b[0m\u001b[0mbackend_str\u001b[0m\u001b[1;33m]\u001b[0m\u001b[1;33m\u001b[0m\u001b[1;33m\u001b[0m\u001b[0m\n\u001b[0;32m   1885\u001b[0m \u001b[1;33m\u001b[0m\u001b[0m\n\u001b[1;32m-> 1886\u001b[1;33m     \u001b[0mmodule\u001b[0m \u001b[1;33m=\u001b[0m \u001b[0m_load_backend\u001b[0m\u001b[1;33m(\u001b[0m\u001b[0mbackend_str\u001b[0m\u001b[1;33m)\u001b[0m\u001b[1;33m\u001b[0m\u001b[1;33m\u001b[0m\u001b[0m\n\u001b[0m\u001b[0;32m   1887\u001b[0m     \u001b[0m_backends\u001b[0m\u001b[1;33m[\u001b[0m\u001b[0mbackend_str\u001b[0m\u001b[1;33m]\u001b[0m \u001b[1;33m=\u001b[0m \u001b[0mmodule\u001b[0m\u001b[1;33m\u001b[0m\u001b[1;33m\u001b[0m\u001b[0m\n\u001b[0;32m   1888\u001b[0m     \u001b[1;32mreturn\u001b[0m \u001b[0mmodule\u001b[0m\u001b[1;33m\u001b[0m\u001b[1;33m\u001b[0m\u001b[0m\n",
      "\u001b[1;32mc:\\Users\\eacalder\\.conda\\envs\\DSInfinity\\lib\\site-packages\\pandas\\plotting\\_core.py\u001b[0m in \u001b[0;36m_load_backend\u001b[1;34m(backend)\u001b[0m\n\u001b[0;32m   1815\u001b[0m             \u001b[0mmodule\u001b[0m \u001b[1;33m=\u001b[0m \u001b[0mimportlib\u001b[0m\u001b[1;33m.\u001b[0m\u001b[0mimport_module\u001b[0m\u001b[1;33m(\u001b[0m\u001b[1;34m\"pandas.plotting._matplotlib\"\u001b[0m\u001b[1;33m)\u001b[0m\u001b[1;33m\u001b[0m\u001b[1;33m\u001b[0m\u001b[0m\n\u001b[0;32m   1816\u001b[0m         \u001b[1;32mexcept\u001b[0m \u001b[0mImportError\u001b[0m\u001b[1;33m:\u001b[0m\u001b[1;33m\u001b[0m\u001b[1;33m\u001b[0m\u001b[0m\n\u001b[1;32m-> 1817\u001b[1;33m             raise ImportError(\n\u001b[0m\u001b[0;32m   1818\u001b[0m                 \u001b[1;34m\"matplotlib is required for plotting when the \"\u001b[0m\u001b[1;33m\u001b[0m\u001b[1;33m\u001b[0m\u001b[0m\n\u001b[0;32m   1819\u001b[0m                 \u001b[1;34m'default backend \"matplotlib\" is selected.'\u001b[0m\u001b[1;33m\u001b[0m\u001b[1;33m\u001b[0m\u001b[0m\n",
      "\u001b[1;31mImportError\u001b[0m: matplotlib is required for plotting when the default backend \"matplotlib\" is selected."
     ]
    }
   ],
   "source": [
    "sales_summary_pivot.plot()"
   ]
  },
  {
   "cell_type": "code",
   "execution_count": 183,
   "metadata": {},
   "outputs": [
    {
     "name": "stdout",
     "output_type": "stream",
     "text": [
      "<class 'pandas.core.frame.DataFrame'>\n",
      "product_area_name                 Dairy    Fruit     Meat  Non-Food  \\\n",
      "transaction_date profit_margin                                        \n",
      "2020-04-01       0.11               NaN      NaN  1448.21       NaN   \n",
      "                 0.14               NaN  1137.81      NaN       NaN   \n",
      "                 0.18               NaN      NaN      NaN       NaN   \n",
      "                 0.19           1043.14      NaN      NaN       NaN   \n",
      "                 0.25               NaN      NaN      NaN   4667.76   \n",
      "...                                 ...      ...      ...       ...   \n",
      "2020-09-30       0.11               NaN      NaN  2050.98       NaN   \n",
      "                 0.14               NaN  1479.63      NaN       NaN   \n",
      "                 0.18               NaN      NaN      NaN       NaN   \n",
      "                 0.19           1064.09      NaN      NaN       NaN   \n",
      "                 0.25               NaN      NaN      NaN   3825.52   \n",
      "\n",
      "product_area_name               Vegetables  \n",
      "transaction_date profit_margin              \n",
      "2020-04-01       0.11                  NaN  \n",
      "                 0.14                  NaN  \n",
      "                 0.18              1306.45  \n",
      "                 0.19                  NaN  \n",
      "                 0.25                  NaN  \n",
      "...                                    ...  \n",
      "2020-09-30       0.11                  NaN  \n",
      "                 0.14                  NaN  \n",
      "                 0.18               770.43  \n",
      "                 0.19                  NaN  \n",
      "                 0.25                  NaN  \n",
      "\n",
      "[915 rows x 5 columns]\n"
     ]
    }
   ],
   "source": [
    "sales_summary_pivot = merge_trans.pivot_table(index=[\"transaction_date\",\"profit_margin\"],\n",
    "                                              columns=\"product_area_name\",\n",
    "                                              values=\"sales_cost\",\n",
    "                                              aggfunc=\"sum\")\n",
    "print(type(sales_summary_pivot))\n",
    "print(sales_summary_pivot)"
   ]
  },
  {
   "cell_type": "code",
   "execution_count": 184,
   "metadata": {},
   "outputs": [
    {
     "name": "stdout",
     "output_type": "stream",
     "text": [
      "<class 'pandas.core.frame.DataFrame'>\n",
      "product_area_name                 Dairy    Fruit     Meat  Non-Food  \\\n",
      "transaction_date profit_margin                                        \n",
      "2020-04-01       0.11              0.00     0.00  1448.21      0.00   \n",
      "                 0.14              0.00  1137.81     0.00      0.00   \n",
      "                 0.18              0.00     0.00     0.00      0.00   \n",
      "                 0.19           1043.14     0.00     0.00      0.00   \n",
      "                 0.25              0.00     0.00     0.00   4667.76   \n",
      "...                                 ...      ...      ...       ...   \n",
      "2020-09-30       0.11              0.00     0.00  2050.98      0.00   \n",
      "                 0.14              0.00  1479.63     0.00      0.00   \n",
      "                 0.18              0.00     0.00     0.00      0.00   \n",
      "                 0.19           1064.09     0.00     0.00      0.00   \n",
      "                 0.25              0.00     0.00     0.00   3825.52   \n",
      "\n",
      "product_area_name               Vegetables  \n",
      "transaction_date profit_margin              \n",
      "2020-04-01       0.11                 0.00  \n",
      "                 0.14                 0.00  \n",
      "                 0.18              1306.45  \n",
      "                 0.19                 0.00  \n",
      "                 0.25                 0.00  \n",
      "...                                    ...  \n",
      "2020-09-30       0.11                 0.00  \n",
      "                 0.14                 0.00  \n",
      "                 0.18               770.43  \n",
      "                 0.19                 0.00  \n",
      "                 0.25                 0.00  \n",
      "\n",
      "[915 rows x 5 columns]\n"
     ]
    }
   ],
   "source": [
    "sales_summary_pivot = merge_trans.pivot_table(index=[\"transaction_date\",\"profit_margin\"],\n",
    "                                              columns=\"product_area_name\",\n",
    "                                              values=\"sales_cost\",\n",
    "                                              aggfunc=\"sum\",\n",
    "                                              fill_value=0)\n",
    "print(type(sales_summary_pivot))\n",
    "print(sales_summary_pivot)"
   ]
  },
  {
   "cell_type": "code",
   "execution_count": 185,
   "metadata": {},
   "outputs": [
    {
     "name": "stdout",
     "output_type": "stream",
     "text": [
      "<class 'pandas.core.frame.DataFrame'>\n",
      "product_area_name                      Dairy      Fruit       Meat   Non-Food  \\\n",
      "transaction_date    profit_margin                                               \n",
      "2020-04-01 00:00:00 0.11                0.00       0.00    1448.21       0.00   \n",
      "                    0.14                0.00    1137.81       0.00       0.00   \n",
      "                    0.18                0.00       0.00       0.00       0.00   \n",
      "                    0.19             1043.14       0.00       0.00       0.00   \n",
      "                    0.25                0.00       0.00       0.00    4667.76   \n",
      "...                                      ...        ...        ...        ...   \n",
      "2020-09-30 00:00:00 0.14                0.00    1479.63       0.00       0.00   \n",
      "                    0.18                0.00       0.00       0.00       0.00   \n",
      "                    0.19             1064.09       0.00       0.00       0.00   \n",
      "                    0.25                0.00       0.00       0.00    3825.52   \n",
      "Total                              175792.77  252033.53  240892.82  747129.45   \n",
      "\n",
      "product_area_name                  Vegetables       Total  \n",
      "transaction_date    profit_margin                          \n",
      "2020-04-01 00:00:00 0.11                 0.00     1448.21  \n",
      "                    0.14                 0.00     1137.81  \n",
      "                    0.18              1306.45     1306.45  \n",
      "                    0.19                 0.00     1043.14  \n",
      "                    0.25                 0.00     4667.76  \n",
      "...                                       ...         ...  \n",
      "2020-09-30 00:00:00 0.14                 0.00     1479.63  \n",
      "                    0.18               770.43      770.43  \n",
      "                    0.19                 0.00     1064.09  \n",
      "                    0.25                 0.00     3825.52  \n",
      "Total                               133879.25  1549727.82  \n",
      "\n",
      "[916 rows x 6 columns]\n"
     ]
    }
   ],
   "source": [
    "sales_summary_pivot = merge_trans.pivot_table(index=[\"transaction_date\",\"profit_margin\"],\n",
    "                                              columns=\"product_area_name\",\n",
    "                                              values=\"sales_cost\",\n",
    "                                              aggfunc=\"sum\",\n",
    "                                              fill_value=0,\n",
    "                                              margins=True,\n",
    "                                              margins_name=\"Total\")\n",
    "print(type(sales_summary_pivot))\n",
    "print(sales_summary_pivot)"
   ]
  },
  {
   "attachments": {},
   "cell_type": "markdown",
   "metadata": {},
   "source": [
    "## Dealing With Missing Values"
   ]
  },
  {
   "cell_type": "code",
   "execution_count": 186,
   "metadata": {},
   "outputs": [
    {
     "data": {
      "text/html": [
       "<div>\n",
       "<style scoped>\n",
       "    .dataframe tbody tr th:only-of-type {\n",
       "        vertical-align: middle;\n",
       "    }\n",
       "\n",
       "    .dataframe tbody tr th {\n",
       "        vertical-align: top;\n",
       "    }\n",
       "\n",
       "    .dataframe thead th {\n",
       "        text-align: right;\n",
       "    }\n",
       "</style>\n",
       "<table border=\"1\" class=\"dataframe\">\n",
       "  <thead>\n",
       "    <tr style=\"text-align: right;\">\n",
       "      <th></th>\n",
       "      <th>customer_id</th>\n",
       "      <th>distance_from_store</th>\n",
       "      <th>gender</th>\n",
       "      <th>credit_score</th>\n",
       "      <th>gender_numeric</th>\n",
       "    </tr>\n",
       "  </thead>\n",
       "  <tbody>\n",
       "    <tr>\n",
       "      <th>314</th>\n",
       "      <td>105</td>\n",
       "      <td>NaN</td>\n",
       "      <td>F</td>\n",
       "      <td>0.71</td>\n",
       "      <td>1</td>\n",
       "    </tr>\n",
       "    <tr>\n",
       "      <th>576</th>\n",
       "      <td>362</td>\n",
       "      <td>NaN</td>\n",
       "      <td>NaN</td>\n",
       "      <td>0.56</td>\n",
       "      <td>NaN</td>\n",
       "    </tr>\n",
       "    <tr>\n",
       "      <th>466</th>\n",
       "      <td>218</td>\n",
       "      <td>NaN</td>\n",
       "      <td>M</td>\n",
       "      <td>0.37</td>\n",
       "      <td>M</td>\n",
       "    </tr>\n",
       "    <tr>\n",
       "      <th>169</th>\n",
       "      <td>517</td>\n",
       "      <td>NaN</td>\n",
       "      <td>NaN</td>\n",
       "      <td>NaN</td>\n",
       "      <td>NaN</td>\n",
       "    </tr>\n",
       "    <tr>\n",
       "      <th>845</th>\n",
       "      <td>292</td>\n",
       "      <td>NaN</td>\n",
       "      <td>NaN</td>\n",
       "      <td>NaN</td>\n",
       "      <td>NaN</td>\n",
       "    </tr>\n",
       "  </tbody>\n",
       "</table>\n",
       "</div>"
      ],
      "text/plain": [
       "     customer_id  distance_from_store gender  credit_score gender_numeric\n",
       "314          105                  NaN      F          0.71              1\n",
       "576          362                  NaN    NaN          0.56            NaN\n",
       "466          218                  NaN      M          0.37              M\n",
       "169          517                  NaN    NaN           NaN            NaN\n",
       "845          292                  NaN    NaN           NaN            NaN"
      ]
     },
     "execution_count": 186,
     "metadata": {},
     "output_type": "execute_result"
    }
   ],
   "source": [
    "customer_details.head()"
   ]
  },
  {
   "cell_type": "code",
   "execution_count": 187,
   "metadata": {},
   "outputs": [
    {
     "data": {
      "text/plain": [
       "customer_id            0\n",
       "distance_from_store    5\n",
       "gender                 5\n",
       "credit_score           8\n",
       "gender_numeric         5\n",
       "dtype: int64"
      ]
     },
     "execution_count": 187,
     "metadata": {},
     "output_type": "execute_result"
    }
   ],
   "source": [
    "customer_details.isna().sum()"
   ]
  },
  {
   "cell_type": "code",
   "execution_count": 188,
   "metadata": {},
   "outputs": [
    {
     "data": {
      "text/plain": [
       "customer_id            870\n",
       "distance_from_store    865\n",
       "gender                 865\n",
       "credit_score           862\n",
       "gender_numeric         865\n",
       "dtype: int64"
      ]
     },
     "execution_count": 188,
     "metadata": {},
     "output_type": "execute_result"
    }
   ],
   "source": [
    "customer_details.notna().sum()"
   ]
  },
  {
   "cell_type": "code",
   "execution_count": 190,
   "metadata": {},
   "outputs": [
    {
     "data": {
      "text/html": [
       "<div>\n",
       "<style scoped>\n",
       "    .dataframe tbody tr th:only-of-type {\n",
       "        vertical-align: middle;\n",
       "    }\n",
       "\n",
       "    .dataframe tbody tr th {\n",
       "        vertical-align: top;\n",
       "    }\n",
       "\n",
       "    .dataframe thead th {\n",
       "        text-align: right;\n",
       "    }\n",
       "</style>\n",
       "<table border=\"1\" class=\"dataframe\">\n",
       "  <thead>\n",
       "    <tr style=\"text-align: right;\">\n",
       "      <th></th>\n",
       "      <th>customer_id</th>\n",
       "      <th>distance_from_store</th>\n",
       "      <th>gender</th>\n",
       "      <th>credit_score</th>\n",
       "      <th>gender_numeric</th>\n",
       "    </tr>\n",
       "  </thead>\n",
       "  <tbody>\n",
       "    <tr>\n",
       "      <th>314</th>\n",
       "      <td>105</td>\n",
       "      <td>NaN</td>\n",
       "      <td>F</td>\n",
       "      <td>0.71</td>\n",
       "      <td>1</td>\n",
       "    </tr>\n",
       "    <tr>\n",
       "      <th>576</th>\n",
       "      <td>362</td>\n",
       "      <td>NaN</td>\n",
       "      <td>NaN</td>\n",
       "      <td>0.56</td>\n",
       "      <td>NaN</td>\n",
       "    </tr>\n",
       "    <tr>\n",
       "      <th>466</th>\n",
       "      <td>218</td>\n",
       "      <td>NaN</td>\n",
       "      <td>M</td>\n",
       "      <td>0.37</td>\n",
       "      <td>M</td>\n",
       "    </tr>\n",
       "    <tr>\n",
       "      <th>169</th>\n",
       "      <td>517</td>\n",
       "      <td>NaN</td>\n",
       "      <td>NaN</td>\n",
       "      <td>NaN</td>\n",
       "      <td>NaN</td>\n",
       "    </tr>\n",
       "    <tr>\n",
       "      <th>845</th>\n",
       "      <td>292</td>\n",
       "      <td>NaN</td>\n",
       "      <td>NaN</td>\n",
       "      <td>NaN</td>\n",
       "      <td>NaN</td>\n",
       "    </tr>\n",
       "  </tbody>\n",
       "</table>\n",
       "</div>"
      ],
      "text/plain": [
       "     customer_id  distance_from_store gender  credit_score gender_numeric\n",
       "314          105                  NaN      F          0.71              1\n",
       "576          362                  NaN    NaN          0.56            NaN\n",
       "466          218                  NaN      M          0.37              M\n",
       "169          517                  NaN    NaN           NaN            NaN\n",
       "845          292                  NaN    NaN           NaN            NaN"
      ]
     },
     "execution_count": 190,
     "metadata": {},
     "output_type": "execute_result"
    }
   ],
   "source": [
    "customer_details[\"distance_from_store\"].isna().sum() # 5 rows with no value\n",
    "customer_details[customer_details[\"distance_from_store\"].isna()]"
   ]
  },
  {
   "cell_type": "code",
   "execution_count": 191,
   "metadata": {},
   "outputs": [
    {
     "data": {
      "text/html": [
       "<div>\n",
       "<style scoped>\n",
       "    .dataframe tbody tr th:only-of-type {\n",
       "        vertical-align: middle;\n",
       "    }\n",
       "\n",
       "    .dataframe tbody tr th {\n",
       "        vertical-align: top;\n",
       "    }\n",
       "\n",
       "    .dataframe thead th {\n",
       "        text-align: right;\n",
       "    }\n",
       "</style>\n",
       "<table border=\"1\" class=\"dataframe\">\n",
       "  <thead>\n",
       "    <tr style=\"text-align: right;\">\n",
       "      <th></th>\n",
       "      <th>customer_id</th>\n",
       "      <th>distance_from_store</th>\n",
       "      <th>gender</th>\n",
       "      <th>credit_score</th>\n",
       "      <th>gender_numeric</th>\n",
       "    </tr>\n",
       "  </thead>\n",
       "  <tbody>\n",
       "    <tr>\n",
       "      <th>92</th>\n",
       "      <td>640</td>\n",
       "      <td>0.00</td>\n",
       "      <td>M</td>\n",
       "      <td>0.52</td>\n",
       "      <td>M</td>\n",
       "    </tr>\n",
       "    <tr>\n",
       "      <th>458</th>\n",
       "      <td>22</td>\n",
       "      <td>0.00</td>\n",
       "      <td>M</td>\n",
       "      <td>0.68</td>\n",
       "      <td>M</td>\n",
       "    </tr>\n",
       "    <tr>\n",
       "      <th>131</th>\n",
       "      <td>260</td>\n",
       "      <td>0.00</td>\n",
       "      <td>M</td>\n",
       "      <td>0.71</td>\n",
       "      <td>M</td>\n",
       "    </tr>\n",
       "    <tr>\n",
       "      <th>683</th>\n",
       "      <td>804</td>\n",
       "      <td>0.01</td>\n",
       "      <td>M</td>\n",
       "      <td>0.53</td>\n",
       "      <td>M</td>\n",
       "    </tr>\n",
       "    <tr>\n",
       "      <th>227</th>\n",
       "      <td>2</td>\n",
       "      <td>0.01</td>\n",
       "      <td>M</td>\n",
       "      <td>0.54</td>\n",
       "      <td>M</td>\n",
       "    </tr>\n",
       "    <tr>\n",
       "      <th>...</th>\n",
       "      <td>...</td>\n",
       "      <td>...</td>\n",
       "      <td>...</td>\n",
       "      <td>...</td>\n",
       "      <td>...</td>\n",
       "    </tr>\n",
       "    <tr>\n",
       "      <th>8</th>\n",
       "      <td>52</td>\n",
       "      <td>14.91</td>\n",
       "      <td>F</td>\n",
       "      <td>0.68</td>\n",
       "      <td>1</td>\n",
       "    </tr>\n",
       "    <tr>\n",
       "      <th>613</th>\n",
       "      <td>229</td>\n",
       "      <td>18.09</td>\n",
       "      <td>F</td>\n",
       "      <td>0.67</td>\n",
       "      <td>1</td>\n",
       "    </tr>\n",
       "    <tr>\n",
       "      <th>35</th>\n",
       "      <td>762</td>\n",
       "      <td>44.37</td>\n",
       "      <td>F</td>\n",
       "      <td>0.55</td>\n",
       "      <td>1</td>\n",
       "    </tr>\n",
       "    <tr>\n",
       "      <th>197</th>\n",
       "      <td>415</td>\n",
       "      <td>113.89</td>\n",
       "      <td>F</td>\n",
       "      <td>0.57</td>\n",
       "      <td>1</td>\n",
       "    </tr>\n",
       "    <tr>\n",
       "      <th>860</th>\n",
       "      <td>711</td>\n",
       "      <td>400.97</td>\n",
       "      <td>F</td>\n",
       "      <td>0.54</td>\n",
       "      <td>1</td>\n",
       "    </tr>\n",
       "  </tbody>\n",
       "</table>\n",
       "<p>865 rows × 5 columns</p>\n",
       "</div>"
      ],
      "text/plain": [
       "     customer_id  distance_from_store gender  credit_score gender_numeric\n",
       "92           640                 0.00      M          0.52              M\n",
       "458           22                 0.00      M          0.68              M\n",
       "131          260                 0.00      M          0.71              M\n",
       "683          804                 0.01      M          0.53              M\n",
       "227            2                 0.01      M          0.54              M\n",
       "..           ...                  ...    ...           ...            ...\n",
       "8             52                14.91      F          0.68              1\n",
       "613          229                18.09      F          0.67              1\n",
       "35           762                44.37      F          0.55              1\n",
       "197          415               113.89      F          0.57              1\n",
       "860          711               400.97      F          0.54              1\n",
       "\n",
       "[865 rows x 5 columns]"
      ]
     },
     "execution_count": 191,
     "metadata": {},
     "output_type": "execute_result"
    }
   ],
   "source": [
    "customer_details[customer_details[\"distance_from_store\"].notna()] #if any value"
   ]
  },
  {
   "cell_type": "code",
   "execution_count": 194,
   "metadata": {},
   "outputs": [
    {
     "data": {
      "text/html": [
       "<div>\n",
       "<style scoped>\n",
       "    .dataframe tbody tr th:only-of-type {\n",
       "        vertical-align: middle;\n",
       "    }\n",
       "\n",
       "    .dataframe tbody tr th {\n",
       "        vertical-align: top;\n",
       "    }\n",
       "\n",
       "    .dataframe thead th {\n",
       "        text-align: right;\n",
       "    }\n",
       "</style>\n",
       "<table border=\"1\" class=\"dataframe\">\n",
       "  <thead>\n",
       "    <tr style=\"text-align: right;\">\n",
       "      <th></th>\n",
       "      <th>customer_id</th>\n",
       "      <th>distance_from_store</th>\n",
       "      <th>gender</th>\n",
       "      <th>credit_score</th>\n",
       "      <th>gender_numeric</th>\n",
       "    </tr>\n",
       "  </thead>\n",
       "  <tbody>\n",
       "    <tr>\n",
       "      <th>92</th>\n",
       "      <td>640</td>\n",
       "      <td>0.00</td>\n",
       "      <td>M</td>\n",
       "      <td>0.52</td>\n",
       "      <td>M</td>\n",
       "    </tr>\n",
       "    <tr>\n",
       "      <th>458</th>\n",
       "      <td>22</td>\n",
       "      <td>0.00</td>\n",
       "      <td>M</td>\n",
       "      <td>0.68</td>\n",
       "      <td>M</td>\n",
       "    </tr>\n",
       "    <tr>\n",
       "      <th>131</th>\n",
       "      <td>260</td>\n",
       "      <td>0.00</td>\n",
       "      <td>M</td>\n",
       "      <td>0.71</td>\n",
       "      <td>M</td>\n",
       "    </tr>\n",
       "    <tr>\n",
       "      <th>683</th>\n",
       "      <td>804</td>\n",
       "      <td>0.01</td>\n",
       "      <td>M</td>\n",
       "      <td>0.53</td>\n",
       "      <td>M</td>\n",
       "    </tr>\n",
       "    <tr>\n",
       "      <th>227</th>\n",
       "      <td>2</td>\n",
       "      <td>0.01</td>\n",
       "      <td>M</td>\n",
       "      <td>0.54</td>\n",
       "      <td>M</td>\n",
       "    </tr>\n",
       "    <tr>\n",
       "      <th>...</th>\n",
       "      <td>...</td>\n",
       "      <td>...</td>\n",
       "      <td>...</td>\n",
       "      <td>...</td>\n",
       "      <td>...</td>\n",
       "    </tr>\n",
       "    <tr>\n",
       "      <th>8</th>\n",
       "      <td>52</td>\n",
       "      <td>14.91</td>\n",
       "      <td>F</td>\n",
       "      <td>0.68</td>\n",
       "      <td>1</td>\n",
       "    </tr>\n",
       "    <tr>\n",
       "      <th>613</th>\n",
       "      <td>229</td>\n",
       "      <td>18.09</td>\n",
       "      <td>F</td>\n",
       "      <td>0.67</td>\n",
       "      <td>1</td>\n",
       "    </tr>\n",
       "    <tr>\n",
       "      <th>35</th>\n",
       "      <td>762</td>\n",
       "      <td>44.37</td>\n",
       "      <td>F</td>\n",
       "      <td>0.55</td>\n",
       "      <td>1</td>\n",
       "    </tr>\n",
       "    <tr>\n",
       "      <th>197</th>\n",
       "      <td>415</td>\n",
       "      <td>113.89</td>\n",
       "      <td>F</td>\n",
       "      <td>0.57</td>\n",
       "      <td>1</td>\n",
       "    </tr>\n",
       "    <tr>\n",
       "      <th>860</th>\n",
       "      <td>711</td>\n",
       "      <td>400.97</td>\n",
       "      <td>F</td>\n",
       "      <td>0.54</td>\n",
       "      <td>1</td>\n",
       "    </tr>\n",
       "  </tbody>\n",
       "</table>\n",
       "<p>857 rows × 5 columns</p>\n",
       "</div>"
      ],
      "text/plain": [
       "     customer_id  distance_from_store gender  credit_score gender_numeric\n",
       "92           640                 0.00      M          0.52              M\n",
       "458           22                 0.00      M          0.68              M\n",
       "131          260                 0.00      M          0.71              M\n",
       "683          804                 0.01      M          0.53              M\n",
       "227            2                 0.01      M          0.54              M\n",
       "..           ...                  ...    ...           ...            ...\n",
       "8             52                14.91      F          0.68              1\n",
       "613          229                18.09      F          0.67              1\n",
       "35           762                44.37      F          0.55              1\n",
       "197          415               113.89      F          0.57              1\n",
       "860          711               400.97      F          0.54              1\n",
       "\n",
       "[857 rows x 5 columns]"
      ]
     },
     "execution_count": 194,
     "metadata": {},
     "output_type": "execute_result"
    }
   ],
   "source": [
    "customer_details.dropna(how='any') # ay row cut if missing value"
   ]
  },
  {
   "cell_type": "code",
   "execution_count": 195,
   "metadata": {},
   "outputs": [
    {
     "data": {
      "text/html": [
       "<div>\n",
       "<style scoped>\n",
       "    .dataframe tbody tr th:only-of-type {\n",
       "        vertical-align: middle;\n",
       "    }\n",
       "\n",
       "    .dataframe tbody tr th {\n",
       "        vertical-align: top;\n",
       "    }\n",
       "\n",
       "    .dataframe thead th {\n",
       "        text-align: right;\n",
       "    }\n",
       "</style>\n",
       "<table border=\"1\" class=\"dataframe\">\n",
       "  <thead>\n",
       "    <tr style=\"text-align: right;\">\n",
       "      <th></th>\n",
       "      <th>customer_id</th>\n",
       "      <th>distance_from_store</th>\n",
       "      <th>gender</th>\n",
       "      <th>credit_score</th>\n",
       "      <th>gender_numeric</th>\n",
       "    </tr>\n",
       "  </thead>\n",
       "  <tbody>\n",
       "    <tr>\n",
       "      <th>314</th>\n",
       "      <td>105</td>\n",
       "      <td>NaN</td>\n",
       "      <td>F</td>\n",
       "      <td>0.71</td>\n",
       "      <td>1</td>\n",
       "    </tr>\n",
       "    <tr>\n",
       "      <th>576</th>\n",
       "      <td>362</td>\n",
       "      <td>NaN</td>\n",
       "      <td>NaN</td>\n",
       "      <td>0.56</td>\n",
       "      <td>NaN</td>\n",
       "    </tr>\n",
       "    <tr>\n",
       "      <th>466</th>\n",
       "      <td>218</td>\n",
       "      <td>NaN</td>\n",
       "      <td>M</td>\n",
       "      <td>0.37</td>\n",
       "      <td>M</td>\n",
       "    </tr>\n",
       "    <tr>\n",
       "      <th>169</th>\n",
       "      <td>517</td>\n",
       "      <td>NaN</td>\n",
       "      <td>NaN</td>\n",
       "      <td>NaN</td>\n",
       "      <td>NaN</td>\n",
       "    </tr>\n",
       "    <tr>\n",
       "      <th>845</th>\n",
       "      <td>292</td>\n",
       "      <td>NaN</td>\n",
       "      <td>NaN</td>\n",
       "      <td>NaN</td>\n",
       "      <td>NaN</td>\n",
       "    </tr>\n",
       "    <tr>\n",
       "      <th>...</th>\n",
       "      <td>...</td>\n",
       "      <td>...</td>\n",
       "      <td>...</td>\n",
       "      <td>...</td>\n",
       "      <td>...</td>\n",
       "    </tr>\n",
       "    <tr>\n",
       "      <th>8</th>\n",
       "      <td>52</td>\n",
       "      <td>14.91</td>\n",
       "      <td>F</td>\n",
       "      <td>0.68</td>\n",
       "      <td>1</td>\n",
       "    </tr>\n",
       "    <tr>\n",
       "      <th>613</th>\n",
       "      <td>229</td>\n",
       "      <td>18.09</td>\n",
       "      <td>F</td>\n",
       "      <td>0.67</td>\n",
       "      <td>1</td>\n",
       "    </tr>\n",
       "    <tr>\n",
       "      <th>35</th>\n",
       "      <td>762</td>\n",
       "      <td>44.37</td>\n",
       "      <td>F</td>\n",
       "      <td>0.55</td>\n",
       "      <td>1</td>\n",
       "    </tr>\n",
       "    <tr>\n",
       "      <th>197</th>\n",
       "      <td>415</td>\n",
       "      <td>113.89</td>\n",
       "      <td>F</td>\n",
       "      <td>0.57</td>\n",
       "      <td>1</td>\n",
       "    </tr>\n",
       "    <tr>\n",
       "      <th>860</th>\n",
       "      <td>711</td>\n",
       "      <td>400.97</td>\n",
       "      <td>F</td>\n",
       "      <td>0.54</td>\n",
       "      <td>1</td>\n",
       "    </tr>\n",
       "  </tbody>\n",
       "</table>\n",
       "<p>870 rows × 5 columns</p>\n",
       "</div>"
      ],
      "text/plain": [
       "     customer_id  distance_from_store gender  credit_score gender_numeric\n",
       "314          105                  NaN      F          0.71              1\n",
       "576          362                  NaN    NaN          0.56            NaN\n",
       "466          218                  NaN      M          0.37              M\n",
       "169          517                  NaN    NaN           NaN            NaN\n",
       "845          292                  NaN    NaN           NaN            NaN\n",
       "..           ...                  ...    ...           ...            ...\n",
       "8             52                14.91      F          0.68              1\n",
       "613          229                18.09      F          0.67              1\n",
       "35           762                44.37      F          0.55              1\n",
       "197          415               113.89      F          0.57              1\n",
       "860          711               400.97      F          0.54              1\n",
       "\n",
       "[870 rows x 5 columns]"
      ]
     },
     "execution_count": 195,
     "metadata": {},
     "output_type": "execute_result"
    }
   ],
   "source": [
    "customer_details.dropna(how='all') # no rows where every row is empty"
   ]
  },
  {
   "cell_type": "code",
   "execution_count": 196,
   "metadata": {},
   "outputs": [
    {
     "data": {
      "text/html": [
       "<div>\n",
       "<style scoped>\n",
       "    .dataframe tbody tr th:only-of-type {\n",
       "        vertical-align: middle;\n",
       "    }\n",
       "\n",
       "    .dataframe tbody tr th {\n",
       "        vertical-align: top;\n",
       "    }\n",
       "\n",
       "    .dataframe thead th {\n",
       "        text-align: right;\n",
       "    }\n",
       "</style>\n",
       "<table border=\"1\" class=\"dataframe\">\n",
       "  <thead>\n",
       "    <tr style=\"text-align: right;\">\n",
       "      <th></th>\n",
       "      <th>customer_id</th>\n",
       "      <th>distance_from_store</th>\n",
       "      <th>gender</th>\n",
       "      <th>credit_score</th>\n",
       "      <th>gender_numeric</th>\n",
       "    </tr>\n",
       "  </thead>\n",
       "  <tbody>\n",
       "    <tr>\n",
       "      <th>92</th>\n",
       "      <td>640</td>\n",
       "      <td>0.00</td>\n",
       "      <td>M</td>\n",
       "      <td>0.52</td>\n",
       "      <td>M</td>\n",
       "    </tr>\n",
       "    <tr>\n",
       "      <th>458</th>\n",
       "      <td>22</td>\n",
       "      <td>0.00</td>\n",
       "      <td>M</td>\n",
       "      <td>0.68</td>\n",
       "      <td>M</td>\n",
       "    </tr>\n",
       "    <tr>\n",
       "      <th>131</th>\n",
       "      <td>260</td>\n",
       "      <td>0.00</td>\n",
       "      <td>M</td>\n",
       "      <td>0.71</td>\n",
       "      <td>M</td>\n",
       "    </tr>\n",
       "    <tr>\n",
       "      <th>683</th>\n",
       "      <td>804</td>\n",
       "      <td>0.01</td>\n",
       "      <td>M</td>\n",
       "      <td>0.53</td>\n",
       "      <td>M</td>\n",
       "    </tr>\n",
       "    <tr>\n",
       "      <th>227</th>\n",
       "      <td>2</td>\n",
       "      <td>0.01</td>\n",
       "      <td>M</td>\n",
       "      <td>0.54</td>\n",
       "      <td>M</td>\n",
       "    </tr>\n",
       "    <tr>\n",
       "      <th>...</th>\n",
       "      <td>...</td>\n",
       "      <td>...</td>\n",
       "      <td>...</td>\n",
       "      <td>...</td>\n",
       "      <td>...</td>\n",
       "    </tr>\n",
       "    <tr>\n",
       "      <th>8</th>\n",
       "      <td>52</td>\n",
       "      <td>14.91</td>\n",
       "      <td>F</td>\n",
       "      <td>0.68</td>\n",
       "      <td>1</td>\n",
       "    </tr>\n",
       "    <tr>\n",
       "      <th>613</th>\n",
       "      <td>229</td>\n",
       "      <td>18.09</td>\n",
       "      <td>F</td>\n",
       "      <td>0.67</td>\n",
       "      <td>1</td>\n",
       "    </tr>\n",
       "    <tr>\n",
       "      <th>35</th>\n",
       "      <td>762</td>\n",
       "      <td>44.37</td>\n",
       "      <td>F</td>\n",
       "      <td>0.55</td>\n",
       "      <td>1</td>\n",
       "    </tr>\n",
       "    <tr>\n",
       "      <th>197</th>\n",
       "      <td>415</td>\n",
       "      <td>113.89</td>\n",
       "      <td>F</td>\n",
       "      <td>0.57</td>\n",
       "      <td>1</td>\n",
       "    </tr>\n",
       "    <tr>\n",
       "      <th>860</th>\n",
       "      <td>711</td>\n",
       "      <td>400.97</td>\n",
       "      <td>F</td>\n",
       "      <td>0.54</td>\n",
       "      <td>1</td>\n",
       "    </tr>\n",
       "  </tbody>\n",
       "</table>\n",
       "<p>865 rows × 5 columns</p>\n",
       "</div>"
      ],
      "text/plain": [
       "     customer_id  distance_from_store gender  credit_score gender_numeric\n",
       "92           640                 0.00      M          0.52              M\n",
       "458           22                 0.00      M          0.68              M\n",
       "131          260                 0.00      M          0.71              M\n",
       "683          804                 0.01      M          0.53              M\n",
       "227            2                 0.01      M          0.54              M\n",
       "..           ...                  ...    ...           ...            ...\n",
       "8             52                14.91      F          0.68              1\n",
       "613          229                18.09      F          0.67              1\n",
       "35           762                44.37      F          0.55              1\n",
       "197          415               113.89      F          0.57              1\n",
       "860          711               400.97      F          0.54              1\n",
       "\n",
       "[865 rows x 5 columns]"
      ]
     },
     "execution_count": 196,
     "metadata": {},
     "output_type": "execute_result"
    }
   ],
   "source": [
    "customer_details.dropna(how='any', subset=['distance_from_store']) "
   ]
  },
  {
   "cell_type": "code",
   "execution_count": 197,
   "metadata": {},
   "outputs": [
    {
     "data": {
      "text/html": [
       "<div>\n",
       "<style scoped>\n",
       "    .dataframe tbody tr th:only-of-type {\n",
       "        vertical-align: middle;\n",
       "    }\n",
       "\n",
       "    .dataframe tbody tr th {\n",
       "        vertical-align: top;\n",
       "    }\n",
       "\n",
       "    .dataframe thead th {\n",
       "        text-align: right;\n",
       "    }\n",
       "</style>\n",
       "<table border=\"1\" class=\"dataframe\">\n",
       "  <thead>\n",
       "    <tr style=\"text-align: right;\">\n",
       "      <th></th>\n",
       "      <th>customer_id</th>\n",
       "      <th>distance_from_store</th>\n",
       "      <th>gender</th>\n",
       "      <th>credit_score</th>\n",
       "      <th>gender_numeric</th>\n",
       "    </tr>\n",
       "  </thead>\n",
       "  <tbody>\n",
       "    <tr>\n",
       "      <th>92</th>\n",
       "      <td>640</td>\n",
       "      <td>0.00</td>\n",
       "      <td>M</td>\n",
       "      <td>0.52</td>\n",
       "      <td>M</td>\n",
       "    </tr>\n",
       "    <tr>\n",
       "      <th>458</th>\n",
       "      <td>22</td>\n",
       "      <td>0.00</td>\n",
       "      <td>M</td>\n",
       "      <td>0.68</td>\n",
       "      <td>M</td>\n",
       "    </tr>\n",
       "    <tr>\n",
       "      <th>131</th>\n",
       "      <td>260</td>\n",
       "      <td>0.00</td>\n",
       "      <td>M</td>\n",
       "      <td>0.71</td>\n",
       "      <td>M</td>\n",
       "    </tr>\n",
       "    <tr>\n",
       "      <th>683</th>\n",
       "      <td>804</td>\n",
       "      <td>0.01</td>\n",
       "      <td>M</td>\n",
       "      <td>0.53</td>\n",
       "      <td>M</td>\n",
       "    </tr>\n",
       "    <tr>\n",
       "      <th>227</th>\n",
       "      <td>2</td>\n",
       "      <td>0.01</td>\n",
       "      <td>M</td>\n",
       "      <td>0.54</td>\n",
       "      <td>M</td>\n",
       "    </tr>\n",
       "    <tr>\n",
       "      <th>...</th>\n",
       "      <td>...</td>\n",
       "      <td>...</td>\n",
       "      <td>...</td>\n",
       "      <td>...</td>\n",
       "      <td>...</td>\n",
       "    </tr>\n",
       "    <tr>\n",
       "      <th>8</th>\n",
       "      <td>52</td>\n",
       "      <td>14.91</td>\n",
       "      <td>F</td>\n",
       "      <td>0.68</td>\n",
       "      <td>1</td>\n",
       "    </tr>\n",
       "    <tr>\n",
       "      <th>613</th>\n",
       "      <td>229</td>\n",
       "      <td>18.09</td>\n",
       "      <td>F</td>\n",
       "      <td>0.67</td>\n",
       "      <td>1</td>\n",
       "    </tr>\n",
       "    <tr>\n",
       "      <th>35</th>\n",
       "      <td>762</td>\n",
       "      <td>44.37</td>\n",
       "      <td>F</td>\n",
       "      <td>0.55</td>\n",
       "      <td>1</td>\n",
       "    </tr>\n",
       "    <tr>\n",
       "      <th>197</th>\n",
       "      <td>415</td>\n",
       "      <td>113.89</td>\n",
       "      <td>F</td>\n",
       "      <td>0.57</td>\n",
       "      <td>1</td>\n",
       "    </tr>\n",
       "    <tr>\n",
       "      <th>860</th>\n",
       "      <td>711</td>\n",
       "      <td>400.97</td>\n",
       "      <td>F</td>\n",
       "      <td>0.54</td>\n",
       "      <td>1</td>\n",
       "    </tr>\n",
       "  </tbody>\n",
       "</table>\n",
       "<p>863 rows × 5 columns</p>\n",
       "</div>"
      ],
      "text/plain": [
       "     customer_id  distance_from_store gender  credit_score gender_numeric\n",
       "92           640                 0.00      M          0.52              M\n",
       "458           22                 0.00      M          0.68              M\n",
       "131          260                 0.00      M          0.71              M\n",
       "683          804                 0.01      M          0.53              M\n",
       "227            2                 0.01      M          0.54              M\n",
       "..           ...                  ...    ...           ...            ...\n",
       "8             52                14.91      F          0.68              1\n",
       "613          229                18.09      F          0.67              1\n",
       "35           762                44.37      F          0.55              1\n",
       "197          415               113.89      F          0.57              1\n",
       "860          711               400.97      F          0.54              1\n",
       "\n",
       "[863 rows x 5 columns]"
      ]
     },
     "execution_count": 197,
     "metadata": {},
     "output_type": "execute_result"
    }
   ],
   "source": [
    "customer_details.dropna(how='any', subset=['distance_from_store','gender']) "
   ]
  },
  {
   "cell_type": "code",
   "execution_count": 203,
   "metadata": {},
   "outputs": [
    {
     "name": "stdout",
     "output_type": "stream",
     "text": [
      "0    1.0\n",
      "1    2.0\n",
      "2    4.0\n",
      "3    0.0\n",
      "4    5.0\n",
      "5    0.0\n",
      "6    7.0\n",
      "Name: A, dtype: float64\n",
      "0    1.0\n",
      "1    2.0\n",
      "2    4.0\n",
      "3    3.8\n",
      "4    5.0\n",
      "5    3.8\n",
      "6    7.0\n",
      "Name: A, dtype: float64\n"
     ]
    }
   ],
   "source": [
    "my_df = pd.DataFrame({\"A\" : [1,2,4,np.nan,5,np.nan,7], \n",
    "                      \"B\":[4,np.nan,7,np.nan,1,np.nan,2]})\n",
    "my_df[\"A\"].fillna(value=0)\n",
    "imput_value = my_df[\"A\"].mean()\n",
    "print(my_df[\"A\"].fillna(value=0))\n",
    "my_df[\"A\"].fillna(value=imput_value)\n",
    "print(my_df[\"A\"].fillna(value=imput_value))"
   ]
  },
  {
   "cell_type": "code",
   "execution_count": 204,
   "metadata": {},
   "outputs": [
    {
     "data": {
      "text/plain": [
       "customer_id            0\n",
       "distance_from_store    5\n",
       "gender                 5\n",
       "credit_score           8\n",
       "gender_numeric         5\n",
       "dtype: int64"
      ]
     },
     "execution_count": 204,
     "metadata": {},
     "output_type": "execute_result"
    }
   ],
   "source": [
    "customer_details.isna().sum()"
   ]
  },
  {
   "cell_type": "code",
   "execution_count": 205,
   "metadata": {},
   "outputs": [
    {
     "data": {
      "text/plain": [
       "F    485\n",
       "M    380\n",
       "U      5\n",
       "Name: gender, dtype: int64"
      ]
     },
     "execution_count": 205,
     "metadata": {},
     "output_type": "execute_result"
    }
   ],
   "source": [
    "customer_details['gender'].fillna(value='U', inplace=True)\n",
    "customer_details['gender'].value_counts()"
   ]
  },
  {
   "cell_type": "code",
   "execution_count": 206,
   "metadata": {},
   "outputs": [
    {
     "data": {
      "text/plain": [
       "count    865.000000\n",
       "mean       2.614855\n",
       "std       14.248286\n",
       "min        0.000000\n",
       "25%        0.740000\n",
       "50%        1.660000\n",
       "75%        2.940000\n",
       "max      400.970000\n",
       "Name: distance_from_store, dtype: float64"
      ]
     },
     "execution_count": 206,
     "metadata": {},
     "output_type": "execute_result"
    }
   ],
   "source": [
    "customer_details['distance_from_store'].describe()"
   ]
  },
  {
   "cell_type": "code",
   "execution_count": 211,
   "metadata": {},
   "outputs": [
    {
     "data": {
      "text/plain": [
       "customer_id            0\n",
       "distance_from_store    0\n",
       "gender                 0\n",
       "credit_score           8\n",
       "gender_numeric         5\n",
       "dtype: int64"
      ]
     },
     "execution_count": 211,
     "metadata": {},
     "output_type": "execute_result"
    }
   ],
   "source": [
    "new = customer_details['distance_from_store'].fillna(value=customer_details['distance_from_store'].median(),inplace=True)\n",
    "customer_details.isna().sum()"
   ]
  },
  {
   "attachments": {},
   "cell_type": "markdown",
   "metadata": {},
   "source": [
    "## Dealing With Duplicate Data"
   ]
  },
  {
   "cell_type": "code",
   "execution_count": 214,
   "metadata": {},
   "outputs": [
    {
     "data": {
      "text/plain": [
       "0    False\n",
       "1    False\n",
       "2    False\n",
       "3     True\n",
       "4    False\n",
       "dtype: bool"
      ]
     },
     "execution_count": 214,
     "metadata": {},
     "output_type": "execute_result"
    }
   ],
   "source": [
    "my_df = pd.DataFrame({\"A\" : [1,1,2,2,3], \n",
    "                      \"B\":[101,102,103,103,104]})\n",
    "my_df.duplicated()"
   ]
  },
  {
   "cell_type": "code",
   "execution_count": 216,
   "metadata": {},
   "outputs": [
    {
     "data": {
      "text/plain": [
       "0    False\n",
       "1     True\n",
       "2    False\n",
       "3     True\n",
       "4    False\n",
       "Name: A, dtype: bool"
      ]
     },
     "execution_count": 216,
     "metadata": {},
     "output_type": "execute_result"
    }
   ],
   "source": [
    "my_df.duplicated().sum()\n",
    "my_df['A'].duplicated()"
   ]
  },
  {
   "cell_type": "code",
   "execution_count": 217,
   "metadata": {},
   "outputs": [
    {
     "data": {
      "text/html": [
       "<div>\n",
       "<style scoped>\n",
       "    .dataframe tbody tr th:only-of-type {\n",
       "        vertical-align: middle;\n",
       "    }\n",
       "\n",
       "    .dataframe tbody tr th {\n",
       "        vertical-align: top;\n",
       "    }\n",
       "\n",
       "    .dataframe thead th {\n",
       "        text-align: right;\n",
       "    }\n",
       "</style>\n",
       "<table border=\"1\" class=\"dataframe\">\n",
       "  <thead>\n",
       "    <tr style=\"text-align: right;\">\n",
       "      <th></th>\n",
       "      <th>A</th>\n",
       "      <th>B</th>\n",
       "    </tr>\n",
       "  </thead>\n",
       "  <tbody>\n",
       "    <tr>\n",
       "      <th>3</th>\n",
       "      <td>2</td>\n",
       "      <td>103</td>\n",
       "    </tr>\n",
       "  </tbody>\n",
       "</table>\n",
       "</div>"
      ],
      "text/plain": [
       "   A    B\n",
       "3  2  103"
      ]
     },
     "execution_count": 217,
     "metadata": {},
     "output_type": "execute_result"
    }
   ],
   "source": [
    "my_df[my_df.duplicated()]"
   ]
  },
  {
   "cell_type": "code",
   "execution_count": 218,
   "metadata": {},
   "outputs": [
    {
     "data": {
      "text/plain": [
       "0    False\n",
       "1    False\n",
       "2     True\n",
       "3     True\n",
       "4    False\n",
       "dtype: bool"
      ]
     },
     "execution_count": 218,
     "metadata": {},
     "output_type": "execute_result"
    }
   ],
   "source": [
    "my_df.duplicated(keep='first')\n",
    "my_df.duplicated(keep='last')\n",
    "my_df.duplicated(keep=False)"
   ]
  },
  {
   "cell_type": "code",
   "execution_count": 220,
   "metadata": {},
   "outputs": [],
   "source": [
    "my_df.drop_duplicates(inplace=True)"
   ]
  },
  {
   "attachments": {},
   "cell_type": "markdown",
   "metadata": {},
   "source": [
    "## Creating Charts And Plots Using Pandas"
   ]
  },
  {
   "cell_type": "code",
   "execution_count": 226,
   "metadata": {},
   "outputs": [
    {
     "data": {
      "text/html": [
       "<div>\n",
       "<style scoped>\n",
       "    .dataframe tbody tr th:only-of-type {\n",
       "        vertical-align: middle;\n",
       "    }\n",
       "\n",
       "    .dataframe tbody tr th {\n",
       "        vertical-align: top;\n",
       "    }\n",
       "\n",
       "    .dataframe thead th {\n",
       "        text-align: right;\n",
       "    }\n",
       "</style>\n",
       "<table border=\"1\" class=\"dataframe\">\n",
       "  <thead>\n",
       "    <tr style=\"text-align: right;\">\n",
       "      <th></th>\n",
       "      <th>product_area_id</th>\n",
       "      <th>product_area_name</th>\n",
       "      <th>profit_margin</th>\n",
       "    </tr>\n",
       "  </thead>\n",
       "  <tbody>\n",
       "    <tr>\n",
       "      <th>0</th>\n",
       "      <td>1</td>\n",
       "      <td>Non-Food</td>\n",
       "      <td>0.25</td>\n",
       "    </tr>\n",
       "    <tr>\n",
       "      <th>1</th>\n",
       "      <td>2</td>\n",
       "      <td>Vegetables</td>\n",
       "      <td>0.18</td>\n",
       "    </tr>\n",
       "    <tr>\n",
       "      <th>2</th>\n",
       "      <td>3</td>\n",
       "      <td>Fruit</td>\n",
       "      <td>0.14</td>\n",
       "    </tr>\n",
       "    <tr>\n",
       "      <th>3</th>\n",
       "      <td>4</td>\n",
       "      <td>Dairy</td>\n",
       "      <td>0.19</td>\n",
       "    </tr>\n",
       "    <tr>\n",
       "      <th>4</th>\n",
       "      <td>5</td>\n",
       "      <td>Meat</td>\n",
       "      <td>0.11</td>\n",
       "    </tr>\n",
       "  </tbody>\n",
       "</table>\n",
       "</div>"
      ],
      "text/plain": [
       "   product_area_id product_area_name  profit_margin\n",
       "0                1          Non-Food           0.25\n",
       "1                2        Vegetables           0.18\n",
       "2                3             Fruit           0.14\n",
       "3                4             Dairy           0.19\n",
       "4                5              Meat           0.11"
      ]
     },
     "execution_count": 226,
     "metadata": {},
     "output_type": "execute_result"
    }
   ],
   "source": [
    "transactions.head()\n",
    "customer_details = pd.read_excel(data_path, sheet_name=\"customer_details\")\n",
    "product_areas.head()"
   ]
  },
  {
   "cell_type": "code",
   "execution_count": 227,
   "metadata": {},
   "outputs": [
    {
     "data": {
      "text/plain": [
       "<AxesSubplot: >"
      ]
     },
     "execution_count": 227,
     "metadata": {},
     "output_type": "execute_result"
    },
    {
     "data": {
      "image/png": "[encoded data removed]",
      "text/plain": [
       "<Figure size 432x288 with 1 Axes>"
      ]
     },
     "metadata": {
      "needs_background": "light"
     },
     "output_type": "display_data"
    }
   ],
   "source": [
    "customer_details.plot()"
   ]
  },
  {
   "cell_type": "code",
   "execution_count": 229,
   "metadata": {},
   "outputs": [
    {
     "name": "stdout",
     "output_type": "stream",
     "text": [
      "    transaction_date  sales_cost  num_items\n",
      "0         2020-04-01     9603.37       1597\n",
      "1         2020-04-02     9204.05       1517\n",
      "2         2020-04-03     8601.98       1454\n",
      "3         2020-04-04    10536.01       1556\n",
      "4         2020-04-05     9289.63       1500\n",
      "..               ...         ...        ...\n",
      "178       2020-09-26     9660.28       1345\n",
      "179       2020-09-27    12050.46       1707\n",
      "180       2020-09-28     9298.39       1311\n",
      "181       2020-09-29     9560.54       1406\n",
      "182       2020-09-30     9190.65       1368\n",
      "\n",
      "[183 rows x 3 columns]\n"
     ]
    }
   ],
   "source": [
    "daily_sales_summary = transactions.groupby('transaction_date')[['sales_cost','num_items']].sum().reset_index()\n",
    "print(daily_sales_summary)"
   ]
  },
  {
   "cell_type": "code",
   "execution_count": 230,
   "metadata": {},
   "outputs": [
    {
     "data": {
      "text/plain": [
       "<AxesSubplot: >"
      ]
     },
     "execution_count": 230,
     "metadata": {},
     "output_type": "execute_result"
    },
    {
     "data": {
      "image/png": "[encoded data removed]",
      "text/plain": [
       "<Figure size 432x288 with 1 Axes>"
      ]
     },
     "metadata": {
      "needs_background": "light"
     },
     "output_type": "display_data"
    }
   ],
   "source": [
    "daily_sales_summary['sales_cost'].plot()"
   ]
  },
  {
   "cell_type": "code",
   "execution_count": 231,
   "metadata": {},
   "outputs": [
    {
     "data": {
      "text/plain": [
       "<AxesSubplot: xlabel='transaction_date'>"
      ]
     },
     "execution_count": 231,
     "metadata": {},
     "output_type": "execute_result"
    },
    {
     "data": {
      "image/png": "[encoded data removed]",
      "text/plain": [
       "<Figure size 432x288 with 1 Axes>"
      ]
     },
     "metadata": {
      "needs_background": "light"
     },
     "output_type": "display_data"
    }
   ],
   "source": [
    "daily_sales_summary.plot(x = 'transaction_date', y = 'sales_cost')"
   ]
  },
  {
   "cell_type": "code",
   "execution_count": 232,
   "metadata": {},
   "outputs": [
    {
     "data": {
      "text/plain": [
       "<AxesSubplot: xlabel='transaction_date'>"
      ]
     },
     "execution_count": 232,
     "metadata": {},
     "output_type": "execute_result"
    },
    {
     "data": {
      "image/png": "[encoded data removed]",
      "text/plain": [
       "<Figure size 432x288 with 1 Axes>"
      ]
     },
     "metadata": {
      "needs_background": "light"
     },
     "output_type": "display_data"
    }
   ],
   "source": [
    "daily_sales_summary.plot(x = 'transaction_date', y = 'sales_cost', kind='line')"
   ]
  },
  {
   "cell_type": "code",
   "execution_count": 233,
   "metadata": {},
   "outputs": [
    {
     "data": {
      "text/plain": [
       "<AxesSubplot: xlabel='num_items', ylabel='sales_cost'>"
      ]
     },
     "execution_count": 233,
     "metadata": {},
     "output_type": "execute_result"
    },
    {
     "data": {
      "image/png": "[encoded data removed]",
      "text/plain": [
       "<Figure size 432x288 with 1 Axes>"
      ]
     },
     "metadata": {
      "needs_background": "light"
     },
     "output_type": "display_data"
    }
   ],
   "source": [
    "daily_sales_summary.plot(x = 'num_items', y = 'sales_cost', kind='scatter')"
   ]
  },
  {
   "cell_type": "code",
   "execution_count": 234,
   "metadata": {},
   "outputs": [
    {
     "data": {
      "text/plain": [
       "<AxesSubplot: >"
      ]
     },
     "execution_count": 234,
     "metadata": {},
     "output_type": "execute_result"
    },
    {
     "data": {
      "image/png": "[encoded data removed]",
      "text/plain": [
       "<Figure size 432x288 with 1 Axes>"
      ]
     },
     "metadata": {
      "needs_background": "light"
     },
     "output_type": "display_data"
    }
   ],
   "source": [
    "daily_sales_summary.plot(y = 'sales_cost', kind='box')\n",
    "#median is the 50th percentile \n",
    "# upper and lower quartiles up 75th and below 25th\n",
    "# 5th lower and 95th upper lines"
   ]
  },
  {
   "cell_type": "code",
   "execution_count": 236,
   "metadata": {},
   "outputs": [
    {
     "data": {
      "text/plain": [
       "<AxesSubplot: ylabel='Frequency'>"
      ]
     },
     "execution_count": 236,
     "metadata": {},
     "output_type": "execute_result"
    },
    {
     "data": {
      "image/png": "[encoded data removed]",
      "text/plain": [
       "<Figure size 432x288 with 1 Axes>"
      ]
     },
     "metadata": {
      "needs_background": "light"
     },
     "output_type": "display_data"
    }
   ],
   "source": [
    "daily_sales_summary.plot(y = 'sales_cost', kind='hist')"
   ]
  },
  {
   "cell_type": "code",
   "execution_count": 237,
   "metadata": {},
   "outputs": [
    {
     "data": {
      "text/plain": [
       "<AxesSubplot: ylabel='Frequency'>"
      ]
     },
     "execution_count": 237,
     "metadata": {},
     "output_type": "execute_result"
    },
    {
     "data": {
      "image/png": "[encoded data removed]",
      "text/plain": [
       "<Figure size 432x288 with 1 Axes>"
      ]
     },
     "metadata": {
      "needs_background": "light"
     },
     "output_type": "display_data"
    }
   ],
   "source": [
    "daily_sales_summary.plot(y = 'sales_cost', kind='hist', bins=25)"
   ]
  },
  {
   "cell_type": "code",
   "execution_count": 238,
   "metadata": {},
   "outputs": [
    {
     "data": {
      "text/plain": [
       "<AxesSubplot: xlabel='product_area_name'>"
      ]
     },
     "execution_count": 238,
     "metadata": {},
     "output_type": "execute_result"
    },
    {
     "data": {
      "image/png": "[encoded data removed]",
      "text/plain": [
       "<Figure size 432x288 with 1 Axes>"
      ]
     },
     "metadata": {
      "needs_background": "light"
     },
     "output_type": "display_data"
    }
   ],
   "source": [
    "product_areas.plot(kind=\"bar\", y = \"profit_margin\", x =\"product_area_name\")"
   ]
  },
  {
   "attachments": {},
   "cell_type": "markdown",
   "metadata": {},
   "source": [
    "## Exporting Data"
   ]
  },
  {
   "cell_type": "code",
   "execution_count": null,
   "metadata": {},
   "outputs": [],
   "source": []
  }
 ],
 "metadata": {
  "kernelspec": {
   "display_name": "Python 3",
   "language": "python",
   "name": "python3"
  },
  "language_info": {
   "codemirror_mode": {
    "name": "ipython",
    "version": 3
   },
   "file_extension": ".py",
   "mimetype": "text/x-python",
   "name": "python",
   "nbconvert_exporter": "python",
   "pygments_lexer": "ipython3",
   "version": "3.9.7"
  },
  "orig_nbformat": 4,
  "vscode": {
   "interpreter": {
    "hash": "e4d54598f5cd11ea6c968efaa1bee3907cb7385b653cd5b92ce1633ea9d2272e"
   }
  }
 },
 "nbformat": 4,
 "nbformat_minor": 2
}
