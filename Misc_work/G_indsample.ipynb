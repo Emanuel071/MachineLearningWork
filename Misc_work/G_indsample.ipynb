{
 "cells": [
  {
   "attachments": {},
   "cell_type": "markdown",
   "metadata": {},
   "source": [
    "## Let's code up an Independent Samples T-Test\n",
    "just to have a sample"
   ]
  },
  {
   "cell_type": "code",
   "execution_count": 1,
   "metadata": {},
   "outputs": [],
   "source": [
    "import numpy as np\n",
    "import matplotlib.pyplot as plt\n",
    "from scipy.stats import ttest_ind, norm"
   ]
  },
  {
   "cell_type": "code",
   "execution_count": 6,
   "metadata": {},
   "outputs": [],
   "source": [
    "sample_a = norm.rvs(loc = 500, scale = 100, size = 250, random_state = 42).astype(int)\n",
    "# loc mean of dist \n",
    "sample_b = norm.rvs(loc = 550, scale = 150, size = 100, random_state = 42).astype(int)\n",
    "# loc mean of dist \n"
   ]
  },
  {
   "cell_type": "code",
   "execution_count": 7,
   "metadata": {},
   "outputs": [
    {
     "data": {
      "image/png": "[encoded data removed]",
      "text/plain": [
       "<Figure size 432x288 with 1 Axes>"
      ]
     },
     "metadata": {
      "needs_background": "light"
     },
     "output_type": "display_data"
    }
   ],
   "source": [
    "plt.hist(sample_a, density= True, alpha = .5)\n",
    "plt.hist(sample_b, density=True,alpha = .5)\n",
    "plt.show()"
   ]
  },
  {
   "cell_type": "code",
   "execution_count": 10,
   "metadata": {},
   "outputs": [
    {
     "name": "stdout",
     "output_type": "stream",
     "text": [
      "499.264 533.95\n"
     ]
    }
   ],
   "source": [
    "sample_a_mean = sample_a.mean()\n",
    "sample_b_mean = sample_b.mean()\n",
    "print(sample_a_mean, sample_b_mean)"
   ]
  },
  {
   "cell_type": "code",
   "execution_count": 11,
   "metadata": {},
   "outputs": [],
   "source": [
    "null_hypothesis = \"The mean of the sample a is equal to the mean of the sample b\"\n",
    "alternate_hypothesis = \"The mean of the sample a is different to the mean of the sample b\"\n",
    "acceptance_criteria = .5"
   ]
  },
  {
   "attachments": {},
   "cell_type": "markdown",
   "metadata": {},
   "source": [
    "Execute hypothesis test"
   ]
  },
  {
   "cell_type": "code",
   "execution_count": 12,
   "metadata": {},
   "outputs": [
    {
     "name": "stdout",
     "output_type": "stream",
     "text": [
      "-2.68121105524328 0.007685002595835944\n"
     ]
    }
   ],
   "source": [
    "t_statistic, p_value = ttest_ind(sample_a ,sample_b)\n",
    "print(t_statistic, p_value)"
   ]
  },
  {
   "cell_type": "code",
   "execution_count": 13,
   "metadata": {},
   "outputs": [
    {
     "name": "stdout",
     "output_type": "stream",
     "text": [
      "as our p-value statistic of 0.007685002595835944 is lower than our acceptance criteria of 0.5 - we reject the null hypothesis, and conclude that: The mean of the sample a is different to the mean of the sample b\n"
     ]
    }
   ],
   "source": [
    "# print results of statistics as p value\n",
    "if p_value <= acceptance_criteria:\n",
    "    print(f\"as our p-value statistic of {p_value} is lower than our acceptance criteria of {acceptance_criteria} - we reject the null hypothesis, and conclude that: {alternate_hypothesis}\")\n",
    "else:\n",
    "    print(f\"as our p-value statistic of {p_value} is higher than our acceptance criteria  of {acceptance_criteria} - we retain the null hypothesis, and conclude that: {null_hypothesis}\")"
   ]
  },
  {
   "attachments": {},
   "cell_type": "markdown",
   "metadata": {},
   "source": [
    "\n",
    "welchs t test"
   ]
  },
  {
   "cell_type": "code",
   "execution_count": 14,
   "metadata": {},
   "outputs": [
    {
     "name": "stdout",
     "output_type": "stream",
     "text": [
      "-2.3241387495392147 0.021550514737168628\n"
     ]
    }
   ],
   "source": [
    "t_statistic, p_value = ttest_ind(sample_a ,sample_b, equal_var = False)\n",
    "print(t_statistic, p_value)"
   ]
  },
  {
   "cell_type": "code",
   "execution_count": 15,
   "metadata": {},
   "outputs": [
    {
     "name": "stdout",
     "output_type": "stream",
     "text": [
      "as our p-value statistic of 0.021550514737168628 is lower than our acceptance criteria of 0.5 - we reject the null hypothesis, and conclude that: The mean of the sample a is different to the mean of the sample b\n"
     ]
    }
   ],
   "source": [
    "# print results of statistics as p value\n",
    "if p_value <= acceptance_criteria:\n",
    "    print(f\"as our p-value statistic of {p_value} is lower than our acceptance criteria of {acceptance_criteria} - we reject the null hypothesis, and conclude that: {alternate_hypothesis}\")\n",
    "else:\n",
    "    print(f\"as our p-value statistic of {p_value} is higher than our acceptance criteria  of {acceptance_criteria} - we retain the null hypothesis, and conclude that: {null_hypothesis}\")"
   ]
  }
 ],
 "metadata": {
  "kernelspec": {
   "display_name": "Python 3",
   "language": "python",
   "name": "python3"
  },
  "language_info": {
   "codemirror_mode": {
    "name": "ipython",
    "version": 3
   },
   "file_extension": ".py",
   "mimetype": "text/x-python",
   "name": "python",
   "nbconvert_exporter": "python",
   "pygments_lexer": "ipython3",
   "version": "3.9.7"
  },
  "orig_nbformat": 4
 },
 "nbformat": 4,
 "nbformat_minor": 2
}
