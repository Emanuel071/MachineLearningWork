{
 "cells": [
  {
   "attachments": {},
   "cell_type": "markdown",
   "metadata": {},
   "source": [
    "tuples are immutable and lists are mutable"
   ]
  },
  {
   "attachments": {},
   "cell_type": "markdown",
   "metadata": {},
   "source": [
    "## SETS    \n",
    "uses curly braces like dictionaries"
   ]
  },
  {
   "cell_type": "code",
   "execution_count": 3,
   "metadata": {},
   "outputs": [
    {
     "name": "stdout",
     "output_type": "stream",
     "text": [
      "{1, 2, 3}\n",
      "{1, 2, 3}\n",
      "{1, 2, 3}\n"
     ]
    }
   ],
   "source": [
    "my_set = {1,2,3}\n",
    "print(my_set)\n",
    "my_set = set([1,2,3])\n",
    "print(my_set)\n",
    "my_set = set([1,1,2,3])\n",
    "print(my_set)"
   ]
  },
  {
   "cell_type": "code",
   "execution_count": 6,
   "metadata": {},
   "outputs": [
    {
     "name": "stdout",
     "output_type": "stream",
     "text": [
      "{1, 2, 3, 4, 5}\n"
     ]
    }
   ],
   "source": [
    "my_list = [1,1,2,2,3,3,4,4,5,5]\n",
    "unique_values= set(my_list)\n",
    "print(unique_values)"
   ]
  },
  {
   "cell_type": "code",
   "execution_count": 9,
   "metadata": {},
   "outputs": [
    {
     "name": "stdout",
     "output_type": "stream",
     "text": [
      "{1, 2, 3, 4}\n",
      "{1, 2, 3, 4, 5, 6, 7}\n"
     ]
    }
   ],
   "source": [
    "my_set.add(4)\n",
    "print(my_set)\n",
    "my_set.update({5,6,7})\n",
    "print(my_set)"
   ]
  },
  {
   "cell_type": "code",
   "execution_count": 11,
   "metadata": {},
   "outputs": [
    {
     "name": "stdout",
     "output_type": "stream",
     "text": [
      "{1, 2, 3, 4, 5, 6}\n",
      "{1, 2, 3, 4, 5, 6}\n"
     ]
    }
   ],
   "source": [
    "my_set.discard(7)\n",
    "print(my_set)\n",
    "my_set.discard(9)\n",
    "print(my_set)"
   ]
  },
  {
   "cell_type": "code",
   "execution_count": 12,
   "metadata": {},
   "outputs": [
    {
     "ename": "KeyError",
     "evalue": "9",
     "output_type": "error",
     "traceback": [
      "\u001b[1;31m---------------------------------------------------------------------------\u001b[0m",
      "\u001b[1;31mKeyError\u001b[0m                                  Traceback (most recent call last)",
      "\u001b[1;32m~\\AppData\\Local\\Temp\\1/ipykernel_22396/2851506598.py\u001b[0m in \u001b[0;36m<module>\u001b[1;34m\u001b[0m\n\u001b[1;32m----> 1\u001b[1;33m \u001b[0mmy_set\u001b[0m\u001b[1;33m.\u001b[0m\u001b[0mremove\u001b[0m\u001b[1;33m(\u001b[0m\u001b[1;36m9\u001b[0m\u001b[1;33m)\u001b[0m\u001b[1;33m\u001b[0m\u001b[1;33m\u001b[0m\u001b[0m\n\u001b[0m",
      "\u001b[1;31mKeyError\u001b[0m: 9"
     ]
    }
   ],
   "source": [
    "my_set.remove(9)"
   ]
  },
  {
   "cell_type": "code",
   "execution_count": 13,
   "metadata": {},
   "outputs": [
    {
     "name": "stdout",
     "output_type": "stream",
     "text": [
      "{1, 2}\n"
     ]
    }
   ],
   "source": [
    "set1 = {1,2,3,4,5}\n",
    "set2 = {3,4,5,6,7}\n",
    "set1.difference(set2)\n",
    "set2.difference(set1)\n",
    "\n",
    "set1.difference_update(set2)\n",
    "print(set1)"
   ]
  },
  {
   "cell_type": "code",
   "execution_count": 16,
   "metadata": {},
   "outputs": [
    {
     "name": "stdout",
     "output_type": "stream",
     "text": [
      "{3, 4, 5}\n"
     ]
    }
   ],
   "source": [
    "set1 = {1,2,3,4,5}\n",
    "set2 = {3,4,5,6,7}\n",
    "\n",
    "set1.intersection(set2)\n",
    "set1.intersection_update(set2)\n",
    "print(set1)"
   ]
  },
  {
   "attachments": {},
   "cell_type": "markdown",
   "metadata": {},
   "source": [
    "## DICTIONARIES"
   ]
  },
  {
   "cell_type": "code",
   "execution_count": 17,
   "metadata": {},
   "outputs": [
    {
     "name": "stdout",
     "output_type": "stream",
     "text": [
      "{1, 2, 3}\n"
     ]
    }
   ],
   "source": [
    "my_dict = {}\n",
    "a = {1,2,3}\n",
    "print(a)"
   ]
  },
  {
   "cell_type": "code",
   "execution_count": 21,
   "metadata": {},
   "outputs": [
    {
     "name": "stdout",
     "output_type": "stream",
     "text": [
      "8\n",
      "7\n"
     ]
    },
    {
     "data": {
      "text/plain": [
       "0"
      ]
     },
     "execution_count": 21,
     "metadata": {},
     "output_type": "execute_result"
    }
   ],
   "source": [
    "planet_dict={\n",
    "    \"mercury\":8,\n",
    "    \"venus\":6,\n",
    "    \"earth\":5,\n",
    "    \"mars\":7,\n",
    "    \"jupiter\":1,\n",
    "    \"saturn\":2,\n",
    "    \"uranus\":3,\n",
    "    \"nepdtune\":4\n",
    "\n",
    "}\n",
    "print(len(planet_dict))\n",
    "\n",
    "print(planet_dict[\"mars\"])\n",
    "planet_dict.get(\"mars\")\n",
    "planet_dict.get(\"pluto\",0)"
   ]
  },
  {
   "cell_type": "code",
   "execution_count": 27,
   "metadata": {},
   "outputs": [
    {
     "name": "stdout",
     "output_type": "stream",
     "text": [
      "{'mercury': 8, 'venus': 6, 'earth': 5, 'mars': 7, 'jupiter': 1, 'saturn': 2, 'uranus': 3, 'nepdtune': 4, 'pluto': 9}\n"
     ]
    }
   ],
   "source": [
    "\"saturn\" in planet_dict\n",
    "\"pluto\" in planet_dict\n",
    "\n",
    "planet_dict.keys()\n",
    "planet_dict.values()\n",
    "\n",
    "planet_dict[\"pluto\"] = 9\n",
    "print(planet_dict)"
   ]
  },
  {
   "attachments": {},
   "cell_type": "markdown",
   "metadata": {},
   "source": [
    "## Input Function   "
   ]
  },
  {
   "cell_type": "code",
   "execution_count": 29,
   "metadata": {},
   "outputs": [],
   "source": [
    "input(\"where do you live? \")\n",
    "\n",
    "location = input(\"where do you live? \")\n",
    "\n",
    "print(f\"Very nice, I hear {location} is lovely\")"
   ]
  },
  {
   "cell_type": "code",
   "execution_count": null,
   "metadata": {},
   "outputs": [],
   "source": [
    "fav_num = input(\"what is your fav number? \")\n",
    "\n",
    "fav_num = int(fav_num)\n",
    "\n",
    "fav_num = int(input(\"what is your fav number? \"))"
   ]
  },
  {
   "attachments": {},
   "cell_type": "markdown",
   "metadata": {},
   "source": [
    "## MINI PROJECT\n",
    "Building a Number Guessing Game"
   ]
  },
  {
   "cell_type": "code",
   "execution_count": 32,
   "metadata": {},
   "outputs": [
    {
     "name": "stdout",
     "output_type": "stream",
     "text": [
      "keep trying you have 10 guesses left!\n",
      "keep trying you have 9 guesses left!\n",
      "keep trying you have 8 guesses left!\n",
      "keep trying you have 7 guesses left!\n",
      "keep trying you have 6 guesses left!\n",
      "keep trying you have 5 guesses left!\n",
      "keep trying you have 4 guesses left!\n",
      "keep trying you have 3 guesses left!\n",
      "keep trying you have 2 guesses left!\n",
      "keep trying you have 1 guesses left!\n",
      "keep trying you have 0 guesses left!\n"
     ]
    }
   ],
   "source": [
    "import random\n",
    "\n",
    "correct_number = random.randint(1,10)\n",
    "i = 6 \n",
    "\n",
    "while i > 0 and guess != 26:\n",
    "    guess = int(input(\"What is your guess? \"))\n",
    "    if guess == 26:\n",
    "        print(\"correct!\")\n",
    "        break\n",
    "    else:\n",
    "        print(f\"keep trying you have {i} guesses left!\")\n",
    "    i = i - 1\n",
    "\n"
   ]
  },
  {
   "attachments": {},
   "cell_type": "markdown",
   "metadata": {},
   "source": [
    "## List Comprehension"
   ]
  },
  {
   "cell_type": "code",
   "execution_count": 1,
   "metadata": {},
   "outputs": [
    {
     "name": "stdout",
     "output_type": "stream",
     "text": [
      "[1, 2, 3, 4, 5]\n"
     ]
    }
   ],
   "source": [
    "my_list = [1,2,3,4,5]\n",
    "\n",
    "my_new_list =[i for i in my_list]\n",
    "\n",
    "print(my_new_list)"
   ]
  },
  {
   "cell_type": "code",
   "execution_count": 2,
   "metadata": {},
   "outputs": [
    {
     "name": "stdout",
     "output_type": "stream",
     "text": [
      "[1, 4, 9, 16, 25]\n"
     ]
    }
   ],
   "source": [
    "my_new_list1 =[i*i for i in my_list]\n",
    "\n",
    "print(my_new_list1)"
   ]
  },
  {
   "cell_type": "code",
   "execution_count": 4,
   "metadata": {},
   "outputs": [
    {
     "name": "stdout",
     "output_type": "stream",
     "text": [
      "[2, 4]\n"
     ]
    }
   ],
   "source": [
    "my_new_list2 =[i for i in my_list if i%2==0]\n",
    "\n",
    "print(my_new_list2)"
   ]
  },
  {
   "cell_type": "code",
   "execution_count": 5,
   "metadata": {},
   "outputs": [
    {
     "name": "stdout",
     "output_type": "stream",
     "text": [
      "[1.0, 2.0, 3.0, 4.0, 5.0]\n"
     ]
    }
   ],
   "source": [
    "def square_root(number):\n",
    "    return number ** 0.5\n",
    "\n",
    "myfunclist = [1,4,9,16,25]\n",
    "newlist = [square_root(i) for i in myfunclist]\n",
    "print(newlist)"
   ]
  },
  {
   "cell_type": "code",
   "execution_count": 6,
   "metadata": {},
   "outputs": [
    {
     "name": "stdout",
     "output_type": "stream",
     "text": [
      "[1, 2, 3]\n"
     ]
    }
   ],
   "source": [
    "listing = [[1,8],[2,3],[3,17]]\n",
    "\n",
    "newlinsting = [i[0] for i in listing]\n",
    "print(newlinsting)"
   ]
  },
  {
   "cell_type": "code",
   "execution_count": 7,
   "metadata": {},
   "outputs": [
    {
     "name": "stdout",
     "output_type": "stream",
     "text": [
      "[3]\n"
     ]
    }
   ],
   "source": [
    "newlinsting1 = [i[0] for i in listing if i[1] == max(i[1] for i in listing)]\n",
    "print(newlinsting1)"
   ]
  }
 ],
 "metadata": {
  "kernelspec": {
   "display_name": "Python 3",
   "language": "python",
   "name": "python3"
  },
  "language_info": {
   "codemirror_mode": {
    "name": "ipython",
    "version": 3
   },
   "file_extension": ".py",
   "mimetype": "text/x-python",
   "name": "python",
   "nbconvert_exporter": "python",
   "pygments_lexer": "ipython3",
   "version": "3.9.7"
  },
  "orig_nbformat": 4,
  "vscode": {
   "interpreter": {
    "hash": "e4d54598f5cd11ea6c968efaa1bee3907cb7385b653cd5b92ce1633ea9d2272e"
   }
  }
 },
 "nbformat": 4,
 "nbformat_minor": 2
}
