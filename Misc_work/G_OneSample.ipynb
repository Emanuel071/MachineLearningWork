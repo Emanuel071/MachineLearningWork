{
 "cells": [
  {
   "attachments": {},
   "cell_type": "markdown",
   "metadata": {},
   "source": [
    "## One Sample T-Test\n",
    "just to have a sample"
   ]
  },
  {
   "cell_type": "code",
   "execution_count": 49,
   "metadata": {},
   "outputs": [],
   "source": [
    "import numpy as np\n",
    "import matplotlib.pyplot as plt\n",
    "from scipy.stats import ttest_1samp, norm"
   ]
  },
  {
   "cell_type": "code",
   "execution_count": 50,
   "metadata": {},
   "outputs": [],
   "source": [
    "population = norm.rvs(loc = 500, scale = 100, size = 1000, random_state = 42).astype(int)\n",
    "# loc mean of dist \n",
    "\n",
    "np.random.seed(42)\n",
    "sample = np.random.choice(population, 250)\n"
   ]
  },
  {
   "cell_type": "code",
   "execution_count": 51,
   "metadata": {},
   "outputs": [
    {
     "data": {
      "image/png": "[encoded data removed]",
      "text/plain": [
       "<Figure size 432x288 with 1 Axes>"
      ]
     },
     "metadata": {
      "needs_background": "light"
     },
     "output_type": "display_data"
    }
   ],
   "source": [
    "plt.hist(population, density= True, alpha = .5)\n",
    "plt.hist(sample, density=True,alpha = .5)\n",
    "plt.show()"
   ]
  },
  {
   "cell_type": "code",
   "execution_count": 54,
   "metadata": {},
   "outputs": [
    {
     "name": "stdout",
     "output_type": "stream",
     "text": [
      "501.43 503.344\n"
     ]
    }
   ],
   "source": [
    "popuation_mean = population.mean()\n",
    "sample_mean = sample.mean()\n",
    "print(popuation_mean, sample_mean)"
   ]
  },
  {
   "cell_type": "code",
   "execution_count": 57,
   "metadata": {},
   "outputs": [],
   "source": [
    "null_hypothesis = \"The mean of the sample is equal to the mean of the population\"\n",
    "alternate_hypothesis = \"The mean of the sample is different to the mean of the population\"\n",
    "acceptance_criteria = .5"
   ]
  },
  {
   "attachments": {},
   "cell_type": "markdown",
   "metadata": {},
   "source": [
    "Execute hypothesis test"
   ]
  },
  {
   "cell_type": "code",
   "execution_count": 56,
   "metadata": {},
   "outputs": [
    {
     "name": "stdout",
     "output_type": "stream",
     "text": [
      "0.30898519995058266 0.7575911611764024\n"
     ]
    }
   ],
   "source": [
    "t_statistic, p_value = ttest_1samp(sample,popuation_mean)\n",
    "print(t_statistic, p_value)"
   ]
  },
  {
   "cell_type": "code",
   "execution_count": 58,
   "metadata": {},
   "outputs": [
    {
     "name": "stdout",
     "output_type": "stream",
     "text": [
      "as our p-value statistic of 0.7575911611764024 is higher than our acceptance criteria  of 0.5 - we retain the null hypothesis, and conclude that: The mean of the sample is equal to the mean of the population\n"
     ]
    }
   ],
   "source": [
    "# print results of statistics as p value\n",
    "if p_value <= acceptance_criteria:\n",
    "    print(f\"as our p-value statistic of {p_value} is lower than our acceptance criteria of {acceptance_criteria} - we reject the null hypothesis, and conclude that: {alternate_hypothesis}\")\n",
    "else:\n",
    "    print(f\"as our p-value statistic of {p_value} is higher than our acceptance criteria  of {acceptance_criteria} - we retain the null hypothesis, and conclude that: {null_hypothesis}\")"
   ]
  },
  {
   "attachments": {},
   "cell_type": "markdown",
   "metadata": {},
   "source": [
    "## Let's code up an Independent Samples T-Test"
   ]
  },
  {
   "cell_type": "code",
   "execution_count": null,
   "metadata": {},
   "outputs": [],
   "source": []
  }
 ],
 "metadata": {
  "kernelspec": {
   "display_name": "Python 3",
   "language": "python",
   "name": "python3"
  },
  "language_info": {
   "codemirror_mode": {
    "name": "ipython",
    "version": 3
   },
   "file_extension": ".py",
   "mimetype": "text/x-python",
   "name": "python",
   "nbconvert_exporter": "python",
   "pygments_lexer": "ipython3",
   "version": "3.9.7"
  },
  "orig_nbformat": 4
 },
 "nbformat": 4,
 "nbformat_minor": 2
}
