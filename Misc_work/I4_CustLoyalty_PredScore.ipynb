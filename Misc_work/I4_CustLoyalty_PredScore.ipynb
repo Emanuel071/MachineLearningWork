{
 "cells": [
  {
   "attachments": {},
   "cell_type": "markdown",
   "metadata": {},
   "source": [
    "# Predicting The Missing Loyalty Scores"
   ]
  },
  {
   "attachments": {},
   "cell_type": "markdown",
   "metadata": {},
   "source": [
    "import packages"
   ]
  },
  {
   "cell_type": "code",
   "execution_count": 146,
   "metadata": {},
   "outputs": [],
   "source": [
    "import pandas as pd\n",
    "import pickle"
   ]
  },
  {
   "attachments": {},
   "cell_type": "markdown",
   "metadata": {},
   "source": [
    "import cutomers for scoring"
   ]
  },
  {
   "cell_type": "code",
   "execution_count": 147,
   "metadata": {},
   "outputs": [
    {
     "data": {
      "text/html": [
       "<div>\n",
       "<style scoped>\n",
       "    .dataframe tbody tr th:only-of-type {\n",
       "        vertical-align: middle;\n",
       "    }\n",
       "\n",
       "    .dataframe tbody tr th {\n",
       "        vertical-align: top;\n",
       "    }\n",
       "\n",
       "    .dataframe thead th {\n",
       "        text-align: right;\n",
       "    }\n",
       "</style>\n",
       "<table border=\"1\" class=\"dataframe\">\n",
       "  <thead>\n",
       "    <tr style=\"text-align: right;\">\n",
       "      <th></th>\n",
       "      <th>customer_id</th>\n",
       "      <th>distance_from_store</th>\n",
       "      <th>gender</th>\n",
       "      <th>credit_score</th>\n",
       "      <th>total_sales</th>\n",
       "      <th>total_items</th>\n",
       "      <th>transaction_count</th>\n",
       "      <th>product_area_count</th>\n",
       "      <th>avg_basket_value</th>\n",
       "    </tr>\n",
       "  </thead>\n",
       "  <tbody>\n",
       "    <tr>\n",
       "      <th>6</th>\n",
       "      <td>1</td>\n",
       "      <td>4.78</td>\n",
       "      <td>F</td>\n",
       "      <td>0.66</td>\n",
       "      <td>3980.49</td>\n",
       "      <td>424</td>\n",
       "      <td>51</td>\n",
       "      <td>5</td>\n",
       "      <td>78.048824</td>\n",
       "    </tr>\n",
       "    <tr>\n",
       "      <th>7</th>\n",
       "      <td>120</td>\n",
       "      <td>3.49</td>\n",
       "      <td>F</td>\n",
       "      <td>0.38</td>\n",
       "      <td>2887.20</td>\n",
       "      <td>253</td>\n",
       "      <td>45</td>\n",
       "      <td>5</td>\n",
       "      <td>64.160000</td>\n",
       "    </tr>\n",
       "    <tr>\n",
       "      <th>8</th>\n",
       "      <td>52</td>\n",
       "      <td>14.91</td>\n",
       "      <td>F</td>\n",
       "      <td>0.68</td>\n",
       "      <td>3342.75</td>\n",
       "      <td>335</td>\n",
       "      <td>47</td>\n",
       "      <td>5</td>\n",
       "      <td>71.122340</td>\n",
       "    </tr>\n",
       "    <tr>\n",
       "      <th>10</th>\n",
       "      <td>435</td>\n",
       "      <td>0.25</td>\n",
       "      <td>M</td>\n",
       "      <td>0.62</td>\n",
       "      <td>2326.71</td>\n",
       "      <td>267</td>\n",
       "      <td>48</td>\n",
       "      <td>5</td>\n",
       "      <td>48.473125</td>\n",
       "    </tr>\n",
       "    <tr>\n",
       "      <th>12</th>\n",
       "      <td>679</td>\n",
       "      <td>4.74</td>\n",
       "      <td>F</td>\n",
       "      <td>0.58</td>\n",
       "      <td>3448.59</td>\n",
       "      <td>370</td>\n",
       "      <td>49</td>\n",
       "      <td>5</td>\n",
       "      <td>70.379388</td>\n",
       "    </tr>\n",
       "  </tbody>\n",
       "</table>\n",
       "</div>"
      ],
      "text/plain": [
       "    customer_id  distance_from_store gender  credit_score  total_sales  \\\n",
       "6             1                 4.78      F          0.66      3980.49   \n",
       "7           120                 3.49      F          0.38      2887.20   \n",
       "8            52                14.91      F          0.68      3342.75   \n",
       "10          435                 0.25      M          0.62      2326.71   \n",
       "12          679                 4.74      F          0.58      3448.59   \n",
       "\n",
       "    total_items  transaction_count  product_area_count  avg_basket_value  \n",
       "6           424                 51                   5         78.048824  \n",
       "7           253                 45                   5         64.160000  \n",
       "8           335                 47                   5         71.122340  \n",
       "10          267                 48                   5         48.473125  \n",
       "12          370                 49                   5         70.379388  "
      ]
     },
     "execution_count": 147,
     "metadata": {},
     "output_type": "execute_result"
    }
   ],
   "source": [
    "to_be_scored = pickle.load(open('Saved_files/Groc_regression_scoring.p','rb'))\n",
    "to_be_scored.head()"
   ]
  },
  {
   "attachments": {},
   "cell_type": "markdown",
   "metadata": {},
   "source": [
    "import model and model objects"
   ]
  },
  {
   "cell_type": "code",
   "execution_count": 148,
   "metadata": {},
   "outputs": [
    {
     "name": "stdout",
     "output_type": "stream",
     "text": [
      "RandomForestRegressor(random_state=42)\n"
     ]
    }
   ],
   "source": [
    "regressor = pickle.load(open('Saved_files/Groc_forest_reg_model.p','rb'))\n",
    "print(regressor)"
   ]
  },
  {
   "cell_type": "code",
   "execution_count": 149,
   "metadata": {},
   "outputs": [
    {
     "name": "stdout",
     "output_type": "stream",
     "text": [
      "OneHotEncoder(drop='first', sparse=False, sparse_output=False)\n"
     ]
    }
   ],
   "source": [
    "one_hot_encoder = pickle.load(open('Saved_files/Groc_forest_reg_ohe.p','rb'))\n",
    "print(one_hot_encoder)"
   ]
  },
  {
   "attachments": {},
   "cell_type": "markdown",
   "metadata": {},
   "source": [
    "drop missing values"
   ]
  },
  {
   "cell_type": "code",
   "execution_count": 150,
   "metadata": {},
   "outputs": [
    {
     "data": {
      "text/plain": [
       "customer_id            0\n",
       "distance_from_store    3\n",
       "gender                 2\n",
       "credit_score           6\n",
       "total_sales            0\n",
       "total_items            0\n",
       "transaction_count      0\n",
       "product_area_count     0\n",
       "avg_basket_value       0\n",
       "dtype: int64"
      ]
     },
     "execution_count": 150,
     "metadata": {},
     "output_type": "execute_result"
    }
   ],
   "source": [
    "to_be_scored.isna().sum()"
   ]
  },
  {
   "cell_type": "code",
   "execution_count": 151,
   "metadata": {},
   "outputs": [
    {
     "data": {
      "text/html": [
       "<div>\n",
       "<style scoped>\n",
       "    .dataframe tbody tr th:only-of-type {\n",
       "        vertical-align: middle;\n",
       "    }\n",
       "\n",
       "    .dataframe tbody tr th {\n",
       "        vertical-align: top;\n",
       "    }\n",
       "\n",
       "    .dataframe thead th {\n",
       "        text-align: right;\n",
       "    }\n",
       "</style>\n",
       "<table border=\"1\" class=\"dataframe\">\n",
       "  <thead>\n",
       "    <tr style=\"text-align: right;\">\n",
       "      <th></th>\n",
       "      <th>customer_id</th>\n",
       "      <th>distance_from_store</th>\n",
       "      <th>gender</th>\n",
       "      <th>credit_score</th>\n",
       "      <th>total_sales</th>\n",
       "      <th>total_items</th>\n",
       "      <th>transaction_count</th>\n",
       "      <th>product_area_count</th>\n",
       "      <th>avg_basket_value</th>\n",
       "    </tr>\n",
       "  </thead>\n",
       "  <tbody>\n",
       "    <tr>\n",
       "      <th>6</th>\n",
       "      <td>1</td>\n",
       "      <td>4.78</td>\n",
       "      <td>F</td>\n",
       "      <td>0.66</td>\n",
       "      <td>3980.49</td>\n",
       "      <td>424</td>\n",
       "      <td>51</td>\n",
       "      <td>5</td>\n",
       "      <td>78.048824</td>\n",
       "    </tr>\n",
       "    <tr>\n",
       "      <th>7</th>\n",
       "      <td>120</td>\n",
       "      <td>3.49</td>\n",
       "      <td>F</td>\n",
       "      <td>0.38</td>\n",
       "      <td>2887.20</td>\n",
       "      <td>253</td>\n",
       "      <td>45</td>\n",
       "      <td>5</td>\n",
       "      <td>64.160000</td>\n",
       "    </tr>\n",
       "    <tr>\n",
       "      <th>8</th>\n",
       "      <td>52</td>\n",
       "      <td>14.91</td>\n",
       "      <td>F</td>\n",
       "      <td>0.68</td>\n",
       "      <td>3342.75</td>\n",
       "      <td>335</td>\n",
       "      <td>47</td>\n",
       "      <td>5</td>\n",
       "      <td>71.122340</td>\n",
       "    </tr>\n",
       "    <tr>\n",
       "      <th>10</th>\n",
       "      <td>435</td>\n",
       "      <td>0.25</td>\n",
       "      <td>M</td>\n",
       "      <td>0.62</td>\n",
       "      <td>2326.71</td>\n",
       "      <td>267</td>\n",
       "      <td>48</td>\n",
       "      <td>5</td>\n",
       "      <td>48.473125</td>\n",
       "    </tr>\n",
       "    <tr>\n",
       "      <th>12</th>\n",
       "      <td>679</td>\n",
       "      <td>4.74</td>\n",
       "      <td>F</td>\n",
       "      <td>0.58</td>\n",
       "      <td>3448.59</td>\n",
       "      <td>370</td>\n",
       "      <td>49</td>\n",
       "      <td>5</td>\n",
       "      <td>70.379388</td>\n",
       "    </tr>\n",
       "  </tbody>\n",
       "</table>\n",
       "</div>"
      ],
      "text/plain": [
       "    customer_id  distance_from_store gender  credit_score  total_sales  \\\n",
       "6             1                 4.78      F          0.66      3980.49   \n",
       "7           120                 3.49      F          0.38      2887.20   \n",
       "8            52                14.91      F          0.68      3342.75   \n",
       "10          435                 0.25      M          0.62      2326.71   \n",
       "12          679                 4.74      F          0.58      3448.59   \n",
       "\n",
       "    total_items  transaction_count  product_area_count  avg_basket_value  \n",
       "6           424                 51                   5         78.048824  \n",
       "7           253                 45                   5         64.160000  \n",
       "8           335                 47                   5         71.122340  \n",
       "10          267                 48                   5         48.473125  \n",
       "12          370                 49                   5         70.379388  "
      ]
     },
     "execution_count": 151,
     "metadata": {},
     "output_type": "execute_result"
    }
   ],
   "source": [
    "to_be_scored.dropna(how = 'any', inplace=True)\n",
    "to_be_scored.head()"
   ]
  },
  {
   "attachments": {},
   "cell_type": "markdown",
   "metadata": {},
   "source": [
    "drop unused columns "
   ]
  },
  {
   "cell_type": "code",
   "execution_count": 152,
   "metadata": {},
   "outputs": [
    {
     "data": {
      "text/html": [
       "<div>\n",
       "<style scoped>\n",
       "    .dataframe tbody tr th:only-of-type {\n",
       "        vertical-align: middle;\n",
       "    }\n",
       "\n",
       "    .dataframe tbody tr th {\n",
       "        vertical-align: top;\n",
       "    }\n",
       "\n",
       "    .dataframe thead th {\n",
       "        text-align: right;\n",
       "    }\n",
       "</style>\n",
       "<table border=\"1\" class=\"dataframe\">\n",
       "  <thead>\n",
       "    <tr style=\"text-align: right;\">\n",
       "      <th></th>\n",
       "      <th>distance_from_store</th>\n",
       "      <th>gender</th>\n",
       "      <th>credit_score</th>\n",
       "      <th>total_sales</th>\n",
       "      <th>total_items</th>\n",
       "      <th>transaction_count</th>\n",
       "      <th>product_area_count</th>\n",
       "      <th>avg_basket_value</th>\n",
       "    </tr>\n",
       "  </thead>\n",
       "  <tbody>\n",
       "    <tr>\n",
       "      <th>6</th>\n",
       "      <td>4.78</td>\n",
       "      <td>F</td>\n",
       "      <td>0.66</td>\n",
       "      <td>3980.49</td>\n",
       "      <td>424</td>\n",
       "      <td>51</td>\n",
       "      <td>5</td>\n",
       "      <td>78.048824</td>\n",
       "    </tr>\n",
       "    <tr>\n",
       "      <th>7</th>\n",
       "      <td>3.49</td>\n",
       "      <td>F</td>\n",
       "      <td>0.38</td>\n",
       "      <td>2887.20</td>\n",
       "      <td>253</td>\n",
       "      <td>45</td>\n",
       "      <td>5</td>\n",
       "      <td>64.160000</td>\n",
       "    </tr>\n",
       "    <tr>\n",
       "      <th>8</th>\n",
       "      <td>14.91</td>\n",
       "      <td>F</td>\n",
       "      <td>0.68</td>\n",
       "      <td>3342.75</td>\n",
       "      <td>335</td>\n",
       "      <td>47</td>\n",
       "      <td>5</td>\n",
       "      <td>71.122340</td>\n",
       "    </tr>\n",
       "    <tr>\n",
       "      <th>10</th>\n",
       "      <td>0.25</td>\n",
       "      <td>M</td>\n",
       "      <td>0.62</td>\n",
       "      <td>2326.71</td>\n",
       "      <td>267</td>\n",
       "      <td>48</td>\n",
       "      <td>5</td>\n",
       "      <td>48.473125</td>\n",
       "    </tr>\n",
       "    <tr>\n",
       "      <th>12</th>\n",
       "      <td>4.74</td>\n",
       "      <td>F</td>\n",
       "      <td>0.58</td>\n",
       "      <td>3448.59</td>\n",
       "      <td>370</td>\n",
       "      <td>49</td>\n",
       "      <td>5</td>\n",
       "      <td>70.379388</td>\n",
       "    </tr>\n",
       "  </tbody>\n",
       "</table>\n",
       "</div>"
      ],
      "text/plain": [
       "    distance_from_store gender  credit_score  total_sales  total_items  \\\n",
       "6                  4.78      F          0.66      3980.49          424   \n",
       "7                  3.49      F          0.38      2887.20          253   \n",
       "8                 14.91      F          0.68      3342.75          335   \n",
       "10                 0.25      M          0.62      2326.71          267   \n",
       "12                 4.74      F          0.58      3448.59          370   \n",
       "\n",
       "    transaction_count  product_area_count  avg_basket_value  \n",
       "6                  51                   5         78.048824  \n",
       "7                  45                   5         64.160000  \n",
       "8                  47                   5         71.122340  \n",
       "10                 48                   5         48.473125  \n",
       "12                 49                   5         70.379388  "
      ]
     },
     "execution_count": 152,
     "metadata": {},
     "output_type": "execute_result"
    }
   ],
   "source": [
    "customer_id = to_be_scored['customer_id']\n",
    "to_be_scored.drop(['customer_id'],axis=1, inplace=True)\n",
    "to_be_scored.head()"
   ]
  },
  {
   "attachments": {},
   "cell_type": "markdown",
   "metadata": {},
   "source": [
    "apply one hot encoding"
   ]
  },
  {
   "cell_type": "code",
   "execution_count": 153,
   "metadata": {},
   "outputs": [],
   "source": [
    "categorical_vars = [\"gender\"]"
   ]
  },
  {
   "cell_type": "code",
   "execution_count": 154,
   "metadata": {},
   "outputs": [
    {
     "name": "stdout",
     "output_type": "stream",
     "text": [
      "(463, 1)\n"
     ]
    }
   ],
   "source": [
    "# fit and transform on the training and only the transform on the test\n",
    "# we do this because we want the encoding rules to be learned from the \n",
    "# training data and then applied to the new data \n",
    "encoded_vars_array = one_hot_encoder.transform(to_be_scored[categorical_vars])\n",
    "print(encoded_vars_array.shape)"
   ]
  },
  {
   "cell_type": "code",
   "execution_count": 155,
   "metadata": {},
   "outputs": [],
   "source": [
    "encoder_feature_names = one_hot_encoder.get_feature_names_out(categorical_vars)"
   ]
  },
  {
   "cell_type": "code",
   "execution_count": 156,
   "metadata": {},
   "outputs": [
    {
     "name": "stdout",
     "output_type": "stream",
     "text": [
      "(463, 8)\n",
      "   distance_from_store  credit_score  total_sales  total_items  \\\n",
      "0                 4.78          0.66      3980.49          424   \n",
      "1                 3.49          0.38      2887.20          253   \n",
      "2                14.91          0.68      3342.75          335   \n",
      "3                 0.25          0.62      2326.71          267   \n",
      "4                 4.74          0.58      3448.59          370   \n",
      "\n",
      "   transaction_count  product_area_count  avg_basket_value  gender_M  \n",
      "0                 51                   5         78.048824       0.0  \n",
      "1                 45                   5         64.160000       0.0  \n",
      "2                 47                   5         71.122340       0.0  \n",
      "3                 48                   5         48.473125       1.0  \n",
      "4                 49                   5         70.379388       0.0  \n"
     ]
    }
   ],
   "source": [
    "encoded_vars_array_df = pd.DataFrame(encoded_vars_array,\n",
    "                               columns=encoder_feature_names)\n",
    "to_be_scored = pd.concat([to_be_scored.reset_index(drop=True),\n",
    "                   encoded_vars_array_df.reset_index(drop=True)], \n",
    "                   axis=1)\n",
    "# reset index to ensure no rows are not aligned\n",
    "# drop the original input 2 and 3\n",
    "to_be_scored.drop(categorical_vars, axis=1,inplace=True)\n",
    "print(to_be_scored.shape)\n",
    "print(to_be_scored.head())"
   ]
  },
  {
   "attachments": {},
   "cell_type": "markdown",
   "metadata": {},
   "source": [
    "make our predictions"
   ]
  },
  {
   "cell_type": "code",
   "execution_count": 157,
   "metadata": {},
   "outputs": [
    {
     "name": "stdout",
     "output_type": "stream",
     "text": [
      "[0.42641 0.32992 0.34719 0.93166 0.3849  0.93566 0.43343 0.73502 0.31208\n",
      " 0.74406 0.43255 0.51648 0.44943 0.49396 0.51378 0.35195 0.79852 0.27749\n",
      " 0.9132  0.39764 0.28666 0.57642 0.45266 0.30921 0.6539  0.42941 0.5505\n",
      " 0.90092 0.5734  0.32631 0.35492 0.41621 0.47523 0.56345 0.67158 0.34009\n",
      " 0.33038 0.89301 0.36622 0.44413 0.85157 0.72539 0.45002 0.93642 0.94507\n",
      " 0.22433 0.39676 0.96111 0.53929 0.44196 0.8682  0.86839 0.73586 0.29151\n",
      " 0.60416 0.84114 0.23933 0.3014  0.24201 0.24305 0.24934 0.87329 0.86826\n",
      " 0.55587 0.39386 0.57611 0.92211 0.41034 0.9446  0.25769 0.61682 0.45259\n",
      " 0.64507 0.49405 0.62185 0.39843 0.16508 0.61596 0.7924  0.54604 0.28182\n",
      " 0.29235 0.30199 0.71632 0.56894 0.2379  0.36931 0.28792 0.40425 0.37513\n",
      " 0.39393 0.90329 0.91231 0.26916 0.38641 0.38063 0.87808 0.53341 0.31401\n",
      " 0.92022 0.28421 0.22333 0.29671 0.72241 0.71109 0.44478 0.80592 0.51689\n",
      " 0.29636 0.85891 0.93109 0.29279 0.27718 0.37517 0.24839 0.24201 0.21925\n",
      " 0.51374 0.28497 0.88146 0.63028 0.2433  0.33895 0.86955 0.62025 0.45636\n",
      " 0.47857 0.74885 0.20443 0.42924 0.24584 0.53652 0.39955 0.73547 0.93121\n",
      " 0.76077 0.29743 0.85079 0.64271 0.1637  0.47868 0.18868 0.5167  0.82551\n",
      " 0.80383 0.50916 0.67587 0.17159 0.40686 0.538   0.40701 0.36032 0.34631\n",
      " 0.19037 0.29645 0.54229 0.77591 0.22881 0.56545 0.80365 0.10114 0.09471\n",
      " 0.09955 0.14688 0.09349 0.19394 0.25337 0.29031 0.36958 0.36677 0.38093\n",
      " 0.79082 0.20437 0.77797 0.15015 0.20907 0.34256 0.17533 0.88382 0.10741\n",
      " 0.09883 0.22342 0.90502 0.54847 0.87578 0.55508 0.89142 0.56908 0.57058\n",
      " 0.81966 0.78845 0.74783 0.26777 0.50547 0.44314 0.27999 0.20889 0.16085\n",
      " 0.45665 0.85375 0.46467 0.24278 0.45143 0.14246 0.80031 0.4471  0.86823\n",
      " 0.16405 0.10665 0.73568 0.11098 0.20651 0.55887 0.38577 0.77804 0.70519\n",
      " 0.62433 0.89597 0.7548  0.74926 0.65525 0.73601 0.70541 0.83293 0.83501\n",
      " 0.72453 0.79258 0.77518 0.77704 0.75239 0.8344  0.88867 0.66647 0.69458\n",
      " 0.75838 0.77232 0.77505 0.84193 0.57867 0.72896 0.76661 0.80051 0.89353\n",
      " 0.82548 0.90156 0.78061 0.69444 0.82633 0.77937 0.89444 0.70504 0.78151\n",
      " 0.78572 0.76261 0.79878 0.82676 0.60511 0.77192 0.89106 0.79409 0.8619\n",
      " 0.79748 0.81815 0.86553 0.75754 0.88753 0.74557 0.38952 0.73299 0.46052\n",
      " 0.47823 0.82325 0.41464 0.56388 0.44853 0.39471 0.57038 0.45675 0.84018\n",
      " 0.51212 0.51354 0.67535 0.52224 0.58184 0.68572 0.59521 0.60686 0.42119\n",
      " 0.79707 0.479   0.86083 0.36057 0.84164 0.36619 0.79337 0.36109 0.90282\n",
      " 0.43473 0.33075 0.43869 0.51379 0.50624 0.45304 0.40159 0.58863 0.78923\n",
      " 0.80982 0.38097 0.80358 0.56577 0.35922 0.84128 0.68694 0.76794 0.66276\n",
      " 0.75062 0.46246 0.72962 0.40661 0.36385 0.17785 0.07135 0.52469 0.49615\n",
      " 0.05388 0.33145 0.12559 0.31739 0.03712 0.45152 0.14704 0.05043 0.11267\n",
      " 0.39101 0.41657 0.31623 0.38067 0.02059 0.2717  0.38581 0.15604 0.06667\n",
      " 0.72873 0.17917 0.18208 0.116   0.03068 0.03247 0.1795  0.29188 0.16501\n",
      " 0.028   0.25335 0.76132 0.10452 0.01109 0.05599 0.6364  0.04439 0.54421\n",
      " 0.72229 0.1828  0.04143 0.04596 0.30211 0.65218 0.6522  0.06261 0.06702\n",
      " 0.55115 0.26592 0.04065 0.38072 0.14814 0.25214 0.40083 0.06718 0.04978\n",
      " 0.27081 0.763   0.27274 0.01991 0.20738 0.15419 0.03173 0.4583  0.02311\n",
      " 0.07049 0.25695 0.25517 0.74189 0.53389 0.05167 0.21553 0.03542 0.09117\n",
      " 0.31496 0.12871 0.04534 0.50676 0.058   0.25705 0.63532 0.04603 0.56068\n",
      " 0.04244 0.35448 0.05087 0.0849  0.07654 0.29115 0.17515 0.1729  0.44585\n",
      " 0.07481 0.24778 0.39697 0.01679 0.01172 0.03086 0.08979 0.52285 0.52424\n",
      " 0.51683 0.6811  0.77374 0.52222 0.98309 0.68777 0.9142  0.52805 0.5443\n",
      " 0.72888 0.91056 0.54519 0.51669 0.61829 0.55545 0.91795 0.86077 0.77379\n",
      " 0.71516 0.35747 0.67392 0.4591  0.90351 0.65106 0.93858 0.46215 0.82747\n",
      " 0.9599  0.67425 0.58229 0.41303 0.61726 0.89449 0.95936 0.70956 0.36794\n",
      " 0.92925 0.6732  0.36973 0.61284]\n"
     ]
    }
   ],
   "source": [
    "loyalty_predictions = regressor.predict(to_be_scored)\n",
    "print(loyalty_predictions)"
   ]
  },
  {
   "cell_type": "code",
   "execution_count": 158,
   "metadata": {},
   "outputs": [
    {
     "data": {
      "text/html": [
       "<div>\n",
       "<style scoped>\n",
       "    .dataframe tbody tr th:only-of-type {\n",
       "        vertical-align: middle;\n",
       "    }\n",
       "\n",
       "    .dataframe tbody tr th {\n",
       "        vertical-align: top;\n",
       "    }\n",
       "\n",
       "    .dataframe thead th {\n",
       "        text-align: right;\n",
       "    }\n",
       "</style>\n",
       "<table border=\"1\" class=\"dataframe\">\n",
       "  <thead>\n",
       "    <tr style=\"text-align: right;\">\n",
       "      <th></th>\n",
       "      <th>Loyalty_scores_pred</th>\n",
       "    </tr>\n",
       "  </thead>\n",
       "  <tbody>\n",
       "    <tr>\n",
       "      <th>0</th>\n",
       "      <td>0.42641</td>\n",
       "    </tr>\n",
       "    <tr>\n",
       "      <th>1</th>\n",
       "      <td>0.32992</td>\n",
       "    </tr>\n",
       "    <tr>\n",
       "      <th>2</th>\n",
       "      <td>0.34719</td>\n",
       "    </tr>\n",
       "    <tr>\n",
       "      <th>3</th>\n",
       "      <td>0.93166</td>\n",
       "    </tr>\n",
       "    <tr>\n",
       "      <th>4</th>\n",
       "      <td>0.38490</td>\n",
       "    </tr>\n",
       "  </tbody>\n",
       "</table>\n",
       "</div>"
      ],
      "text/plain": [
       "   Loyalty_scores_pred\n",
       "0              0.42641\n",
       "1              0.32992\n",
       "2              0.34719\n",
       "3              0.93166\n",
       "4              0.38490"
      ]
     },
     "execution_count": 158,
     "metadata": {},
     "output_type": "execute_result"
    }
   ],
   "source": [
    "customer_to_score = pd.DataFrame(loyalty_predictions, columns=['Loyalty_scores_pred'], index=None)\n",
    "customer_to_score.head()"
   ]
  },
  {
   "cell_type": "code",
   "execution_count": 159,
   "metadata": {},
   "outputs": [
    {
     "data": {
      "text/html": [
       "<div>\n",
       "<style scoped>\n",
       "    .dataframe tbody tr th:only-of-type {\n",
       "        vertical-align: middle;\n",
       "    }\n",
       "\n",
       "    .dataframe tbody tr th {\n",
       "        vertical-align: top;\n",
       "    }\n",
       "\n",
       "    .dataframe thead th {\n",
       "        text-align: right;\n",
       "    }\n",
       "</style>\n",
       "<table border=\"1\" class=\"dataframe\">\n",
       "  <thead>\n",
       "    <tr style=\"text-align: right;\">\n",
       "      <th></th>\n",
       "      <th>customer_id</th>\n",
       "    </tr>\n",
       "  </thead>\n",
       "  <tbody>\n",
       "    <tr>\n",
       "      <th>0</th>\n",
       "      <td>1</td>\n",
       "    </tr>\n",
       "    <tr>\n",
       "      <th>1</th>\n",
       "      <td>120</td>\n",
       "    </tr>\n",
       "    <tr>\n",
       "      <th>2</th>\n",
       "      <td>52</td>\n",
       "    </tr>\n",
       "    <tr>\n",
       "      <th>3</th>\n",
       "      <td>435</td>\n",
       "    </tr>\n",
       "    <tr>\n",
       "      <th>4</th>\n",
       "      <td>679</td>\n",
       "    </tr>\n",
       "  </tbody>\n",
       "</table>\n",
       "</div>"
      ],
      "text/plain": [
       "   customer_id\n",
       "0            1\n",
       "1          120\n",
       "2           52\n",
       "3          435\n",
       "4          679"
      ]
     },
     "execution_count": 159,
     "metadata": {},
     "output_type": "execute_result"
    }
   ],
   "source": [
    "customer_id = pd.DataFrame(customer_id,columns=['customer_id']).reset_index(drop=True)\n",
    "customer_id.head()"
   ]
  },
  {
   "cell_type": "code",
   "execution_count": 160,
   "metadata": {},
   "outputs": [
    {
     "data": {
      "text/html": [
       "<div>\n",
       "<style scoped>\n",
       "    .dataframe tbody tr th:only-of-type {\n",
       "        vertical-align: middle;\n",
       "    }\n",
       "\n",
       "    .dataframe tbody tr th {\n",
       "        vertical-align: top;\n",
       "    }\n",
       "\n",
       "    .dataframe thead th {\n",
       "        text-align: right;\n",
       "    }\n",
       "</style>\n",
       "<table border=\"1\" class=\"dataframe\">\n",
       "  <thead>\n",
       "    <tr style=\"text-align: right;\">\n",
       "      <th></th>\n",
       "      <th>Loyalty_scores_pred</th>\n",
       "      <th>customer_id</th>\n",
       "    </tr>\n",
       "  </thead>\n",
       "  <tbody>\n",
       "    <tr>\n",
       "      <th>0</th>\n",
       "      <td>0.42641</td>\n",
       "      <td>1</td>\n",
       "    </tr>\n",
       "    <tr>\n",
       "      <th>1</th>\n",
       "      <td>0.32992</td>\n",
       "      <td>120</td>\n",
       "    </tr>\n",
       "    <tr>\n",
       "      <th>2</th>\n",
       "      <td>0.34719</td>\n",
       "      <td>52</td>\n",
       "    </tr>\n",
       "    <tr>\n",
       "      <th>3</th>\n",
       "      <td>0.93166</td>\n",
       "      <td>435</td>\n",
       "    </tr>\n",
       "    <tr>\n",
       "      <th>4</th>\n",
       "      <td>0.38490</td>\n",
       "      <td>679</td>\n",
       "    </tr>\n",
       "    <tr>\n",
       "      <th>5</th>\n",
       "      <td>0.93566</td>\n",
       "      <td>182</td>\n",
       "    </tr>\n",
       "    <tr>\n",
       "      <th>6</th>\n",
       "      <td>0.43343</td>\n",
       "      <td>426</td>\n",
       "    </tr>\n",
       "    <tr>\n",
       "      <th>7</th>\n",
       "      <td>0.73502</td>\n",
       "      <td>560</td>\n",
       "    </tr>\n",
       "    <tr>\n",
       "      <th>8</th>\n",
       "      <td>0.31208</td>\n",
       "      <td>476</td>\n",
       "    </tr>\n",
       "  </tbody>\n",
       "</table>\n",
       "</div>"
      ],
      "text/plain": [
       "   Loyalty_scores_pred  customer_id\n",
       "0              0.42641            1\n",
       "1              0.32992          120\n",
       "2              0.34719           52\n",
       "3              0.93166          435\n",
       "4              0.38490          679\n",
       "5              0.93566          182\n",
       "6              0.43343          426\n",
       "7              0.73502          560\n",
       "8              0.31208          476"
      ]
     },
     "execution_count": 160,
     "metadata": {},
     "output_type": "execute_result"
    }
   ],
   "source": [
    "customer_to_score[\"customer_id\"] = customer_id\n",
    "customer_to_score.head(9)"
   ]
  }
 ],
 "metadata": {
  "kernelspec": {
   "display_name": "Python 3",
   "language": "python",
   "name": "python3"
  },
  "language_info": {
   "codemirror_mode": {
    "name": "ipython",
    "version": 3
   },
   "file_extension": ".py",
   "mimetype": "text/x-python",
   "name": "python",
   "nbconvert_exporter": "python",
   "pygments_lexer": "ipython3",
   "version": "3.9.7"
  },
  "orig_nbformat": 4
 },
 "nbformat": 4,
 "nbformat_minor": 2
}
