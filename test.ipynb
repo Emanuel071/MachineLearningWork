{
 "cells": [
  {
   "cell_type": "code",
   "execution_count": 16,
   "metadata": {},
   "outputs": [
    {
     "name": "stdout",
     "output_type": "stream",
     "text": [
      "1\n",
      "<class 'pandas.core.frame.DataFrame'>\n",
      "0\n"
     ]
    },
    {
     "data": {
      "text/plain": [
       "0    <p style=\"text-align:left\"><span>You are a dri...\n",
       "1    <p style=\"text-align:left\"><span>You are a dri...\n",
       "2    <p style=\"text-align:left\"><span>You are a dri...\n",
       "3                                                    0\n",
       "4    <p style=\"text-align:left\"><span>You are a dri...\n",
       "Name: description, dtype: object"
      ]
     },
     "execution_count": 16,
     "metadata": {},
     "output_type": "execute_result"
    }
   ],
   "source": [
    "import os\n",
    "import pandas as pd\n",
    "path2 = 'C:\\\\users\\\\eacalder\\\\Documents\\\\Tasks\\\\thinknum\\\\testing'\n",
    "\n",
    "\n",
    "fileNameIn = 'test.csv'\n",
    "\n",
    "#joining path to new file name  \n",
    "completeNameIn = os.path.join(path2, fileNameIn)\n",
    "\n",
    "df_secrets = pd.read_csv(completeNameIn)\n",
    "print(df_secrets[\"description\"].isna().sum())\n",
    "\n",
    "df_secrets[\"description\"] = df_secrets[\"description\"].fillna(0)\n",
    "print(type(df_secrets))\n",
    "print(df_secrets[\"description\"].isna().sum())\n",
    "df_secrets[\"description\"].head()"
   ]
  },
  {
   "cell_type": "code",
   "execution_count": 3,
   "metadata": {},
   "outputs": [
    {
     "name": "stdout",
     "output_type": "stream",
     "text": [
      "sometihinG/input/\n"
     ]
    },
    {
     "data": {
      "text/plain": [
       "'sometihing/output/'"
      ]
     },
     "execution_count": 3,
     "metadata": {},
     "output_type": "execute_result"
    }
   ],
   "source": [
    "text  = 'sometihinG/output/'\n",
    "new = text.replace('output','input')\n",
    "print(new)\n",
    "\n",
    "text.lower()"
   ]
  }
 ],
 "metadata": {
  "kernelspec": {
   "display_name": "Python 3",
   "language": "python",
   "name": "python3"
  },
  "language_info": {
   "codemirror_mode": {
    "name": "ipython",
    "version": 3
   },
   "file_extension": ".py",
   "mimetype": "text/x-python",
   "name": "python",
   "nbconvert_exporter": "python",
   "pygments_lexer": "ipython3",
   "version": "3.9.7"
  },
  "orig_nbformat": 4
 },
 "nbformat": 4,
 "nbformat_minor": 2
}
