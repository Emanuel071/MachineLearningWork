{
 "cells": [
  {
   "cell_type": "code",
   "execution_count": 16,
   "metadata": {},
   "outputs": [
    {
     "name": "stdout",
     "output_type": "stream",
     "text": [
      "1\n",
      "<class 'pandas.core.frame.DataFrame'>\n",
      "0\n"
     ]
    },
    {
     "data": {
      "text/plain": [
       "0    <p style=\"text-align:left\"><span>You are a dri...\n",
       "1    <p style=\"text-align:left\"><span>You are a dri...\n",
       "2    <p style=\"text-align:left\"><span>You are a dri...\n",
       "3                                                    0\n",
       "4    <p style=\"text-align:left\"><span>You are a dri...\n",
       "Name: description, dtype: object"
      ]
     },
     "execution_count": 16,
     "metadata": {},
     "output_type": "execute_result"
    }
   ],
   "source": [
    "import os\n",
    "import pandas as pd\n",
    "path2 = 'C:\\\\users\\\\eacalder\\\\Documents\\\\Tasks\\\\thinknum\\\\testing'\n",
    "\n",
    "\n",
    "fileNameIn = 'test.csv'\n",
    "\n",
    "#joining path to new file name  \n",
    "completeNameIn = os.path.join(path2, fileNameIn)\n",
    "\n",
    "df_secrets = pd.read_csv(completeNameIn)\n",
    "print(df_secrets[\"description\"].isna().sum())\n",
    "\n",
    "df_secrets[\"description\"] = df_secrets[\"description\"].fillna(0)\n",
    "print(type(df_secrets))\n",
    "print(df_secrets[\"description\"].isna().sum())\n",
    "df_secrets[\"description\"].head()"
   ]
  },
  {
   "cell_type": "code",
   "execution_count": 3,
   "metadata": {},
   "outputs": [
    {
     "name": "stdout",
     "output_type": "stream",
     "text": [
      "sometihinG/input/\n"
     ]
    },
    {
     "data": {
      "text/plain": [
       "'sometihing/output/'"
      ]
     },
     "execution_count": 3,
     "metadata": {},
     "output_type": "execute_result"
    }
   ],
   "source": [
    "text  = 'sometihinG/output/'\n",
    "new = text.replace('output','input')\n",
    "print(new)\n",
    "\n",
    "text.lower()"
   ]
  },
  {
   "cell_type": "code",
   "execution_count": 39,
   "metadata": {},
   "outputs": [],
   "source": [
    "import pandas as pd\n",
    "from datetime import datetime\n",
    "from pytz import timezone"
   ]
  },
  {
   "cell_type": "code",
   "execution_count": 37,
   "metadata": {},
   "outputs": [
    {
     "data": {
      "text/html": [
       "<div>\n",
       "<style scoped>\n",
       "    .dataframe tbody tr th:only-of-type {\n",
       "        vertical-align: middle;\n",
       "    }\n",
       "\n",
       "    .dataframe tbody tr th {\n",
       "        vertical-align: top;\n",
       "    }\n",
       "\n",
       "    .dataframe thead th {\n",
       "        text-align: right;\n",
       "    }\n",
       "</style>\n",
       "<table border=\"1\" class=\"dataframe\">\n",
       "  <thead>\n",
       "    <tr style=\"text-align: right;\">\n",
       "      <th></th>\n",
       "      <th>a</th>\n",
       "      <th>b</th>\n",
       "    </tr>\n",
       "  </thead>\n",
       "  <tbody>\n",
       "    <tr>\n",
       "      <th>0</th>\n",
       "      <td>1</td>\n",
       "      <td>6</td>\n",
       "    </tr>\n",
       "    <tr>\n",
       "      <th>1</th>\n",
       "      <td>2</td>\n",
       "      <td>7</td>\n",
       "    </tr>\n",
       "    <tr>\n",
       "      <th>2</th>\n",
       "      <td>3</td>\n",
       "      <td>8</td>\n",
       "    </tr>\n",
       "    <tr>\n",
       "      <th>3</th>\n",
       "      <td>4</td>\n",
       "      <td>9</td>\n",
       "    </tr>\n",
       "    <tr>\n",
       "      <th>4</th>\n",
       "      <td>5</td>\n",
       "      <td>10</td>\n",
       "    </tr>\n",
       "    <tr>\n",
       "      <th>5</th>\n",
       "      <td>11</td>\n",
       "      <td>16</td>\n",
       "    </tr>\n",
       "    <tr>\n",
       "      <th>6</th>\n",
       "      <td>12</td>\n",
       "      <td>17</td>\n",
       "    </tr>\n",
       "    <tr>\n",
       "      <th>7</th>\n",
       "      <td>13</td>\n",
       "      <td>18</td>\n",
       "    </tr>\n",
       "    <tr>\n",
       "      <th>8</th>\n",
       "      <td>14</td>\n",
       "      <td>19</td>\n",
       "    </tr>\n",
       "    <tr>\n",
       "      <th>9</th>\n",
       "      <td>15</td>\n",
       "      <td>20</td>\n",
       "    </tr>\n",
       "  </tbody>\n",
       "</table>\n",
       "</div>"
      ],
      "text/plain": [
       "    a   b\n",
       "0   1   6\n",
       "1   2   7\n",
       "2   3   8\n",
       "3   4   9\n",
       "4   5  10\n",
       "5  11  16\n",
       "6  12  17\n",
       "7  13  18\n",
       "8  14  19\n",
       "9  15  20"
      ]
     },
     "execution_count": 37,
     "metadata": {},
     "output_type": "execute_result"
    }
   ],
   "source": [
    "data = {'a': [1,2,3,4,5],\n",
    "        'b': [6,7,8,9,10]}\n",
    "otherdata = {'a': [11,12,13,14,15],\n",
    "             'b': [16,17,18,19,20]}\n",
    "table = pd.DataFrame(data, index=None)\n",
    "table2 = pd.DataFrame(otherdata, index=None)\n",
    "\n",
    "table = pd.concat([table, table2], axis=0, ignore_index=True)\n",
    "\n",
    "table.head(30)\n"
   ]
  },
  {
   "cell_type": "code",
   "execution_count": 43,
   "metadata": {},
   "outputs": [
    {
     "name": "stdout",
     "output_type": "stream",
     "text": [
      "2023-04-04\n"
     ]
    }
   ],
   "source": [
    "tz = timezone('EST')\n",
    "now_time = datetime.now(tz)\n",
    "print(now_time.date())"
   ]
  },
  {
   "cell_type": "code",
   "execution_count": null,
   "metadata": {},
   "outputs": [],
   "source": []
  },
  {
   "cell_type": "code",
   "execution_count": 12,
   "metadata": {},
   "outputs": [
    {
     "name": "stdout",
     "output_type": "stream",
     "text": [
      "(2,)\n",
      "<class 'pandas.core.series.Series'>\n"
     ]
    },
    {
     "data": {
      "text/plain": [
       "a    2\n",
       "b    7\n",
       "Name: 1, dtype: int64"
      ]
     },
     "execution_count": 12,
     "metadata": {},
     "output_type": "execute_result"
    }
   ],
   "source": [
    "columnb = table.iloc[1]\n",
    "print(columnb.shape)\n",
    "print(type(columnb))\n",
    "columnb.head()"
   ]
  },
  {
   "cell_type": "code",
   "execution_count": 14,
   "metadata": {},
   "outputs": [
    {
     "name": "stdout",
     "output_type": "stream",
     "text": [
      "2023-3-1\n",
      "2023-2-25\n",
      "2023-1-1\n",
      "2023-12-1\n",
      "2023-11-1\n",
      "2023-7-1\n",
      "2023-8-1\n",
      "['refined/thinknum/competitor_skills_extract/ingest_date=2023-3-1/3b754b25d7634e83a6ced1b2c6bbf496.snappy.parquet', 'refined/thinknum/competitor_skills_extract/ingest_date=2023-1-1/3b754b25d7634e83a6ced1b2c6bbf496.snappy.parquet', 'refined/thinknum/competitor_skills_extract/ingest_date=2023-12-1/3b754b25d7634e83a6ced1b2c6bbf496.snappy.parquet', 'refined/thinknum/competitor_skills_extract/ingest_date=2023-11-1/3b754b25d7634e83a6ced1b2c6bbf496.snappy.parquet', 'refined/thinknum/competitor_skills_extract/ingest_date=2023-7-1/3b754b25d7634e83a6ced1b2c6bbf496.snappy.parquet', 'refined/thinknum/competitor_skills_extract/ingest_date=2023-8-1/3b754b25d7634e83a6ced1b2c6bbf496.snappy.parquet']\n",
      "6\n"
     ]
    }
   ],
   "source": [
    "def split_s3_path(s3_path: str):\n",
    "    path_parts=s3_path.replace(\"s3://\",\"\").split(\"/\")\n",
    "    bucket=path_parts.pop(0)\n",
    "    key=\"/\".join(path_parts)\n",
    "    return bucket, key\n",
    "\n",
    "import datetime\n",
    "key_list = ['refined/thinknum/competitor_skills_extract/ingest_date=2023-3-1/3b754b25d7634e83a6ced1b2c6bbf496.snappy.parquet',\n",
    "            'refined/thinknum/competitor_skills_extract/ingest_date=2023-2-25/3b754b25d7634e83a6ced1b2c6bbf496.snappy.parquet',\n",
    "            'refined/thinknum/competitor_skills_extract/ingest_date=2023-1-1/3b754b25d7634e83a6ced1b2c6bbf496.snappy.parquet',\n",
    "            'refined/thinknum/competitor_skills_extract/ingest_date=2023-12-1/3b754b25d7634e83a6ced1b2c6bbf496.snappy.parquet',\n",
    "            'refined/thinknum/competitor_skills_extract/ingest_date=2023-11-1/3b754b25d7634e83a6ced1b2c6bbf496.snappy.parquet',\n",
    "            'refined/thinknum/competitor_skills_extract/ingest_date=2023-7-1/3b754b25d7634e83a6ced1b2c6bbf496.snappy.parquet',\n",
    "            'refined/thinknum/competitor_skills_extract/ingest_date=2023-8-1/3b754b25d7634e83a6ced1b2c6bbf496.snappy.parquet',\n",
    "            'refined/thinknum/competitor_skills_extract/ingest_date=2023-9-1/3b754b25d7634e83a6ced1b2c6bbf496.snappy.parquet'\n",
    "            ]   \n",
    "\n",
    "first_of_month_key_list = []\n",
    "month_count = 0\n",
    "\n",
    "for key_path in key_list:\n",
    "    key_parts = key_path.split(\"/\")\n",
    "    ingest_date_folder = key_parts[3]\n",
    "    ingest_date_parts = ingest_date_folder.split(\"=\")\n",
    "    ingest_date = ingest_date_parts[1]\n",
    "    print(ingest_date)\n",
    "    folder_date = datetime.datetime.strptime(ingest_date, '%Y-%m-%d').date()\n",
    "    if folder_date.day == 1:\n",
    "        month_count += 1\n",
    "        first_of_month_key_list.append(key_path)\n",
    "    if month_count == 6:\n",
    "        break\n",
    "\n",
    "print(first_of_month_key_list)\n",
    "print(len(first_of_month_key_list))\n"
   ]
  }
 ],
 "metadata": {
  "kernelspec": {
   "display_name": "Python 3",
   "language": "python",
   "name": "python3"
  },
  "language_info": {
   "codemirror_mode": {
    "name": "ipython",
    "version": 3
   },
   "file_extension": ".py",
   "mimetype": "text/x-python",
   "name": "python",
   "nbconvert_exporter": "python",
   "pygments_lexer": "ipython3",
   "version": "3.9.7"
  },
  "orig_nbformat": 4
 },
 "nbformat": 4,
 "nbformat_minor": 2
}
