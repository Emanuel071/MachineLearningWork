{
 "cells": [
  {
   "attachments": {},
   "cell_type": "markdown",
   "metadata": {},
   "source": [
    "# Preparing & Cleaning Data for Machine Learning"
   ]
  },
  {
   "attachments": {},
   "cell_type": "markdown",
   "metadata": {},
   "source": [
    "### Dealing with Missing Values"
   ]
  },
  {
   "cell_type": "code",
   "execution_count": 2,
   "metadata": {},
   "outputs": [],
   "source": [
    "import pandas as pd\n",
    "import numpy as np      "
   ]
  },
  {
   "cell_type": "code",
   "execution_count": 13,
   "metadata": {},
   "outputs": [],
   "source": [
    "my_df = pd.DataFrame({\"A\" : [1,2,4,np.nan,5,np.nan,7], \n",
    "                      \"B\":[4,np.nan,7,np.nan,1,np.nan,2]})"
   ]
  },
  {
   "cell_type": "code",
   "execution_count": 5,
   "metadata": {},
   "outputs": [
    {
     "data": {
      "text/plain": [
       "A    2\n",
       "B    3\n",
       "dtype: int64"
      ]
     },
     "execution_count": 5,
     "metadata": {},
     "output_type": "execute_result"
    }
   ],
   "source": [
    "my_df.isna()\n",
    "my_df.isna().sum()"
   ]
  },
  {
   "cell_type": "code",
   "execution_count": 6,
   "metadata": {},
   "outputs": [
    {
     "data": {
      "text/html": [
       "<div>\n",
       "<style scoped>\n",
       "    .dataframe tbody tr th:only-of-type {\n",
       "        vertical-align: middle;\n",
       "    }\n",
       "\n",
       "    .dataframe tbody tr th {\n",
       "        vertical-align: top;\n",
       "    }\n",
       "\n",
       "    .dataframe thead th {\n",
       "        text-align: right;\n",
       "    }\n",
       "</style>\n",
       "<table border=\"1\" class=\"dataframe\">\n",
       "  <thead>\n",
       "    <tr style=\"text-align: right;\">\n",
       "      <th></th>\n",
       "      <th>A</th>\n",
       "      <th>B</th>\n",
       "    </tr>\n",
       "  </thead>\n",
       "  <tbody>\n",
       "    <tr>\n",
       "      <th>0</th>\n",
       "      <td>1.0</td>\n",
       "      <td>4.0</td>\n",
       "    </tr>\n",
       "    <tr>\n",
       "      <th>2</th>\n",
       "      <td>4.0</td>\n",
       "      <td>7.0</td>\n",
       "    </tr>\n",
       "    <tr>\n",
       "      <th>4</th>\n",
       "      <td>5.0</td>\n",
       "      <td>1.0</td>\n",
       "    </tr>\n",
       "    <tr>\n",
       "      <th>6</th>\n",
       "      <td>7.0</td>\n",
       "      <td>2.0</td>\n",
       "    </tr>\n",
       "  </tbody>\n",
       "</table>\n",
       "</div>"
      ],
      "text/plain": [
       "     A    B\n",
       "0  1.0  4.0\n",
       "2  4.0  7.0\n",
       "4  5.0  1.0\n",
       "6  7.0  2.0"
      ]
     },
     "execution_count": 6,
     "metadata": {},
     "output_type": "execute_result"
    }
   ],
   "source": [
    "my_df.dropna()"
   ]
  },
  {
   "cell_type": "code",
   "execution_count": 7,
   "metadata": {},
   "outputs": [
    {
     "data": {
      "text/html": [
       "<div>\n",
       "<style scoped>\n",
       "    .dataframe tbody tr th:only-of-type {\n",
       "        vertical-align: middle;\n",
       "    }\n",
       "\n",
       "    .dataframe tbody tr th {\n",
       "        vertical-align: top;\n",
       "    }\n",
       "\n",
       "    .dataframe thead th {\n",
       "        text-align: right;\n",
       "    }\n",
       "</style>\n",
       "<table border=\"1\" class=\"dataframe\">\n",
       "  <thead>\n",
       "    <tr style=\"text-align: right;\">\n",
       "      <th></th>\n",
       "      <th>A</th>\n",
       "      <th>B</th>\n",
       "    </tr>\n",
       "  </thead>\n",
       "  <tbody>\n",
       "    <tr>\n",
       "      <th>0</th>\n",
       "      <td>1.0</td>\n",
       "      <td>4.0</td>\n",
       "    </tr>\n",
       "    <tr>\n",
       "      <th>2</th>\n",
       "      <td>4.0</td>\n",
       "      <td>7.0</td>\n",
       "    </tr>\n",
       "    <tr>\n",
       "      <th>4</th>\n",
       "      <td>5.0</td>\n",
       "      <td>1.0</td>\n",
       "    </tr>\n",
       "    <tr>\n",
       "      <th>6</th>\n",
       "      <td>7.0</td>\n",
       "      <td>2.0</td>\n",
       "    </tr>\n",
       "  </tbody>\n",
       "</table>\n",
       "</div>"
      ],
      "text/plain": [
       "     A    B\n",
       "0  1.0  4.0\n",
       "2  4.0  7.0\n",
       "4  5.0  1.0\n",
       "6  7.0  2.0"
      ]
     },
     "execution_count": 7,
     "metadata": {},
     "output_type": "execute_result"
    }
   ],
   "source": [
    "my_df.dropna(how = 'any')"
   ]
  },
  {
   "cell_type": "code",
   "execution_count": 8,
   "metadata": {},
   "outputs": [
    {
     "data": {
      "text/html": [
       "<div>\n",
       "<style scoped>\n",
       "    .dataframe tbody tr th:only-of-type {\n",
       "        vertical-align: middle;\n",
       "    }\n",
       "\n",
       "    .dataframe tbody tr th {\n",
       "        vertical-align: top;\n",
       "    }\n",
       "\n",
       "    .dataframe thead th {\n",
       "        text-align: right;\n",
       "    }\n",
       "</style>\n",
       "<table border=\"1\" class=\"dataframe\">\n",
       "  <thead>\n",
       "    <tr style=\"text-align: right;\">\n",
       "      <th></th>\n",
       "      <th>A</th>\n",
       "      <th>B</th>\n",
       "    </tr>\n",
       "  </thead>\n",
       "  <tbody>\n",
       "    <tr>\n",
       "      <th>0</th>\n",
       "      <td>1.0</td>\n",
       "      <td>4.0</td>\n",
       "    </tr>\n",
       "    <tr>\n",
       "      <th>1</th>\n",
       "      <td>2.0</td>\n",
       "      <td>NaN</td>\n",
       "    </tr>\n",
       "    <tr>\n",
       "      <th>2</th>\n",
       "      <td>4.0</td>\n",
       "      <td>7.0</td>\n",
       "    </tr>\n",
       "    <tr>\n",
       "      <th>4</th>\n",
       "      <td>5.0</td>\n",
       "      <td>1.0</td>\n",
       "    </tr>\n",
       "    <tr>\n",
       "      <th>6</th>\n",
       "      <td>7.0</td>\n",
       "      <td>2.0</td>\n",
       "    </tr>\n",
       "  </tbody>\n",
       "</table>\n",
       "</div>"
      ],
      "text/plain": [
       "     A    B\n",
       "0  1.0  4.0\n",
       "1  2.0  NaN\n",
       "2  4.0  7.0\n",
       "4  5.0  1.0\n",
       "6  7.0  2.0"
      ]
     },
     "execution_count": 8,
     "metadata": {},
     "output_type": "execute_result"
    }
   ],
   "source": [
    "my_df.dropna(how = 'all')"
   ]
  },
  {
   "cell_type": "code",
   "execution_count": 11,
   "metadata": {},
   "outputs": [
    {
     "data": {
      "text/html": [
       "<div>\n",
       "<style scoped>\n",
       "    .dataframe tbody tr th:only-of-type {\n",
       "        vertical-align: middle;\n",
       "    }\n",
       "\n",
       "    .dataframe tbody tr th {\n",
       "        vertical-align: top;\n",
       "    }\n",
       "\n",
       "    .dataframe thead th {\n",
       "        text-align: right;\n",
       "    }\n",
       "</style>\n",
       "<table border=\"1\" class=\"dataframe\">\n",
       "  <thead>\n",
       "    <tr style=\"text-align: right;\">\n",
       "      <th></th>\n",
       "      <th>A</th>\n",
       "      <th>B</th>\n",
       "    </tr>\n",
       "  </thead>\n",
       "  <tbody>\n",
       "    <tr>\n",
       "      <th>0</th>\n",
       "      <td>1.0</td>\n",
       "      <td>4.0</td>\n",
       "    </tr>\n",
       "    <tr>\n",
       "      <th>1</th>\n",
       "      <td>2.0</td>\n",
       "      <td>NaN</td>\n",
       "    </tr>\n",
       "    <tr>\n",
       "      <th>2</th>\n",
       "      <td>4.0</td>\n",
       "      <td>7.0</td>\n",
       "    </tr>\n",
       "    <tr>\n",
       "      <th>4</th>\n",
       "      <td>5.0</td>\n",
       "      <td>1.0</td>\n",
       "    </tr>\n",
       "    <tr>\n",
       "      <th>6</th>\n",
       "      <td>7.0</td>\n",
       "      <td>2.0</td>\n",
       "    </tr>\n",
       "  </tbody>\n",
       "</table>\n",
       "</div>"
      ],
      "text/plain": [
       "     A    B\n",
       "0  1.0  4.0\n",
       "1  2.0  NaN\n",
       "2  4.0  7.0\n",
       "4  5.0  1.0\n",
       "6  7.0  2.0"
      ]
     },
     "execution_count": 11,
     "metadata": {},
     "output_type": "execute_result"
    }
   ],
   "source": [
    "my_df.dropna(how = 'any', subset=[\"A\"])"
   ]
  },
  {
   "cell_type": "code",
   "execution_count": 12,
   "metadata": {},
   "outputs": [],
   "source": [
    "my_df.dropna(how = 'any', inplace=True)"
   ]
  },
  {
   "attachments": {},
   "cell_type": "markdown",
   "metadata": {},
   "source": [
    "recommendation is dropping rows than filling them   \n",
    "\n",
    "if filling, better with a constant value"
   ]
  },
  {
   "cell_type": "code",
   "execution_count": 14,
   "metadata": {},
   "outputs": [
    {
     "data": {
      "text/html": [
       "<div>\n",
       "<style scoped>\n",
       "    .dataframe tbody tr th:only-of-type {\n",
       "        vertical-align: middle;\n",
       "    }\n",
       "\n",
       "    .dataframe tbody tr th {\n",
       "        vertical-align: top;\n",
       "    }\n",
       "\n",
       "    .dataframe thead th {\n",
       "        text-align: right;\n",
       "    }\n",
       "</style>\n",
       "<table border=\"1\" class=\"dataframe\">\n",
       "  <thead>\n",
       "    <tr style=\"text-align: right;\">\n",
       "      <th></th>\n",
       "      <th>A</th>\n",
       "      <th>B</th>\n",
       "    </tr>\n",
       "  </thead>\n",
       "  <tbody>\n",
       "    <tr>\n",
       "      <th>0</th>\n",
       "      <td>1.0</td>\n",
       "      <td>4.0</td>\n",
       "    </tr>\n",
       "    <tr>\n",
       "      <th>1</th>\n",
       "      <td>2.0</td>\n",
       "      <td>100.0</td>\n",
       "    </tr>\n",
       "    <tr>\n",
       "      <th>2</th>\n",
       "      <td>4.0</td>\n",
       "      <td>7.0</td>\n",
       "    </tr>\n",
       "    <tr>\n",
       "      <th>3</th>\n",
       "      <td>100.0</td>\n",
       "      <td>100.0</td>\n",
       "    </tr>\n",
       "    <tr>\n",
       "      <th>4</th>\n",
       "      <td>5.0</td>\n",
       "      <td>1.0</td>\n",
       "    </tr>\n",
       "    <tr>\n",
       "      <th>5</th>\n",
       "      <td>100.0</td>\n",
       "      <td>100.0</td>\n",
       "    </tr>\n",
       "    <tr>\n",
       "      <th>6</th>\n",
       "      <td>7.0</td>\n",
       "      <td>2.0</td>\n",
       "    </tr>\n",
       "  </tbody>\n",
       "</table>\n",
       "</div>"
      ],
      "text/plain": [
       "       A      B\n",
       "0    1.0    4.0\n",
       "1    2.0  100.0\n",
       "2    4.0    7.0\n",
       "3  100.0  100.0\n",
       "4    5.0    1.0\n",
       "5  100.0  100.0\n",
       "6    7.0    2.0"
      ]
     },
     "execution_count": 14,
     "metadata": {},
     "output_type": "execute_result"
    }
   ],
   "source": [
    "#rerun dataframe\n",
    "my_df.fillna(value= 100)"
   ]
  },
  {
   "cell_type": "code",
   "execution_count": 15,
   "metadata": {},
   "outputs": [
    {
     "data": {
      "text/plain": [
       "0    1.0\n",
       "1    2.0\n",
       "2    4.0\n",
       "3    3.8\n",
       "4    5.0\n",
       "5    3.8\n",
       "6    7.0\n",
       "Name: A, dtype: float64"
      ]
     },
     "execution_count": 15,
     "metadata": {},
     "output_type": "execute_result"
    }
   ],
   "source": [
    "mean_value = my_df[\"A\"].mean()\n",
    "my_df[\"A\"].fillna(value=mean_value)\n"
   ]
  },
  {
   "cell_type": "code",
   "execution_count": 17,
   "metadata": {},
   "outputs": [
    {
     "name": "stdout",
     "output_type": "stream",
     "text": [
      "     A    B\n",
      "0  1.0  4.0\n",
      "1  2.0  3.5\n",
      "2  4.0  7.0\n",
      "3  3.8  3.5\n",
      "4  5.0  1.0\n",
      "5  3.8  3.5\n",
      "6  7.0  2.0\n"
     ]
    }
   ],
   "source": [
    "my_df.fillna(value=my_df.mean(), inplace=True)\n",
    "print(my_df)"
   ]
  },
  {
   "attachments": {},
   "cell_type": "markdown",
   "metadata": {},
   "source": [
    "### Dealing with Missing Values - SimpleImputer"
   ]
  },
  {
   "cell_type": "code",
   "execution_count": 19,
   "metadata": {},
   "outputs": [],
   "source": [
    "from sklearn.impute import SimpleImputer"
   ]
  },
  {
   "cell_type": "code",
   "execution_count": 22,
   "metadata": {},
   "outputs": [],
   "source": [
    "my_df = pd.DataFrame({\"A\" : [1,4,7,10,13], \n",
    "                      \"B\":[3,6,9,np.nan,15],\n",
    "                      \"C\":[2,5,np.nan,11,np.nan]})"
   ]
  },
  {
   "cell_type": "code",
   "execution_count": 21,
   "metadata": {},
   "outputs": [],
   "source": [
    "imputer = SimpleImputer()"
   ]
  },
  {
   "cell_type": "code",
   "execution_count": 23,
   "metadata": {},
   "outputs": [
    {
     "data": {
      "text/html": [
       "<style>#sk-container-id-1 {color: black;background-color: white;}#sk-container-id-1 pre{padding: 0;}#sk-container-id-1 div.sk-toggleable {background-color: white;}#sk-container-id-1 label.sk-toggleable__label {cursor: pointer;display: block;width: 100%;margin-bottom: 0;padding: 0.3em;box-sizing: border-box;text-align: center;}#sk-container-id-1 label.sk-toggleable__label-arrow:before {content: \"▸\";float: left;margin-right: 0.25em;color: #696969;}#sk-container-id-1 label.sk-toggleable__label-arrow:hover:before {color: black;}#sk-container-id-1 div.sk-estimator:hover label.sk-toggleable__label-arrow:before {color: black;}#sk-container-id-1 div.sk-toggleable__content {max-height: 0;max-width: 0;overflow: hidden;text-align: left;background-color: #f0f8ff;}#sk-container-id-1 div.sk-toggleable__content pre {margin: 0.2em;color: black;border-radius: 0.25em;background-color: #f0f8ff;}#sk-container-id-1 input.sk-toggleable__control:checked~div.sk-toggleable__content {max-height: 200px;max-width: 100%;overflow: auto;}#sk-container-id-1 input.sk-toggleable__control:checked~label.sk-toggleable__label-arrow:before {content: \"▾\";}#sk-container-id-1 div.sk-estimator input.sk-toggleable__control:checked~label.sk-toggleable__label {background-color: #d4ebff;}#sk-container-id-1 div.sk-label input.sk-toggleable__control:checked~label.sk-toggleable__label {background-color: #d4ebff;}#sk-container-id-1 input.sk-hidden--visually {border: 0;clip: rect(1px 1px 1px 1px);clip: rect(1px, 1px, 1px, 1px);height: 1px;margin: -1px;overflow: hidden;padding: 0;position: absolute;width: 1px;}#sk-container-id-1 div.sk-estimator {font-family: monospace;background-color: #f0f8ff;border: 1px dotted black;border-radius: 0.25em;box-sizing: border-box;margin-bottom: 0.5em;}#sk-container-id-1 div.sk-estimator:hover {background-color: #d4ebff;}#sk-container-id-1 div.sk-parallel-item::after {content: \"\";width: 100%;border-bottom: 1px solid gray;flex-grow: 1;}#sk-container-id-1 div.sk-label:hover label.sk-toggleable__label {background-color: #d4ebff;}#sk-container-id-1 div.sk-serial::before {content: \"\";position: absolute;border-left: 1px solid gray;box-sizing: border-box;top: 0;bottom: 0;left: 50%;z-index: 0;}#sk-container-id-1 div.sk-serial {display: flex;flex-direction: column;align-items: center;background-color: white;padding-right: 0.2em;padding-left: 0.2em;position: relative;}#sk-container-id-1 div.sk-item {position: relative;z-index: 1;}#sk-container-id-1 div.sk-parallel {display: flex;align-items: stretch;justify-content: center;background-color: white;position: relative;}#sk-container-id-1 div.sk-item::before, #sk-container-id-1 div.sk-parallel-item::before {content: \"\";position: absolute;border-left: 1px solid gray;box-sizing: border-box;top: 0;bottom: 0;left: 50%;z-index: -1;}#sk-container-id-1 div.sk-parallel-item {display: flex;flex-direction: column;z-index: 1;position: relative;background-color: white;}#sk-container-id-1 div.sk-parallel-item:first-child::after {align-self: flex-end;width: 50%;}#sk-container-id-1 div.sk-parallel-item:last-child::after {align-self: flex-start;width: 50%;}#sk-container-id-1 div.sk-parallel-item:only-child::after {width: 0;}#sk-container-id-1 div.sk-dashed-wrapped {border: 1px dashed gray;margin: 0 0.4em 0.5em 0.4em;box-sizing: border-box;padding-bottom: 0.4em;background-color: white;}#sk-container-id-1 div.sk-label label {font-family: monospace;font-weight: bold;display: inline-block;line-height: 1.2em;}#sk-container-id-1 div.sk-label-container {text-align: center;}#sk-container-id-1 div.sk-container {/* jupyter's `normalize.less` sets `[hidden] { display: none; }` but bootstrap.min.css set `[hidden] { display: none !important; }` so we also need the `!important` here to be able to override the default hidden behavior on the sphinx rendered scikit-learn.org. See: https://github.com/scikit-learn/scikit-learn/issues/21755 */display: inline-block !important;position: relative;}#sk-container-id-1 div.sk-text-repr-fallback {display: none;}</style><div id=\"sk-container-id-1\" class=\"sk-top-container\"><div class=\"sk-text-repr-fallback\"><pre>SimpleImputer()</pre><b>In a Jupyter environment, please rerun this cell to show the HTML representation or trust the notebook. <br />On GitHub, the HTML representation is unable to render, please try loading this page with nbviewer.org.</b></div><div class=\"sk-container\" hidden><div class=\"sk-item\"><div class=\"sk-estimator sk-toggleable\"><input class=\"sk-toggleable__control sk-hidden--visually\" id=\"sk-estimator-id-1\" type=\"checkbox\" checked><label for=\"sk-estimator-id-1\" class=\"sk-toggleable__label sk-toggleable__label-arrow\">SimpleImputer</label><div class=\"sk-toggleable__content\"><pre>SimpleImputer()</pre></div></div></div></div></div>"
      ],
      "text/plain": [
       "SimpleImputer()"
      ]
     },
     "execution_count": 23,
     "metadata": {},
     "output_type": "execute_result"
    }
   ],
   "source": [
    "#fit and transform\n",
    "imputer.fit(my_df)"
   ]
  },
  {
   "cell_type": "code",
   "execution_count": 24,
   "metadata": {},
   "outputs": [
    {
     "data": {
      "text/plain": [
       "array([[ 1.  ,  3.  ,  2.  ],\n",
       "       [ 4.  ,  6.  ,  5.  ],\n",
       "       [ 7.  ,  9.  ,  6.  ],\n",
       "       [10.  ,  8.25, 11.  ],\n",
       "       [13.  , 15.  ,  6.  ]])"
      ]
     },
     "execution_count": 24,
     "metadata": {},
     "output_type": "execute_result"
    }
   ],
   "source": [
    "imputer.transform(my_df)\n",
    "#could have done imputer.fit_transform(my_df)\n",
    "#only use fit and transform on training data"
   ]
  },
  {
   "cell_type": "code",
   "execution_count": 26,
   "metadata": {},
   "outputs": [
    {
     "name": "stdout",
     "output_type": "stream",
     "text": [
      "      A      B     C\n",
      "0   1.0   3.00   2.0\n",
      "1   4.0   6.00   5.0\n",
      "2   7.0   9.00   6.0\n",
      "3  10.0   8.25  11.0\n",
      "4  13.0  15.00   6.0\n"
     ]
    }
   ],
   "source": [
    "my_df2 = pd.DataFrame(imputer.fit_transform(my_df),columns = my_df.columns)\n",
    "print(my_df2)"
   ]
  },
  {
   "cell_type": "code",
   "execution_count": 28,
   "metadata": {},
   "outputs": [
    {
     "name": "stdout",
     "output_type": "stream",
     "text": [
      "    A      B     C\n",
      "0   1   3.00   2.0\n",
      "1   4   6.00   5.0\n",
      "2   7   9.00   NaN\n",
      "3  10   8.25  11.0\n",
      "4  13  15.00   NaN\n"
     ]
    }
   ],
   "source": [
    "imputer.fit_transform(my_df[[\"B\"]])\n",
    "# will learn the rules based from column b\n",
    "my_df[\"B\"]= imputer.fit_transform(my_df[[\"B\"]])\n",
    "print(my_df)\n"
   ]
  },
  {
   "attachments": {},
   "cell_type": "markdown",
   "metadata": {},
   "source": [
    "### Dealing with Missing Values - KNNImputer (PRACTICAL)"
   ]
  },
  {
   "cell_type": "code",
   "execution_count": 33,
   "metadata": {},
   "outputs": [],
   "source": [
    "from sklearn.impute import KNNImputer"
   ]
  },
  {
   "cell_type": "code",
   "execution_count": 30,
   "metadata": {},
   "outputs": [
    {
     "name": "stdout",
     "output_type": "stream",
     "text": [
      "   A  B     C\n",
      "0  1  1   1.0\n",
      "1  2  1   2.0\n",
      "2  3  3   9.0\n",
      "3  4  3   NaN\n",
      "4  5  4  20.0\n"
     ]
    }
   ],
   "source": [
    "my_df = pd.DataFrame({\"A\" : [1,2,3,4,5], \n",
    "                      \"B\":[1,1,3,3,4],\n",
    "                      \"C\":[1,2,9,np.nan,20]})\n",
    "print(my_df)"
   ]
  },
  {
   "cell_type": "code",
   "execution_count": 35,
   "metadata": {},
   "outputs": [],
   "source": [
    "# estimating a value for column C\n",
    "knn_imputer = KNNImputer()"
   ]
  },
  {
   "cell_type": "code",
   "execution_count": 36,
   "metadata": {},
   "outputs": [
    {
     "data": {
      "text/plain": [
       "array([[ 1.,  1.,  1.],\n",
       "       [ 2.,  1.,  2.],\n",
       "       [ 3.,  3.,  9.],\n",
       "       [ 4.,  3.,  8.],\n",
       "       [ 5.,  4., 20.]])"
      ]
     },
     "execution_count": 36,
     "metadata": {},
     "output_type": "execute_result"
    }
   ],
   "source": [
    "knn_imputer.fit_transform(my_df)\n",
    "#default value of 5 neighbors"
   ]
  },
  {
   "cell_type": "code",
   "execution_count": 37,
   "metadata": {},
   "outputs": [
    {
     "data": {
      "text/plain": [
       "array([[ 1.,  1.,  1.],\n",
       "       [ 2.,  1.,  2.],\n",
       "       [ 3.,  3.,  9.],\n",
       "       [ 4.,  3.,  9.],\n",
       "       [ 5.,  4., 20.]])"
      ]
     },
     "execution_count": 37,
     "metadata": {},
     "output_type": "execute_result"
    }
   ],
   "source": [
    "knn_imputer = KNNImputer(n_neighbors=1)\n",
    "knn_imputer.fit_transform(my_df)"
   ]
  },
  {
   "cell_type": "code",
   "execution_count": 38,
   "metadata": {},
   "outputs": [
    {
     "data": {
      "text/plain": [
       "array([[ 1. ,  1. ,  1. ],\n",
       "       [ 2. ,  1. ,  2. ],\n",
       "       [ 3. ,  3. ,  9. ],\n",
       "       [ 4. ,  3. , 14.5],\n",
       "       [ 5. ,  4. , 20. ]])"
      ]
     },
     "execution_count": 38,
     "metadata": {},
     "output_type": "execute_result"
    }
   ],
   "source": [
    "knn_imputer = KNNImputer(n_neighbors=2)\n",
    "knn_imputer.fit_transform(my_df)"
   ]
  },
  {
   "attachments": {},
   "cell_type": "markdown",
   "metadata": {},
   "source": [
    "more realistic values"
   ]
  },
  {
   "cell_type": "code",
   "execution_count": 39,
   "metadata": {},
   "outputs": [
    {
     "data": {
      "text/plain": [
       "array([[ 1.        ,  1.        ,  1.        ],\n",
       "       [ 2.        ,  1.        ,  2.        ],\n",
       "       [ 3.        ,  3.        ,  9.        ],\n",
       "       [ 4.        ,  3.        , 13.55634919],\n",
       "       [ 5.        ,  4.        , 20.        ]])"
      ]
     },
     "execution_count": 39,
     "metadata": {},
     "output_type": "execute_result"
    }
   ],
   "source": [
    "# weights are uniform by default\n",
    "knn_imputer = KNNImputer(n_neighbors=2, weights=\"distance\")\n",
    "knn_imputer.fit_transform(my_df)\n",
    "# reason, 9 and 20 ?"
   ]
  },
  {
   "cell_type": "code",
   "execution_count": 42,
   "metadata": {},
   "outputs": [
    {
     "name": "stdout",
     "output_type": "stream",
     "text": [
      "     A    B          C\n",
      "0  1.0  1.0   1.000000\n",
      "1  2.0  1.0   2.000000\n",
      "2  3.0  3.0   9.000000\n",
      "3  4.0  3.0  13.556349\n",
      "4  5.0  4.0  20.000000\n"
     ]
    }
   ],
   "source": [
    "my_df1 = pd.DataFrame(knn_imputer.fit_transform(my_df), columns=my_df.columns)\n",
    "print(my_df1)"
   ]
  },
  {
   "attachments": {},
   "cell_type": "markdown",
   "metadata": {},
   "source": [
    "# Dealing with Categorical Variables - One Hot Encoder (PRACTICAL)"
   ]
  },
  {
   "cell_type": "code",
   "execution_count": 54,
   "metadata": {},
   "outputs": [],
   "source": [
    "from sklearn.preprocessing import OneHotEncoder"
   ]
  },
  {
   "cell_type": "code",
   "execution_count": 67,
   "metadata": {},
   "outputs": [],
   "source": [
    "x = pd.DataFrame({\"input1\" : [1,2,3,4,5], \n",
    "                      \"input2\":[\"A\",\"A\",\"B\",\"B\",\"C\"],\n",
    "                      \"input3\":[\"x\",\"x\",\"x\",\"y\",\"y\"]})\n"
   ]
  },
  {
   "cell_type": "code",
   "execution_count": 68,
   "metadata": {},
   "outputs": [
    {
     "name": "stdout",
     "output_type": "stream",
     "text": [
      "[[1. 0. 0. 1. 0.]\n",
      " [1. 0. 0. 1. 0.]\n",
      " [0. 1. 0. 1. 0.]\n",
      " [0. 1. 0. 0. 1.]\n",
      " [0. 0. 1. 0. 1.]]\n"
     ]
    },
    {
     "name": "stderr",
     "output_type": "stream",
     "text": [
      "c:\\Users\\eacalder\\.conda\\envs\\DSInfinity\\lib\\site-packages\\sklearn\\preprocessing\\_encoders.py:828: FutureWarning: `sparse` was renamed to `sparse_output` in version 1.2 and will be removed in 1.4. `sparse_output` is ignored unless you leave `sparse` to its default value.\n",
      "  warnings.warn(\n"
     ]
    }
   ],
   "source": [
    "categorical_vars = [\"input2\",\"input3\"]\n",
    "\n",
    "one_hot_encoder = OneHotEncoder(sparse=False)# array is easier to use and viduallize \n",
    "encoder_vars_array = one_hot_encoder.fit_transform(x[categorical_vars])\n",
    "print(encoder_vars_array)"
   ]
  },
  {
   "cell_type": "code",
   "execution_count": 69,
   "metadata": {},
   "outputs": [
    {
     "name": "stdout",
     "output_type": "stream",
     "text": [
      "['input2_A' 'input2_B' 'input2_C' 'input3_x' 'input3_y']\n"
     ]
    }
   ],
   "source": [
    "encoder_feature_names = one_hot_encoder.get_feature_names_out(categorical_vars)\n",
    "print(encoder_feature_names)"
   ]
  },
  {
   "cell_type": "code",
   "execution_count": 70,
   "metadata": {},
   "outputs": [
    {
     "name": "stdout",
     "output_type": "stream",
     "text": [
      "   input2_A  input2_B  input2_C  input3_x  input3_y\n",
      "0       1.0       0.0       0.0       1.0       0.0\n",
      "1       1.0       0.0       0.0       1.0       0.0\n",
      "2       0.0       1.0       0.0       1.0       0.0\n",
      "3       0.0       1.0       0.0       0.0       1.0\n",
      "4       0.0       0.0       1.0       0.0       1.0\n"
     ]
    }
   ],
   "source": [
    "encoder_vars_df = pd.DataFrame(encoder_vars_array,columns=encoder_feature_names)\n",
    "print(encoder_vars_df)"
   ]
  },
  {
   "cell_type": "code",
   "execution_count": 71,
   "metadata": {},
   "outputs": [
    {
     "name": "stdout",
     "output_type": "stream",
     "text": [
      "   input1 input2 input3  input2_A  input2_B  input2_C  input3_x  input3_y\n",
      "0       1      A      x       1.0       0.0       0.0       1.0       0.0\n",
      "1       2      A      x       1.0       0.0       0.0       1.0       0.0\n",
      "2       3      B      x       0.0       1.0       0.0       1.0       0.0\n",
      "3       4      B      y       0.0       1.0       0.0       0.0       1.0\n",
      "4       5      C      y       0.0       0.0       1.0       0.0       1.0\n"
     ]
    }
   ],
   "source": [
    "x_new = pd.concat([x.reset_index(drop=True),encoder_vars_df.reset_index(drop=True)], axis=1)\n",
    "# reset index to ensure no rows are not aligned\n",
    "print(x_new)"
   ]
  },
  {
   "cell_type": "code",
   "execution_count": 72,
   "metadata": {},
   "outputs": [
    {
     "name": "stdout",
     "output_type": "stream",
     "text": [
      "   input1  input2_A  input2_B  input2_C  input3_x  input3_y\n",
      "0       1       1.0       0.0       0.0       1.0       0.0\n",
      "1       2       1.0       0.0       0.0       1.0       0.0\n",
      "2       3       0.0       1.0       0.0       1.0       0.0\n",
      "3       4       0.0       1.0       0.0       0.0       1.0\n",
      "4       5       0.0       0.0       1.0       0.0       1.0\n"
     ]
    }
   ],
   "source": [
    "# drop the original input 2 and 3\n",
    "x_new.drop(categorical_vars, axis=1,inplace=True)\n",
    "print(x_new)"
   ]
  },
  {
   "cell_type": "code",
   "execution_count": 78,
   "metadata": {},
   "outputs": [
    {
     "name": "stdout",
     "output_type": "stream",
     "text": [
      "   input1  input2_B  input2_C  input3_y\n",
      "0       1       0.0       0.0       0.0\n",
      "1       2       0.0       0.0       0.0\n",
      "2       3       1.0       0.0       0.0\n",
      "3       4       1.0       0.0       1.0\n",
      "4       5       0.0       1.0       1.0\n"
     ]
    },
    {
     "name": "stderr",
     "output_type": "stream",
     "text": [
      "c:\\Users\\eacalder\\.conda\\envs\\DSInfinity\\lib\\site-packages\\sklearn\\preprocessing\\_encoders.py:828: FutureWarning: `sparse` was renamed to `sparse_output` in version 1.2 and will be removed in 1.4. `sparse_output` is ignored unless you leave `sparse` to its default value.\n",
      "  warnings.warn(\n"
     ]
    }
   ],
   "source": [
    "x = pd.DataFrame({\"input1\" : [1,2,3,4,5], \n",
    "                      \"input2\":[\"A\",\"A\",\"B\",\"B\",\"C\"],\n",
    "                      \"input3\":[\"x\",\"x\",\"x\",\"y\",\"y\"]})\n",
    "categorical_vars = [\"input2\",\"input3\"]\n",
    "one_hot_encoder = OneHotEncoder(sparse=False, drop=\"first\")# array is easier to use and viduallize \n",
    "encoder_vars_array = one_hot_encoder.fit_transform(x[categorical_vars])\n",
    "encoder_feature_names = one_hot_encoder.get_feature_names_out(categorical_vars)\n",
    "encoder_vars_df = pd.DataFrame(encoder_vars_array,columns=encoder_feature_names)\n",
    "x_new = pd.concat([x.reset_index(drop=True),encoder_vars_df.reset_index(drop=True)], axis=1)\n",
    "# reset index to ensure no rows are not aligned\n",
    "# drop the original input 2 and 3\n",
    "x_new.drop(categorical_vars, axis=1,inplace=True)\n",
    "print(x_new)"
   ]
  },
  {
   "attachments": {},
   "cell_type": "markdown",
   "metadata": {},
   "source": [
    "ready now for the machine learning"
   ]
  },
  {
   "attachments": {},
   "cell_type": "markdown",
   "metadata": {},
   "source": [
    "# Dealing with Outliers (PRACTICAL)"
   ]
  },
  {
   "attachments": {},
   "cell_type": "markdown",
   "metadata": {},
   "source": [
    "outliers should only be removed if model will have significant unguidance"
   ]
  },
  {
   "cell_type": "code",
   "execution_count": 88,
   "metadata": {},
   "outputs": [],
   "source": [
    "x = pd.DataFrame({\"input1\" : [15,41,44,47,50,53,56,59,99], \n",
    "                      \"input2\":[29,41,44,47,50,53,56,59,66]})"
   ]
  },
  {
   "cell_type": "code",
   "execution_count": 89,
   "metadata": {},
   "outputs": [
    {
     "data": {
      "text/plain": [
       "<AxesSubplot: >"
      ]
     },
     "execution_count": 89,
     "metadata": {},
     "output_type": "execute_result"
    },
    {
     "data": {
      "image/png": "[encoded data removed]",
      "text/plain": [
       "<Figure size 432x288 with 1 Axes>"
      ]
     },
     "metadata": {
      "needs_background": "light"
     },
     "output_type": "display_data"
    }
   ],
   "source": [
    "x.plot(kind=\"box\",vert=False)"
   ]
  },
  {
   "cell_type": "code",
   "execution_count": 90,
   "metadata": {},
   "outputs": [
    {
     "name": "stdout",
     "output_type": "stream",
     "text": [
      "2 outliers detected in column input1\n",
      "0 outliers detected in column input2\n"
     ]
    },
    {
     "data": {
      "text/plain": [
       "<AxesSubplot: >"
      ]
     },
     "execution_count": 90,
     "metadata": {},
     "output_type": "execute_result"
    },
    {
     "data": {
      "image/png": "[encoded data removed]",
      "text/plain": [
       "<Figure size 432x288 with 1 Axes>"
      ]
     },
     "metadata": {
      "needs_background": "light"
     },
     "output_type": "display_data"
    }
   ],
   "source": [
    "#boxplot approach\n",
    "outlier_columns = [\"input1\", \"input2\"]\n",
    "for column in outlier_columns:\n",
    "    lower_quartile = x[column].quantile(.25)\n",
    "    upper_quartile = x[column].quantile(.75)\n",
    "    iqr= upper_quartile - lower_quartile\n",
    "    iqr_extend = iqr *1.5\n",
    "    min_border = lower_quartile - iqr_extend\n",
    "    max_border = upper_quartile + iqr_extend\n",
    "\n",
    "    outliers = x[(x[column]<min_border)|(x[column]>max_border)].index\n",
    "    print(f\"{len(outliers)} outliers detected in column {column}\")\n",
    "\n",
    "    x.drop(outliers,inplace=True)\n",
    "\n",
    "x.plot(kind=\"box\",vert=False)"
   ]
  },
  {
   "cell_type": "code",
   "execution_count": 96,
   "metadata": {},
   "outputs": [
    {
     "name": "stdout",
     "output_type": "stream",
     "text": [
      "0 outliers detected in column input1\n",
      "0 outliers detected in column input2\n"
     ]
    },
    {
     "data": {
      "text/plain": [
       "<AxesSubplot: >"
      ]
     },
     "execution_count": 96,
     "metadata": {},
     "output_type": "execute_result"
    },
    {
     "data": {
      "image/png": "[encoded data removed]",
      "text/plain": [
       "<Figure size 432x288 with 1 Axes>"
      ]
     },
     "metadata": {
      "needs_background": "light"
     },
     "output_type": "display_data"
    }
   ],
   "source": [
    "# standard deviation approach\n",
    "x = pd.DataFrame({\"input1\" : [15,41,44,47,50,53,56,59,99], \n",
    "                      \"input2\":[29,41,44,47,50,53,56,59,66]})\n",
    "outlier_columns = [\"input1\", \"input2\"]\n",
    "for column in outlier_columns:\n",
    "    mean = x[column].mean()\n",
    "    std_dev = x[column].std()\n",
    "    min_border = mean-std_dev*3\n",
    "    max_border = mean+std_dev*3\n",
    "\n",
    "    outliers = x[(x[column]<min_border)|(x[column]>max_border)].index\n",
    "    print(f\"{len(outliers)} outliers detected in column {column}\")\n",
    "\n",
    "    x.drop(outliers,inplace=True)\n",
    "\n",
    "x.plot(kind=\"box\",vert=False)"
   ]
  },
  {
   "attachments": {},
   "cell_type": "markdown",
   "metadata": {},
   "source": [
    "Feature Scaling for Machine Learning (PRACTICAL)"
   ]
  },
  {
   "cell_type": "code",
   "execution_count": 4,
   "metadata": {},
   "outputs": [],
   "source": [
    "from sklearn.preprocessing import StandardScaler"
   ]
  },
  {
   "cell_type": "code",
   "execution_count": 3,
   "metadata": {},
   "outputs": [],
   "source": [
    "x = pd.DataFrame({\"Height\" : [1.98, 1.77,1.76,1.80, 1.64], \n",
    "                  \"Weight\" : [99,81,70,86,82]})"
   ]
  },
  {
   "cell_type": "code",
   "execution_count": 5,
   "metadata": {},
   "outputs": [
    {
     "data": {
      "text/plain": [
       "array([[ 1.73445477,  1.646894  ],\n",
       "       [-0.18257419, -0.27804704],\n",
       "       [-0.27386128, -1.45439989],\n",
       "       [ 0.09128709,  0.2566588 ],\n",
       "       [-1.36930639, -0.17110587]])"
      ]
     },
     "execution_count": 5,
     "metadata": {},
     "output_type": "execute_result"
    }
   ],
   "source": [
    "scale_standard = StandardScaler()\n",
    "scale_standard.fit_transform(x)"
   ]
  },
  {
   "cell_type": "code",
   "execution_count": 6,
   "metadata": {},
   "outputs": [
    {
     "data": {
      "text/plain": [
       "array([[ 1.73445477],\n",
       "       [-0.18257419],\n",
       "       [-0.27386128],\n",
       "       [ 0.09128709],\n",
       "       [-1.36930639]])"
      ]
     },
     "execution_count": 6,
     "metadata": {},
     "output_type": "execute_result"
    }
   ],
   "source": [
    "scale_standard.fit_transform(x[[\"Height\"]])"
   ]
  },
  {
   "cell_type": "code",
   "execution_count": 8,
   "metadata": {},
   "outputs": [
    {
     "data": {
      "text/html": [
       "<div>\n",
       "<style scoped>\n",
       "    .dataframe tbody tr th:only-of-type {\n",
       "        vertical-align: middle;\n",
       "    }\n",
       "\n",
       "    .dataframe tbody tr th {\n",
       "        vertical-align: top;\n",
       "    }\n",
       "\n",
       "    .dataframe thead th {\n",
       "        text-align: right;\n",
       "    }\n",
       "</style>\n",
       "<table border=\"1\" class=\"dataframe\">\n",
       "  <thead>\n",
       "    <tr style=\"text-align: right;\">\n",
       "      <th></th>\n",
       "      <th>Height</th>\n",
       "      <th>Weight</th>\n",
       "    </tr>\n",
       "  </thead>\n",
       "  <tbody>\n",
       "    <tr>\n",
       "      <th>0</th>\n",
       "      <td>1.734455</td>\n",
       "      <td>1.646894</td>\n",
       "    </tr>\n",
       "    <tr>\n",
       "      <th>1</th>\n",
       "      <td>-0.182574</td>\n",
       "      <td>-0.278047</td>\n",
       "    </tr>\n",
       "    <tr>\n",
       "      <th>2</th>\n",
       "      <td>-0.273861</td>\n",
       "      <td>-1.454400</td>\n",
       "    </tr>\n",
       "    <tr>\n",
       "      <th>3</th>\n",
       "      <td>0.091287</td>\n",
       "      <td>0.256659</td>\n",
       "    </tr>\n",
       "    <tr>\n",
       "      <th>4</th>\n",
       "      <td>-1.369306</td>\n",
       "      <td>-0.171106</td>\n",
       "    </tr>\n",
       "  </tbody>\n",
       "</table>\n",
       "</div>"
      ],
      "text/plain": [
       "     Height    Weight\n",
       "0  1.734455  1.646894\n",
       "1 -0.182574 -0.278047\n",
       "2 -0.273861 -1.454400\n",
       "3  0.091287  0.256659\n",
       "4 -1.369306 -0.171106"
      ]
     },
     "execution_count": 8,
     "metadata": {},
     "output_type": "execute_result"
    }
   ],
   "source": [
    "my_df_standardised = pd.DataFrame(scale_standard.fit_transform(x),columns=x.columns)\n",
    "my_df_standardised.head()"
   ]
  },
  {
   "cell_type": "code",
   "execution_count": 9,
   "metadata": {},
   "outputs": [
    {
     "data": {
      "text/plain": [
       "array([[1.        , 1.        ],\n",
       "       [0.38235294, 0.37931034],\n",
       "       [0.35294118, 0.        ],\n",
       "       [0.47058824, 0.55172414],\n",
       "       [0.        , 0.4137931 ]])"
      ]
     },
     "execution_count": 9,
     "metadata": {},
     "output_type": "execute_result"
    }
   ],
   "source": [
    "# normalization\n",
    "from sklearn.preprocessing import MinMaxScaler\n",
    "scale_norm = MinMaxScaler()\n",
    "scale_norm.fit_transform(x)"
   ]
  },
  {
   "cell_type": "code",
   "execution_count": 11,
   "metadata": {},
   "outputs": [
    {
     "data": {
      "text/html": [
       "<div>\n",
       "<style scoped>\n",
       "    .dataframe tbody tr th:only-of-type {\n",
       "        vertical-align: middle;\n",
       "    }\n",
       "\n",
       "    .dataframe tbody tr th {\n",
       "        vertical-align: top;\n",
       "    }\n",
       "\n",
       "    .dataframe thead th {\n",
       "        text-align: right;\n",
       "    }\n",
       "</style>\n",
       "<table border=\"1\" class=\"dataframe\">\n",
       "  <thead>\n",
       "    <tr style=\"text-align: right;\">\n",
       "      <th></th>\n",
       "      <th>Height</th>\n",
       "      <th>Weight</th>\n",
       "    </tr>\n",
       "  </thead>\n",
       "  <tbody>\n",
       "    <tr>\n",
       "      <th>0</th>\n",
       "      <td>1.000000</td>\n",
       "      <td>1.000000</td>\n",
       "    </tr>\n",
       "    <tr>\n",
       "      <th>1</th>\n",
       "      <td>0.382353</td>\n",
       "      <td>0.379310</td>\n",
       "    </tr>\n",
       "    <tr>\n",
       "      <th>2</th>\n",
       "      <td>0.352941</td>\n",
       "      <td>0.000000</td>\n",
       "    </tr>\n",
       "    <tr>\n",
       "      <th>3</th>\n",
       "      <td>0.470588</td>\n",
       "      <td>0.551724</td>\n",
       "    </tr>\n",
       "    <tr>\n",
       "      <th>4</th>\n",
       "      <td>0.000000</td>\n",
       "      <td>0.413793</td>\n",
       "    </tr>\n",
       "  </tbody>\n",
       "</table>\n",
       "</div>"
      ],
      "text/plain": [
       "     Height    Weight\n",
       "0  1.000000  1.000000\n",
       "1  0.382353  0.379310\n",
       "2  0.352941  0.000000\n",
       "3  0.470588  0.551724\n",
       "4  0.000000  0.413793"
      ]
     },
     "execution_count": 11,
     "metadata": {},
     "output_type": "execute_result"
    }
   ],
   "source": [
    "my_df_normalised = pd.DataFrame(scale_norm.fit_transform(x),columns=x.columns)\n",
    "my_df_normalised.head()"
   ]
  },
  {
   "attachments": {},
   "cell_type": "markdown",
   "metadata": {},
   "source": [
    "# Feature Selection in Machine Learning - Correlation Matrix (PRACTICAL)"
   ]
  },
  {
   "cell_type": "code",
   "execution_count": 13,
   "metadata": {},
   "outputs": [
    {
     "data": {
      "text/html": [
       "<div>\n",
       "<style scoped>\n",
       "    .dataframe tbody tr th:only-of-type {\n",
       "        vertical-align: middle;\n",
       "    }\n",
       "\n",
       "    .dataframe tbody tr th {\n",
       "        vertical-align: top;\n",
       "    }\n",
       "\n",
       "    .dataframe thead th {\n",
       "        text-align: right;\n",
       "    }\n",
       "</style>\n",
       "<table border=\"1\" class=\"dataframe\">\n",
       "  <thead>\n",
       "    <tr style=\"text-align: right;\">\n",
       "      <th></th>\n",
       "      <th>output</th>\n",
       "      <th>input1</th>\n",
       "      <th>input2</th>\n",
       "      <th>input3</th>\n",
       "      <th>input4</th>\n",
       "    </tr>\n",
       "  </thead>\n",
       "  <tbody>\n",
       "    <tr>\n",
       "      <th>0</th>\n",
       "      <td>564</td>\n",
       "      <td>534</td>\n",
       "      <td>536</td>\n",
       "      <td>466</td>\n",
       "      <td>599</td>\n",
       "    </tr>\n",
       "    <tr>\n",
       "      <th>1</th>\n",
       "      <td>182</td>\n",
       "      <td>264</td>\n",
       "      <td>103</td>\n",
       "      <td>244</td>\n",
       "      <td>519</td>\n",
       "    </tr>\n",
       "    <tr>\n",
       "      <th>2</th>\n",
       "      <td>323</td>\n",
       "      <td>272</td>\n",
       "      <td>339</td>\n",
       "      <td>609</td>\n",
       "      <td>474</td>\n",
       "    </tr>\n",
       "    <tr>\n",
       "      <th>3</th>\n",
       "      <td>438</td>\n",
       "      <td>416</td>\n",
       "      <td>444</td>\n",
       "      <td>330</td>\n",
       "      <td>582</td>\n",
       "    </tr>\n",
       "    <tr>\n",
       "      <th>4</th>\n",
       "      <td>547</td>\n",
       "      <td>520</td>\n",
       "      <td>464</td>\n",
       "      <td>104</td>\n",
       "      <td>412</td>\n",
       "    </tr>\n",
       "  </tbody>\n",
       "</table>\n",
       "</div>"
      ],
      "text/plain": [
       "   output  input1  input2  input3  input4\n",
       "0     564     534     536     466     599\n",
       "1     182     264     103     244     519\n",
       "2     323     272     339     609     474\n",
       "3     438     416     444     330     582\n",
       "4     547     520     464     104     412"
      ]
     },
     "execution_count": 13,
     "metadata": {},
     "output_type": "execute_result"
    }
   ],
   "source": [
    "data_path = \"C:/Users/eacalder/Documents/Education/DataScienceInfinity/Leasson_Downloads/H_Cleaning/feature_selection_sample_data.csv\"\n",
    "sample_data = pd.read_csv(data_path)\n",
    "sample_data.head()"
   ]
  },
  {
   "cell_type": "code",
   "execution_count": 15,
   "metadata": {},
   "outputs": [
    {
     "name": "stdout",
     "output_type": "stream",
     "text": [
      "          output    input1    input2    input3    input4\n",
      "output  1.000000  0.789747  0.795518 -0.128295  0.086331\n",
      "input1  0.789747  1.000000  0.610206 -0.140955  0.074541\n",
      "input2  0.795518  0.610206  1.000000 -0.128990  0.121853\n",
      "input3 -0.128295 -0.140955 -0.128990  1.000000 -0.020888\n",
      "input4  0.086331  0.074541  0.121853 -0.020888  1.000000\n"
     ]
    }
   ],
   "source": [
    "correlation_matrix = sample_data.corr()\n",
    "print(correlation_matrix)"
   ]
  },
  {
   "attachments": {},
   "cell_type": "markdown",
   "metadata": {},
   "source": [
    "# Feature Selection in Machine Learning - Univariate Testing (PRACTICAL)"
   ]
  },
  {
   "cell_type": "code",
   "execution_count": 16,
   "metadata": {},
   "outputs": [
    {
     "data": {
      "text/html": [
       "<div>\n",
       "<style scoped>\n",
       "    .dataframe tbody tr th:only-of-type {\n",
       "        vertical-align: middle;\n",
       "    }\n",
       "\n",
       "    .dataframe tbody tr th {\n",
       "        vertical-align: top;\n",
       "    }\n",
       "\n",
       "    .dataframe thead th {\n",
       "        text-align: right;\n",
       "    }\n",
       "</style>\n",
       "<table border=\"1\" class=\"dataframe\">\n",
       "  <thead>\n",
       "    <tr style=\"text-align: right;\">\n",
       "      <th></th>\n",
       "      <th>output</th>\n",
       "      <th>input1</th>\n",
       "      <th>input2</th>\n",
       "      <th>input3</th>\n",
       "      <th>input4</th>\n",
       "    </tr>\n",
       "  </thead>\n",
       "  <tbody>\n",
       "    <tr>\n",
       "      <th>0</th>\n",
       "      <td>564</td>\n",
       "      <td>534</td>\n",
       "      <td>536</td>\n",
       "      <td>466</td>\n",
       "      <td>599</td>\n",
       "    </tr>\n",
       "    <tr>\n",
       "      <th>1</th>\n",
       "      <td>182</td>\n",
       "      <td>264</td>\n",
       "      <td>103</td>\n",
       "      <td>244</td>\n",
       "      <td>519</td>\n",
       "    </tr>\n",
       "    <tr>\n",
       "      <th>2</th>\n",
       "      <td>323</td>\n",
       "      <td>272</td>\n",
       "      <td>339</td>\n",
       "      <td>609</td>\n",
       "      <td>474</td>\n",
       "    </tr>\n",
       "    <tr>\n",
       "      <th>3</th>\n",
       "      <td>438</td>\n",
       "      <td>416</td>\n",
       "      <td>444</td>\n",
       "      <td>330</td>\n",
       "      <td>582</td>\n",
       "    </tr>\n",
       "    <tr>\n",
       "      <th>4</th>\n",
       "      <td>547</td>\n",
       "      <td>520</td>\n",
       "      <td>464</td>\n",
       "      <td>104</td>\n",
       "      <td>412</td>\n",
       "    </tr>\n",
       "  </tbody>\n",
       "</table>\n",
       "</div>"
      ],
      "text/plain": [
       "   output  input1  input2  input3  input4\n",
       "0     564     534     536     466     599\n",
       "1     182     264     103     244     519\n",
       "2     323     272     339     609     474\n",
       "3     438     416     444     330     582\n",
       "4     547     520     464     104     412"
      ]
     },
     "execution_count": 16,
     "metadata": {},
     "output_type": "execute_result"
    }
   ],
   "source": [
    "data_path = \"C:/Users/eacalder/Documents/Education/DataScienceInfinity/Leasson_Downloads/H_Cleaning/feature_selection_sample_data.csv\"\n",
    "sample_data = pd.read_csv(data_path)\n",
    "sample_data.head()"
   ]
  },
  {
   "attachments": {},
   "cell_type": "markdown",
   "metadata": {},
   "source": [
    "### regression template"
   ]
  },
  {
   "cell_type": "code",
   "execution_count": 17,
   "metadata": {},
   "outputs": [],
   "source": [
    "# regression template\n",
    "from sklearn.feature_selection import SelectKBest, f_regression"
   ]
  },
  {
   "cell_type": "code",
   "execution_count": 21,
   "metadata": {},
   "outputs": [
    {
     "data": {
      "text/html": [
       "<div>\n",
       "<style scoped>\n",
       "    .dataframe tbody tr th:only-of-type {\n",
       "        vertical-align: middle;\n",
       "    }\n",
       "\n",
       "    .dataframe tbody tr th {\n",
       "        vertical-align: top;\n",
       "    }\n",
       "\n",
       "    .dataframe thead th {\n",
       "        text-align: right;\n",
       "    }\n",
       "</style>\n",
       "<table border=\"1\" class=\"dataframe\">\n",
       "  <thead>\n",
       "    <tr style=\"text-align: right;\">\n",
       "      <th></th>\n",
       "      <th>input1</th>\n",
       "      <th>input2</th>\n",
       "      <th>input3</th>\n",
       "      <th>input4</th>\n",
       "    </tr>\n",
       "  </thead>\n",
       "  <tbody>\n",
       "    <tr>\n",
       "      <th>0</th>\n",
       "      <td>534</td>\n",
       "      <td>536</td>\n",
       "      <td>466</td>\n",
       "      <td>599</td>\n",
       "    </tr>\n",
       "    <tr>\n",
       "      <th>1</th>\n",
       "      <td>264</td>\n",
       "      <td>103</td>\n",
       "      <td>244</td>\n",
       "      <td>519</td>\n",
       "    </tr>\n",
       "    <tr>\n",
       "      <th>2</th>\n",
       "      <td>272</td>\n",
       "      <td>339</td>\n",
       "      <td>609</td>\n",
       "      <td>474</td>\n",
       "    </tr>\n",
       "    <tr>\n",
       "      <th>3</th>\n",
       "      <td>416</td>\n",
       "      <td>444</td>\n",
       "      <td>330</td>\n",
       "      <td>582</td>\n",
       "    </tr>\n",
       "    <tr>\n",
       "      <th>4</th>\n",
       "      <td>520</td>\n",
       "      <td>464</td>\n",
       "      <td>104</td>\n",
       "      <td>412</td>\n",
       "    </tr>\n",
       "  </tbody>\n",
       "</table>\n",
       "</div>"
      ],
      "text/plain": [
       "   input1  input2  input3  input4\n",
       "0     534     536     466     599\n",
       "1     264     103     244     519\n",
       "2     272     339     609     474\n",
       "3     416     444     330     582\n",
       "4     520     464     104     412"
      ]
     },
     "execution_count": 21,
     "metadata": {},
     "output_type": "execute_result"
    }
   ],
   "source": [
    "X = sample_data.drop([\"output\"],axis=1)\n",
    "Y = sample_data[\"output\"]\n",
    "X.head()"
   ]
  },
  {
   "cell_type": "code",
   "execution_count": 22,
   "metadata": {},
   "outputs": [
    {
     "data": {
      "text/plain": [
       "0    564\n",
       "1    182\n",
       "2    323\n",
       "3    438\n",
       "4    547\n",
       "Name: output, dtype: int64"
      ]
     },
     "execution_count": 22,
     "metadata": {},
     "output_type": "execute_result"
    }
   ],
   "source": [
    "Y.head()"
   ]
  },
  {
   "cell_type": "code",
   "execution_count": 23,
   "metadata": {},
   "outputs": [],
   "source": [
    "feature_selector = SelectKBest(f_regression, k = 'all')\n",
    "# in many cases we wont know the value for k \n",
    "#defaults to 10\n"
   ]
  },
  {
   "cell_type": "code",
   "execution_count": 25,
   "metadata": {},
   "outputs": [
    {
     "name": "stdout",
     "output_type": "stream",
     "text": [
      "SelectKBest(k='all', score_func=<function f_regression at 0x0000016F5C70E0D0>)\n"
     ]
    }
   ],
   "source": [
    "fit = feature_selector.fit(X,Y)\n",
    "print(fit)"
   ]
  },
  {
   "cell_type": "code",
   "execution_count": 27,
   "metadata": {},
   "outputs": [
    {
     "data": {
      "text/plain": [
       "array([6.41321253e-14, 3.11971032e-14, 3.28616228e-01, 5.11901492e-01])"
      ]
     },
     "execution_count": 27,
     "metadata": {},
     "output_type": "execute_result"
    }
   ],
   "source": [
    "fit.pvalues_\n",
    "# lower p value is bettter"
   ]
  },
  {
   "cell_type": "code",
   "execution_count": 28,
   "metadata": {},
   "outputs": [
    {
     "data": {
      "text/plain": [
       "array([96.13254595, 99.97291167,  0.97062608,  0.43552725])"
      ]
     },
     "execution_count": 28,
     "metadata": {},
     "output_type": "execute_result"
    }
   ],
   "source": [
    "fit.scores_\n",
    "# higher value is bettr stronger rlationship"
   ]
  },
  {
   "cell_type": "code",
   "execution_count": 29,
   "metadata": {},
   "outputs": [
    {
     "data": {
      "text/html": [
       "<div>\n",
       "<style scoped>\n",
       "    .dataframe tbody tr th:only-of-type {\n",
       "        vertical-align: middle;\n",
       "    }\n",
       "\n",
       "    .dataframe tbody tr th {\n",
       "        vertical-align: top;\n",
       "    }\n",
       "\n",
       "    .dataframe thead th {\n",
       "        text-align: right;\n",
       "    }\n",
       "</style>\n",
       "<table border=\"1\" class=\"dataframe\">\n",
       "  <thead>\n",
       "    <tr style=\"text-align: right;\">\n",
       "      <th></th>\n",
       "      <th>0</th>\n",
       "    </tr>\n",
       "  </thead>\n",
       "  <tbody>\n",
       "    <tr>\n",
       "      <th>0</th>\n",
       "      <td>6.413213e-14</td>\n",
       "    </tr>\n",
       "    <tr>\n",
       "      <th>1</th>\n",
       "      <td>3.119710e-14</td>\n",
       "    </tr>\n",
       "    <tr>\n",
       "      <th>2</th>\n",
       "      <td>3.286162e-01</td>\n",
       "    </tr>\n",
       "    <tr>\n",
       "      <th>3</th>\n",
       "      <td>5.119015e-01</td>\n",
       "    </tr>\n",
       "  </tbody>\n",
       "</table>\n",
       "</div>"
      ],
      "text/plain": [
       "              0\n",
       "0  6.413213e-14\n",
       "1  3.119710e-14\n",
       "2  3.286162e-01\n",
       "3  5.119015e-01"
      ]
     },
     "execution_count": 29,
     "metadata": {},
     "output_type": "execute_result"
    }
   ],
   "source": [
    "p_values = pd.DataFrame(fit.pvalues_)\n",
    "scores = pd.DataFrame(fit.scores_)\n",
    "p_values.head()"
   ]
  },
  {
   "cell_type": "code",
   "execution_count": 30,
   "metadata": {},
   "outputs": [
    {
     "data": {
      "text/html": [
       "<div>\n",
       "<style scoped>\n",
       "    .dataframe tbody tr th:only-of-type {\n",
       "        vertical-align: middle;\n",
       "    }\n",
       "\n",
       "    .dataframe tbody tr th {\n",
       "        vertical-align: top;\n",
       "    }\n",
       "\n",
       "    .dataframe thead th {\n",
       "        text-align: right;\n",
       "    }\n",
       "</style>\n",
       "<table border=\"1\" class=\"dataframe\">\n",
       "  <thead>\n",
       "    <tr style=\"text-align: right;\">\n",
       "      <th></th>\n",
       "      <th>0</th>\n",
       "    </tr>\n",
       "  </thead>\n",
       "  <tbody>\n",
       "    <tr>\n",
       "      <th>0</th>\n",
       "      <td>96.132546</td>\n",
       "    </tr>\n",
       "    <tr>\n",
       "      <th>1</th>\n",
       "      <td>99.972912</td>\n",
       "    </tr>\n",
       "    <tr>\n",
       "      <th>2</th>\n",
       "      <td>0.970626</td>\n",
       "    </tr>\n",
       "    <tr>\n",
       "      <th>3</th>\n",
       "      <td>0.435527</td>\n",
       "    </tr>\n",
       "  </tbody>\n",
       "</table>\n",
       "</div>"
      ],
      "text/plain": [
       "           0\n",
       "0  96.132546\n",
       "1  99.972912\n",
       "2   0.970626\n",
       "3   0.435527"
      ]
     },
     "execution_count": 30,
     "metadata": {},
     "output_type": "execute_result"
    }
   ],
   "source": [
    "scores.head()"
   ]
  },
  {
   "cell_type": "code",
   "execution_count": 31,
   "metadata": {},
   "outputs": [
    {
     "name": "stdout",
     "output_type": "stream",
     "text": [
      "        0             0          0\n",
      "0  input1  6.413213e-14  96.132546\n",
      "1  input2  3.119710e-14  99.972912\n",
      "2  input3  3.286162e-01   0.970626\n",
      "3  input4  5.119015e-01   0.435527\n"
     ]
    }
   ],
   "source": [
    "input_var_names = pd.DataFrame(X.columns)\n",
    "summary_stats = pd.concat([input_var_names,p_values,scores],axis=1)\n",
    "print(summary_stats)"
   ]
  },
  {
   "cell_type": "code",
   "execution_count": 33,
   "metadata": {},
   "outputs": [
    {
     "name": "stdout",
     "output_type": "stream",
     "text": [
      "  input Vars      p_values     scores\n",
      "0     input1  6.413213e-14  96.132546\n",
      "1     input2  3.119710e-14  99.972912\n",
      "2     input3  3.286162e-01   0.970626\n",
      "3     input4  5.119015e-01   0.435527\n"
     ]
    }
   ],
   "source": [
    "summary_stats.columns = ['input Vars','p_values','scores']\n",
    "print(summary_stats)"
   ]
  },
  {
   "cell_type": "code",
   "execution_count": 35,
   "metadata": {},
   "outputs": [
    {
     "name": "stdout",
     "output_type": "stream",
     "text": [
      "  input Vars      p_values     scores\n",
      "1     input2  3.119710e-14  99.972912\n",
      "0     input1  6.413213e-14  96.132546\n",
      "2     input3  3.286162e-01   0.970626\n",
      "3     input4  5.119015e-01   0.435527\n"
     ]
    }
   ],
   "source": [
    "summary_stats.sort_values(by='p_values',inplace = True)\n",
    "print(summary_stats)"
   ]
  },
  {
   "cell_type": "code",
   "execution_count": 37,
   "metadata": {},
   "outputs": [
    {
     "name": "stdout",
     "output_type": "stream",
     "text": [
      "  input Vars      p_values     scores\n",
      "1     input2  3.119710e-14  99.972912\n",
      "0     input1  6.413213e-14  96.132546\n"
     ]
    }
   ],
   "source": [
    "p_value_threshold = .05\n",
    "score_threshold = 5\n",
    "# test around with these threshold values \n",
    "selected_variables = summary_stats.loc[(summary_stats[\"scores\"] >= score_threshold) & (summary_stats[\"p_values\"]<=p_value_threshold)]\n",
    "print(selected_variables)\n",
    "# scores is f_scores"
   ]
  },
  {
   "cell_type": "code",
   "execution_count": 39,
   "metadata": {},
   "outputs": [
    {
     "name": "stdout",
     "output_type": "stream",
     "text": [
      "['input2', 'input1']\n"
     ]
    }
   ],
   "source": [
    "selected_variables = selected_variables['input Vars'].tolist()\n",
    "print(selected_variables)"
   ]
  },
  {
   "cell_type": "code",
   "execution_count": 40,
   "metadata": {},
   "outputs": [
    {
     "name": "stdout",
     "output_type": "stream",
     "text": [
      "    input2  input1\n",
      "0      536     534\n",
      "1      103     264\n",
      "2      339     272\n",
      "3      444     416\n",
      "4      464     520\n",
      "5      415      81\n",
      "6      386     380\n",
      "7      596     549\n",
      "8      364     431\n",
      "9      611     574\n",
      "10     350     313\n",
      "11     266     281\n",
      "12     377     323\n",
      "13     350      55\n",
      "14     454     397\n",
      "15     424     463\n",
      "16     638     574\n",
      "17     261     337\n",
      "18     412     433\n",
      "19     294     332\n",
      "20     523     497\n",
      "21     515     509\n",
      "22     406     351\n",
      "23     307     281\n",
      "24     492     563\n",
      "25     465     452\n",
      "26     459     486\n",
      "27     502     429\n",
      "28     395     386\n",
      "29     486     509\n",
      "30     455     514\n",
      "31     645     594\n",
      "32     439     362\n",
      "33     551     585\n",
      "34     948     389\n",
      "35     619     543\n",
      "36     557     592\n",
      "37     442     449\n",
      "38     529     514\n",
      "39     478     420\n",
      "40     346     303\n",
      "41     442     430\n",
      "42     362     323\n",
      "43     511     478\n",
      "44     628     551\n",
      "45     359     407\n",
      "46     414     387\n",
      "47     838     409\n",
      "48     535     480\n",
      "49     217     271\n",
      "50     407     477\n",
      "51     561     535\n",
      "52     342     321\n",
      "53     400     376\n",
      "54     592     525\n",
      "55     459     395\n",
      "56     411     448\n",
      "57     265     271\n",
      "58     461     458\n",
      "59     243     306\n"
     ]
    }
   ],
   "source": [
    "Xnew = X[selected_variables]\n",
    "print(Xnew)"
   ]
  },
  {
   "attachments": {},
   "cell_type": "markdown",
   "metadata": {},
   "source": [
    "other method not advisable but what you know"
   ]
  },
  {
   "cell_type": "code",
   "execution_count": 42,
   "metadata": {},
   "outputs": [],
   "source": [
    "feature_selector = SelectKBest(f_regression, k = 2)\n",
    "fit = feature_selector.fit(X,Y)"
   ]
  },
  {
   "cell_type": "code",
   "execution_count": 43,
   "metadata": {},
   "outputs": [
    {
     "name": "stdout",
     "output_type": "stream",
     "text": [
      "[[534 536]\n",
      " [264 103]\n",
      " [272 339]\n",
      " [416 444]\n",
      " [520 464]\n",
      " [ 81 415]\n",
      " [380 386]\n",
      " [549 596]\n",
      " [431 364]\n",
      " [574 611]\n",
      " [313 350]\n",
      " [281 266]\n",
      " [323 377]\n",
      " [ 55 350]\n",
      " [397 454]\n",
      " [463 424]\n",
      " [574 638]\n",
      " [337 261]\n",
      " [433 412]\n",
      " [332 294]\n",
      " [497 523]\n",
      " [509 515]\n",
      " [351 406]\n",
      " [281 307]\n",
      " [563 492]\n",
      " [452 465]\n",
      " [486 459]\n",
      " [429 502]\n",
      " [386 395]\n",
      " [509 486]\n",
      " [514 455]\n",
      " [594 645]\n",
      " [362 439]\n",
      " [585 551]\n",
      " [389 948]\n",
      " [543 619]\n",
      " [592 557]\n",
      " [449 442]\n",
      " [514 529]\n",
      " [420 478]\n",
      " [303 346]\n",
      " [430 442]\n",
      " [323 362]\n",
      " [478 511]\n",
      " [551 628]\n",
      " [407 359]\n",
      " [387 414]\n",
      " [409 838]\n",
      " [480 535]\n",
      " [271 217]\n",
      " [477 407]\n",
      " [535 561]\n",
      " [321 342]\n",
      " [376 400]\n",
      " [525 592]\n",
      " [395 459]\n",
      " [448 411]\n",
      " [271 265]\n",
      " [458 461]\n",
      " [306 243]]\n"
     ]
    }
   ],
   "source": [
    "Xnew2 = feature_selector.transform(X)\n",
    "print(Xnew2)"
   ]
  },
  {
   "cell_type": "code",
   "execution_count": 44,
   "metadata": {},
   "outputs": [
    {
     "data": {
      "text/plain": [
       "array([ True,  True, False, False])"
      ]
     },
     "execution_count": 44,
     "metadata": {},
     "output_type": "execute_result"
    }
   ],
   "source": [
    "feature_selector.get_support()\n",
    "# input 1 and 2 were selected"
   ]
  },
  {
   "cell_type": "code",
   "execution_count": 45,
   "metadata": {},
   "outputs": [
    {
     "name": "stdout",
     "output_type": "stream",
     "text": [
      "    input1  input2\n",
      "0      534     536\n",
      "1      264     103\n",
      "2      272     339\n",
      "3      416     444\n",
      "4      520     464\n",
      "5       81     415\n",
      "6      380     386\n",
      "7      549     596\n",
      "8      431     364\n",
      "9      574     611\n",
      "10     313     350\n",
      "11     281     266\n",
      "12     323     377\n",
      "13      55     350\n",
      "14     397     454\n",
      "15     463     424\n",
      "16     574     638\n",
      "17     337     261\n",
      "18     433     412\n",
      "19     332     294\n",
      "20     497     523\n",
      "21     509     515\n",
      "22     351     406\n",
      "23     281     307\n",
      "24     563     492\n",
      "25     452     465\n",
      "26     486     459\n",
      "27     429     502\n",
      "28     386     395\n",
      "29     509     486\n",
      "30     514     455\n",
      "31     594     645\n",
      "32     362     439\n",
      "33     585     551\n",
      "34     389     948\n",
      "35     543     619\n",
      "36     592     557\n",
      "37     449     442\n",
      "38     514     529\n",
      "39     420     478\n",
      "40     303     346\n",
      "41     430     442\n",
      "42     323     362\n",
      "43     478     511\n",
      "44     551     628\n",
      "45     407     359\n",
      "46     387     414\n",
      "47     409     838\n",
      "48     480     535\n",
      "49     271     217\n",
      "50     477     407\n",
      "51     535     561\n",
      "52     321     342\n",
      "53     376     400\n",
      "54     525     592\n",
      "55     395     459\n",
      "56     448     411\n",
      "57     271     265\n",
      "58     458     461\n",
      "59     306     243\n"
     ]
    }
   ],
   "source": [
    "Xnew2 = X.loc[:,feature_selector.get_support()]\n",
    "print(Xnew2)"
   ]
  },
  {
   "attachments": {},
   "cell_type": "markdown",
   "metadata": {},
   "source": [
    "concern is we wont know the variables that we need, we run the risk of disragarding other parameters or variables"
   ]
  },
  {
   "attachments": {},
   "cell_type": "markdown",
   "metadata": {},
   "source": [
    "### Classification template"
   ]
  },
  {
   "cell_type": "code",
   "execution_count": 49,
   "metadata": {},
   "outputs": [],
   "source": [
    "from sklearn.feature_selection import SelectKBest, chi2\n",
    "X = sample_data.drop([\"output\"], axis = 1)\n",
    "y = sample_data[\"output\"]\n",
    "feature_selector = SelectKBest(chi2, k = \"all\")\n",
    "fit = feature_selector.fit(X,y)\n",
    "p_values = pd.DataFrame(fit.pvalues_)\n",
    "scores = pd.DataFrame(fit.scores_)\n",
    "input_variable_names = pd.DataFrame (X.columns)\n",
    "summary_stats = pd.concat([input_variable_names, p_values, scores], axis = 1) \n",
    "summary_stats.columns = [\"input_variable\",\"p_value\", \"chi2_score\"]\n",
    "summary_stats.sort_values (by = \"p_value\", inplace=True)\n",
    "P_value_threshold = 0.05\n",
    "score_threshold = 5\n",
    "selected_variables = summary_stats.loc[(summary_stats[\"chi2_score\"] >= score_threshold) & (summary_stats[\"p_value\"]<=p_value_threshold)]\n",
    "\n",
    "selected_variables = selected_variables[\"input_variable\"].tolist()\n",
    "X_new = X[selected_variables]"
   ]
  },
  {
   "attachments": {},
   "cell_type": "markdown",
   "metadata": {},
   "source": [
    "# Feature Selection in Machine Learning - RFECV (PRACTICAL)"
   ]
  },
  {
   "attachments": {},
   "cell_type": "markdown",
   "metadata": {},
   "source": [
    "Note: With more recent versions of scikit-learn (> 1.0) we need to make some changes to the code in this tutorial for it to work as we want...\n",
    "\n",
    "If you find that the plotting of results is resulting in an error- please refer to the note below the video!"
   ]
  },
  {
   "cell_type": "code",
   "execution_count": 54,
   "metadata": {},
   "outputs": [
    {
     "data": {
      "text/html": [
       "<div>\n",
       "<style scoped>\n",
       "    .dataframe tbody tr th:only-of-type {\n",
       "        vertical-align: middle;\n",
       "    }\n",
       "\n",
       "    .dataframe tbody tr th {\n",
       "        vertical-align: top;\n",
       "    }\n",
       "\n",
       "    .dataframe thead th {\n",
       "        text-align: right;\n",
       "    }\n",
       "</style>\n",
       "<table border=\"1\" class=\"dataframe\">\n",
       "  <thead>\n",
       "    <tr style=\"text-align: right;\">\n",
       "      <th></th>\n",
       "      <th>output</th>\n",
       "      <th>input1</th>\n",
       "      <th>input2</th>\n",
       "      <th>input3</th>\n",
       "      <th>input4</th>\n",
       "    </tr>\n",
       "  </thead>\n",
       "  <tbody>\n",
       "    <tr>\n",
       "      <th>0</th>\n",
       "      <td>564</td>\n",
       "      <td>534</td>\n",
       "      <td>536</td>\n",
       "      <td>466</td>\n",
       "      <td>599</td>\n",
       "    </tr>\n",
       "    <tr>\n",
       "      <th>1</th>\n",
       "      <td>182</td>\n",
       "      <td>264</td>\n",
       "      <td>103</td>\n",
       "      <td>244</td>\n",
       "      <td>519</td>\n",
       "    </tr>\n",
       "    <tr>\n",
       "      <th>2</th>\n",
       "      <td>323</td>\n",
       "      <td>272</td>\n",
       "      <td>339</td>\n",
       "      <td>609</td>\n",
       "      <td>474</td>\n",
       "    </tr>\n",
       "    <tr>\n",
       "      <th>3</th>\n",
       "      <td>438</td>\n",
       "      <td>416</td>\n",
       "      <td>444</td>\n",
       "      <td>330</td>\n",
       "      <td>582</td>\n",
       "    </tr>\n",
       "    <tr>\n",
       "      <th>4</th>\n",
       "      <td>547</td>\n",
       "      <td>520</td>\n",
       "      <td>464</td>\n",
       "      <td>104</td>\n",
       "      <td>412</td>\n",
       "    </tr>\n",
       "  </tbody>\n",
       "</table>\n",
       "</div>"
      ],
      "text/plain": [
       "   output  input1  input2  input3  input4\n",
       "0     564     534     536     466     599\n",
       "1     182     264     103     244     519\n",
       "2     323     272     339     609     474\n",
       "3     438     416     444     330     582\n",
       "4     547     520     464     104     412"
      ]
     },
     "execution_count": 54,
     "metadata": {},
     "output_type": "execute_result"
    }
   ],
   "source": [
    "# resursive feature elimination with cross validation\n",
    "# we want something clever to tell us that k number\n",
    "# algorithm will tell us both how many variables we should use \n",
    "# and which one they are\n",
    "from sklearn.feature_selection import RFECV\n",
    "from sklearn.linear_model import LinearRegression\n",
    "import matplotlib.pyplot as plt\n",
    "data_path = \"C:/Users/eacalder/Documents/Education/DataScienceInfinity/Leasson_Downloads/H_Cleaning/feature_selection_sample_data.csv\"\n",
    "rfecv_data = pd.read_csv(data_path)\n",
    "rfecv_data.head()"
   ]
  },
  {
   "cell_type": "code",
   "execution_count": 55,
   "metadata": {},
   "outputs": [
    {
     "name": "stdout",
     "output_type": "stream",
     "text": [
      "    input1  input2  input3  input4\n",
      "0      534     536     466     599\n",
      "1      264     103     244     519\n",
      "2      272     339     609     474\n",
      "3      416     444     330     582\n",
      "4      520     464     104     412\n",
      "5       81     415     705     444\n",
      "6      380     386     408     532\n",
      "7      549     596     387     443\n",
      "8      431     364     672     420\n",
      "9      574     611     182     422\n",
      "10     313     350     398     504\n",
      "11     281     266     461     528\n",
      "12     323     377     487     517\n",
      "13      55     350     511     495\n",
      "14     397     454     779     481\n",
      "15     463     424     289     541\n",
      "16     574     638     702     453\n",
      "17     337     261     236     463\n",
      "18     433     412     367     485\n",
      "19     332     294     574     566\n",
      "20     497     523     420     547\n",
      "21     509     515     604     574\n",
      "22     351     406     152     472\n",
      "23     281     307     274     461\n",
      "24     563     492     565     597\n",
      "25     452     465     569     454\n",
      "26     486     459     204     418\n",
      "27     429     502     106     588\n",
      "28     386     395     749     429\n",
      "29     509     486     305     422\n",
      "30     514     455     412     466\n",
      "31     594     645     407     600\n",
      "32     362     439     752     484\n",
      "33     585     551     520     519\n",
      "34     389     948     229     555\n",
      "35     543     619     424     467\n",
      "36     592     557     407     422\n",
      "37     449     442     371     582\n",
      "38     514     529     557     465\n",
      "39     420     478     359     542\n",
      "40     303     346     692     544\n",
      "41     430     442     188     535\n",
      "42     323     362     368     433\n",
      "43     478     511     156     598\n",
      "44     551     628     486     517\n",
      "45     407     359     667     582\n",
      "46     387     414     119     523\n",
      "47     409     838     311     495\n",
      "48     480     535     702     522\n",
      "49     271     217     792     596\n",
      "50     477     407     305     520\n",
      "51     535     561     630     423\n",
      "52     321     342     350     486\n",
      "53     376     400     727     518\n",
      "54     525     592     482     539\n",
      "55     395     459     738     558\n",
      "56     448     411     594     519\n",
      "57     271     265     410     433\n",
      "58     458     461     502     401\n",
      "59     306     243     575     241\n"
     ]
    }
   ],
   "source": [
    "x = rfecv_data.drop([\"output\"],axis=1)\n",
    "y = rfecv_data[\"output\"]\n",
    "print(x)"
   ]
  },
  {
   "cell_type": "code",
   "execution_count": 56,
   "metadata": {},
   "outputs": [
    {
     "name": "stdout",
     "output_type": "stream",
     "text": [
      "0     564\n",
      "1     182\n",
      "2     323\n",
      "3     438\n",
      "4     547\n",
      "5     291\n",
      "6     436\n",
      "7     656\n",
      "8     349\n",
      "9     540\n",
      "10    373\n",
      "11    252\n",
      "12    419\n",
      "13    238\n",
      "14    387\n",
      "15    522\n",
      "16    531\n",
      "17    391\n",
      "18    374\n",
      "19    284\n",
      "20    598\n",
      "21    416\n",
      "22    330\n",
      "23    232\n",
      "24    598\n",
      "25    418\n",
      "26    490\n",
      "27    544\n",
      "28    404\n",
      "29    532\n",
      "30    553\n",
      "31    598\n",
      "32    496\n",
      "33    562\n",
      "34    617\n",
      "35    489\n",
      "36    625\n",
      "37    358\n",
      "38    585\n",
      "39    410\n",
      "40    296\n",
      "41    361\n",
      "42    405\n",
      "43    402\n",
      "44    573\n",
      "45    329\n",
      "46    339\n",
      "47    587\n",
      "48    471\n",
      "49    329\n",
      "50    449\n",
      "51    615\n",
      "52    334\n",
      "53    367\n",
      "54    631\n",
      "55    376\n",
      "56    349\n",
      "57    173\n",
      "58    533\n",
      "59    190\n",
      "Name: output, dtype: int64\n"
     ]
    }
   ],
   "source": [
    "print(y)"
   ]
  },
  {
   "cell_type": "code",
   "execution_count": 57,
   "metadata": {},
   "outputs": [],
   "source": [
    "regressor = LinearRegression()\n",
    "feature_selector = RFECV(regressor)"
   ]
  },
  {
   "cell_type": "code",
   "execution_count": 58,
   "metadata": {},
   "outputs": [
    {
     "name": "stdout",
     "output_type": "stream",
     "text": [
      "RFECV(estimator=LinearRegression())\n"
     ]
    }
   ],
   "source": [
    "# trains the model and assess\n",
    "fit = feature_selector.fit(x,y)\n",
    "print(fit)"
   ]
  },
  {
   "cell_type": "code",
   "execution_count": 59,
   "metadata": {},
   "outputs": [
    {
     "name": "stdout",
     "output_type": "stream",
     "text": [
      "optimal number features: 2\n"
     ]
    }
   ],
   "source": [
    "optimal_feature_count = feature_selector.n_features_\n",
    "print(f\"optimal number features: {optimal_feature_count}\")"
   ]
  },
  {
   "cell_type": "code",
   "execution_count": 60,
   "metadata": {},
   "outputs": [
    {
     "name": "stdout",
     "output_type": "stream",
     "text": [
      "    input1  input2\n",
      "0      534     536\n",
      "1      264     103\n",
      "2      272     339\n",
      "3      416     444\n",
      "4      520     464\n",
      "5       81     415\n",
      "6      380     386\n",
      "7      549     596\n",
      "8      431     364\n",
      "9      574     611\n",
      "10     313     350\n",
      "11     281     266\n",
      "12     323     377\n",
      "13      55     350\n",
      "14     397     454\n",
      "15     463     424\n",
      "16     574     638\n",
      "17     337     261\n",
      "18     433     412\n",
      "19     332     294\n",
      "20     497     523\n",
      "21     509     515\n",
      "22     351     406\n",
      "23     281     307\n",
      "24     563     492\n",
      "25     452     465\n",
      "26     486     459\n",
      "27     429     502\n",
      "28     386     395\n",
      "29     509     486\n",
      "30     514     455\n",
      "31     594     645\n",
      "32     362     439\n",
      "33     585     551\n",
      "34     389     948\n",
      "35     543     619\n",
      "36     592     557\n",
      "37     449     442\n",
      "38     514     529\n",
      "39     420     478\n",
      "40     303     346\n",
      "41     430     442\n",
      "42     323     362\n",
      "43     478     511\n",
      "44     551     628\n",
      "45     407     359\n",
      "46     387     414\n",
      "47     409     838\n",
      "48     480     535\n",
      "49     271     217\n",
      "50     477     407\n",
      "51     535     561\n",
      "52     321     342\n",
      "53     376     400\n",
      "54     525     592\n",
      "55     395     459\n",
      "56     448     411\n",
      "57     271     265\n",
      "58     458     461\n",
      "59     306     243\n"
     ]
    }
   ],
   "source": [
    "# we still dont know which one they are\n",
    "x_new  = x.loc[:,feature_selector.get_support()]\n",
    "print(x_new)"
   ]
  },
  {
   "attachments": {},
   "cell_type": "markdown",
   "metadata": {},
   "source": [
    "in the other approaches there was guess work where as here it cut alot of this and able to get reliable stuff"
   ]
  },
  {
   "cell_type": "code",
   "execution_count": null,
   "metadata": {},
   "outputs": [],
   "source": [
    "plt.plot(range(1, len(fit.grid_scores_) + 1), fit.grid_scores_, marker=\"o\")\n",
    "# range to go from 1 feature up to 4 feature "
   ]
  },
  {
   "cell_type": "code",
   "execution_count": 61,
   "metadata": {},
   "outputs": [
    {
     "data": {
      "image/png": "[encoded data removed]",
      "text/plain": [
       "<Figure size 432x288 with 1 Axes>"
      ]
     },
     "metadata": {
      "needs_background": "light"
     },
     "output_type": "display_data"
    }
   ],
   "source": [
    "plt.plot(range(1, len(fit.cv_results_['mean_test_score']) + 1), fit.cv_results_['mean_test_score'], marker = \"o\")\n",
    "plt.ylabel(\"Model Score\")\n",
    "plt.xlabel(\"Number of Features\")\n",
    "plt.title(f\"Feature Selection using RFE \\n Optimal number of features is {optimal_feature_count} (at score of {round(max(fit.cv_results_['mean_test_score']),4)})\")\n",
    "plt.tight_layout()\n",
    "plt.show()"
   ]
  },
  {
   "attachments": {},
   "cell_type": "markdown",
   "metadata": {},
   "source": [
    "Note on updates to scikit-learn. If you are using sklearn version 1.0 or greater - this will most likely apply\n",
    "\n",
    "Instead of fit.grid_scores_ to get (and then plot) our results we now must use fit.cv_results_['mean_test_score']\n",
    "\n",
    "In the tutorial, we use fit._grid_scores_ three times in our plotting code - each of these need to be updated to the new code.\n",
    "\n",
    "Your plot code will now need to look like this instead:"
   ]
  },
  {
   "attachments": {},
   "cell_type": "markdown",
   "metadata": {},
   "source": [
    "# Model Validation & Over-fitting (PRACTICAL)"
   ]
  },
  {
   "cell_type": "code",
   "execution_count": null,
   "metadata": {},
   "outputs": [],
   "source": [
    "# model validation \n",
    "data_path = \"C:/Users/eacalder/Documents/Education/DataScienceInfinity/Leasson_Downloads/H_Cleaning/feature_selection_sample_data.csv\"\n",
    "model_data = pd.read_csv(data_path)\n",
    "model_data.head()"
   ]
  },
  {
   "cell_type": "code",
   "execution_count": 62,
   "metadata": {},
   "outputs": [],
   "source": [
    "# test/train split\n",
    "from sklearn.linear_model import LinearRegression\n",
    "from sklearn.metrics import r2_score\n",
    "from sklearn.model_selection import train_test_split\n",
    "\n",
    "x = model_data.drop([\"output\"],axis=1)\n",
    "y = model_data[\"output\"]"
   ]
  },
  {
   "cell_type": "code",
   "execution_count": 64,
   "metadata": {},
   "outputs": [
    {
     "name": "stdout",
     "output_type": "stream",
     "text": [
      "    input1  input2  input3  input4\n",
      "31     594     645     407     600\n",
      "3      416     444     330     582\n",
      "52     321     342     350     486\n",
      "17     337     261     236     463\n",
      "8      431     364     672     420\n",
      "6      380     386     408     532\n",
      "40     303     346     692     544\n",
      "4      520     464     104     412\n",
      "43     478     511     156     598\n",
      "19     332     294     574     566\n",
      "34     389     948     229     555\n",
      "58     458     461     502     401\n",
      "25     452     465     569     454\n",
      "56     448     411     594     519\n",
      "15     463     424     289     541\n",
      "27     429     502     106     588\n",
      "9      574     611     182     422\n",
      "30     514     455     412     466\n",
      "26     486     459     204     418\n",
      "16     574     638     702     453\n",
      "24     563     492     565     597\n",
      "55     395     459     738     558\n",
      "11     281     266     461     528\n",
      "32     362     439     752     484\n",
      "53     376     400     727     518\n",
      "41     430     442     188     535\n",
      "37     449     442     371     582\n",
      "29     509     486     305     422\n",
      "44     551     628     486     517\n",
      "1      264     103     244     519\n",
      "21     509     515     604     574\n",
      "2      272     339     609     474\n",
      "47     409     838     311     495\n",
      "39     420     478     359     542\n",
      "35     543     619     424     467\n",
      "23     281     307     274     461\n",
      "49     271     217     792     596\n",
      "10     313     350     398     504\n",
      "22     351     406     152     472\n",
      "18     433     412     367     485\n",
      "59     306     243     575     241\n",
      "20     497     523     420     547\n",
      "7      549     596     387     443\n",
      "42     323     362     368     433\n",
      "14     397     454     779     481\n",
      "28     386     395     749     429\n",
      "51     535     561     630     423\n",
      "38     514     529     557     465\n"
     ]
    }
   ],
   "source": [
    "# Regression model \n",
    "x_train, x_test, y_train, y_test = train_test_split(x,\n",
    "                                                    y, \n",
    "                                                    test_size=.2,\n",
    "                                                    random_state=42)\n",
    "\n",
    "# stratify = y or something for classification \n",
    "# Classificaiton model\n",
    "# x_train, x_test, y_train, y_test = train_test_split(x,\n",
    "#                                                     y, \n",
    "#                                                     test_size=.2,\n",
    "#                                                     random_state=42,\n",
    "#                                                     stratify=y)\n",
    "print(x_train)"
   ]
  },
  {
   "cell_type": "code",
   "execution_count": 65,
   "metadata": {},
   "outputs": [
    {
     "name": "stdout",
     "output_type": "stream",
     "text": [
      "    input1  input2  input3  input4\n",
      "0      534     536     466     599\n",
      "5       81     415     705     444\n",
      "36     592     557     407     422\n",
      "45     407     359     667     582\n",
      "13      55     350     511     495\n",
      "54     525     592     482     539\n",
      "33     585     551     520     519\n",
      "48     480     535     702     522\n",
      "12     323     377     487     517\n",
      "57     271     265     410     433\n",
      "46     387     414     119     523\n",
      "50     477     407     305     520\n"
     ]
    }
   ],
   "source": [
    "print(x_test)"
   ]
  },
  {
   "cell_type": "code",
   "execution_count": 66,
   "metadata": {},
   "outputs": [
    {
     "name": "stdout",
     "output_type": "stream",
     "text": [
      "31    598\n",
      "3     438\n",
      "52    334\n",
      "17    391\n",
      "8     349\n",
      "6     436\n",
      "40    296\n",
      "4     547\n",
      "43    402\n",
      "19    284\n",
      "34    617\n",
      "58    533\n",
      "25    418\n",
      "56    349\n",
      "15    522\n",
      "27    544\n",
      "9     540\n",
      "30    553\n",
      "26    490\n",
      "16    531\n",
      "24    598\n",
      "55    376\n",
      "11    252\n",
      "32    496\n",
      "53    367\n",
      "41    361\n",
      "37    358\n",
      "29    532\n",
      "44    573\n",
      "1     182\n",
      "21    416\n",
      "2     323\n",
      "47    587\n",
      "39    410\n",
      "35    489\n",
      "23    232\n",
      "49    329\n",
      "10    373\n",
      "22    330\n",
      "18    374\n",
      "59    190\n",
      "20    598\n",
      "7     656\n",
      "42    405\n",
      "14    387\n",
      "28    404\n",
      "51    615\n",
      "38    585\n",
      "Name: output, dtype: int64\n"
     ]
    }
   ],
   "source": [
    "print(y_train)"
   ]
  },
  {
   "cell_type": "code",
   "execution_count": 67,
   "metadata": {},
   "outputs": [
    {
     "name": "stdout",
     "output_type": "stream",
     "text": [
      "0     564\n",
      "5     291\n",
      "36    625\n",
      "45    329\n",
      "13    238\n",
      "54    631\n",
      "33    562\n",
      "48    471\n",
      "12    419\n",
      "57    173\n",
      "46    339\n",
      "50    449\n",
      "Name: output, dtype: int64\n"
     ]
    }
   ],
   "source": [
    "print(y_test)\n",
    "#we want it shuffled so leave as is"
   ]
  },
  {
   "cell_type": "code",
   "execution_count": 68,
   "metadata": {},
   "outputs": [
    {
     "name": "stdout",
     "output_type": "stream",
     "text": [
      "[532.4377405  239.87776845 576.36771072 385.019222   194.74839626\n",
      " 554.46785928 568.25033487 505.51514549 349.28141143 271.99439579\n",
      " 399.01089187 444.37731913]\n"
     ]
    }
   ],
   "source": [
    "regressor = LinearRegression()\n",
    "regressor.fit(x,y)\n",
    "y_pred = regressor.predict(x_test) \n",
    "print(y_pred)"
   ]
  },
  {
   "cell_type": "code",
   "execution_count": 69,
   "metadata": {},
   "outputs": [
    {
     "data": {
      "text/plain": [
       "0.8581503770360923"
      ]
     },
     "execution_count": 69,
     "metadata": {},
     "output_type": "execute_result"
    }
   ],
   "source": [
    "r2_score(y_test,y_pred)\n",
    "# the higher the better "
   ]
  },
  {
   "cell_type": "code",
   "execution_count": 70,
   "metadata": {},
   "outputs": [
    {
     "name": "stdout",
     "output_type": "stream",
     "text": [
      "[0.78287124 0.57838871 0.45187443 0.7384809 ]\n"
     ]
    }
   ],
   "source": [
    "# cross validation\n",
    "# cv specify the number of folds, by default 5 \n",
    "# r squared to asses the model\n",
    "# there are some differences of the 4 output and we now take the average\n",
    "from sklearn.model_selection import cross_val_score, KFold, StratifiedKFold\n",
    "cv_scores =cross_val_score(regressor,x,y,cv=4,scoring=\"r2\")\n",
    "print(cv_scores)\n"
   ]
  },
  {
   "cell_type": "code",
   "execution_count": 71,
   "metadata": {},
   "outputs": [
    {
     "data": {
      "text/plain": [
       "0.637903817215319"
      ]
     },
     "execution_count": 71,
     "metadata": {},
     "output_type": "execute_result"
    }
   ],
   "source": [
    "cv_scores.mean()"
   ]
  },
  {
   "cell_type": "code",
   "execution_count": 72,
   "metadata": {},
   "outputs": [
    {
     "name": "stdout",
     "output_type": "stream",
     "text": [
      "[0.84955651 0.52174323 0.76004686 0.69987415]\n"
     ]
    }
   ],
   "source": [
    "# we are thinking the previous score of ~.83 was over inflated \n",
    "# regression\n",
    "cv = KFold(n_splits=4,shuffle=True,random_state=42)\n",
    "cv_scores =cross_val_score(regressor,x,y,cv=cv,scoring=\"r2\")\n",
    "print(cv_scores)\n"
   ]
  },
  {
   "cell_type": "code",
   "execution_count": 73,
   "metadata": {},
   "outputs": [
    {
     "data": {
      "text/plain": [
       "0.7078051873514346"
      ]
     },
     "execution_count": 73,
     "metadata": {},
     "output_type": "execute_result"
    }
   ],
   "source": [
    "cv_scores.mean()"
   ]
  },
  {
   "cell_type": "code",
   "execution_count": null,
   "metadata": {},
   "outputs": [],
   "source": [
    "# classification\n",
    "cv = StratifiedKFold(n_splits=4,shuffle=True,random_state=42)\n",
    "cv_scores =cross_val_score(clf,x,y,cv=cv,scoring=\"accuracy\")\n",
    "print(cv_scores)\n"
   ]
  },
  {
   "cell_type": "code",
   "execution_count": null,
   "metadata": {},
   "outputs": [],
   "source": [
    "cv_scores.mean()"
   ]
  }
 ],
 "metadata": {
  "kernelspec": {
   "display_name": "Python 3",
   "language": "python",
   "name": "python3"
  },
  "language_info": {
   "codemirror_mode": {
    "name": "ipython",
    "version": 3
   },
   "file_extension": ".py",
   "mimetype": "text/x-python",
   "name": "python",
   "nbconvert_exporter": "python",
   "pygments_lexer": "ipython3",
   "version": "3.9.7"
  },
  "orig_nbformat": 4
 },
 "nbformat": 4,
 "nbformat_minor": 2
}
