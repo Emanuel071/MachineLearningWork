{
 "cells": [
  {
   "cell_type": "code",
   "execution_count": 187,
   "metadata": {},
   "outputs": [],
   "source": [
    "########################\n",
    "#PCA - Code Template\n",
    "########################\n",
    "import pandas as pd\n",
    "import matplotlib.pyplot as plt\n",
    "from sklearn. ensemble import RandomForestClassifier \n",
    "from sklearn.utils import shuffle\n",
    "from sklearn.model_selection import train_test_split \n",
    "from sklearn. metrics import accuracy_score\n",
    "from sklearn.preprocessing import StandardScaler \n",
    "from sklearn.decomposition import PCA"
   ]
  },
  {
   "cell_type": "code",
   "execution_count": 188,
   "metadata": {},
   "outputs": [
    {
     "data": {
      "text/html": [
       "<div>\n",
       "<style scoped>\n",
       "    .dataframe tbody tr th:only-of-type {\n",
       "        vertical-align: middle;\n",
       "    }\n",
       "\n",
       "    .dataframe tbody tr th {\n",
       "        vertical-align: top;\n",
       "    }\n",
       "\n",
       "    .dataframe thead th {\n",
       "        text-align: right;\n",
       "    }\n",
       "</style>\n",
       "<table border=\"1\" class=\"dataframe\">\n",
       "  <thead>\n",
       "    <tr style=\"text-align: right;\">\n",
       "      <th></th>\n",
       "      <th>user_id</th>\n",
       "      <th>purchased_album</th>\n",
       "      <th>artist1</th>\n",
       "      <th>artist2</th>\n",
       "      <th>artist3</th>\n",
       "      <th>artist4</th>\n",
       "      <th>artist5</th>\n",
       "      <th>artist6</th>\n",
       "      <th>artist7</th>\n",
       "      <th>artist8</th>\n",
       "      <th>...</th>\n",
       "      <th>artist91</th>\n",
       "      <th>artist92</th>\n",
       "      <th>artist93</th>\n",
       "      <th>artist94</th>\n",
       "      <th>artist95</th>\n",
       "      <th>artist96</th>\n",
       "      <th>artist97</th>\n",
       "      <th>artist98</th>\n",
       "      <th>artist99</th>\n",
       "      <th>artist100</th>\n",
       "    </tr>\n",
       "  </thead>\n",
       "  <tbody>\n",
       "    <tr>\n",
       "      <th>0</th>\n",
       "      <td>1</td>\n",
       "      <td>1</td>\n",
       "      <td>0.0000</td>\n",
       "      <td>0.0891</td>\n",
       "      <td>0.0</td>\n",
       "      <td>0.0</td>\n",
       "      <td>0.0</td>\n",
       "      <td>0.0000</td>\n",
       "      <td>0.0</td>\n",
       "      <td>0.0</td>\n",
       "      <td>...</td>\n",
       "      <td>0.0000</td>\n",
       "      <td>0.0001</td>\n",
       "      <td>0.0606</td>\n",
       "      <td>0.0</td>\n",
       "      <td>0.0000</td>\n",
       "      <td>0.0578</td>\n",
       "      <td>0.1554</td>\n",
       "      <td>0.0001</td>\n",
       "      <td>0.0000</td>\n",
       "      <td>0.0000</td>\n",
       "    </tr>\n",
       "    <tr>\n",
       "      <th>1</th>\n",
       "      <td>2</td>\n",
       "      <td>0</td>\n",
       "      <td>0.0000</td>\n",
       "      <td>0.0000</td>\n",
       "      <td>0.0</td>\n",
       "      <td>0.0</td>\n",
       "      <td>0.0</td>\n",
       "      <td>0.0001</td>\n",
       "      <td>0.0</td>\n",
       "      <td>0.0</td>\n",
       "      <td>...</td>\n",
       "      <td>0.0008</td>\n",
       "      <td>0.0000</td>\n",
       "      <td>0.0016</td>\n",
       "      <td>0.0</td>\n",
       "      <td>0.0000</td>\n",
       "      <td>0.0000</td>\n",
       "      <td>0.0030</td>\n",
       "      <td>0.0034</td>\n",
       "      <td>0.8695</td>\n",
       "      <td>0.0037</td>\n",
       "    </tr>\n",
       "    <tr>\n",
       "      <th>2</th>\n",
       "      <td>3</td>\n",
       "      <td>1</td>\n",
       "      <td>0.0002</td>\n",
       "      <td>0.0000</td>\n",
       "      <td>0.0</td>\n",
       "      <td>0.0</td>\n",
       "      <td>0.0</td>\n",
       "      <td>0.0000</td>\n",
       "      <td>0.0</td>\n",
       "      <td>0.0</td>\n",
       "      <td>...</td>\n",
       "      <td>0.0000</td>\n",
       "      <td>0.0000</td>\n",
       "      <td>0.0000</td>\n",
       "      <td>0.0</td>\n",
       "      <td>0.0000</td>\n",
       "      <td>0.0000</td>\n",
       "      <td>0.0000</td>\n",
       "      <td>0.7179</td>\n",
       "      <td>0.0000</td>\n",
       "      <td>0.0008</td>\n",
       "    </tr>\n",
       "    <tr>\n",
       "      <th>3</th>\n",
       "      <td>4</td>\n",
       "      <td>1</td>\n",
       "      <td>0.0000</td>\n",
       "      <td>0.0000</td>\n",
       "      <td>0.0</td>\n",
       "      <td>0.0</td>\n",
       "      <td>0.0</td>\n",
       "      <td>0.0000</td>\n",
       "      <td>0.0</td>\n",
       "      <td>0.0</td>\n",
       "      <td>...</td>\n",
       "      <td>0.0146</td>\n",
       "      <td>0.0275</td>\n",
       "      <td>0.0060</td>\n",
       "      <td>0.0</td>\n",
       "      <td>0.1724</td>\n",
       "      <td>0.0000</td>\n",
       "      <td>0.0021</td>\n",
       "      <td>0.0012</td>\n",
       "      <td>0.0000</td>\n",
       "      <td>0.0000</td>\n",
       "    </tr>\n",
       "    <tr>\n",
       "      <th>4</th>\n",
       "      <td>5</td>\n",
       "      <td>1</td>\n",
       "      <td>0.0006</td>\n",
       "      <td>0.0000</td>\n",
       "      <td>0.0</td>\n",
       "      <td>0.0</td>\n",
       "      <td>0.0</td>\n",
       "      <td>0.0002</td>\n",
       "      <td>0.0</td>\n",
       "      <td>0.0</td>\n",
       "      <td>...</td>\n",
       "      <td>0.0310</td>\n",
       "      <td>0.1061</td>\n",
       "      <td>0.0000</td>\n",
       "      <td>0.0</td>\n",
       "      <td>0.0010</td>\n",
       "      <td>0.0000</td>\n",
       "      <td>0.6773</td>\n",
       "      <td>0.0000</td>\n",
       "      <td>0.0000</td>\n",
       "      <td>0.0000</td>\n",
       "    </tr>\n",
       "  </tbody>\n",
       "</table>\n",
       "<p>5 rows × 102 columns</p>\n",
       "</div>"
      ],
      "text/plain": [
       "   user_id  purchased_album  artist1  artist2  artist3  artist4  artist5  \\\n",
       "0        1                1   0.0000   0.0891      0.0      0.0      0.0   \n",
       "1        2                0   0.0000   0.0000      0.0      0.0      0.0   \n",
       "2        3                1   0.0002   0.0000      0.0      0.0      0.0   \n",
       "3        4                1   0.0000   0.0000      0.0      0.0      0.0   \n",
       "4        5                1   0.0006   0.0000      0.0      0.0      0.0   \n",
       "\n",
       "   artist6  artist7  artist8  ...  artist91  artist92  artist93  artist94  \\\n",
       "0   0.0000      0.0      0.0  ...    0.0000    0.0001    0.0606       0.0   \n",
       "1   0.0001      0.0      0.0  ...    0.0008    0.0000    0.0016       0.0   \n",
       "2   0.0000      0.0      0.0  ...    0.0000    0.0000    0.0000       0.0   \n",
       "3   0.0000      0.0      0.0  ...    0.0146    0.0275    0.0060       0.0   \n",
       "4   0.0002      0.0      0.0  ...    0.0310    0.1061    0.0000       0.0   \n",
       "\n",
       "   artist95  artist96  artist97  artist98  artist99  artist100  \n",
       "0    0.0000    0.0578    0.1554    0.0001    0.0000     0.0000  \n",
       "1    0.0000    0.0000    0.0030    0.0034    0.8695     0.0037  \n",
       "2    0.0000    0.0000    0.0000    0.7179    0.0000     0.0008  \n",
       "3    0.1724    0.0000    0.0021    0.0012    0.0000     0.0000  \n",
       "4    0.0010    0.0000    0.6773    0.0000    0.0000     0.0000  \n",
       "\n",
       "[5 rows x 102 columns]"
      ]
     },
     "execution_count": 188,
     "metadata": {},
     "output_type": "execute_result"
    }
   ],
   "source": [
    "########################\n",
    "#import sample data\n",
    "########################\n",
    "#Import\n",
    "data_path = \"./Saved_files/sample_data_pca.csv\"\n",
    "data_for_model = pd.read_csv(data_path)\n",
    "data_for_model.head()"
   ]
  },
  {
   "cell_type": "code",
   "execution_count": 189,
   "metadata": {},
   "outputs": [
    {
     "name": "stdout",
     "output_type": "stream",
     "text": [
      "(356, 102)\n"
     ]
    },
    {
     "data": {
      "text/html": [
       "<div>\n",
       "<style scoped>\n",
       "    .dataframe tbody tr th:only-of-type {\n",
       "        vertical-align: middle;\n",
       "    }\n",
       "\n",
       "    .dataframe tbody tr th {\n",
       "        vertical-align: top;\n",
       "    }\n",
       "\n",
       "    .dataframe thead th {\n",
       "        text-align: right;\n",
       "    }\n",
       "</style>\n",
       "<table border=\"1\" class=\"dataframe\">\n",
       "  <thead>\n",
       "    <tr style=\"text-align: right;\">\n",
       "      <th></th>\n",
       "      <th>user_id</th>\n",
       "      <th>purchased_album</th>\n",
       "      <th>artist1</th>\n",
       "      <th>artist2</th>\n",
       "      <th>artist3</th>\n",
       "      <th>artist4</th>\n",
       "      <th>artist5</th>\n",
       "      <th>artist6</th>\n",
       "      <th>artist7</th>\n",
       "      <th>artist8</th>\n",
       "      <th>...</th>\n",
       "      <th>artist91</th>\n",
       "      <th>artist92</th>\n",
       "      <th>artist93</th>\n",
       "      <th>artist94</th>\n",
       "      <th>artist95</th>\n",
       "      <th>artist96</th>\n",
       "      <th>artist97</th>\n",
       "      <th>artist98</th>\n",
       "      <th>artist99</th>\n",
       "      <th>artist100</th>\n",
       "    </tr>\n",
       "  </thead>\n",
       "  <tbody>\n",
       "    <tr>\n",
       "      <th>227</th>\n",
       "      <td>228</td>\n",
       "      <td>1</td>\n",
       "      <td>0.0000</td>\n",
       "      <td>0.0</td>\n",
       "      <td>0.0000</td>\n",
       "      <td>0.0000</td>\n",
       "      <td>0.0</td>\n",
       "      <td>0.0000</td>\n",
       "      <td>0.0000</td>\n",
       "      <td>0.0</td>\n",
       "      <td>...</td>\n",
       "      <td>0.0000</td>\n",
       "      <td>0.0045</td>\n",
       "      <td>0.0</td>\n",
       "      <td>0.2887</td>\n",
       "      <td>0.0</td>\n",
       "      <td>0.0000</td>\n",
       "      <td>0.0000</td>\n",
       "      <td>0.0000</td>\n",
       "      <td>0.0136</td>\n",
       "      <td>0.0000</td>\n",
       "    </tr>\n",
       "    <tr>\n",
       "      <th>42</th>\n",
       "      <td>43</td>\n",
       "      <td>1</td>\n",
       "      <td>0.0278</td>\n",
       "      <td>0.0</td>\n",
       "      <td>0.0000</td>\n",
       "      <td>0.0000</td>\n",
       "      <td>0.0</td>\n",
       "      <td>0.0036</td>\n",
       "      <td>0.0002</td>\n",
       "      <td>0.0</td>\n",
       "      <td>...</td>\n",
       "      <td>0.0000</td>\n",
       "      <td>0.0000</td>\n",
       "      <td>0.0</td>\n",
       "      <td>0.0000</td>\n",
       "      <td>0.0</td>\n",
       "      <td>0.0000</td>\n",
       "      <td>0.1894</td>\n",
       "      <td>0.0000</td>\n",
       "      <td>0.0000</td>\n",
       "      <td>0.0000</td>\n",
       "    </tr>\n",
       "    <tr>\n",
       "      <th>256</th>\n",
       "      <td>257</td>\n",
       "      <td>1</td>\n",
       "      <td>0.0000</td>\n",
       "      <td>0.0</td>\n",
       "      <td>0.0367</td>\n",
       "      <td>0.0053</td>\n",
       "      <td>0.0</td>\n",
       "      <td>0.0000</td>\n",
       "      <td>0.0367</td>\n",
       "      <td>0.0</td>\n",
       "      <td>...</td>\n",
       "      <td>0.0000</td>\n",
       "      <td>0.0002</td>\n",
       "      <td>0.0</td>\n",
       "      <td>0.0002</td>\n",
       "      <td>0.0</td>\n",
       "      <td>0.0001</td>\n",
       "      <td>0.0000</td>\n",
       "      <td>0.0243</td>\n",
       "      <td>0.0000</td>\n",
       "      <td>0.0005</td>\n",
       "    </tr>\n",
       "    <tr>\n",
       "      <th>182</th>\n",
       "      <td>183</td>\n",
       "      <td>1</td>\n",
       "      <td>0.0000</td>\n",
       "      <td>0.0</td>\n",
       "      <td>0.0000</td>\n",
       "      <td>0.0000</td>\n",
       "      <td>0.0</td>\n",
       "      <td>0.0000</td>\n",
       "      <td>0.0000</td>\n",
       "      <td>0.0</td>\n",
       "      <td>...</td>\n",
       "      <td>0.0000</td>\n",
       "      <td>0.0000</td>\n",
       "      <td>0.0</td>\n",
       "      <td>0.0000</td>\n",
       "      <td>0.0</td>\n",
       "      <td>0.0011</td>\n",
       "      <td>0.8431</td>\n",
       "      <td>0.0000</td>\n",
       "      <td>0.0000</td>\n",
       "      <td>0.0000</td>\n",
       "    </tr>\n",
       "    <tr>\n",
       "      <th>56</th>\n",
       "      <td>57</td>\n",
       "      <td>1</td>\n",
       "      <td>0.0007</td>\n",
       "      <td>0.0</td>\n",
       "      <td>0.0000</td>\n",
       "      <td>0.0000</td>\n",
       "      <td>0.0</td>\n",
       "      <td>0.0000</td>\n",
       "      <td>0.0000</td>\n",
       "      <td>0.0</td>\n",
       "      <td>...</td>\n",
       "      <td>0.0011</td>\n",
       "      <td>0.0163</td>\n",
       "      <td>0.0</td>\n",
       "      <td>0.0000</td>\n",
       "      <td>0.0</td>\n",
       "      <td>0.0000</td>\n",
       "      <td>0.0000</td>\n",
       "      <td>0.0179</td>\n",
       "      <td>0.8111</td>\n",
       "      <td>0.0000</td>\n",
       "    </tr>\n",
       "  </tbody>\n",
       "</table>\n",
       "<p>5 rows × 102 columns</p>\n",
       "</div>"
      ],
      "text/plain": [
       "     user_id  purchased_album  artist1  artist2  artist3  artist4  artist5  \\\n",
       "227      228                1   0.0000      0.0   0.0000   0.0000      0.0   \n",
       "42        43                1   0.0278      0.0   0.0000   0.0000      0.0   \n",
       "256      257                1   0.0000      0.0   0.0367   0.0053      0.0   \n",
       "182      183                1   0.0000      0.0   0.0000   0.0000      0.0   \n",
       "56        57                1   0.0007      0.0   0.0000   0.0000      0.0   \n",
       "\n",
       "     artist6  artist7  artist8  ...  artist91  artist92  artist93  artist94  \\\n",
       "227   0.0000   0.0000      0.0  ...    0.0000    0.0045       0.0    0.2887   \n",
       "42    0.0036   0.0002      0.0  ...    0.0000    0.0000       0.0    0.0000   \n",
       "256   0.0000   0.0367      0.0  ...    0.0000    0.0002       0.0    0.0002   \n",
       "182   0.0000   0.0000      0.0  ...    0.0000    0.0000       0.0    0.0000   \n",
       "56    0.0000   0.0000      0.0  ...    0.0011    0.0163       0.0    0.0000   \n",
       "\n",
       "     artist95  artist96  artist97  artist98  artist99  artist100  \n",
       "227       0.0    0.0000    0.0000    0.0000    0.0136     0.0000  \n",
       "42        0.0    0.0000    0.1894    0.0000    0.0000     0.0000  \n",
       "256       0.0    0.0001    0.0000    0.0243    0.0000     0.0005  \n",
       "182       0.0    0.0011    0.8431    0.0000    0.0000     0.0000  \n",
       "56        0.0    0.0000    0.0000    0.0179    0.8111     0.0000  \n",
       "\n",
       "[5 rows x 102 columns]"
      ]
     },
     "execution_count": 189,
     "metadata": {},
     "output_type": "execute_result"
    }
   ],
   "source": [
    "#Shuffle data\n",
    "data_for_model = shuffle(data_for_model, random_state=42)\n",
    "print(data_for_model.shape)\n",
    "data_for_model.head()"
   ]
  },
  {
   "cell_type": "code",
   "execution_count": 190,
   "metadata": {},
   "outputs": [
    {
     "data": {
      "text/plain": [
       "1    0.533708\n",
       "0    0.466292\n",
       "Name: purchased_album, dtype: float64"
      ]
     },
     "execution_count": 190,
     "metadata": {},
     "output_type": "execute_result"
    }
   ],
   "source": [
    "#Class Balance\n",
    "# we actually have a nice balanced data set good to know\n",
    "data_for_model[\"purchased_album\"].value_counts(normalize = True)"
   ]
  },
  {
   "cell_type": "code",
   "execution_count": 191,
   "metadata": {},
   "outputs": [
    {
     "name": "stdout",
     "output_type": "stream",
     "text": [
      "(356, 102)\n"
     ]
    },
    {
     "data": {
      "text/plain": [
       "user_id            0\n",
       "purchased_album    0\n",
       "artist1            0\n",
       "artist2            0\n",
       "artist3            0\n",
       "                  ..\n",
       "artist96           0\n",
       "artist97           0\n",
       "artist98           0\n",
       "artist99           0\n",
       "artist100          0\n",
       "Length: 102, dtype: int64"
      ]
     },
     "execution_count": 191,
     "metadata": {},
     "output_type": "execute_result"
    }
   ],
   "source": [
    "######################################################\n",
    "# deal with missing values\n",
    "######################################################\n",
    "print(data_for_model.shape)\n",
    "data_for_model.isna().sum()\n",
    "# small number of columns with missing values, lets not impute and just drop \n",
    "# but noted "
   ]
  },
  {
   "cell_type": "code",
   "execution_count": 192,
   "metadata": {},
   "outputs": [
    {
     "data": {
      "text/plain": [
       "0"
      ]
     },
     "execution_count": 192,
     "metadata": {},
     "output_type": "execute_result"
    }
   ],
   "source": [
    "data_for_model.isna().sum().sum()"
   ]
  },
  {
   "cell_type": "code",
   "execution_count": 193,
   "metadata": {},
   "outputs": [
    {
     "name": "stdout",
     "output_type": "stream",
     "text": [
      "(356, 102)\n"
     ]
    },
    {
     "data": {
      "text/html": [
       "<div>\n",
       "<style scoped>\n",
       "    .dataframe tbody tr th:only-of-type {\n",
       "        vertical-align: middle;\n",
       "    }\n",
       "\n",
       "    .dataframe tbody tr th {\n",
       "        vertical-align: top;\n",
       "    }\n",
       "\n",
       "    .dataframe thead th {\n",
       "        text-align: right;\n",
       "    }\n",
       "</style>\n",
       "<table border=\"1\" class=\"dataframe\">\n",
       "  <thead>\n",
       "    <tr style=\"text-align: right;\">\n",
       "      <th></th>\n",
       "      <th>user_id</th>\n",
       "      <th>purchased_album</th>\n",
       "      <th>artist1</th>\n",
       "      <th>artist2</th>\n",
       "      <th>artist3</th>\n",
       "      <th>artist4</th>\n",
       "      <th>artist5</th>\n",
       "      <th>artist6</th>\n",
       "      <th>artist7</th>\n",
       "      <th>artist8</th>\n",
       "      <th>...</th>\n",
       "      <th>artist91</th>\n",
       "      <th>artist92</th>\n",
       "      <th>artist93</th>\n",
       "      <th>artist94</th>\n",
       "      <th>artist95</th>\n",
       "      <th>artist96</th>\n",
       "      <th>artist97</th>\n",
       "      <th>artist98</th>\n",
       "      <th>artist99</th>\n",
       "      <th>artist100</th>\n",
       "    </tr>\n",
       "  </thead>\n",
       "  <tbody>\n",
       "    <tr>\n",
       "      <th>227</th>\n",
       "      <td>228</td>\n",
       "      <td>1</td>\n",
       "      <td>0.0000</td>\n",
       "      <td>0.0</td>\n",
       "      <td>0.0000</td>\n",
       "      <td>0.0000</td>\n",
       "      <td>0.0</td>\n",
       "      <td>0.0000</td>\n",
       "      <td>0.0000</td>\n",
       "      <td>0.0</td>\n",
       "      <td>...</td>\n",
       "      <td>0.0000</td>\n",
       "      <td>0.0045</td>\n",
       "      <td>0.0</td>\n",
       "      <td>0.2887</td>\n",
       "      <td>0.0</td>\n",
       "      <td>0.0000</td>\n",
       "      <td>0.0000</td>\n",
       "      <td>0.0000</td>\n",
       "      <td>0.0136</td>\n",
       "      <td>0.0000</td>\n",
       "    </tr>\n",
       "    <tr>\n",
       "      <th>42</th>\n",
       "      <td>43</td>\n",
       "      <td>1</td>\n",
       "      <td>0.0278</td>\n",
       "      <td>0.0</td>\n",
       "      <td>0.0000</td>\n",
       "      <td>0.0000</td>\n",
       "      <td>0.0</td>\n",
       "      <td>0.0036</td>\n",
       "      <td>0.0002</td>\n",
       "      <td>0.0</td>\n",
       "      <td>...</td>\n",
       "      <td>0.0000</td>\n",
       "      <td>0.0000</td>\n",
       "      <td>0.0</td>\n",
       "      <td>0.0000</td>\n",
       "      <td>0.0</td>\n",
       "      <td>0.0000</td>\n",
       "      <td>0.1894</td>\n",
       "      <td>0.0000</td>\n",
       "      <td>0.0000</td>\n",
       "      <td>0.0000</td>\n",
       "    </tr>\n",
       "    <tr>\n",
       "      <th>256</th>\n",
       "      <td>257</td>\n",
       "      <td>1</td>\n",
       "      <td>0.0000</td>\n",
       "      <td>0.0</td>\n",
       "      <td>0.0367</td>\n",
       "      <td>0.0053</td>\n",
       "      <td>0.0</td>\n",
       "      <td>0.0000</td>\n",
       "      <td>0.0367</td>\n",
       "      <td>0.0</td>\n",
       "      <td>...</td>\n",
       "      <td>0.0000</td>\n",
       "      <td>0.0002</td>\n",
       "      <td>0.0</td>\n",
       "      <td>0.0002</td>\n",
       "      <td>0.0</td>\n",
       "      <td>0.0001</td>\n",
       "      <td>0.0000</td>\n",
       "      <td>0.0243</td>\n",
       "      <td>0.0000</td>\n",
       "      <td>0.0005</td>\n",
       "    </tr>\n",
       "    <tr>\n",
       "      <th>182</th>\n",
       "      <td>183</td>\n",
       "      <td>1</td>\n",
       "      <td>0.0000</td>\n",
       "      <td>0.0</td>\n",
       "      <td>0.0000</td>\n",
       "      <td>0.0000</td>\n",
       "      <td>0.0</td>\n",
       "      <td>0.0000</td>\n",
       "      <td>0.0000</td>\n",
       "      <td>0.0</td>\n",
       "      <td>...</td>\n",
       "      <td>0.0000</td>\n",
       "      <td>0.0000</td>\n",
       "      <td>0.0</td>\n",
       "      <td>0.0000</td>\n",
       "      <td>0.0</td>\n",
       "      <td>0.0011</td>\n",
       "      <td>0.8431</td>\n",
       "      <td>0.0000</td>\n",
       "      <td>0.0000</td>\n",
       "      <td>0.0000</td>\n",
       "    </tr>\n",
       "    <tr>\n",
       "      <th>56</th>\n",
       "      <td>57</td>\n",
       "      <td>1</td>\n",
       "      <td>0.0007</td>\n",
       "      <td>0.0</td>\n",
       "      <td>0.0000</td>\n",
       "      <td>0.0000</td>\n",
       "      <td>0.0</td>\n",
       "      <td>0.0000</td>\n",
       "      <td>0.0000</td>\n",
       "      <td>0.0</td>\n",
       "      <td>...</td>\n",
       "      <td>0.0011</td>\n",
       "      <td>0.0163</td>\n",
       "      <td>0.0</td>\n",
       "      <td>0.0000</td>\n",
       "      <td>0.0</td>\n",
       "      <td>0.0000</td>\n",
       "      <td>0.0000</td>\n",
       "      <td>0.0179</td>\n",
       "      <td>0.8111</td>\n",
       "      <td>0.0000</td>\n",
       "    </tr>\n",
       "  </tbody>\n",
       "</table>\n",
       "<p>5 rows × 102 columns</p>\n",
       "</div>"
      ],
      "text/plain": [
       "     user_id  purchased_album  artist1  artist2  artist3  artist4  artist5  \\\n",
       "227      228                1   0.0000      0.0   0.0000   0.0000      0.0   \n",
       "42        43                1   0.0278      0.0   0.0000   0.0000      0.0   \n",
       "256      257                1   0.0000      0.0   0.0367   0.0053      0.0   \n",
       "182      183                1   0.0000      0.0   0.0000   0.0000      0.0   \n",
       "56        57                1   0.0007      0.0   0.0000   0.0000      0.0   \n",
       "\n",
       "     artist6  artist7  artist8  ...  artist91  artist92  artist93  artist94  \\\n",
       "227   0.0000   0.0000      0.0  ...    0.0000    0.0045       0.0    0.2887   \n",
       "42    0.0036   0.0002      0.0  ...    0.0000    0.0000       0.0    0.0000   \n",
       "256   0.0000   0.0367      0.0  ...    0.0000    0.0002       0.0    0.0002   \n",
       "182   0.0000   0.0000      0.0  ...    0.0000    0.0000       0.0    0.0000   \n",
       "56    0.0000   0.0000      0.0  ...    0.0011    0.0163       0.0    0.0000   \n",
       "\n",
       "     artist95  artist96  artist97  artist98  artist99  artist100  \n",
       "227       0.0    0.0000    0.0000    0.0000    0.0136     0.0000  \n",
       "42        0.0    0.0000    0.1894    0.0000    0.0000     0.0000  \n",
       "256       0.0    0.0001    0.0000    0.0243    0.0000     0.0005  \n",
       "182       0.0    0.0011    0.8431    0.0000    0.0000     0.0000  \n",
       "56        0.0    0.0000    0.0000    0.0179    0.8111     0.0000  \n",
       "\n",
       "[5 rows x 102 columns]"
      ]
     },
     "execution_count": 193,
     "metadata": {},
     "output_type": "execute_result"
    }
   ],
   "source": [
    "# \"any\" meaning drop the whole row if any one cell is empty\n",
    "data_for_model.dropna(how=\"any\", inplace=True)\n",
    "print(data_for_model.shape)\n",
    "data_for_model.head()"
   ]
  },
  {
   "cell_type": "code",
   "execution_count": 194,
   "metadata": {},
   "outputs": [
    {
     "name": "stdout",
     "output_type": "stream",
     "text": [
      "(356, 101)\n"
     ]
    },
    {
     "data": {
      "text/html": [
       "<div>\n",
       "<style scoped>\n",
       "    .dataframe tbody tr th:only-of-type {\n",
       "        vertical-align: middle;\n",
       "    }\n",
       "\n",
       "    .dataframe tbody tr th {\n",
       "        vertical-align: top;\n",
       "    }\n",
       "\n",
       "    .dataframe thead th {\n",
       "        text-align: right;\n",
       "    }\n",
       "</style>\n",
       "<table border=\"1\" class=\"dataframe\">\n",
       "  <thead>\n",
       "    <tr style=\"text-align: right;\">\n",
       "      <th></th>\n",
       "      <th>purchased_album</th>\n",
       "      <th>artist1</th>\n",
       "      <th>artist2</th>\n",
       "      <th>artist3</th>\n",
       "      <th>artist4</th>\n",
       "      <th>artist5</th>\n",
       "      <th>artist6</th>\n",
       "      <th>artist7</th>\n",
       "      <th>artist8</th>\n",
       "      <th>artist9</th>\n",
       "      <th>...</th>\n",
       "      <th>artist91</th>\n",
       "      <th>artist92</th>\n",
       "      <th>artist93</th>\n",
       "      <th>artist94</th>\n",
       "      <th>artist95</th>\n",
       "      <th>artist96</th>\n",
       "      <th>artist97</th>\n",
       "      <th>artist98</th>\n",
       "      <th>artist99</th>\n",
       "      <th>artist100</th>\n",
       "    </tr>\n",
       "  </thead>\n",
       "  <tbody>\n",
       "    <tr>\n",
       "      <th>227</th>\n",
       "      <td>1</td>\n",
       "      <td>0.0000</td>\n",
       "      <td>0.0</td>\n",
       "      <td>0.0000</td>\n",
       "      <td>0.0000</td>\n",
       "      <td>0.0</td>\n",
       "      <td>0.0000</td>\n",
       "      <td>0.0000</td>\n",
       "      <td>0.0</td>\n",
       "      <td>0.0</td>\n",
       "      <td>...</td>\n",
       "      <td>0.0000</td>\n",
       "      <td>0.0045</td>\n",
       "      <td>0.0</td>\n",
       "      <td>0.2887</td>\n",
       "      <td>0.0</td>\n",
       "      <td>0.0000</td>\n",
       "      <td>0.0000</td>\n",
       "      <td>0.0000</td>\n",
       "      <td>0.0136</td>\n",
       "      <td>0.0000</td>\n",
       "    </tr>\n",
       "    <tr>\n",
       "      <th>42</th>\n",
       "      <td>1</td>\n",
       "      <td>0.0278</td>\n",
       "      <td>0.0</td>\n",
       "      <td>0.0000</td>\n",
       "      <td>0.0000</td>\n",
       "      <td>0.0</td>\n",
       "      <td>0.0036</td>\n",
       "      <td>0.0002</td>\n",
       "      <td>0.0</td>\n",
       "      <td>0.0</td>\n",
       "      <td>...</td>\n",
       "      <td>0.0000</td>\n",
       "      <td>0.0000</td>\n",
       "      <td>0.0</td>\n",
       "      <td>0.0000</td>\n",
       "      <td>0.0</td>\n",
       "      <td>0.0000</td>\n",
       "      <td>0.1894</td>\n",
       "      <td>0.0000</td>\n",
       "      <td>0.0000</td>\n",
       "      <td>0.0000</td>\n",
       "    </tr>\n",
       "    <tr>\n",
       "      <th>256</th>\n",
       "      <td>1</td>\n",
       "      <td>0.0000</td>\n",
       "      <td>0.0</td>\n",
       "      <td>0.0367</td>\n",
       "      <td>0.0053</td>\n",
       "      <td>0.0</td>\n",
       "      <td>0.0000</td>\n",
       "      <td>0.0367</td>\n",
       "      <td>0.0</td>\n",
       "      <td>0.0</td>\n",
       "      <td>...</td>\n",
       "      <td>0.0000</td>\n",
       "      <td>0.0002</td>\n",
       "      <td>0.0</td>\n",
       "      <td>0.0002</td>\n",
       "      <td>0.0</td>\n",
       "      <td>0.0001</td>\n",
       "      <td>0.0000</td>\n",
       "      <td>0.0243</td>\n",
       "      <td>0.0000</td>\n",
       "      <td>0.0005</td>\n",
       "    </tr>\n",
       "    <tr>\n",
       "      <th>182</th>\n",
       "      <td>1</td>\n",
       "      <td>0.0000</td>\n",
       "      <td>0.0</td>\n",
       "      <td>0.0000</td>\n",
       "      <td>0.0000</td>\n",
       "      <td>0.0</td>\n",
       "      <td>0.0000</td>\n",
       "      <td>0.0000</td>\n",
       "      <td>0.0</td>\n",
       "      <td>0.0</td>\n",
       "      <td>...</td>\n",
       "      <td>0.0000</td>\n",
       "      <td>0.0000</td>\n",
       "      <td>0.0</td>\n",
       "      <td>0.0000</td>\n",
       "      <td>0.0</td>\n",
       "      <td>0.0011</td>\n",
       "      <td>0.8431</td>\n",
       "      <td>0.0000</td>\n",
       "      <td>0.0000</td>\n",
       "      <td>0.0000</td>\n",
       "    </tr>\n",
       "    <tr>\n",
       "      <th>56</th>\n",
       "      <td>1</td>\n",
       "      <td>0.0007</td>\n",
       "      <td>0.0</td>\n",
       "      <td>0.0000</td>\n",
       "      <td>0.0000</td>\n",
       "      <td>0.0</td>\n",
       "      <td>0.0000</td>\n",
       "      <td>0.0000</td>\n",
       "      <td>0.0</td>\n",
       "      <td>0.0</td>\n",
       "      <td>...</td>\n",
       "      <td>0.0011</td>\n",
       "      <td>0.0163</td>\n",
       "      <td>0.0</td>\n",
       "      <td>0.0000</td>\n",
       "      <td>0.0</td>\n",
       "      <td>0.0000</td>\n",
       "      <td>0.0000</td>\n",
       "      <td>0.0179</td>\n",
       "      <td>0.8111</td>\n",
       "      <td>0.0000</td>\n",
       "    </tr>\n",
       "  </tbody>\n",
       "</table>\n",
       "<p>5 rows × 101 columns</p>\n",
       "</div>"
      ],
      "text/plain": [
       "     purchased_album  artist1  artist2  artist3  artist4  artist5  artist6  \\\n",
       "227                1   0.0000      0.0   0.0000   0.0000      0.0   0.0000   \n",
       "42                 1   0.0278      0.0   0.0000   0.0000      0.0   0.0036   \n",
       "256                1   0.0000      0.0   0.0367   0.0053      0.0   0.0000   \n",
       "182                1   0.0000      0.0   0.0000   0.0000      0.0   0.0000   \n",
       "56                 1   0.0007      0.0   0.0000   0.0000      0.0   0.0000   \n",
       "\n",
       "     artist7  artist8  artist9  ...  artist91  artist92  artist93  artist94  \\\n",
       "227   0.0000      0.0      0.0  ...    0.0000    0.0045       0.0    0.2887   \n",
       "42    0.0002      0.0      0.0  ...    0.0000    0.0000       0.0    0.0000   \n",
       "256   0.0367      0.0      0.0  ...    0.0000    0.0002       0.0    0.0002   \n",
       "182   0.0000      0.0      0.0  ...    0.0000    0.0000       0.0    0.0000   \n",
       "56    0.0000      0.0      0.0  ...    0.0011    0.0163       0.0    0.0000   \n",
       "\n",
       "     artist95  artist96  artist97  artist98  artist99  artist100  \n",
       "227       0.0    0.0000    0.0000    0.0000    0.0136     0.0000  \n",
       "42        0.0    0.0000    0.1894    0.0000    0.0000     0.0000  \n",
       "256       0.0    0.0001    0.0000    0.0243    0.0000     0.0005  \n",
       "182       0.0    0.0011    0.8431    0.0000    0.0000     0.0000  \n",
       "56        0.0    0.0000    0.0000    0.0179    0.8111     0.0000  \n",
       "\n",
       "[5 rows x 101 columns]"
      ]
     },
     "execution_count": 194,
     "metadata": {},
     "output_type": "execute_result"
    }
   ],
   "source": [
    "#Drop uneccessary columns\n",
    "user_id = data_for_model['user_id']\n",
    "data_for_model.drop(\"user_id\", axis = 1, inplace = True)\n",
    "print(data_for_model.shape)\n",
    "data_for_model.head()"
   ]
  },
  {
   "cell_type": "code",
   "execution_count": 195,
   "metadata": {},
   "outputs": [],
   "source": [
    "######################################################\n",
    "# split input variables and output variables\n",
    "######################################################\n",
    "# we dont want the output in the input dataframe\n",
    "X = data_for_model.drop(['purchased_album'], axis=1)\n",
    "Y = data_for_model['purchased_album']"
   ]
  },
  {
   "cell_type": "code",
   "execution_count": 196,
   "metadata": {},
   "outputs": [
    {
     "name": "stdout",
     "output_type": "stream",
     "text": [
      "(284, 100)\n",
      "(72, 100)\n",
      "(284,)\n",
      "(72,)\n"
     ]
    }
   ],
   "source": [
    "######################################################\n",
    "# split out training and test sets\n",
    "######################################################\n",
    "# Regression model \n",
    "x_train, x_test, y_train, y_test = train_test_split(X,\n",
    "                                                    Y, \n",
    "                                                    test_size=.2,\n",
    "                                                    random_state=42,\n",
    "                                                    stratify=Y)\n",
    "print(x_train.shape)\n",
    "print(x_test.shape)\n",
    "print(y_train.shape)\n",
    "print(y_test.shape)"
   ]
  },
  {
   "cell_type": "code",
   "execution_count": 197,
   "metadata": {},
   "outputs": [],
   "source": [
    "################################\n",
    "#Feature Scaling ######\n",
    "################################\n",
    "scale_standard = StandardScaler()\n",
    "x_train = scale_standard.fit_transform(x_train) # it has leanred the scaling rules \n",
    "x_test = scale_standard.transform(x_test) # transform the scaling is based on training"
   ]
  },
  {
   "cell_type": "code",
   "execution_count": 198,
   "metadata": {},
   "outputs": [
    {
     "data": {
      "text/html": [
       "<style>#sk-container-id-13 {color: black;background-color: white;}#sk-container-id-13 pre{padding: 0;}#sk-container-id-13 div.sk-toggleable {background-color: white;}#sk-container-id-13 label.sk-toggleable__label {cursor: pointer;display: block;width: 100%;margin-bottom: 0;padding: 0.3em;box-sizing: border-box;text-align: center;}#sk-container-id-13 label.sk-toggleable__label-arrow:before {content: \"▸\";float: left;margin-right: 0.25em;color: #696969;}#sk-container-id-13 label.sk-toggleable__label-arrow:hover:before {color: black;}#sk-container-id-13 div.sk-estimator:hover label.sk-toggleable__label-arrow:before {color: black;}#sk-container-id-13 div.sk-toggleable__content {max-height: 0;max-width: 0;overflow: hidden;text-align: left;background-color: #f0f8ff;}#sk-container-id-13 div.sk-toggleable__content pre {margin: 0.2em;color: black;border-radius: 0.25em;background-color: #f0f8ff;}#sk-container-id-13 input.sk-toggleable__control:checked~div.sk-toggleable__content {max-height: 200px;max-width: 100%;overflow: auto;}#sk-container-id-13 input.sk-toggleable__control:checked~label.sk-toggleable__label-arrow:before {content: \"▾\";}#sk-container-id-13 div.sk-estimator input.sk-toggleable__control:checked~label.sk-toggleable__label {background-color: #d4ebff;}#sk-container-id-13 div.sk-label input.sk-toggleable__control:checked~label.sk-toggleable__label {background-color: #d4ebff;}#sk-container-id-13 input.sk-hidden--visually {border: 0;clip: rect(1px 1px 1px 1px);clip: rect(1px, 1px, 1px, 1px);height: 1px;margin: -1px;overflow: hidden;padding: 0;position: absolute;width: 1px;}#sk-container-id-13 div.sk-estimator {font-family: monospace;background-color: #f0f8ff;border: 1px dotted black;border-radius: 0.25em;box-sizing: border-box;margin-bottom: 0.5em;}#sk-container-id-13 div.sk-estimator:hover {background-color: #d4ebff;}#sk-container-id-13 div.sk-parallel-item::after {content: \"\";width: 100%;border-bottom: 1px solid gray;flex-grow: 1;}#sk-container-id-13 div.sk-label:hover label.sk-toggleable__label {background-color: #d4ebff;}#sk-container-id-13 div.sk-serial::before {content: \"\";position: absolute;border-left: 1px solid gray;box-sizing: border-box;top: 0;bottom: 0;left: 50%;z-index: 0;}#sk-container-id-13 div.sk-serial {display: flex;flex-direction: column;align-items: center;background-color: white;padding-right: 0.2em;padding-left: 0.2em;position: relative;}#sk-container-id-13 div.sk-item {position: relative;z-index: 1;}#sk-container-id-13 div.sk-parallel {display: flex;align-items: stretch;justify-content: center;background-color: white;position: relative;}#sk-container-id-13 div.sk-item::before, #sk-container-id-13 div.sk-parallel-item::before {content: \"\";position: absolute;border-left: 1px solid gray;box-sizing: border-box;top: 0;bottom: 0;left: 50%;z-index: -1;}#sk-container-id-13 div.sk-parallel-item {display: flex;flex-direction: column;z-index: 1;position: relative;background-color: white;}#sk-container-id-13 div.sk-parallel-item:first-child::after {align-self: flex-end;width: 50%;}#sk-container-id-13 div.sk-parallel-item:last-child::after {align-self: flex-start;width: 50%;}#sk-container-id-13 div.sk-parallel-item:only-child::after {width: 0;}#sk-container-id-13 div.sk-dashed-wrapped {border: 1px dashed gray;margin: 0 0.4em 0.5em 0.4em;box-sizing: border-box;padding-bottom: 0.4em;background-color: white;}#sk-container-id-13 div.sk-label label {font-family: monospace;font-weight: bold;display: inline-block;line-height: 1.2em;}#sk-container-id-13 div.sk-label-container {text-align: center;}#sk-container-id-13 div.sk-container {/* jupyter's `normalize.less` sets `[hidden] { display: none; }` but bootstrap.min.css set `[hidden] { display: none !important; }` so we also need the `!important` here to be able to override the default hidden behavior on the sphinx rendered scikit-learn.org. See: https://github.com/scikit-learn/scikit-learn/issues/21755 */display: inline-block !important;position: relative;}#sk-container-id-13 div.sk-text-repr-fallback {display: none;}</style><div id=\"sk-container-id-13\" class=\"sk-top-container\"><div class=\"sk-text-repr-fallback\"><pre>PCA(random_state=42)</pre><b>In a Jupyter environment, please rerun this cell to show the HTML representation or trust the notebook. <br />On GitHub, the HTML representation is unable to render, please try loading this page with nbviewer.org.</b></div><div class=\"sk-container\" hidden><div class=\"sk-item\"><div class=\"sk-estimator sk-toggleable\"><input class=\"sk-toggleable__control sk-hidden--visually\" id=\"sk-estimator-id-13\" type=\"checkbox\" checked><label for=\"sk-estimator-id-13\" class=\"sk-toggleable__label sk-toggleable__label-arrow\">PCA</label><div class=\"sk-toggleable__content\"><pre>PCA(random_state=42)</pre></div></div></div></div></div>"
      ],
      "text/plain": [
       "PCA(random_state=42)"
      ]
     },
     "execution_count": 198,
     "metadata": {},
     "output_type": "execute_result"
    }
   ],
   "source": [
    "####################################\n",
    "# Apply PCA\n",
    "####################################\n",
    "\n",
    "#Instantiate & fit\n",
    "pca = PCA(n_components=None, #as many components as there are columns which is 100, we can refine later \n",
    "          random_state=42)\n",
    "pca.fit(x_train) # we just want to check the variance at each component"
   ]
  },
  {
   "cell_type": "code",
   "execution_count": 199,
   "metadata": {},
   "outputs": [
    {
     "name": "stdout",
     "output_type": "stream",
     "text": [
      "[8.32128763e-02 5.84421053e-02 5.71991173e-02 4.95953174e-02\n",
      " 4.78795519e-02 4.52243124e-02 4.48841957e-02 4.18295673e-02\n",
      " 4.00074418e-02 3.85285913e-02 3.01256942e-02 2.85283524e-02\n",
      " 1.96381578e-02 1.83573237e-02 1.73586781e-02 1.63522268e-02\n",
      " 1.58222473e-02 1.56724807e-02 1.50469699e-02 1.47735722e-02\n",
      " 1.44753718e-02 1.36081309e-02 1.28837930e-02 1.23256157e-02\n",
      " 1.14333249e-02 1.09719808e-02 1.08448594e-02 1.05238320e-02\n",
      " 1.02421249e-02 1.01935816e-02 9.83860724e-03 9.32034310e-03\n",
      " 9.08573945e-03 8.94898663e-03 8.78211805e-03 8.40003254e-03\n",
      " 8.04595329e-03 7.75815581e-03 7.53511282e-03 7.30446282e-03\n",
      " 7.03393322e-03 6.83763587e-03 6.54955903e-03 6.15848309e-03\n",
      " 5.96773549e-03 5.76648708e-03 5.41963253e-03 4.80109028e-03\n",
      " 4.66819648e-03 4.31468451e-03 3.98486210e-03 3.83587653e-03\n",
      " 3.60001282e-03 3.36382823e-03 3.08998956e-03 2.84843960e-03\n",
      " 2.21877176e-03 1.86167723e-03 1.55827755e-03 1.34647694e-03\n",
      " 1.28432234e-03 1.20030801e-03 1.14076721e-03 9.81656874e-04\n",
      " 8.77828797e-04 8.37084993e-04 8.03274614e-04 6.49880261e-04\n",
      " 6.47790124e-04 5.95698486e-04 5.05795887e-04 4.39540034e-04\n",
      " 4.25386838e-04 4.02542292e-04 3.66523324e-04 3.43298367e-04\n",
      " 3.07555475e-04 2.93451646e-04 2.50629795e-04 2.29947145e-04\n",
      " 2.10116419e-04 1.83801331e-04 1.52091245e-04 1.35975127e-04\n",
      " 1.18748473e-04 9.33129256e-05 5.73631423e-05 5.00162314e-05\n",
      " 4.33620951e-05 3.60547673e-05 2.78302864e-05 2.18620926e-05\n",
      " 2.14217490e-05 1.64121581e-05 1.33018767e-05 6.33799344e-06\n",
      " 1.26982928e-06 7.56635966e-07 1.26331763e-07 4.16741382e-10]\n"
     ]
    }
   ],
   "source": [
    "#Extract the explained variance across components\n",
    "explain_variance = pca.explained_variance_ratio_\n",
    "explain_variance_cumulative = pca.explained_variance_ratio_.cumsum()\n",
    "print(explain_variance)\n",
    "# we can plot them instead instead of trying to understand number"
   ]
  },
  {
   "cell_type": "code",
   "execution_count": 200,
   "metadata": {},
   "outputs": [
    {
     "name": "stdout",
     "output_type": "stream",
     "text": [
      "[0.08321288 0.14165498 0.1988541  0.24844942 0.29632897 0.34155328\n",
      " 0.38643748 0.42826704 0.46827449 0.50680308 0.53692877 0.56545712\n",
      " 0.58509528 0.6034526  0.62081128 0.63716351 0.65298576 0.66865824\n",
      " 0.68370521 0.69847878 0.71295415 0.72656228 0.73944608 0.75177169\n",
      " 0.76320502 0.774177   0.78502186 0.79554569 0.80578781 0.81598139\n",
      " 0.82582    0.83514035 0.84422608 0.85317507 0.86195719 0.87035722\n",
      " 0.87840317 0.88616133 0.89369644 0.90100091 0.90803484 0.91487248\n",
      " 0.92142203 0.92758052 0.93354825 0.93931474 0.94473437 0.94953546\n",
      " 0.95420366 0.95851834 0.96250321 0.96633908 0.9699391  0.97330292\n",
      " 0.97639291 0.97924135 0.98146012 0.9833218  0.98488008 0.98622656\n",
      " 0.98751088 0.98871119 0.98985195 0.99083361 0.99171144 0.99254852\n",
      " 0.9933518  0.99400168 0.99464947 0.99524517 0.99575096 0.9961905\n",
      " 0.99661589 0.99701843 0.99738496 0.99772825 0.99803581 0.99832926\n",
      " 0.99857989 0.99880984 0.99901996 0.99920376 0.99935585 0.99949182\n",
      " 0.99961057 0.99970388 0.99976125 0.99981126 0.99985463 0.99989068\n",
      " 0.99991851 0.99994037 0.99996179 0.99997821 0.99999151 0.99999785\n",
      " 0.99999912 0.99999987 1.         1.        ]\n"
     ]
    }
   ],
   "source": [
    "print(explain_variance_cumulative)"
   ]
  },
  {
   "cell_type": "code",
   "execution_count": 201,
   "metadata": {},
   "outputs": [
    {
     "data": {
      "text/plain": [
       "<Figure size 1080x720 with 0 Axes>"
      ]
     },
     "execution_count": 201,
     "metadata": {},
     "output_type": "execute_result"
    },
    {
     "data": {
      "text/plain": [
       "<Figure size 1080x720 with 0 Axes>"
      ]
     },
     "metadata": {},
     "output_type": "display_data"
    }
   ],
   "source": [
    "################################################# \n",
    "# Plot the explained variance across components\n",
    "#################################################\n",
    "\n",
    "# create List for number of components\n",
    "num_vars_list = list(range(1,101))\n",
    "plt.figure(figsize=(15,10)) #size of the figure our plot will go on"
   ]
  },
  {
   "cell_type": "code",
   "execution_count": 202,
   "metadata": {},
   "outputs": [
    {
     "data": {
      "image/png": "[encoded data removed]",
      "text/plain": [
       "<Figure size 432x288 with 2 Axes>"
      ]
     },
     "metadata": {
      "needs_background": "light"
     },
     "output_type": "display_data"
    }
   ],
   "source": [
    "#plot the variance explained by each component\n",
    "plt.subplot(2,1,1)\n",
    "plt.bar(num_vars_list,explain_variance)\n",
    "plt.title('Variance accross Principle Components')\n",
    "plt.xlabel(' # of Components')\n",
    "plt.ylabel('% Variance')\n",
    "plt.tight_layout()\n",
    "\n",
    "#plot the cumulative variance\n",
    "plt.subplot(2,1,2)\n",
    "plt.plot(num_vars_list,explain_variance_cumulative)\n",
    "plt.title('Cumulative Variance accross Principle Components')\n",
    "plt.xlabel(' # of Components')\n",
    "plt.ylabel('Cumulative % Variance')\n",
    "plt.tight_layout()\n",
    "plt.show()"
   ]
  },
  {
   "attachments": {},
   "cell_type": "markdown",
   "metadata": {},
   "source": [
    "75% of the variance is explained by about 20 or 25 of the components"
   ]
  },
  {
   "cell_type": "code",
   "execution_count": 203,
   "metadata": {},
   "outputs": [
    {
     "name": "stdout",
     "output_type": "stream",
     "text": [
      "[[-0.4021941  -0.75699883  0.21924717 ...  0.69928552 -0.05906372\n",
      "   0.76055747]\n",
      " [-0.36007213 -1.13108387  0.40324893 ...  0.11438061 -0.07724435\n",
      "   0.02465604]\n",
      " [10.69293403 -0.86657383  0.71198676 ... -1.10447554  2.30523994\n",
      "   2.60770229]\n",
      " ...\n",
      " [ 1.00197218 -1.66885784  0.63427027 ... -3.40318488  0.87659913\n",
      "  -2.01704601]\n",
      " [-0.75303097  3.75845543 -3.87202645 ...  1.05689123 -0.96292728\n",
      "   0.42868757]\n",
      " [-0.48844855 -0.58581165  0.03826661 ...  1.41959942  0.08132504\n",
      "   0.32049442]]\n"
     ]
    }
   ],
   "source": [
    "#################################################\n",
    "# Apply PCA with selected number of components\n",
    "#################################################\n",
    "pca = PCA(n_components=.75,random_state=42)\n",
    "\n",
    "x_train = pca.fit_transform(x_train)\n",
    "x_test = pca.transform(x_test)\n",
    "print(x_train)"
   ]
  },
  {
   "cell_type": "code",
   "execution_count": 204,
   "metadata": {},
   "outputs": [],
   "source": [
    "# print(x_test)"
   ]
  },
  {
   "cell_type": "code",
   "execution_count": 205,
   "metadata": {},
   "outputs": [
    {
     "data": {
      "text/plain": [
       "24"
      ]
     },
     "execution_count": 205,
     "metadata": {},
     "output_type": "execute_result"
    }
   ],
   "source": [
    "pca.n_components_"
   ]
  },
  {
   "cell_type": "code",
   "execution_count": 206,
   "metadata": {},
   "outputs": [
    {
     "data": {
      "text/html": [
       "<style>#sk-container-id-14 {color: black;background-color: white;}#sk-container-id-14 pre{padding: 0;}#sk-container-id-14 div.sk-toggleable {background-color: white;}#sk-container-id-14 label.sk-toggleable__label {cursor: pointer;display: block;width: 100%;margin-bottom: 0;padding: 0.3em;box-sizing: border-box;text-align: center;}#sk-container-id-14 label.sk-toggleable__label-arrow:before {content: \"▸\";float: left;margin-right: 0.25em;color: #696969;}#sk-container-id-14 label.sk-toggleable__label-arrow:hover:before {color: black;}#sk-container-id-14 div.sk-estimator:hover label.sk-toggleable__label-arrow:before {color: black;}#sk-container-id-14 div.sk-toggleable__content {max-height: 0;max-width: 0;overflow: hidden;text-align: left;background-color: #f0f8ff;}#sk-container-id-14 div.sk-toggleable__content pre {margin: 0.2em;color: black;border-radius: 0.25em;background-color: #f0f8ff;}#sk-container-id-14 input.sk-toggleable__control:checked~div.sk-toggleable__content {max-height: 200px;max-width: 100%;overflow: auto;}#sk-container-id-14 input.sk-toggleable__control:checked~label.sk-toggleable__label-arrow:before {content: \"▾\";}#sk-container-id-14 div.sk-estimator input.sk-toggleable__control:checked~label.sk-toggleable__label {background-color: #d4ebff;}#sk-container-id-14 div.sk-label input.sk-toggleable__control:checked~label.sk-toggleable__label {background-color: #d4ebff;}#sk-container-id-14 input.sk-hidden--visually {border: 0;clip: rect(1px 1px 1px 1px);clip: rect(1px, 1px, 1px, 1px);height: 1px;margin: -1px;overflow: hidden;padding: 0;position: absolute;width: 1px;}#sk-container-id-14 div.sk-estimator {font-family: monospace;background-color: #f0f8ff;border: 1px dotted black;border-radius: 0.25em;box-sizing: border-box;margin-bottom: 0.5em;}#sk-container-id-14 div.sk-estimator:hover {background-color: #d4ebff;}#sk-container-id-14 div.sk-parallel-item::after {content: \"\";width: 100%;border-bottom: 1px solid gray;flex-grow: 1;}#sk-container-id-14 div.sk-label:hover label.sk-toggleable__label {background-color: #d4ebff;}#sk-container-id-14 div.sk-serial::before {content: \"\";position: absolute;border-left: 1px solid gray;box-sizing: border-box;top: 0;bottom: 0;left: 50%;z-index: 0;}#sk-container-id-14 div.sk-serial {display: flex;flex-direction: column;align-items: center;background-color: white;padding-right: 0.2em;padding-left: 0.2em;position: relative;}#sk-container-id-14 div.sk-item {position: relative;z-index: 1;}#sk-container-id-14 div.sk-parallel {display: flex;align-items: stretch;justify-content: center;background-color: white;position: relative;}#sk-container-id-14 div.sk-item::before, #sk-container-id-14 div.sk-parallel-item::before {content: \"\";position: absolute;border-left: 1px solid gray;box-sizing: border-box;top: 0;bottom: 0;left: 50%;z-index: -1;}#sk-container-id-14 div.sk-parallel-item {display: flex;flex-direction: column;z-index: 1;position: relative;background-color: white;}#sk-container-id-14 div.sk-parallel-item:first-child::after {align-self: flex-end;width: 50%;}#sk-container-id-14 div.sk-parallel-item:last-child::after {align-self: flex-start;width: 50%;}#sk-container-id-14 div.sk-parallel-item:only-child::after {width: 0;}#sk-container-id-14 div.sk-dashed-wrapped {border: 1px dashed gray;margin: 0 0.4em 0.5em 0.4em;box-sizing: border-box;padding-bottom: 0.4em;background-color: white;}#sk-container-id-14 div.sk-label label {font-family: monospace;font-weight: bold;display: inline-block;line-height: 1.2em;}#sk-container-id-14 div.sk-label-container {text-align: center;}#sk-container-id-14 div.sk-container {/* jupyter's `normalize.less` sets `[hidden] { display: none; }` but bootstrap.min.css set `[hidden] { display: none !important; }` so we also need the `!important` here to be able to override the default hidden behavior on the sphinx rendered scikit-learn.org. See: https://github.com/scikit-learn/scikit-learn/issues/21755 */display: inline-block !important;position: relative;}#sk-container-id-14 div.sk-text-repr-fallback {display: none;}</style><div id=\"sk-container-id-14\" class=\"sk-top-container\"><div class=\"sk-text-repr-fallback\"><pre>RandomForestClassifier(random_state=42)</pre><b>In a Jupyter environment, please rerun this cell to show the HTML representation or trust the notebook. <br />On GitHub, the HTML representation is unable to render, please try loading this page with nbviewer.org.</b></div><div class=\"sk-container\" hidden><div class=\"sk-item\"><div class=\"sk-estimator sk-toggleable\"><input class=\"sk-toggleable__control sk-hidden--visually\" id=\"sk-estimator-id-14\" type=\"checkbox\" checked><label for=\"sk-estimator-id-14\" class=\"sk-toggleable__label sk-toggleable__label-arrow\">RandomForestClassifier</label><div class=\"sk-toggleable__content\"><pre>RandomForestClassifier(random_state=42)</pre></div></div></div></div></div>"
      ],
      "text/plain": [
       "RandomForestClassifier(random_state=42)"
      ]
     },
     "execution_count": 206,
     "metadata": {},
     "output_type": "execute_result"
    }
   ],
   "source": [
    "#################################################\n",
    "# Apply PCA with selected number of components\n",
    "#################################################\n",
    "clf = RandomForestClassifier(random_state=42)\n",
    "clf.fit(x_train,y_train)"
   ]
  },
  {
   "cell_type": "code",
   "execution_count": 207,
   "metadata": {},
   "outputs": [
    {
     "name": "stdout",
     "output_type": "stream",
     "text": [
      "(72, 24)\n"
     ]
    }
   ],
   "source": [
    "print(x_test.shape)"
   ]
  },
  {
   "cell_type": "code",
   "execution_count": 208,
   "metadata": {},
   "outputs": [
    {
     "data": {
      "text/plain": [
       "0.9305555555555556"
      ]
     },
     "execution_count": 208,
     "metadata": {},
     "output_type": "execute_result"
    }
   ],
   "source": [
    "#################################################\n",
    "# Assess Model Accuracy\n",
    "#################################################\n",
    "\n",
    "y_pred_class = clf.predict(x_test)\n",
    "accuracy_score(y_test, y_pred_class)"
   ]
  },
  {
   "cell_type": "code",
   "execution_count": 209,
   "metadata": {},
   "outputs": [
    {
     "data": {
      "text/plain": [
       "(72,)"
      ]
     },
     "execution_count": 209,
     "metadata": {},
     "output_type": "execute_result"
    }
   ],
   "source": [
    "y_pred_class.shape"
   ]
  },
  {
   "cell_type": "code",
   "execution_count": 215,
   "metadata": {},
   "outputs": [
    {
     "data": {
      "text/plain": [
       "(356,)"
      ]
     },
     "execution_count": 215,
     "metadata": {},
     "output_type": "execute_result"
    }
   ],
   "source": [
    "user_id.shape"
   ]
  }
 ],
 "metadata": {
  "kernelspec": {
   "display_name": "Python 3",
   "language": "python",
   "name": "python3"
  },
  "language_info": {
   "codemirror_mode": {
    "name": "ipython",
    "version": 3
   },
   "file_extension": ".py",
   "mimetype": "text/x-python",
   "name": "python",
   "nbconvert_exporter": "python",
   "pygments_lexer": "ipython3",
   "version": "3.9.7"
  },
  "orig_nbformat": 4,
  "vscode": {
   "interpreter": {
    "hash": "e4d54598f5cd11ea6c968efaa1bee3907cb7385b653cd5b92ce1633ea9d2272e"
   }
  }
 },
 "nbformat": 4,
 "nbformat_minor": 2
}
