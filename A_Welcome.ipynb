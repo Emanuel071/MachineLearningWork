{
 "cells": [
  {
   "cell_type": "code",
   "execution_count": null,
   "metadata": {},
   "outputs": [],
   "source": []
  }
 ],
 "metadata": {
  "kernelspec": {
   "display_name": "Python 3",
   "language": "python",
   "name": "python3"
  },
  "language_info": {
   "name": "python",
   "version": "3.9.7"
  },
  "orig_nbformat": 4,
  "vscode": {
   "interpreter": {
    "hash": "e4d54598f5cd11ea6c968efaa1bee3907cb7385b653cd5b92ce1633ea9d2272e"
   }
  }
 },
 "nbformat": 4,
 "nbformat_minor": 2
}
